{
 "cells": [
  {
   "cell_type": "code",
   "execution_count": 1,
   "id": "7aea5c5c",
   "metadata": {},
   "outputs": [
    {
     "data": {
      "text/html": [
       "        <script type=\"text/javascript\">\n",
       "        window.PlotlyConfig = {MathJaxConfig: 'local'};\n",
       "        if (window.MathJax && window.MathJax.Hub && window.MathJax.Hub.Config) {window.MathJax.Hub.Config({SVG: {font: \"STIX-Web\"}});}\n",
       "        if (typeof require !== 'undefined') {\n",
       "        require.undef(\"plotly\");\n",
       "        requirejs.config({\n",
       "            paths: {\n",
       "                'plotly': ['https://cdn.plot.ly/plotly-2.12.1.min']\n",
       "            }\n",
       "        });\n",
       "        require(['plotly'], function(Plotly) {\n",
       "            window._Plotly = Plotly;\n",
       "        });\n",
       "        }\n",
       "        </script>\n",
       "        "
      ]
     },
     "metadata": {},
     "output_type": "display_data"
    },
    {
     "data": {
      "text/html": [
       "        <script type=\"text/javascript\">\n",
       "        window.PlotlyConfig = {MathJaxConfig: 'local'};\n",
       "        if (window.MathJax && window.MathJax.Hub && window.MathJax.Hub.Config) {window.MathJax.Hub.Config({SVG: {font: \"STIX-Web\"}});}\n",
       "        if (typeof require !== 'undefined') {\n",
       "        require.undef(\"plotly\");\n",
       "        requirejs.config({\n",
       "            paths: {\n",
       "                'plotly': ['https://cdn.plot.ly/plotly-2.12.1.min']\n",
       "            }\n",
       "        });\n",
       "        require(['plotly'], function(Plotly) {\n",
       "            window._Plotly = Plotly;\n",
       "        });\n",
       "        }\n",
       "        </script>\n",
       "        "
      ]
     },
     "metadata": {},
     "output_type": "display_data"
    }
   ],
   "source": [
    "import cufflinks as cf\n",
    "import chart_studio.plotly as py\n",
    "import seaborn as sns\n",
    "import plotly.express as px\n",
    "%matplotlib inline\n",
    "from plotly.offline import download_plotlyjs, init_notebook_mode,plot,iplot\n",
    "init_notebook_mode(connected=True)\n",
    "cf.go_offline()\n",
    "import plotly.graph_objects as go\n",
    "import pandas as pd\n",
    "import numpy as np\n",
    "import ast"
   ]
  },
  {
   "cell_type": "code",
   "execution_count": 2,
   "id": "0791abb9",
   "metadata": {},
   "outputs": [
    {
     "data": {
      "text/html": [
       "<div>\n",
       "<style scoped>\n",
       "    .dataframe tbody tr th:only-of-type {\n",
       "        vertical-align: middle;\n",
       "    }\n",
       "\n",
       "    .dataframe tbody tr th {\n",
       "        vertical-align: top;\n",
       "    }\n",
       "\n",
       "    .dataframe thead th {\n",
       "        text-align: right;\n",
       "    }\n",
       "</style>\n",
       "<table border=\"1\" class=\"dataframe\">\n",
       "  <thead>\n",
       "    <tr style=\"text-align: right;\">\n",
       "      <th></th>\n",
       "      <th>IDC</th>\n",
       "    </tr>\n",
       "  </thead>\n",
       "  <tbody>\n",
       "    <tr>\n",
       "      <th>abhijot76957943</th>\n",
       "      <td>{'17-01-2023 15:52:55': {'dateTime': '17/01/20...</td>\n",
       "    </tr>\n",
       "    <tr>\n",
       "      <th>alice40209003</th>\n",
       "      <td>{'16-01-2023 09:52:20': {'dateTime': '16/01/20...</td>\n",
       "    </tr>\n",
       "    <tr>\n",
       "      <th>amreet69858166</th>\n",
       "      <td>{'07-12-2022 14:06:44': {'dateTime': '07/12/20...</td>\n",
       "    </tr>\n",
       "    <tr>\n",
       "      <th>anant16781190</th>\n",
       "      <td>{'18-01-2023 19:34:28': {'dateTime': '18/01/20...</td>\n",
       "    </tr>\n",
       "    <tr>\n",
       "      <th>anant49124580</th>\n",
       "      <td>{'09-12-2022 12:58:36': {'dateTime': '09/12/20...</td>\n",
       "    </tr>\n",
       "  </tbody>\n",
       "</table>\n",
       "</div>"
      ],
      "text/plain": [
       "                                                               IDC\n",
       "abhijot76957943  {'17-01-2023 15:52:55': {'dateTime': '17/01/20...\n",
       "alice40209003    {'16-01-2023 09:52:20': {'dateTime': '16/01/20...\n",
       "amreet69858166   {'07-12-2022 14:06:44': {'dateTime': '07/12/20...\n",
       "anant16781190    {'18-01-2023 19:34:28': {'dateTime': '18/01/20...\n",
       "anant49124580    {'09-12-2022 12:58:36': {'dateTime': '09/12/20..."
      ]
     },
     "execution_count": 2,
     "metadata": {},
     "output_type": "execute_result"
    }
   ],
   "source": [
    "data_df=pd.read_json('data/teddyai-123ab-default-rtdb-export(2).json')[2:][['IDC']]\n",
    "data_df.head()"
   ]
  },
  {
   "cell_type": "code",
   "execution_count": 3,
   "id": "32ea1d89",
   "metadata": {},
   "outputs": [
    {
     "name": "stdout",
     "output_type": "stream",
     "text": [
      "[{'courseTitle': 'Alphabet', 'errorAttempts': 'a, a, ', 'location': 'School', 'question': 'The first letter is A!\\n A is for Apple, repeat after me, Apple, now you go', 'source': 'Mic', 'timeInverval': '17.10s', 'userTrails': 3}, {'courseTitle': 'Alphabet', 'errorAttempts': 'bowling, bone, ', 'location': 'School', 'question': 'Next letter is B\\n B is for Ball, a ball is round, Come say it again, Ball', 'source': 'Keyboard', 'timeInverval': '20.66s', 'userTrails': 3}, {'courseTitle': 'Alphabet', 'errorAttempts': '', 'location': 'School', 'question': \"Then comes C\\n C is for Cat, a cat is an animal, it's your turn now  \", 'source': 'Keyboard', 'timeInverval': '3.59s', 'userTrails': 1}, {'courseTitle': 'Alphabet', 'errorAttempts': '', 'location': 'School', 'question': 'The first letter is A!\\n A is for Apple, repeat after me, Apple, now you go', 'source': 'Keyboard', 'timeInverval': '13.93s', 'userTrails': 1}, {'courseTitle': 'Alphabet', 'errorAttempts': '', 'location': 'School', 'question': \"Then comes C\\n C is for Cat, a cat is an animal, it's your turn now  \", 'source': 'Keyboard', 'timeInverval': '8.85s', 'userTrails': 1}, {'courseTitle': 'Sports', 'errorAttempts': '', 'location': 'Playground', 'question': \"Let's play Football today. So what are we playing again?\", 'source': 'Keyboard', 'timeInverval': '13.23s', 'userTrails': 1}, {'courseTitle': 'Sports', 'errorAttempts': '', 'location': 'Playground', 'question': \"Let's put a ball through the hoop…We are going to play Basketball. Come say it with me?\", 'source': 'Keyboard', 'timeInverval': '19.21s', 'userTrails': 1}, {'courseTitle': 'Sports', 'errorAttempts': '', 'location': 'Playground', 'question': 'Next we are going to use a bat and ball. We are now going to play Cricket. So what are we playing again?', 'source': 'Keyboard', 'timeInverval': '16.19s', 'userTrails': 1}, {'courseTitle': 'Sports', 'errorAttempts': '', 'location': 'Playground', 'question': \"Let's put a ball through the hoop…We are going to play Basketball. Come say it with me?\", 'source': 'Keyboard', 'timeInverval': '19.47s', 'userTrails': 1}, {'courseTitle': 'Sports', 'errorAttempts': '', 'location': 'Playground', 'question': \"Let's play Football today. So what are we playing again?\", 'source': 'Keyboard', 'timeInverval': '9.89s', 'userTrails': 1}, {'courseTitle': 'Restaurant', 'errorAttempts': \"you want to say it's your turn now, \", 'location': 'Kitchen', 'question': 'Today, we are going to cook a Pizza. So, what are we going to cook today?', 'source': 'Keyboard', 'timeInverval': '30.29s', 'userTrails': 9}, {'courseTitle': 'Restaurant', 'errorAttempts': '', 'location': 'Kitchen', 'question': \"It's cold outside, and it's time to make some Soup. Tell me, what are we making?\", 'source': 'Keyboard', 'timeInverval': '10.61s', 'userTrails': 1}, {'courseTitle': 'Restaurant', 'errorAttempts': '', 'location': 'Kitchen', 'question': \"It's time to bake some Cookies… Are you excited? What are we baking today?\", 'source': 'Keyboard', 'timeInverval': '13.18s', 'userTrails': 1}, {'courseTitle': 'Restaurant', 'errorAttempts': '', 'location': 'Kitchen', 'question': \"It's cold outside, and it's time to make some Soup. Tell me, what are we making?\", 'source': 'Keyboard', 'timeInverval': '8.25s', 'userTrails': 1}, {'courseTitle': 'Restaurant', 'errorAttempts': '', 'location': 'Kitchen', 'question': 'Today, we are going to cook a Pizza. So, what are we going to cook today?', 'source': 'Keyboard', 'timeInverval': '9.47s', 'userTrails': 1}, {'courseTitle': 'Animals', 'errorAttempts': '', 'location': 'Zoo', 'question': 'This animal is called a Dog... Did you know that? So what is this animal again?', 'source': 'Keyboard', 'timeInverval': '0.38s', 'userTrails': 1}, {'courseTitle': 'Alphabet', 'errorAttempts': '', 'location': 'School', 'question': \"Let's call the next letter, D\\n D is for Doctor, repeat after me, Doctor, Say it again\", 'source': 'Keyboard', 'timeInverval': '1.67s', 'userTrails': 1}, {'courseTitle': 'Sports', 'errorAttempts': '', 'location': 'Playground', 'question': \"Let's play Tennis today. Are you excited? So what are we playing again?\", 'source': 'Keyboard', 'timeInverval': '22.12s', 'userTrails': 1}, {'courseTitle': 'Sports', 'errorAttempts': '', 'location': 'Playground', 'question': \"Come let's go Swimming together. So what are we doing again?\", 'source': 'Keyboard', 'timeInverval': '25.86s', 'userTrails': 1}, {'courseTitle': 'Sports', 'errorAttempts': '', 'location': 'Playground', 'question': 'We are going to go for Running, Now. So get ready and say it again?', 'source': 'Keyboard', 'timeInverval': '16.99s', 'userTrails': 1}, {'courseTitle': 'Sports', 'errorAttempts': '', 'location': 'Playground', 'question': 'Next we are going to use a bat and ball. We are now going to play Cricket. So what are we playing again?', 'source': 'Keyboard', 'timeInverval': '19.65s', 'userTrails': 1}, {'courseTitle': 'Sports', 'errorAttempts': '', 'location': 'Playground', 'question': \"Let's put a ball through the hoop…We are going to play Basketball. Come say it with me?\", 'source': 'Keyboard', 'timeInverval': '19.26s', 'userTrails': 1}, {'courseTitle': 'Sports', 'errorAttempts': '', 'location': 'Playground', 'question': 'We are going to go for Running, Now. So get ready and say it again?', 'source': 'Keyboard', 'timeInverval': '10.51s', 'userTrails': 1}, {'courseTitle': 'Sports', 'errorAttempts': '', 'location': 'Playground', 'question': 'Today we are going to go Cycling. So what are we doing again?', 'source': 'Keyboard', 'timeInverval': '29.54s', 'userTrails': 1}, {'courseTitle': 'Restaurant', 'errorAttempts': '', 'location': 'Kitchen', 'question': 'The dish we are cooking today is Pasta... One more time, what are we cooking?', 'source': 'Keyboard', 'timeInverval': '15.97s', 'userTrails': 1}, {'courseTitle': 'Restaurant', 'errorAttempts': '', 'location': 'Kitchen', 'question': \"Let's learn how to make Curry… One more time, what are we cooking?\", 'source': 'Keyboard', 'timeInverval': '14.74s', 'userTrails': 1}, {'courseTitle': 'Restaurant', 'errorAttempts': '', 'location': 'Kitchen', 'question': 'Are you excited to learn about Chinese noodles. Come, tell me what are we going to cook today?', 'source': 'Keyboard', 'timeInverval': '29.87s', 'userTrails': 1}, {'courseTitle': 'Restaurant', 'errorAttempts': 'noodles, arsenal, ', 'location': 'Kitchen', 'question': 'The dish we are cooking today is Pasta... One more time, what are we cooking?', 'source': 'Mic', 'timeInverval': '37.40s', 'userTrails': 3}, {'courseTitle': 'Restaurant', 'errorAttempts': '', 'location': 'Kitchen', 'question': 'Today, we are going to cook a Pizza. So, what are we going to cook today?', 'source': 'Keyboard', 'timeInverval': '6.55s', 'userTrails': 1}, {'courseTitle': 'Restaurant', 'errorAttempts': 'cooikes, ', 'location': 'Kitchen', 'question': \"It's time to bake some Cookies… Are you excited? What are we baking today?\", 'source': 'Mic', 'timeInverval': '18.58s', 'userTrails': 2}]\n",
      "[{'courseTitle': 'Alphabet', 'errorAttempts': \"i didn't ask you to say, \", 'location': 'School', 'question': 'The first letter is A!\\n A is for Apple, repeat after me, Apple, now you go', 'source': 'Mic', 'timeInverval': '20.27s', 'userTrails': 7}, {'courseTitle': 'Alphabet', 'errorAttempts': '', 'location': 'School', 'question': 'Next letter is B\\n B is for Ball, a ball is round, Come say it again, Ball', 'source': 'Mic', 'timeInverval': '5.92s', 'userTrails': 1}, {'courseTitle': 'Alphabet', 'errorAttempts': '', 'location': 'School', 'question': \"Then comes C\\n C is for Cat, a cat is an animal, it's your turn now  \", 'source': 'Mic', 'timeInverval': '4.63s', 'userTrails': 1}, {'courseTitle': 'Alphabet', 'errorAttempts': '', 'location': 'School', 'question': 'The first letter is A!\\n A is for Apple, repeat after me, Apple, now you go', 'source': 'Mic', 'timeInverval': '4.15s', 'userTrails': 1}, {'courseTitle': 'Alphabet', 'errorAttempts': '', 'location': 'School', 'question': \"Then comes C\\n C is for Cat, a cat is an animal, it's your turn now  \", 'source': 'Mic', 'timeInverval': '2.31s', 'userTrails': 1}, {'courseTitle': 'Sports', 'errorAttempts': '', 'location': 'Playground', 'question': \"Let's play Football today. So what are we playing again?\", 'source': 'Mic', 'timeInverval': '13.14s', 'userTrails': 1}, {'courseTitle': 'Sports', 'errorAttempts': '', 'location': 'Playground', 'question': \"Let's put a ball through the hoop…We are going to play Basketball. Come say it with me?\", 'source': 'Mic', 'timeInverval': '7.19s', 'userTrails': 1}, {'courseTitle': 'Sports', 'errorAttempts': 'quick kit, ', 'location': 'Playground', 'question': 'Next we are going to use a bat and ball. We are now going to play Cricket. So what are we playing again?', 'source': 'Mic', 'timeInverval': '9.45s', 'userTrails': 3}, {'courseTitle': 'Sports', 'errorAttempts': '', 'location': 'Playground', 'question': 'Next we are going to use a bat and ball. We are now going to play Cricket. So what are we playing again?', 'source': 'Mic', 'timeInverval': '4.40s', 'userTrails': 1}, {'courseTitle': 'Sports', 'errorAttempts': '', 'location': 'Playground', 'question': \"Let's put a ball through the hoop…We are going to play Basketball. Come say it with me?\", 'source': 'Mic', 'timeInverval': '4.56s', 'userTrails': 1}, {'courseTitle': 'Restaurant', 'errorAttempts': '', 'location': 'Kitchen', 'question': 'Today, we are going to cook a Pizza. So, what are we going to cook today?', 'source': 'Mic', 'timeInverval': '6.00s', 'userTrails': 1}, {'courseTitle': 'Restaurant', 'errorAttempts': '', 'location': 'Kitchen', 'question': \"It's cold outside, and it's time to make some Soup. Tell me, what are we making?\", 'source': 'Mic', 'timeInverval': '4.82s', 'userTrails': 1}, {'courseTitle': 'Restaurant', 'errorAttempts': '', 'location': 'Kitchen', 'question': \"It's time to bake some Cookies… Are you excited? What are we baking today?\", 'source': 'Mic', 'timeInverval': '2.86s', 'userTrails': 1}, {'courseTitle': 'Restaurant', 'errorAttempts': '', 'location': 'Kitchen', 'question': 'Today, we are going to cook a Pizza. So, what are we going to cook today?', 'source': 'Mic', 'timeInverval': '6.47s', 'userTrails': 1}, {'courseTitle': 'Restaurant', 'errorAttempts': '', 'location': 'Kitchen', 'question': \"It's cold outside, and it's time to make some Soup. Tell me, what are we making?\", 'source': 'Mic', 'timeInverval': '2.53s', 'userTrails': 1}, {'courseTitle': 'Animals', 'errorAttempts': '', 'location': 'Zoo', 'question': 'This animal is called a Dog... Did you know that? So what is this animal again?', 'source': 'Mic', 'timeInverval': '10.28s', 'userTrails': 1}, {'courseTitle': 'Animals', 'errorAttempts': '', 'location': 'Zoo', 'question': 'Look, here comes a tiger, Tell me again what animal is this?          ', 'source': 'Mic', 'timeInverval': '2.53s', 'userTrails': 1}, {'courseTitle': 'Animals', 'errorAttempts': '', 'location': 'Zoo', 'question': \"Oh look, it's a Meerkat, What do we call this animal?\", 'source': 'Mic', 'timeInverval': '4.45s', 'userTrails': 1}, {'courseTitle': 'Animals', 'errorAttempts': '', 'location': 'Zoo', 'question': 'Look, here comes a tiger, Tell me again what animal is this?          ', 'source': 'Mic', 'timeInverval': '2.31s', 'userTrails': 1}, {'courseTitle': 'Animals', 'errorAttempts': '', 'location': 'Zoo', 'question': 'This animal is called a Dog... Did you know that? So what is this animal again?', 'source': 'Mic', 'timeInverval': '5.12s', 'userTrails': 1}, {'courseTitle': 'Veggies', 'errorAttempts': '', 'location': 'Kitchen', 'question': 'A is for apple. What is the fruit called?', 'source': 'Mic', 'timeInverval': '5.40s', 'userTrails': 1}, {'courseTitle': 'Veggies', 'errorAttempts': '', 'location': 'Kitchen', 'question': 'B is for banana. What is the fruit called?', 'source': 'Mic', 'timeInverval': '4.71s', 'userTrails': 1}, {'courseTitle': 'Restaurant', 'errorAttempts': '', 'location': 'Kitchen', 'question': 'The dish we are cooking today is Pasta... One more time, what are we cooking?', 'source': 'Mic', 'timeInverval': '6.28s', 'userTrails': 1}, {'courseTitle': 'Animals', 'errorAttempts': '', 'location': 'Zoo', 'question': 'Look at this animal jumping, it is a Monkey, Tell me what animal is this?\\r\\n', 'source': 'Mic', 'timeInverval': '7.90s', 'userTrails': 1}, {'courseTitle': 'Animals', 'errorAttempts': '', 'location': 'Zoo', 'question': 'This is a Polar Bear, Tell me what animal is this?\\r\\n', 'source': 'Mic', 'timeInverval': '5.03s', 'userTrails': 1}, {'courseTitle': 'Animals', 'errorAttempts': '', 'location': 'Zoo', 'question': 'This animal is called  Crocodile... Did you know that? So what is this animal again?', 'source': 'Mic', 'timeInverval': '1.77s', 'userTrails': 1}]\n",
      "[{'courseTitle': 'Alphabet', 'errorAttempts': '', 'location': 'School', 'question': 'The first letter is A!\\n A is for Apple, repeat after me, Apple, now you go', 'source': 'Keyboard', 'timeInverval': '16.47s', 'userTrails': 1}, {'courseTitle': 'Alphabet', 'errorAttempts': '', 'location': 'School', 'question': 'Next letter is B\\n B is for Ball, a ball is round, Come say it again, Ball', 'source': 'Keyboard', 'timeInverval': '12.35s', 'userTrails': 1}, {'courseTitle': 'Alphabet', 'errorAttempts': '', 'location': 'School', 'question': 'Next letter is B\\n B is for Ball, a ball is round, Come say it again, Ball', 'source': 'Keyboard', 'timeInverval': '6.50s', 'userTrails': 1}, {'courseTitle': 'Alphabet', 'errorAttempts': '', 'location': 'School', 'question': \"Then comes C\\n C is for Cat, a cat is an animal, it's your turn now  \", 'source': 'Keyboard', 'timeInverval': '6.40s', 'userTrails': 1}, {'courseTitle': 'Alphabet', 'errorAttempts': '', 'location': 'School', 'question': \"Let's call the next letter, D\\n D is for Doctor, repeat after me, Doctor, Say it again\", 'source': 'Keyboard', 'timeInverval': '9.92s', 'userTrails': 1}, {'courseTitle': 'Alphabet', 'errorAttempts': '', 'location': 'School', 'question': 'Next letter is B\\n B is for Ball, a ball is round, Come say it again, Ball', 'source': 'Keyboard', 'timeInverval': '7.31s', 'userTrails': 1}, {'courseTitle': 'Alphabet', 'errorAttempts': '', 'location': 'School', 'question': 'The first letter is A!\\n A is for Apple, repeat after me, Apple, now you go', 'source': 'Keyboard', 'timeInverval': '4.59s', 'userTrails': 1}, {'courseTitle': 'Alphabet', 'errorAttempts': '', 'location': 'School', 'question': \"Then comes C\\n C is for Cat, a cat is an animal, it's your turn now  \", 'source': 'Keyboard', 'timeInverval': '6.03s', 'userTrails': 1}, {'courseTitle': 'Alphabet', 'errorAttempts': '', 'location': 'School', 'question': \"Now, comes E\\n E is for Elephant, let's say it together, Elephant, Let's say it again\", 'source': 'Keyboard', 'timeInverval': '37.13s', 'userTrails': 1}, {'courseTitle': 'Animals', 'errorAttempts': '', 'location': 'Zoo', 'question': 'This animal is called a Dog... Did you know that? So what is this animal again?', 'source': 'Mic', 'timeInverval': '24.46s', 'userTrails': 1}, {'courseTitle': 'Animals', 'errorAttempts': '', 'location': 'Zoo', 'question': 'Look, here comes a tiger, Tell me again what animal is this?          ', 'source': 'Mic', 'timeInverval': '6.19s', 'userTrails': 1}, {'courseTitle': 'Animals', 'errorAttempts': '', 'location': 'Zoo', 'question': \"Oh look, it's a Meerkat, What do we call this animal?\", 'source': 'Mic', 'timeInverval': '3.91s', 'userTrails': 1}, {'courseTitle': 'Animals', 'errorAttempts': '', 'location': 'Zoo', 'question': 'Look, here comes a tiger, Tell me again what animal is this?          ', 'source': 'Mic', 'timeInverval': '2.66s', 'userTrails': 1}, {'courseTitle': 'Animals', 'errorAttempts': '', 'location': 'Zoo', 'question': 'This animal is called a Dog... Did you know that? So what is this animal again?', 'source': 'Mic', 'timeInverval': '2.68s', 'userTrails': 1}, {'courseTitle': 'Animals', 'errorAttempts': '', 'location': 'Zoo', 'question': 'Look at this animal jumping, it is a Monkey, Tell me what animal is this?\\r\\n', 'source': 'Keyboard', 'timeInverval': '35.50s', 'userTrails': 1}, {'courseTitle': 'Animals', 'errorAttempts': '', 'location': 'Zoo', 'question': 'Look at this animal jumping, it is a Monkey, Tell me what animal is this?\\r\\n', 'source': 'Mic', 'timeInverval': '5.17s', 'userTrails': 1}, {'courseTitle': 'Animals', 'errorAttempts': 'monkey, ', 'location': 'Zoo', 'question': 'This is a Polar Bear, Tell me what animal is this?\\r\\n', 'source': 'Mic', 'timeInverval': '7.32s', 'userTrails': 2}, {'courseTitle': 'Animals', 'errorAttempts': '', 'location': 'Zoo', 'question': 'This animal is called  Crocodile... Did you know that? So what is this animal again?', 'source': 'Mic', 'timeInverval': '5.29s', 'userTrails': 1}, {'courseTitle': 'Animals', 'errorAttempts': '', 'location': 'Zoo', 'question': 'Look, here comes a tiger, Tell me again what animal is this?          ', 'source': 'Mic', 'timeInverval': '2.93s', 'userTrails': 1}, {'courseTitle': 'Animals', 'errorAttempts': '', 'location': 'Zoo', 'question': 'This animal is called a Dog... Did you know that? So what is this animal again?', 'source': 'Mic', 'timeInverval': '1.91s', 'userTrails': 1}]\n",
      "[{'courseTitle': 'Alphabet', 'errorAttempts': '', 'location': 'School', 'question': \"Now, comes E\\n E is for Elephant, let's say it together, Elephant, Let's say it again\", 'source': 'Keyboard', 'timeInverval': '3.05s', 'userTrails': 1}]\n",
      "[{'courseTitle': 'Alphabet', 'errorAttempts': '', 'location': 'School', 'question': 'The first letter is A!\\n A is for Apple, repeat after me, Apple, now you go', 'source': 'Keyboard', 'timeInverval': '6.00s', 'userTrails': 1}, {'courseTitle': 'Alphabet', 'errorAttempts': '', 'location': 'School', 'question': 'Next letter is B\\n B is for Ball, a ball is round, Come say it again, Ball', 'source': 'Keyboard', 'timeInverval': '0.46s', 'userTrails': 1}, {'courseTitle': 'Alphabet', 'errorAttempts': '', 'location': 'School', 'question': \"Then comes C\\n C is for Cat, a cat is an animal, it's your turn now  \", 'source': 'Keyboard', 'timeInverval': '0.93s', 'userTrails': 1}, {'courseTitle': 'Alphabet', 'errorAttempts': '', 'location': 'School', 'question': \"Then comes C\\n C is for Cat, a cat is an animal, it's your turn now  \", 'source': 'Keyboard', 'timeInverval': '11.78s', 'userTrails': 1}, {'courseTitle': 'Alphabet', 'errorAttempts': '', 'location': 'School', 'question': 'The first letter is A!\\n A is for Apple, repeat after me, Apple, now you go', 'source': 'Keyboard', 'timeInverval': '20.11s', 'userTrails': 1}, {'courseTitle': 'Sports', 'errorAttempts': '', 'location': 'Playground', 'question': \"Let's play Football today. So what are we playing again?\", 'source': 'Keyboard', 'timeInverval': '24.65s', 'userTrails': 1}, {'courseTitle': 'Sports', 'errorAttempts': '', 'location': 'Playground', 'question': \"Let's put a ball through the hoop…We are going to play Basketball. Come say it with me?\", 'source': 'Keyboard', 'timeInverval': '14.98s', 'userTrails': 1}, {'courseTitle': 'Sports', 'errorAttempts': '', 'location': 'Playground', 'question': 'Next we are going to use a bat and ball. We are now going to play Cricket. So what are we playing again?', 'source': 'Keyboard', 'timeInverval': '2.25s', 'userTrails': 1}]\n",
      "[{'courseTitle': 'Alphabet', 'errorAttempts': '', 'location': 'School', 'question': 'Welcome letter G\\n G is for Great, repeat after me, Great, now you go...', 'source': 'Keyboard', 'timeInverval': '45.11s', 'userTrails': 1}, {'courseTitle': 'Alphabet', 'errorAttempts': '', 'location': 'School', 'question': 'Welcome letter G\\n G is for Great, repeat after me, Great, now you go...', 'source': 'Keyboard', 'timeInverval': '11.89s', 'userTrails': 1}]\n",
      "[{'courseTitle': 'Alphabet', 'errorAttempts': '', 'location': 'School', 'question': 'The first letter is A!\\n A is for Apple, repeat after me, Apple, now you go', 'source': 'Keyboard', 'timeInverval': '10.80s', 'userTrails': 1}, {'courseTitle': 'Alphabet', 'errorAttempts': '', 'location': 'School', 'question': 'Next letter is B\\n B is for Ball, a ball is round, Come say it again, Ball', 'source': 'Keyboard', 'timeInverval': '11.78s', 'userTrails': 1}, {'courseTitle': 'Alphabet', 'errorAttempts': '', 'location': 'School', 'question': \"Then comes C\\n C is for Cat, a cat is an animal, it's your turn now  \", 'source': 'Keyboard', 'timeInverval': '11.65s', 'userTrails': 1}, {'courseTitle': 'Alphabet', 'errorAttempts': '', 'location': 'School', 'question': 'The first letter is A!\\n A is for Apple, repeat after me, Apple, now you go', 'source': 'Keyboard', 'timeInverval': '10.17s', 'userTrails': 1}, {'courseTitle': 'Alphabet', 'errorAttempts': '', 'location': 'School', 'question': 'Next letter is B\\n B is for Ball, a ball is round, Come say it again, Ball', 'source': 'Keyboard', 'timeInverval': '4.49s', 'userTrails': 1}, {'courseTitle': 'Sports', 'errorAttempts': '', 'location': 'Playground', 'question': \"Let's play Football today. So what are we playing again?\", 'source': 'Keyboard', 'timeInverval': '12.75s', 'userTrails': 1}, {'courseTitle': 'Sports', 'errorAttempts': '', 'location': 'Playground', 'question': \"Let's put a ball through the hoop…We are going to play Basketball. Come say it with me?\", 'source': 'Keyboard', 'timeInverval': '16.87s', 'userTrails': 1}, {'courseTitle': 'Sports', 'errorAttempts': '', 'location': 'Playground', 'question': 'Next we are going to use a bat and ball. We are now going to play Cricket. So what are we playing again?', 'source': 'Mic', 'timeInverval': '14.81s', 'userTrails': 1}, {'courseTitle': 'Sports', 'errorAttempts': '', 'location': 'Playground', 'question': 'Next we are going to use a bat and ball. We are now going to play Cricket. So what are we playing again?', 'source': 'Mic', 'timeInverval': '11.88s', 'userTrails': 1}, {'courseTitle': 'Sports', 'errorAttempts': '', 'location': 'Playground', 'question': \"Let's play Football today. So what are we playing again?\", 'source': 'Mic', 'timeInverval': '2.38s', 'userTrails': 1}, {'courseTitle': 'Restaurant', 'errorAttempts': '', 'location': 'Kitchen', 'question': 'Today, we are going to cook a Pizza. So, what are we going to cook today?', 'source': 'Keyboard', 'timeInverval': '9.50s', 'userTrails': 1}, {'courseTitle': 'Restaurant', 'errorAttempts': '', 'location': 'Kitchen', 'question': \"It's cold outside, and it's time to make some Soup. Tell me, what are we making?\", 'source': 'Keyboard', 'timeInverval': '12.69s', 'userTrails': 1}, {'courseTitle': 'Restaurant', 'errorAttempts': '', 'location': 'Kitchen', 'question': \"It's time to bake some Cookies… Are you excited? What are we baking today?\", 'source': 'Keyboard', 'timeInverval': '10.95s', 'userTrails': 1}, {'courseTitle': 'Restaurant', 'errorAttempts': '', 'location': 'Kitchen', 'question': 'Today, we are going to cook a Pizza. So, what are we going to cook today?', 'source': 'Keyboard', 'timeInverval': '8.09s', 'userTrails': 1}, {'courseTitle': 'Restaurant', 'errorAttempts': '', 'location': 'Kitchen', 'question': \"It's cold outside, and it's time to make some Soup. Tell me, what are we making?\", 'source': 'Keyboard', 'timeInverval': '9.57s', 'userTrails': 1}, {'courseTitle': 'Animals', 'errorAttempts': '', 'location': 'Zoo', 'question': 'This animal is called a Dog... Did you know that? So what is this animal again?', 'source': 'Mic', 'timeInverval': '6.53s', 'userTrails': 1}, {'courseTitle': 'Animals', 'errorAttempts': '', 'location': 'Zoo', 'question': 'Look, here comes a tiger, Tell me again what animal is this?          ', 'source': 'Mic', 'timeInverval': '4.50s', 'userTrails': 1}, {'courseTitle': 'Animals', 'errorAttempts': '', 'location': 'Zoo', 'question': \"Oh look, it's a Meerkat, What do we call this animal?\", 'source': 'Mic', 'timeInverval': '3.55s', 'userTrails': 1}, {'courseTitle': 'Animals', 'errorAttempts': '', 'location': 'Zoo', 'question': 'Look, here comes a tiger, Tell me again what animal is this?          ', 'source': 'Mic', 'timeInverval': '2.40s', 'userTrails': 1}, {'courseTitle': 'Animals', 'errorAttempts': '', 'location': 'Zoo', 'question': 'This animal is called a Dog... Did you know that? So what is this animal again?', 'source': 'Mic', 'timeInverval': '1.93s', 'userTrails': 1}, {'courseTitle': 'Alphabet', 'errorAttempts': '', 'location': 'School', 'question': \"Let's call the next letter, D\\n D is for Doctor, repeat after me, Doctor, Say it again\", 'source': 'Mic', 'timeInverval': '7.94s', 'userTrails': 1}, {'courseTitle': 'Alphabet', 'errorAttempts': '', 'location': 'School', 'question': \"Let's call the next letter, D\\n D is for Doctor, repeat after me, Doctor, Say it again\", 'source': 'Mic', 'timeInverval': '3.06s', 'userTrails': 1}]\n",
      "[{'courseTitle': 'Alphabet', 'errorAttempts': '', 'location': 'School', 'question': 'The first letter is A!\\n A is for Apple, repeat after me, Apple, now you go', 'source': 'Mic', 'timeInverval': '22.37s', 'userTrails': 1}, {'courseTitle': 'Alphabet', 'errorAttempts': 'bored, bar, ', 'location': 'School', 'question': 'Next letter is B\\n B is for Ball, a ball is round, Come say it again, Ball', 'source': 'Mic', 'timeInverval': '20.26s', 'userTrails': 3}, {'courseTitle': 'Alphabet', 'errorAttempts': '', 'location': 'School', 'question': \"Then comes C\\n C is for Cat, a cat is an animal, it's your turn now  \", 'source': 'Mic', 'timeInverval': '6.47s', 'userTrails': 1}, {'courseTitle': 'Alphabet', 'errorAttempts': 'see, ', 'location': 'School', 'question': \"Then comes C\\n C is for Cat, a cat is an animal, it's your turn now  \", 'source': 'Mic', 'timeInverval': '18.00s', 'userTrails': 2}, {'courseTitle': 'Alphabet', 'errorAttempts': '', 'location': 'School', 'question': 'The first letter is A!\\n A is for Apple, repeat after me, Apple, now you go', 'source': 'Mic', 'timeInverval': '4.13s', 'userTrails': 1}, {'courseTitle': 'Alphabet', 'errorAttempts': '', 'location': 'School', 'question': \"Let's call the next letter, D\\n D is for Doctor, repeat after me, Doctor, Say it again\", 'source': 'Keyboard', 'timeInverval': '13.50s', 'userTrails': 1}]\n",
      "[{'courseTitle': 'Alphabet', 'errorAttempts': '', 'location': 'School', 'question': 'The first letter is A!\\n A is for Apple, repeat after me, Apple, now you go', 'source': 'Keyboard', 'timeInverval': '4.66s', 'userTrails': 1}, {'courseTitle': 'Alphabet', 'errorAttempts': '', 'location': 'School', 'question': 'Next letter is B\\n B is for Ball, a ball is round, Come say it again, Ball', 'source': 'Keyboard', 'timeInverval': '1.65s', 'userTrails': 1}, {'courseTitle': 'Alphabet', 'errorAttempts': '', 'location': 'School', 'question': \"Then comes C\\n C is for Cat, a cat is an animal, it's your turn now  \", 'source': 'Keyboard', 'timeInverval': '11.59s', 'userTrails': 1}, {'courseTitle': 'Alphabet', 'errorAttempts': '', 'location': 'School', 'question': \"Then comes C\\n C is for Cat, a cat is an animal, it's your turn now  \", 'source': 'Keyboard', 'timeInverval': '4.03s', 'userTrails': 1}, {'courseTitle': 'Alphabet', 'errorAttempts': '', 'location': 'School', 'question': \"Let's call the next letter, D\\n D is for Doctor, repeat after me, Doctor, Say it again\", 'source': 'Keyboard', 'timeInverval': '1.02s', 'userTrails': 1}, {'courseTitle': 'Alphabet', 'errorAttempts': '', 'location': 'School', 'question': \"Now, comes E\\n E is for Elephant, let's say it together, Elephant, Let's say it again\", 'source': 'Keyboard', 'timeInverval': '0.53s', 'userTrails': 1}, {'courseTitle': 'Alphabet', 'errorAttempts': '', 'location': 'School', 'question': \"Then comes C\\n C is for Cat, a cat is an animal, it's your turn now  \", 'source': 'Keyboard', 'timeInverval': '7.92s', 'userTrails': 1}, {'courseTitle': 'Alphabet', 'errorAttempts': '', 'location': 'School', 'question': 'The next letter is F\\n F is for Flower, Yes, you are right, Flower, say it again, Come on.', 'source': 'Keyboard', 'timeInverval': '12.73s', 'userTrails': 1}]\n",
      "[{'courseTitle': 'Alphabet', 'errorAttempts': '', 'location': 'School', 'question': 'The first letter is A!\\n A is for Apple, repeat after me, Apple, now you go', 'source': 'Mic', 'timeInverval': '9.36s', 'userTrails': 1}, {'courseTitle': 'Alphabet', 'errorAttempts': '', 'location': 'School', 'question': 'Next letter is B\\n B is for Ball, a ball is round, Come say it again, Ball', 'source': 'Mic', 'timeInverval': '6.70s', 'userTrails': 1}, {'courseTitle': 'Alphabet', 'errorAttempts': '', 'location': 'School', 'question': \"Then comes C\\n C is for Cat, a cat is an animal, it's your turn now  \", 'source': 'Mic', 'timeInverval': '5.97s', 'userTrails': 1}, {'courseTitle': 'Alphabet', 'errorAttempts': 'yes, see, ', 'location': 'School', 'question': \"Then comes C\\n C is for Cat, a cat is an animal, it's your turn now  \", 'source': 'Mic', 'timeInverval': '13.32s', 'userTrails': 3}, {'courseTitle': 'Alphabet', 'errorAttempts': '', 'location': 'School', 'question': 'The first letter is A!\\n A is for Apple, repeat after me, Apple, now you go', 'source': 'Mic', 'timeInverval': '4.28s', 'userTrails': 1}, {'courseTitle': 'Sports', 'errorAttempts': '', 'location': 'Playground', 'question': \"Let's play Football today. So what are we playing again?\", 'source': 'Mic', 'timeInverval': '6.54s', 'userTrails': 1}, {'courseTitle': 'Sports', 'errorAttempts': '', 'location': 'Playground', 'question': \"Let's put a ball through the hoop…We are going to play Basketball. Come say it with me?\", 'source': 'Mic', 'timeInverval': '10.31s', 'userTrails': 1}, {'courseTitle': 'Sports', 'errorAttempts': '', 'location': 'Playground', 'question': 'Next we are going to use a bat and ball. We are now going to play Cricket. So what are we playing again?', 'source': 'Mic', 'timeInverval': '8.26s', 'userTrails': 1}, {'courseTitle': 'Sports', 'errorAttempts': 'basketball, ', 'location': 'Playground', 'question': 'Next we are going to use a bat and ball. We are now going to play Cricket. So what are we playing again?', 'source': 'Mic', 'timeInverval': '12.26s', 'userTrails': 2}, {'courseTitle': 'Sports', 'errorAttempts': '', 'location': 'Playground', 'question': \"Let's put a ball through the hoop…We are going to play Basketball. Come say it with me?\", 'source': 'Mic', 'timeInverval': '33.34s', 'userTrails': 1}, {'courseTitle': 'Restaurant', 'errorAttempts': '', 'location': 'Kitchen', 'question': 'Today, we are going to cook a Pizza. So, what are we going to cook today?', 'source': 'Mic', 'timeInverval': '7.64s', 'userTrails': 1}, {'courseTitle': 'Restaurant', 'errorAttempts': '', 'location': 'Kitchen', 'question': \"It's cold outside, and it's time to make some Soup. Tell me, what are we making?\", 'source': 'Mic', 'timeInverval': '6.15s', 'userTrails': 1}, {'courseTitle': 'Restaurant', 'errorAttempts': 'cookie, ', 'location': 'Kitchen', 'question': \"It's time to bake some Cookies… Are you excited? What are we baking today?\", 'source': 'Mic', 'timeInverval': '9.23s', 'userTrails': 2}, {'courseTitle': 'Restaurant', 'errorAttempts': '', 'location': 'Kitchen', 'question': 'Today, we are going to cook a Pizza. So, what are we going to cook today?', 'source': 'Mic', 'timeInverval': '2.78s', 'userTrails': 1}, {'courseTitle': 'Restaurant', 'errorAttempts': '', 'location': 'Kitchen', 'question': \"It's cold outside, and it's time to make some Soup. Tell me, what are we making?\", 'source': 'Mic', 'timeInverval': '2.53s', 'userTrails': 1}, {'courseTitle': 'Animals', 'errorAttempts': '', 'location': 'Zoo', 'question': 'This animal is called a Dog... Did you know that? So what is this animal again?', 'source': 'Mic', 'timeInverval': '6.44s', 'userTrails': 1}, {'courseTitle': 'Animals', 'errorAttempts': '', 'location': 'Zoo', 'question': 'Look, here comes a tiger, Tell me again what animal is this?          ', 'source': 'Mic', 'timeInverval': '5.68s', 'userTrails': 1}, {'courseTitle': 'Animals', 'errorAttempts': 'kia cats, a, ', 'location': 'Zoo', 'question': \"Oh look, it's a Meerkat, What do we call this animal?\", 'source': 'Mic', 'timeInverval': '18.91s', 'userTrails': 4}, {'courseTitle': 'Animals', 'errorAttempts': 'lying, ', 'location': 'Zoo', 'question': 'Look, here comes a tiger, Tell me again what animal is this?          ', 'source': 'Mic', 'timeInverval': '7.44s', 'userTrails': 2}, {'courseTitle': 'Animals', 'errorAttempts': '', 'location': 'Zoo', 'question': 'This animal is called a Dog... Did you know that? So what is this animal again?', 'source': 'Mic', 'timeInverval': '3.24s', 'userTrails': 1}, {'courseTitle': 'Veggies', 'errorAttempts': '', 'location': 'Kitchen', 'question': 'A is for apple. What is the fruit called?', 'source': 'Mic', 'timeInverval': '5.00s', 'userTrails': 1}, {'courseTitle': 'Veggies', 'errorAttempts': '', 'location': 'Kitchen', 'question': 'B is for banana. What is the fruit called?', 'source': 'Mic', 'timeInverval': '3.88s', 'userTrails': 1}, {'courseTitle': 'Veggies', 'errorAttempts': '', 'location': 'Kitchen', 'question': 'C is for carrot. What is the vegetable called?', 'source': 'Mic', 'timeInverval': '3.98s', 'userTrails': 1}, {'courseTitle': 'Veggies', 'errorAttempts': '', 'location': 'Kitchen', 'question': 'B is for banana. What is the fruit called?', 'source': 'Mic', 'timeInverval': '24.75s', 'userTrails': 1}, {'courseTitle': 'Veggies', 'errorAttempts': 'banana, ', 'location': 'Kitchen', 'question': 'A is for apple. What is the fruit called?', 'source': 'Mic', 'timeInverval': '10.35s', 'userTrails': 2}, {'courseTitle': 'Alphabet', 'errorAttempts': '', 'location': 'School', 'question': \"Let's call the next letter, D\\n D is for Doctor, repeat after me, Doctor, Say it again\", 'source': 'Mic', 'timeInverval': '6.12s', 'userTrails': 1}, {'courseTitle': 'Alphabet', 'errorAttempts': '', 'location': 'School', 'question': \"Now, comes E\\n E is for Elephant, let's say it together, Elephant, Let's say it again\", 'source': 'Mic', 'timeInverval': '5.67s', 'userTrails': 1}, {'courseTitle': 'Alphabet', 'errorAttempts': '', 'location': 'School', 'question': 'The next letter is F\\n F is for Flower, Yes, you are right, Flower, say it again, Come on.', 'source': 'Mic', 'timeInverval': '6.07s', 'userTrails': 1}, {'courseTitle': 'Alphabet', 'errorAttempts': '', 'location': 'School', 'question': 'The next letter is F\\n F is for Flower, Yes, you are right, Flower, say it again, Come on.', 'source': 'Mic', 'timeInverval': '3.36s', 'userTrails': 1}, {'courseTitle': 'Alphabet', 'errorAttempts': '', 'location': 'School', 'question': 'The first letter is A!\\n A is for Apple, repeat after me, Apple, now you go', 'source': 'Mic', 'timeInverval': '2.16s', 'userTrails': 1}, {'courseTitle': 'Alphabet', 'errorAttempts': '', 'location': 'School', 'question': \"Then comes C\\n C is for Cat, a cat is an animal, it's your turn now  \", 'source': 'Mic', 'timeInverval': '2.98s', 'userTrails': 1}, {'courseTitle': 'Alphabet', 'errorAttempts': '', 'location': 'School', 'question': 'Welcome letter G\\n G is for Great, repeat after me, Great, now you go...', 'source': 'Keyboard', 'timeInverval': '18.28s', 'userTrails': 1}]\n",
      "[{'courseTitle': 'Sports', 'errorAttempts': '', 'location': 'Playground', 'question': 'Today we are going to go Cycling. So what are we doing again?', 'source': 'Mic', 'timeInverval': '5.35s', 'userTrails': 1}, {'courseTitle': 'Sports', 'errorAttempts': '', 'location': 'Playground', 'question': \"It's time to play Badminton. Let's gear and say what are we playing agian?\", 'source': 'Mic', 'timeInverval': '8.93s', 'userTrails': 1}, {'courseTitle': 'Sports', 'errorAttempts': '', 'location': 'Playground', 'question': 'Today we are going to play Baseball. Are you ready? Come, tell me what are we going to play?', 'source': 'Mic', 'timeInverval': '7.50s', 'userTrails': 1}, {'courseTitle': 'Sports', 'errorAttempts': '', 'location': 'Playground', 'question': 'Next we are going to use a bat and ball. We are now going to play Cricket. So what are we playing again?', 'source': 'Mic', 'timeInverval': '2.45s', 'userTrails': 1}, {'courseTitle': 'Sports', 'errorAttempts': '', 'location': 'Playground', 'question': \"Let's play Tennis today. Are you excited? So what are we playing again?\", 'source': 'Mic', 'timeInverval': '3.28s', 'userTrails': 1}, {'courseTitle': 'Sports', 'errorAttempts': '', 'location': 'Playground', 'question': 'Today we are going to play Baseball. Are you ready? Come, tell me what are we going to play?', 'source': 'Mic', 'timeInverval': '16.18s', 'userTrails': 1}, {'courseTitle': 'Sports', 'errorAttempts': '', 'location': 'Playground', 'question': 'Today we are going to play Golf. So, what are we playing again?', 'source': 'Keyboard', 'timeInverval': '46.77s', 'userTrails': 1}, {'courseTitle': 'Alphabet', 'errorAttempts': '', 'location': 'School', 'question': 'Welcome letter G\\n G is for Great, repeat after me, Great, now you go...', 'source': 'Keyboard', 'timeInverval': '4.16s', 'userTrails': 1}, {'courseTitle': 'Sports', 'errorAttempts': '', 'location': 'Playground', 'question': 'Today we are going to play Golf. So, what are we playing again?', 'source': 'Keyboard', 'timeInverval': '4.93s', 'userTrails': 1}, {'courseTitle': 'Sports', 'errorAttempts': '', 'location': 'Playground', 'question': 'Are you ready to learn Karate? So, what are we doing again?', 'source': 'Mic', 'timeInverval': '4.85s', 'userTrails': 1}, {'courseTitle': 'Sports', 'errorAttempts': 'riding, ', 'location': 'Playground', 'question': 'Get ready, we are going Horse riding today. So, where are we going today?', 'source': 'Mic', 'timeInverval': '12.25s', 'userTrails': 2}, {'courseTitle': 'Sports', 'errorAttempts': '', 'location': 'Playground', 'question': \"Let's play Tennis today. Are you excited? So what are we playing again?\", 'source': 'Mic', 'timeInverval': '3.51s', 'userTrails': 1}, {'courseTitle': 'Sports', 'errorAttempts': '', 'location': 'Playground', 'question': \"Let's put a ball through the hoop…We are going to play Basketball. Come say it with me?\", 'source': 'Mic', 'timeInverval': '3.81s', 'userTrails': 1}, {'courseTitle': 'Sports', 'errorAttempts': '', 'location': 'Playground', 'question': 'Get ready, we are going Horse riding today. So, where are we going today?', 'source': 'Mic', 'timeInverval': '6.67s', 'userTrails': 1}, {'courseTitle': 'Sports', 'errorAttempts': '', 'location': 'Playground', 'question': 'Today we are going to play Netball. So, what are we playing again?', 'source': 'Keyboard', 'timeInverval': '26.46s', 'userTrails': 1}, {'courseTitle': 'Alphabet', 'errorAttempts': '', 'location': 'School', 'question': 'Welcome letter G\\n G is for Great, repeat after me, Great, now you go...', 'source': 'Mic', 'timeInverval': '4.95s', 'userTrails': 1}, {'courseTitle': 'Alphabet', 'errorAttempts': '', 'location': 'School', 'question': 'Then comes H\\n H is for House, Say it along, House, come on, your turn', 'source': 'Mic', 'timeInverval': '7.60s', 'userTrails': 1}, {'courseTitle': 'Alphabet', 'errorAttempts': '', 'location': 'School', 'question': 'Next letter is I\\n I is for Ice cream, say with a smile, Ice cream , Very good, say it again', 'source': 'Mic', 'timeInverval': '6.47s', 'userTrails': 1}, {'courseTitle': 'Alphabet', 'errorAttempts': '', 'location': 'School', 'question': 'Then comes H\\n H is for House, Say it along, House, come on, your turn', 'source': 'Mic', 'timeInverval': '2.73s', 'userTrails': 1}]\n",
      "[{'courseTitle': 'Alphabet', 'errorAttempts': '', 'location': 'School', 'question': 'The first letter is A!\\n A is for Apple, repeat after me, Apple, now you go', 'source': 'Mic', 'timeInverval': '15.48s', 'userTrails': 1}, {'courseTitle': 'Alphabet', 'errorAttempts': 'bull, paul, ', 'location': 'School', 'question': 'Next letter is B\\n B is for Ball, a ball is round, Come say it again, Ball', 'source': 'Keyboard', 'timeInverval': '21.07s', 'userTrails': 3}, {'courseTitle': 'Alphabet', 'errorAttempts': '', 'location': 'School', 'question': \"Then comes C\\n C is for Cat, a cat is an animal, it's your turn now  \", 'source': 'Mic', 'timeInverval': '5.31s', 'userTrails': 1}, {'courseTitle': 'Alphabet', 'errorAttempts': '', 'location': 'School', 'question': \"Then comes C\\n C is for Cat, a cat is an animal, it's your turn now  \", 'source': 'Mic', 'timeInverval': '24.67s', 'userTrails': 1}, {'courseTitle': 'Alphabet', 'errorAttempts': '', 'location': 'School', 'question': 'The first letter is A!\\n A is for Apple, repeat after me, Apple, now you go', 'source': 'Mic', 'timeInverval': '3.28s', 'userTrails': 1}, {'courseTitle': 'Sports', 'errorAttempts': '', 'location': 'Playground', 'question': \"Let's play Football today. So what are we playing again?\", 'source': 'Mic', 'timeInverval': '4.59s', 'userTrails': 1}, {'courseTitle': 'Sports', 'errorAttempts': '', 'location': 'Playground', 'question': \"Let's put a ball through the hoop…We are going to play Basketball. Come say it with me?\", 'source': 'Mic', 'timeInverval': '9.55s', 'userTrails': 1}, {'courseTitle': 'Sports', 'errorAttempts': '', 'location': 'Playground', 'question': 'Next we are going to use a bat and ball. We are now going to play Cricket. So what are we playing again?', 'source': 'Mic', 'timeInverval': '7.33s', 'userTrails': 1}, {'courseTitle': 'Sports', 'errorAttempts': '', 'location': 'Playground', 'question': \"Let's put a ball through the hoop…We are going to play Basketball. Come say it with me?\", 'source': 'Mic', 'timeInverval': '3.69s', 'userTrails': 1}, {'courseTitle': 'Sports', 'errorAttempts': '', 'location': 'Playground', 'question': \"Let's play Football today. So what are we playing again?\", 'source': 'Mic', 'timeInverval': '4.11s', 'userTrails': 1}, {'courseTitle': 'Restaurant', 'errorAttempts': '', 'location': 'Kitchen', 'question': 'Today, we are going to cook a Pizza. So, what are we going to cook today?', 'source': 'Mic', 'timeInverval': '5.79s', 'userTrails': 1}, {'courseTitle': 'Restaurant', 'errorAttempts': '', 'location': 'Kitchen', 'question': \"It's cold outside, and it's time to make some Soup. Tell me, what are we making?\", 'source': 'Mic', 'timeInverval': '5.69s', 'userTrails': 1}, {'courseTitle': 'Restaurant', 'errorAttempts': '', 'location': 'Kitchen', 'question': \"It's time to bake some Cookies… Are you excited? What are we baking today?\", 'source': 'Mic', 'timeInverval': '5.87s', 'userTrails': 1}, {'courseTitle': 'Restaurant', 'errorAttempts': '', 'location': 'Kitchen', 'question': 'Today, we are going to cook a Pizza. So, what are we going to cook today?', 'source': 'Mic', 'timeInverval': '2.81s', 'userTrails': 1}, {'courseTitle': 'Restaurant', 'errorAttempts': '', 'location': 'Kitchen', 'question': \"It's cold outside, and it's time to make some Soup. Tell me, what are we making?\", 'source': 'Mic', 'timeInverval': '2.25s', 'userTrails': 1}, {'courseTitle': 'Animals', 'errorAttempts': '', 'location': 'Zoo', 'question': 'This animal is called a Dog... Did you know that? So what is this animal again?', 'source': 'Mic', 'timeInverval': '5.59s', 'userTrails': 1}, {'courseTitle': 'Animals', 'errorAttempts': '', 'location': 'Zoo', 'question': 'Look, here comes a tiger, Tell me again what animal is this?          ', 'source': 'Mic', 'timeInverval': '4.82s', 'userTrails': 1}, {'courseTitle': 'Animals', 'errorAttempts': '', 'location': 'Zoo', 'question': \"Oh look, it's a Meerkat, What do we call this animal?\", 'source': 'Keyboard', 'timeInverval': '16.23s', 'userTrails': 1}, {'courseTitle': 'Animals', 'errorAttempts': '', 'location': 'Zoo', 'question': \"Oh look, it's a Meerkat, What do we call this animal?\", 'source': 'Mic', 'timeInverval': '2.56s', 'userTrails': 1}, {'courseTitle': 'Animals', 'errorAttempts': '', 'location': 'Zoo', 'question': 'This animal is called a Dog... Did you know that? So what is this animal again?', 'source': 'Mic', 'timeInverval': '4.16s', 'userTrails': 1}, {'courseTitle': 'Veggies', 'errorAttempts': 'nipple, ', 'location': 'Kitchen', 'question': 'A is for apple. What is the fruit called?', 'source': 'Mic', 'timeInverval': '4.15s', 'userTrails': 2}, {'courseTitle': 'Veggies', 'errorAttempts': '', 'location': 'Kitchen', 'question': 'B is for banana. What is the fruit called?', 'source': 'Mic', 'timeInverval': '4.22s', 'userTrails': 1}, {'courseTitle': 'Alphabet', 'errorAttempts': '', 'location': 'School', 'question': \"Let's call the next letter, D\\n D is for Doctor, repeat after me, Doctor, Say it again\", 'source': 'Mic', 'timeInverval': '8.08s', 'userTrails': 1}, {'courseTitle': 'Alphabet', 'errorAttempts': '', 'location': 'School', 'question': \"Now, comes E\\n E is for Elephant, let's say it together, Elephant, Let's say it again\", 'source': 'Mic', 'timeInverval': '9.92s', 'userTrails': 1}]\n",
      "[{'courseTitle': 'Alphabet', 'errorAttempts': '', 'location': 'School', 'question': 'The first letter is A!\\n A is for Apple, repeat after me, Apple, now you go', 'source': 'Mic', 'timeInverval': '7.12s', 'userTrails': 1}, {'courseTitle': 'Alphabet', 'errorAttempts': 'all, ', 'location': 'School', 'question': 'Next letter is B\\n B is for Ball, a ball is round, Come say it again, Ball', 'source': 'Mic', 'timeInverval': '26.74s', 'userTrails': 2}, {'courseTitle': 'Alphabet', 'errorAttempts': '', 'location': 'School', 'question': \"Then comes C\\n C is for Cat, a cat is an animal, it's your turn now  \", 'source': 'Mic', 'timeInverval': '6.55s', 'userTrails': 1}, {'courseTitle': 'Alphabet', 'errorAttempts': 'see, ', 'location': 'School', 'question': \"Then comes C\\n C is for Cat, a cat is an animal, it's your turn now  \", 'source': 'Mic', 'timeInverval': '13.52s', 'userTrails': 2}, {'courseTitle': 'Alphabet', 'errorAttempts': '', 'location': 'School', 'question': 'The first letter is A!\\n A is for Apple, repeat after me, Apple, now you go', 'source': 'Mic', 'timeInverval': '3.91s', 'userTrails': 1}, {'courseTitle': 'Alphabet', 'errorAttempts': '', 'location': 'School', 'question': \"Let's call the next letter, D\\n D is for Doctor, repeat after me, Doctor, Say it again\", 'source': 'Keyboard', 'timeInverval': '21.92s', 'userTrails': 1}, {'courseTitle': 'Alphabet', 'errorAttempts': '', 'location': 'School', 'question': \"Let's call the next letter, D\\n D is for Doctor, repeat after me, Doctor, Say it again\", 'source': 'Mic', 'timeInverval': '7.83s', 'userTrails': 1}, {'courseTitle': 'Alphabet', 'errorAttempts': '', 'location': 'School', 'question': \"Now, comes E\\n E is for Elephant, let's say it together, Elephant, Let's say it again\", 'source': 'Mic', 'timeInverval': '4.11s', 'userTrails': 1}, {'courseTitle': 'Alphabet', 'errorAttempts': '', 'location': 'School', 'question': 'The next letter is F\\n F is for Flower, Yes, you are right, Flower, say it again, Come on.', 'source': 'Mic', 'timeInverval': '4.06s', 'userTrails': 1}, {'courseTitle': 'Alphabet', 'errorAttempts': '', 'location': 'School', 'question': \"Let's call the next letter, D\\n D is for Doctor, repeat after me, Doctor, Say it again\", 'source': 'Mic', 'timeInverval': '3.74s', 'userTrails': 1}, {'courseTitle': 'Alphabet', 'errorAttempts': '', 'location': 'School', 'question': \"Then comes C\\n C is for Cat, a cat is an animal, it's your turn now  \", 'source': 'Mic', 'timeInverval': '2.48s', 'userTrails': 1}, {'courseTitle': 'Alphabet', 'errorAttempts': '', 'location': 'School', 'question': 'The next letter is F\\n F is for Flower, Yes, you are right, Flower, say it again, Come on.', 'source': 'Mic', 'timeInverval': '3.43s', 'userTrails': 1}, {'courseTitle': 'Sports', 'errorAttempts': 'birth ball, stretchable, ', 'location': 'Playground', 'question': \"Let's play Football today. So what are we playing again?\", 'source': 'Mic', 'timeInverval': '21.77s', 'userTrails': 4}, {'courseTitle': 'Sports', 'errorAttempts': '', 'location': 'Playground', 'question': \"Let's put a ball through the hoop…We are going to play Basketball. Come say it with me?\", 'source': 'Mic', 'timeInverval': '6.45s', 'userTrails': 1}, {'courseTitle': 'Sports', 'errorAttempts': 'fat cat, bat and ball, ', 'location': 'Playground', 'question': 'Next we are going to use a bat and ball. We are now going to play Cricket. So what are we playing again?', 'source': 'Mic', 'timeInverval': '36.24s', 'userTrails': 6}, {'courseTitle': 'Sports', 'errorAttempts': 'football, ', 'location': 'Playground', 'question': \"Let's put a ball through the hoop…We are going to play Basketball. Come say it with me?\", 'source': 'Mic', 'timeInverval': '13.77s', 'userTrails': 2}, {'courseTitle': 'Sports', 'errorAttempts': '', 'location': 'Playground', 'question': 'Next we are going to use a bat and ball. We are now going to play Cricket. So what are we playing again?', 'source': 'Mic', 'timeInverval': '4.82s', 'userTrails': 1}, {'courseTitle': 'Restaurant', 'errorAttempts': '', 'location': 'Kitchen', 'question': 'Today, we are going to cook a Pizza. So, what are we going to cook today?', 'source': 'Mic', 'timeInverval': '13.97s', 'userTrails': 1}, {'courseTitle': 'Restaurant', 'errorAttempts': '', 'location': 'Kitchen', 'question': \"It's cold outside, and it's time to make some Soup. Tell me, what are we making?\", 'source': 'Mic', 'timeInverval': '4.14s', 'userTrails': 1}, {'courseTitle': 'Restaurant', 'errorAttempts': 'cookie, ', 'location': 'Kitchen', 'question': \"It's time to bake some Cookies… Are you excited? What are we baking today?\", 'source': 'Mic', 'timeInverval': '8.87s', 'userTrails': 2}, {'courseTitle': 'Restaurant', 'errorAttempts': '', 'location': 'Kitchen', 'question': \"It's cold outside, and it's time to make some Soup. Tell me, what are we making?\", 'source': 'Mic', 'timeInverval': '3.13s', 'userTrails': 1}, {'courseTitle': 'Restaurant', 'errorAttempts': '', 'location': 'Kitchen', 'question': \"It's time to bake some Cookies… Are you excited? What are we baking today?\", 'source': 'Mic', 'timeInverval': '2.98s', 'userTrails': 1}, {'courseTitle': 'Animals', 'errorAttempts': '', 'location': 'Zoo', 'question': 'This animal is called a Dog... Did you know that? So what is this animal again?', 'source': 'Mic', 'timeInverval': '2.93s', 'userTrails': 1}, {'courseTitle': 'Animals', 'errorAttempts': 'frog, ', 'location': 'Zoo', 'question': 'Look, here comes a tiger, Tell me again what animal is this?          ', 'source': 'Mic', 'timeInverval': '8.72s', 'userTrails': 2}, {'courseTitle': 'Animals', 'errorAttempts': '', 'location': 'Zoo', 'question': \"Oh look, it's a Meerkat, What do we call this animal?\", 'source': 'Mic', 'timeInverval': '3.96s', 'userTrails': 1}, {'courseTitle': 'Animals', 'errorAttempts': '', 'location': 'Zoo', 'question': 'This animal is called a Dog... Did you know that? So what is this animal again?', 'source': 'Mic', 'timeInverval': '1.93s', 'userTrails': 1}, {'courseTitle': 'Animals', 'errorAttempts': '', 'location': 'Zoo', 'question': \"Oh look, it's a Meerkat, What do we call this animal?\", 'source': 'Mic', 'timeInverval': '5.07s', 'userTrails': 1}, {'courseTitle': 'Animals', 'errorAttempts': '', 'location': 'Zoo', 'question': 'Look at this animal jumping, it is a Monkey, Tell me what animal is this?\\r\\n', 'source': 'Mic', 'timeInverval': '3.44s', 'userTrails': 1}, {'courseTitle': 'Animals', 'errorAttempts': 'tiger, ', 'location': 'Zoo', 'question': 'This is a Polar Bear, Tell me what animal is this?\\r\\n', 'source': 'Mic', 'timeInverval': '8.17s', 'userTrails': 2}, {'courseTitle': 'Animals', 'errorAttempts': '', 'location': 'Zoo', 'question': 'This animal is called  Crocodile... Did you know that? So what is this animal again?', 'source': 'Mic', 'timeInverval': '2.63s', 'userTrails': 1}, {'courseTitle': 'Animals', 'errorAttempts': '', 'location': 'Zoo', 'question': 'This animal is called  Crocodile... Did you know that? So what is this animal again?', 'source': 'Mic', 'timeInverval': '2.11s', 'userTrails': 1}, {'courseTitle': 'Restaurant', 'errorAttempts': '', 'location': 'Kitchen', 'question': 'The dish we are cooking today is Pasta... One more time, what are we cooking?', 'source': 'Mic', 'timeInverval': '2.91s', 'userTrails': 1}, {'courseTitle': 'Animals', 'errorAttempts': '', 'location': 'Zoo', 'question': \"Look, here comes an Owl, Let's recall what animal did we see?\", 'source': 'Mic', 'timeInverval': '3.35s', 'userTrails': 1}, {'courseTitle': 'Animals', 'errorAttempts': '', 'location': 'Zoo', 'question': 'Oh! Do you want to see a Fox... What animal did we see here?', 'source': 'Mic', 'timeInverval': '2.68s', 'userTrails': 1}, {'courseTitle': 'Animals', 'errorAttempts': '', 'location': 'Zoo', 'question': 'Here is a Rabbit, Which animal is this?', 'source': 'Mic', 'timeInverval': '4.64s', 'userTrails': 1}, {'courseTitle': 'Animals', 'errorAttempts': '', 'location': 'Zoo', 'question': \"Look, here comes an Owl, Let's recall what animal did we see?\", 'source': 'Mic', 'timeInverval': '2.95s', 'userTrails': 1}, {'courseTitle': 'Animals', 'errorAttempts': '', 'location': 'Zoo', 'question': 'This animal is called a Dog... Did you know that? So what is this animal again?', 'source': 'Mic', 'timeInverval': '0.28s', 'userTrails': 1}]\n",
      "[{'courseTitle': 'Alphabet', 'errorAttempts': '', 'location': 'School', 'question': 'The first letter is A!\\n A is for Apple, repeat after me, Apple, now you go', 'source': 'Keyboard', 'timeInverval': '12.85s', 'userTrails': 1}, {'courseTitle': 'Animals', 'errorAttempts': '', 'location': 'Zoo', 'question': 'This animal is called a Dog... Did you know that? So what is this animal again?', 'source': 'Mic', 'timeInverval': '7.89s', 'userTrails': 1}, {'courseTitle': 'Animals', 'errorAttempts': '', 'location': 'Zoo', 'question': 'Look, here comes a tiger, Tell me again what animal is this?          ', 'source': 'Mic', 'timeInverval': '11.65s', 'userTrails': 1}, {'courseTitle': 'Animals', 'errorAttempts': '', 'location': 'Zoo', 'question': \"Oh look, it's a Meerkat, What do we call this animal?\", 'source': 'Mic', 'timeInverval': '10.45s', 'userTrails': 1}, {'courseTitle': 'Animals', 'errorAttempts': '', 'location': 'Zoo', 'question': 'This animal is called a Dog... Did you know that? So what is this animal again?', 'source': 'Mic', 'timeInverval': '1.97s', 'userTrails': 1}, {'courseTitle': 'Animals', 'errorAttempts': '', 'location': 'Zoo', 'question': \"Oh look, it's a Meerkat, What do we call this animal?\", 'source': 'Mic', 'timeInverval': '4.75s', 'userTrails': 1}, {'courseTitle': 'Animals', 'errorAttempts': '', 'location': 'Zoo', 'question': 'Look at this animal jumping, it is a Monkey, Tell me what animal is this?\\r\\n', 'source': 'Keyboard', 'timeInverval': '18.75s', 'userTrails': 1}, {'courseTitle': 'Sports', 'errorAttempts': '', 'location': 'Playground', 'question': \"Let's play Football today. So what are we playing again?\", 'source': 'Mic', 'timeInverval': '3.90s', 'userTrails': 1}, {'courseTitle': 'Sports', 'errorAttempts': '', 'location': 'Playground', 'question': \"Let's put a ball through the hoop…We are going to play Basketball. Come say it with me?\", 'source': 'Mic', 'timeInverval': '8.12s', 'userTrails': 1}, {'courseTitle': 'Animals', 'errorAttempts': '', 'location': 'Zoo', 'question': 'Look at this animal jumping, it is a Monkey, Tell me what animal is this?\\r\\n', 'source': 'Mic', 'timeInverval': '4.46s', 'userTrails': 1}, {'courseTitle': 'Animals', 'errorAttempts': '', 'location': 'Zoo', 'question': 'This is a Polar Bear, Tell me what animal is this?\\r\\n', 'source': 'Mic', 'timeInverval': '14.40s', 'userTrails': 1}, {'courseTitle': 'Animals', 'errorAttempts': '', 'location': 'Zoo', 'question': 'This animal is called  Crocodile... Did you know that? So what is this animal again?', 'source': 'Mic', 'timeInverval': '3.53s', 'userTrails': 1}, {'courseTitle': 'Animals', 'errorAttempts': '', 'location': 'Zoo', 'question': 'Look, here comes a tiger, Tell me again what animal is this?          ', 'source': 'Mic', 'timeInverval': '1.91s', 'userTrails': 1}, {'courseTitle': 'Animals', 'errorAttempts': '', 'location': 'Zoo', 'question': 'This animal is called  Crocodile... Did you know that? So what is this animal again?', 'source': 'Mic', 'timeInverval': '7.57s', 'userTrails': 1}]\n",
      "[{'courseTitle': 'Alphabet', 'errorAttempts': 'these food, ', 'location': 'School', 'question': \"Let's call the next letter, D\\n D is for Doctor, repeat after me, Doctor, Say it again\", 'source': 'Mic', 'timeInverval': '12.44s', 'userTrails': 3}, {'courseTitle': 'Alphabet', 'errorAttempts': '', 'location': 'School', 'question': \"Now, comes E\\n E is for Elephant, let's say it together, Elephant, Let's say it again\", 'source': 'Mic', 'timeInverval': '3.72s', 'userTrails': 1}]\n",
      "[{'courseTitle': 'Alphabet', 'errorAttempts': '', 'location': 'School', 'question': 'The first letter is A!\\n A is for Apple, repeat after me, Apple, now you go', 'source': 'Mic', 'timeInverval': '5.31s', 'userTrails': 1}, {'courseTitle': 'Alphabet', 'errorAttempts': 'bull cricket, poole, bull, ', 'location': 'School', 'question': 'Next letter is B\\n B is for Ball, a ball is round, Come say it again, Ball', 'source': 'Keyboard', 'timeInverval': '29.60s', 'userTrails': 5}, {'courseTitle': 'Alphabet', 'errorAttempts': '', 'location': 'School', 'question': \"Then comes C\\n C is for Cat, a cat is an animal, it's your turn now  \", 'source': 'Mic', 'timeInverval': '7.20s', 'userTrails': 1}, {'courseTitle': 'Alphabet', 'errorAttempts': '', 'location': 'School', 'question': 'The first letter is A!\\n A is for Apple, repeat after me, Apple, now you go', 'source': 'Mic', 'timeInverval': '4.23s', 'userTrails': 1}, {'courseTitle': 'Alphabet', 'errorAttempts': '', 'location': 'School', 'question': 'Next letter is B\\n B is for Ball, a ball is round, Come say it again, Ball', 'source': 'Mic', 'timeInverval': '2.36s', 'userTrails': 1}, {'courseTitle': 'Alphabet', 'errorAttempts': '', 'location': 'School', 'question': \"Let's call the next letter, D\\n D is for Doctor, repeat after me, Doctor, Say it again\", 'source': 'Mic', 'timeInverval': '11.92s', 'userTrails': 1}, {'courseTitle': 'Alphabet', 'errorAttempts': '', 'location': 'School', 'question': \"Let's call the next letter, D\\n D is for Doctor, repeat after me, Doctor, Say it again\", 'source': 'Mic', 'timeInverval': '7.22s', 'userTrails': 1}, {'courseTitle': 'Alphabet', 'errorAttempts': '', 'location': 'School', 'question': \"Now, comes E\\n E is for Elephant, let's say it together, Elephant, Let's say it again\", 'source': 'Mic', 'timeInverval': '6.62s', 'userTrails': 1}, {'courseTitle': 'Alphabet', 'errorAttempts': '', 'location': 'School', 'question': 'The next letter is F\\n F is for Flower, Yes, you are right, Flower, say it again, Come on.', 'source': 'Mic', 'timeInverval': '5.24s', 'userTrails': 1}, {'courseTitle': 'Alphabet', 'errorAttempts': 'scratch, ', 'location': 'School', 'question': \"Let's call the next letter, D\\n D is for Doctor, repeat after me, Doctor, Say it again\", 'source': 'Mic', 'timeInverval': '14.82s', 'userTrails': 2}, {'courseTitle': 'Alphabet', 'errorAttempts': 'standing still, ', 'location': 'School', 'question': 'The next letter is F\\n F is for Flower, Yes, you are right, Flower, say it again, Come on.', 'source': 'Mic', 'timeInverval': '10.91s', 'userTrails': 3}, {'courseTitle': 'Alphabet', 'errorAttempts': '', 'location': 'School', 'question': 'Welcome letter G\\n G is for Great, repeat after me, Great, now you go...', 'source': 'Mic', 'timeInverval': '8.57s', 'userTrails': 1}, {'courseTitle': 'Alphabet', 'errorAttempts': '', 'location': 'School', 'question': 'Welcome letter G\\n G is for Great, repeat after me, Great, now you go...', 'source': 'Mic', 'timeInverval': '7.55s', 'userTrails': 1}, {'courseTitle': 'Sports', 'errorAttempts': '', 'location': 'Playground', 'question': \"Let's play Football today. So what are we playing again?\", 'source': 'Mic', 'timeInverval': '4.64s', 'userTrails': 1}, {'courseTitle': 'Sports', 'errorAttempts': '', 'location': 'Playground', 'question': \"Let's put a ball through the hoop…We are going to play Basketball. Come say it with me?\", 'source': 'Mic', 'timeInverval': '5.12s', 'userTrails': 1}, {'courseTitle': 'Sports', 'errorAttempts': '', 'location': 'Playground', 'question': 'Next we are going to use a bat and ball. We are now going to play Cricket. So what are we playing again?', 'source': 'Mic', 'timeInverval': '7.05s', 'userTrails': 1}, {'courseTitle': 'Alphabet', 'errorAttempts': '', 'location': 'School', 'question': 'Welcome letter G\\n G is for Great, repeat after me, Great, now you go...', 'source': 'Mic', 'timeInverval': '2.01s', 'userTrails': 1}, {'courseTitle': 'Alphabet', 'errorAttempts': '', 'location': 'School', 'question': 'Welcome letter G\\n G is for Great, repeat after me, Great, now you go...', 'source': 'Mic', 'timeInverval': '3.77s', 'userTrails': 1}, {'courseTitle': 'Animals', 'errorAttempts': '', 'location': 'Zoo', 'question': 'This animal is called a Dog... Did you know that? So what is this animal again?', 'source': 'Mic', 'timeInverval': '6.49s', 'userTrails': 1}, {'courseTitle': 'Animals', 'errorAttempts': '', 'location': 'Zoo', 'question': 'Look, here comes a tiger, Tell me again what animal is this?          ', 'source': 'Mic', 'timeInverval': '8.88s', 'userTrails': 1}, {'courseTitle': 'Alphabet', 'errorAttempts': '', 'location': 'School', 'question': 'Welcome letter G\\n G is for Great, repeat after me, Great, now you go...', 'source': 'Mic', 'timeInverval': '6.85s', 'userTrails': 1}, {'courseTitle': 'Alphabet', 'errorAttempts': '', 'location': 'School', 'question': 'Then comes H\\n H is for House, Say it along, House, come on, your turn', 'source': 'Mic', 'timeInverval': '5.56s', 'userTrails': 1}]\n",
      "[{'courseTitle': 'Alphabet', 'errorAttempts': '', 'location': 'School', 'question': 'Next letter is B\\n B is for Ball, a ball is round, Come say it again, Ball', 'source': 'Mic', 'timeInverval': '16.62s', 'userTrails': 1}, {'courseTitle': 'Alphabet', 'errorAttempts': 'that, ', 'location': 'School', 'question': \"Then comes C\\n C is for Cat, a cat is an animal, it's your turn now  \", 'source': 'Mic', 'timeInverval': '11.51s', 'userTrails': 2}, {'courseTitle': 'Alphabet', 'errorAttempts': '', 'location': 'School', 'question': \"Let's call the next letter, D\\n D is for Doctor, repeat after me, Doctor, Say it again\", 'source': 'Mic', 'timeInverval': '5.57s', 'userTrails': 1}, {'courseTitle': 'Alphabet', 'errorAttempts': '', 'location': 'School', 'question': 'The first letter is A!\\n A is for Apple, repeat after me, Apple, now you go', 'source': 'Mic', 'timeInverval': '1.70s', 'userTrails': 1}, {'courseTitle': 'Alphabet', 'errorAttempts': '', 'location': 'School', 'question': \"Now, comes E\\n E is for Elephant, let's say it together, Elephant, Let's say it again\", 'source': 'Mic', 'timeInverval': '7.19s', 'userTrails': 1}]\n",
      "[{'courseTitle': 'Alphabet', 'errorAttempts': 'f, slough, slava, ', 'location': 'School', 'question': 'The next letter is F\\n F is for Flower, Yes, you are right, Flower, say it again, Come on.', 'source': 'Mic', 'timeInverval': '38.11s', 'userTrails': 4}, {'courseTitle': 'Alphabet', 'errorAttempts': 'bread, ', 'location': 'School', 'question': 'Welcome letter G\\n G is for Great, repeat after me, Great, now you go...', 'source': 'Mic', 'timeInverval': '12.91s', 'userTrails': 2}, {'courseTitle': 'Alphabet', 'errorAttempts': '', 'location': 'School', 'question': 'Then comes H\\n H is for House, Say it along, House, come on, your turn', 'source': 'Mic', 'timeInverval': '7.19s', 'userTrails': 1}, {'courseTitle': 'Alphabet', 'errorAttempts': '', 'location': 'School', 'question': 'Welcome letter G\\n G is for Great, repeat after me, Great, now you go...', 'source': 'Mic', 'timeInverval': '5.08s', 'userTrails': 1}, {'courseTitle': 'Alphabet', 'errorAttempts': 'hey, hey, ', 'location': 'School', 'question': 'The first letter is A!\\n A is for Apple, repeat after me, Apple, now you go', 'source': 'Mic', 'timeInverval': '48.98s', 'userTrails': 3}, {'courseTitle': 'Alphabet', 'errorAttempts': '', 'location': 'School', 'question': 'The next letter is F\\n F is for Flower, Yes, you are right, Flower, say it again, Come on.', 'source': 'Mic', 'timeInverval': '17.62s', 'userTrails': 1}, {'courseTitle': 'Sports', 'errorAttempts': '', 'location': 'Playground', 'question': \"Let's play Football today. So what are we playing again?\", 'source': 'Mic', 'timeInverval': '5.12s', 'userTrails': 1}, {'courseTitle': 'Sports', 'errorAttempts': '', 'location': 'Playground', 'question': \"Let's put a ball through the hoop…We are going to play Basketball. Come say it with me?\", 'source': 'Mic', 'timeInverval': '5.84s', 'userTrails': 1}, {'courseTitle': 'Sports', 'errorAttempts': '', 'location': 'Playground', 'question': 'Next we are going to use a bat and ball. We are now going to play Cricket. So what are we playing again?', 'source': 'Mic', 'timeInverval': '25.44s', 'userTrails': 1}, {'courseTitle': 'Sports', 'errorAttempts': 'karate, ', 'location': 'Playground', 'question': \"Let's play Football today. So what are we playing again?\", 'source': 'Mic', 'timeInverval': '12.41s', 'userTrails': 2}, {'courseTitle': 'Sports', 'errorAttempts': '', 'location': 'Playground', 'question': 'Next we are going to use a bat and ball. We are now going to play Cricket. So what are we playing again?', 'source': 'Mic', 'timeInverval': '6.72s', 'userTrails': 1}, {'courseTitle': 'Restaurant', 'errorAttempts': '', 'location': 'Kitchen', 'question': 'Today, we are going to cook a Pizza. So, what are we going to cook today?', 'source': 'Mic', 'timeInverval': '5.56s', 'userTrails': 1}, {'courseTitle': 'Restaurant', 'errorAttempts': 'super, ', 'location': 'Kitchen', 'question': \"It's cold outside, and it's time to make some Soup. Tell me, what are we making?\", 'source': 'Mic', 'timeInverval': '11.94s', 'userTrails': 2}, {'courseTitle': 'Restaurant', 'errorAttempts': 'cookie, cookie and getting points, ', 'location': 'Kitchen', 'question': \"It's time to bake some Cookies… Are you excited? What are we baking today?\", 'source': 'Mic', 'timeInverval': '17.77s', 'userTrails': 6}, {'courseTitle': 'Restaurant', 'errorAttempts': '', 'location': 'Kitchen', 'question': 'Today, we are going to cook a Pizza. So, what are we going to cook today?', 'source': 'Mic', 'timeInverval': '4.03s', 'userTrails': 1}, {'courseTitle': 'Restaurant', 'errorAttempts': 'soap, soap, ', 'location': 'Kitchen', 'question': \"It's cold outside, and it's time to make some Soup. Tell me, what are we making?\", 'source': 'Mic', 'timeInverval': '15.61s', 'userTrails': 3}, {'courseTitle': 'Animals', 'errorAttempts': 'do, ', 'location': 'Zoo', 'question': 'This animal is called a Dog... Did you know that? So what is this animal again?', 'source': 'Mic', 'timeInverval': '27.80s', 'userTrails': 2}, {'courseTitle': 'Animals', 'errorAttempts': 'giraffe, ', 'location': 'Zoo', 'question': 'Look, here comes a tiger, Tell me again what animal is this?          ', 'source': 'Mic', 'timeInverval': '29.11s', 'userTrails': 2}, {'courseTitle': 'Animals', 'errorAttempts': '', 'location': 'Zoo', 'question': \"Oh look, it's a Meerkat, What do we call this animal?\", 'source': 'Mic', 'timeInverval': '4.23s', 'userTrails': 1}, {'courseTitle': 'Animals', 'errorAttempts': '', 'location': 'Zoo', 'question': \"Oh look, it's a Meerkat, What do we call this animal?\", 'source': 'Mic', 'timeInverval': '3.33s', 'userTrails': 1}, {'courseTitle': 'Animals', 'errorAttempts': '', 'location': 'Zoo', 'question': 'Look, here comes a tiger, Tell me again what animal is this?          ', 'source': 'Mic', 'timeInverval': '2.70s', 'userTrails': 1}, {'courseTitle': 'Veggies', 'errorAttempts': '', 'location': 'Kitchen', 'question': 'A is for apple. What is the fruit called?', 'source': 'Mic', 'timeInverval': '23.59s', 'userTrails': 1}, {'courseTitle': 'Veggies', 'errorAttempts': '', 'location': 'Kitchen', 'question': 'B is for banana. What is the fruit called?', 'source': 'Mic', 'timeInverval': '6.82s', 'userTrails': 1}, {'courseTitle': 'Veggies', 'errorAttempts': '', 'location': 'Kitchen', 'question': 'C is for carrot. What is the vegetable called?', 'source': 'Mic', 'timeInverval': '4.64s', 'userTrails': 1}, {'courseTitle': 'Veggies', 'errorAttempts': 'bob, ', 'location': 'Kitchen', 'question': 'C is for carrot. What is the vegetable called?', 'source': 'Mic', 'timeInverval': '38.52s', 'userTrails': 2}, {'courseTitle': 'Veggies', 'errorAttempts': '', 'location': 'Kitchen', 'question': 'B is for banana. What is the fruit called?', 'source': 'Mic', 'timeInverval': '2.66s', 'userTrails': 1}]\n",
      "[{'courseTitle': 'Restaurant', 'errorAttempts': '', 'location': 'Kitchen', 'question': 'The dish we are cooking today is Pasta... One more time, what are we cooking?', 'source': 'Keyboard', 'timeInverval': '6.56s', 'userTrails': 1}, {'courseTitle': 'Alphabet', 'errorAttempts': '', 'location': 'School', 'question': 'Next letter is I\\n I is for Ice cream, say with a smile, Ice cream , Very good, say it again', 'source': 'Keyboard', 'timeInverval': '7.67s', 'userTrails': 1}]\n",
      "[{'courseTitle': 'Alphabet', 'errorAttempts': '', 'location': 'School', 'question': 'The first letter is A!\\n A is for Apple, repeat after me, Apple, now you go', 'source': 'Mic', 'timeInverval': '6.73s', 'userTrails': 1}, {'courseTitle': 'Alphabet', 'errorAttempts': '', 'location': 'School', 'question': 'Next letter is B\\n B is for Ball, a ball is round, Come say it again, Ball', 'source': 'Mic', 'timeInverval': '8.16s', 'userTrails': 1}, {'courseTitle': 'Alphabet', 'errorAttempts': '', 'location': 'School', 'question': \"Then comes C\\n C is for Cat, a cat is an animal, it's your turn now  \", 'source': 'Mic', 'timeInverval': '35.39s', 'userTrails': 1}, {'courseTitle': 'Alphabet', 'errorAttempts': '', 'location': 'School', 'question': 'Next letter is B\\n B is for Ball, a ball is round, Come say it again, Ball', 'source': 'Mic', 'timeInverval': '3.53s', 'userTrails': 1}, {'courseTitle': 'Alphabet', 'errorAttempts': '', 'location': 'School', 'question': 'The first letter is A!\\n A is for Apple, repeat after me, Apple, now you go', 'source': 'Mic', 'timeInverval': '3.20s', 'userTrails': 1}]\n",
      "[{'courseTitle': 'Alphabet', 'errorAttempts': '', 'location': 'School', 'question': 'The first letter is A!\\n A is for Apple, repeat after me, Apple, now you go', 'source': 'Keyboard', 'timeInverval': '15.76s', 'userTrails': 1}, {'courseTitle': 'Alphabet', 'errorAttempts': '', 'location': 'School', 'question': 'Next letter is B\\n B is for Ball, a ball is round, Come say it again, Ball', 'source': 'Keyboard', 'timeInverval': '12.59s', 'userTrails': 1}, {'courseTitle': 'Alphabet', 'errorAttempts': '', 'location': 'School', 'question': \"Then comes C\\n C is for Cat, a cat is an animal, it's your turn now  \", 'source': 'Keyboard', 'timeInverval': '15.96s', 'userTrails': 1}, {'courseTitle': 'Alphabet', 'errorAttempts': '', 'location': 'School', 'question': 'Next letter is B\\n B is for Ball, a ball is round, Come say it again, Ball', 'source': 'Keyboard', 'timeInverval': '14.00s', 'userTrails': 1}, {'courseTitle': 'Alphabet', 'errorAttempts': '', 'location': 'School', 'question': 'The first letter is A!\\n A is for Apple, repeat after me, Apple, now you go', 'source': 'Keyboard', 'timeInverval': '4.72s', 'userTrails': 1}, {'courseTitle': 'Sports', 'errorAttempts': '', 'location': 'Playground', 'question': \"Let's play Football today. So what are we playing again?\", 'source': 'Keyboard', 'timeInverval': '15.03s', 'userTrails': 1}, {'courseTitle': 'Sports', 'errorAttempts': '', 'location': 'Playground', 'question': \"Let's put a ball through the hoop…We are going to play Basketball. Come say it with me?\", 'source': 'Keyboard', 'timeInverval': '16.29s', 'userTrails': 1}, {'courseTitle': 'Sports', 'errorAttempts': '', 'location': 'Playground', 'question': 'Next we are going to use a bat and ball. We are now going to play Cricket. So what are we playing again?', 'source': 'Keyboard', 'timeInverval': '16.34s', 'userTrails': 1}, {'courseTitle': 'Sports', 'errorAttempts': '', 'location': 'Playground', 'question': \"Let's play Football today. So what are we playing again?\", 'source': 'Keyboard', 'timeInverval': '13.28s', 'userTrails': 1}, {'courseTitle': 'Sports', 'errorAttempts': '', 'location': 'Playground', 'question': 'Next we are going to use a bat and ball. We are now going to play Cricket. So what are we playing again?', 'source': 'Keyboard', 'timeInverval': '10.97s', 'userTrails': 1}, {'courseTitle': 'Restaurant', 'errorAttempts': '', 'location': 'Kitchen', 'question': 'Today, we are going to cook a Pizza. So, what are we going to cook today?', 'source': 'Keyboard', 'timeInverval': '12.37s', 'userTrails': 1}, {'courseTitle': 'Restaurant', 'errorAttempts': '', 'location': 'Kitchen', 'question': \"It's cold outside, and it's time to make some Soup. Tell me, what are we making?\", 'source': 'Keyboard', 'timeInverval': '13.75s', 'userTrails': 1}, {'courseTitle': 'Restaurant', 'errorAttempts': '', 'location': 'Kitchen', 'question': \"It's time to bake some Cookies… Are you excited? What are we baking today?\", 'source': 'Keyboard', 'timeInverval': '18.75s', 'userTrails': 1}, {'courseTitle': 'Restaurant', 'errorAttempts': '', 'location': 'Kitchen', 'question': \"It's cold outside, and it's time to make some Soup. Tell me, what are we making?\", 'source': 'Keyboard', 'timeInverval': '8.83s', 'userTrails': 1}, {'courseTitle': 'Restaurant', 'errorAttempts': 'cookie , ', 'location': 'Kitchen', 'question': \"It's time to bake some Cookies… Are you excited? What are we baking today?\", 'source': 'Keyboard', 'timeInverval': '21.25s', 'userTrails': 3}, {'courseTitle': 'Animals', 'errorAttempts': '', 'location': 'Zoo', 'question': 'This animal is called a Dog... Did you know that? So what is this animal again?', 'source': 'Keyboard', 'timeInverval': '11.60s', 'userTrails': 1}, {'courseTitle': 'Animals', 'errorAttempts': '', 'location': 'Zoo', 'question': 'Look, here comes a tiger, Tell me again what animal is this?          ', 'source': 'Keyboard', 'timeInverval': '9.33s', 'userTrails': 1}, {'courseTitle': 'Animals', 'errorAttempts': '', 'location': 'Zoo', 'question': \"Oh look, it's a Meerkat, What do we call this animal?\", 'source': 'Keyboard', 'timeInverval': '17.95s', 'userTrails': 1}, {'courseTitle': 'Animals', 'errorAttempts': '', 'location': 'Zoo', 'question': \"Oh look, it's a Meerkat, What do we call this animal?\", 'source': 'Keyboard', 'timeInverval': '11.44s', 'userTrails': 1}, {'courseTitle': 'Animals', 'errorAttempts': '', 'location': 'Zoo', 'question': 'This animal is called a Dog... Did you know that? So what is this animal again?', 'source': 'Keyboard', 'timeInverval': '7.88s', 'userTrails': 1}, {'courseTitle': 'Veggies', 'errorAttempts': '', 'location': 'Kitchen', 'question': 'A is for apple. What is the fruit called?', 'source': 'Keyboard', 'timeInverval': '10.47s', 'userTrails': 1}, {'courseTitle': 'Veggies', 'errorAttempts': '', 'location': 'Kitchen', 'question': 'B is for banana. What is the fruit called?', 'source': 'Keyboard', 'timeInverval': '13.95s', 'userTrails': 1}, {'courseTitle': 'Veggies', 'errorAttempts': '', 'location': 'Kitchen', 'question': 'C is for carrot. What is the vegetable called?', 'source': 'Keyboard', 'timeInverval': '12.52s', 'userTrails': 1}, {'courseTitle': 'Veggies', 'errorAttempts': '', 'location': 'Kitchen', 'question': 'B is for banana. What is the fruit called?', 'source': 'Keyboard', 'timeInverval': '39.35s', 'userTrails': 1}, {'courseTitle': 'Restaurant', 'errorAttempts': '', 'location': 'Kitchen', 'question': 'The dish we are cooking today is Pasta... One more time, what are we cooking?', 'source': 'Mic', 'timeInverval': '24.84s', 'userTrails': 1}, {'courseTitle': 'Restaurant', 'errorAttempts': '', 'location': 'Kitchen', 'question': \"Let's learn how to make Curry… One more time, what are we cooking?\", 'source': 'Mic', 'timeInverval': '4.58s', 'userTrails': 1}, {'courseTitle': 'Restaurant', 'errorAttempts': '', 'location': 'Kitchen', 'question': 'Are you excited to learn about Chinese noodles. Come, tell me what are we going to cook today?', 'source': 'Mic', 'timeInverval': '6.21s', 'userTrails': 1}]\n",
      "[{'courseTitle': 'Alphabet', 'errorAttempts': '', 'location': 'School', 'question': 'The first letter is A!\\n A is for Apple, repeat after me, Apple, now you go', 'source': 'Mic', 'timeInverval': '12.87s', 'userTrails': 1}, {'courseTitle': 'Alphabet', 'errorAttempts': '', 'location': 'School', 'question': 'Next letter is B\\n B is for Ball, a ball is round, Come say it again, Ball', 'source': 'Mic', 'timeInverval': '2.66s', 'userTrails': 1}, {'courseTitle': 'Alphabet', 'errorAttempts': '', 'location': 'School', 'question': \"Then comes C\\n C is for Cat, a cat is an animal, it's your turn now  \", 'source': 'Mic', 'timeInverval': '3.83s', 'userTrails': 1}, {'courseTitle': 'Alphabet', 'errorAttempts': '', 'location': 'School', 'question': 'The first letter is A!\\n A is for Apple, repeat after me, Apple, now you go', 'source': 'Keyboard', 'timeInverval': '22.96s', 'userTrails': 1}, {'courseTitle': 'Alphabet', 'errorAttempts': '', 'location': 'School', 'question': \"Then comes C\\n C is for Cat, a cat is an animal, it's your turn now  \", 'source': 'Keyboard', 'timeInverval': '11.15s', 'userTrails': 1}, {'courseTitle': 'Sports', 'errorAttempts': '', 'location': 'Playground', 'question': \"Let's play Football today. So what are we playing again?\", 'source': 'Keyboard', 'timeInverval': '15.41s', 'userTrails': 1}, {'courseTitle': 'Sports', 'errorAttempts': '', 'location': 'Playground', 'question': \"Let's put a ball through the hoop…We are going to play Basketball. Come say it with me?\", 'source': 'Mic', 'timeInverval': '10.19s', 'userTrails': 1}, {'courseTitle': 'Sports', 'errorAttempts': '', 'location': 'Playground', 'question': 'Next we are going to use a bat and ball. We are now going to play Cricket. So what are we playing again?', 'source': 'Keyboard', 'timeInverval': '13.22s', 'userTrails': 1}, {'courseTitle': 'Sports', 'errorAttempts': '', 'location': 'Playground', 'question': \"Let's play Football today. So what are we playing again?\", 'source': 'Keyboard', 'timeInverval': '12.28s', 'userTrails': 1}, {'courseTitle': 'Sports', 'errorAttempts': '', 'location': 'Playground', 'question': \"Let's put a ball through the hoop…We are going to play Basketball. Come say it with me?\", 'source': 'Keyboard', 'timeInverval': '1.56s', 'userTrails': 1}, {'courseTitle': 'Alphabet', 'errorAttempts': '', 'location': 'School', 'question': \"Let's call the next letter, D\\n D is for Doctor, repeat after me, Doctor, Say it again\", 'source': 'Keyboard', 'timeInverval': '2.73s', 'userTrails': 1}, {'courseTitle': 'Alphabet', 'errorAttempts': '', 'location': 'School', 'question': \"Let's call the next letter, D\\n D is for Doctor, repeat after me, Doctor, Say it again\", 'source': 'Keyboard', 'timeInverval': '2.68s', 'userTrails': 1}]\n",
      "[{'courseTitle': 'Alphabet', 'errorAttempts': '', 'location': 'School', 'question': 'The first letter is A!\\n A is for Apple, repeat after me, Apple, now you go', 'source': 'Mic', 'timeInverval': '13.68s', 'userTrails': 1}, {'courseTitle': 'Alphabet', 'errorAttempts': '', 'location': 'School', 'question': 'Next letter is B\\n B is for Ball, a ball is round, Come say it again, Ball', 'source': 'Mic', 'timeInverval': '6.17s', 'userTrails': 1}, {'courseTitle': 'Alphabet', 'errorAttempts': '', 'location': 'School', 'question': \"Then comes C\\n C is for Cat, a cat is an animal, it's your turn now  \", 'source': 'Mic', 'timeInverval': '23.43s', 'userTrails': 1}, {'courseTitle': 'Alphabet', 'errorAttempts': 'dancing, ', 'location': 'School', 'question': \"Then comes C\\n C is for Cat, a cat is an animal, it's your turn now  \", 'source': 'Mic', 'timeInverval': '21.75s', 'userTrails': 2}, {'courseTitle': 'Alphabet', 'errorAttempts': '', 'location': 'School', 'question': 'The first letter is A!\\n A is for Apple, repeat after me, Apple, now you go', 'source': 'Mic', 'timeInverval': '7.00s', 'userTrails': 1}, {'courseTitle': 'Alphabet', 'errorAttempts': '', 'location': 'School', 'question': \"Let's call the next letter, D\\n D is for Doctor, repeat after me, Doctor, Say it again\", 'source': 'Keyboard', 'timeInverval': '20.43s', 'userTrails': 1}, {'courseTitle': 'Animals', 'errorAttempts': '', 'location': 'Zoo', 'question': 'This animal is called a Dog... Did you know that? So what is this animal again?', 'source': 'Mic', 'timeInverval': '7.07s', 'userTrails': 1}, {'courseTitle': 'Animals', 'errorAttempts': '', 'location': 'Zoo', 'question': 'Look, here comes a tiger, Tell me again what animal is this?          ', 'source': 'Mic', 'timeInverval': '4.36s', 'userTrails': 1}, {'courseTitle': 'Animals', 'errorAttempts': '', 'location': 'Zoo', 'question': \"Oh look, it's a Meerkat, What do we call this animal?\", 'source': 'Mic', 'timeInverval': '9.16s', 'userTrails': 1}, {'courseTitle': 'Animals', 'errorAttempts': '', 'location': 'Zoo', 'question': 'This animal is called a Dog... Did you know that? So what is this animal again?', 'source': 'Mic', 'timeInverval': '3.61s', 'userTrails': 1}, {'courseTitle': 'Animals', 'errorAttempts': '', 'location': 'Zoo', 'question': \"Oh look, it's a Meerkat, What do we call this animal?\", 'source': 'Mic', 'timeInverval': '3.45s', 'userTrails': 1}, {'courseTitle': 'Animals', 'errorAttempts': '', 'location': 'Zoo', 'question': 'Look at this animal jumping, it is a Monkey, Tell me what animal is this?\\r\\n', 'source': 'Keyboard', 'timeInverval': '20.68s', 'userTrails': 1}, {'courseTitle': 'Animals', 'errorAttempts': '', 'location': 'Zoo', 'question': 'Look at this animal jumping, it is a Monkey, Tell me what animal is this?\\r\\n', 'source': 'Mic', 'timeInverval': '2.69s', 'userTrails': 1}, {'courseTitle': 'Animals', 'errorAttempts': 'it keeps on telling you the answer all over, try again, ', 'location': 'Zoo', 'question': 'This is a Polar Bear, Tell me what animal is this?\\r\\n', 'source': 'Mic', 'timeInverval': '8.50s', 'userTrails': 12}, {'courseTitle': 'Animals', 'errorAttempts': '', 'location': 'Zoo', 'question': 'This animal is called  Crocodile... Did you know that? So what is this animal again?', 'source': 'Mic', 'timeInverval': '5.70s', 'userTrails': 1}, {'courseTitle': 'Animals', 'errorAttempts': '', 'location': 'Zoo', 'question': 'Look, here comes a tiger, Tell me again what animal is this?          ', 'source': 'Mic', 'timeInverval': '3.04s', 'userTrails': 1}, {'courseTitle': 'Animals', 'errorAttempts': \"i don't know what it is, \", 'location': 'Zoo', 'question': 'Look at this animal jumping, it is a Monkey, Tell me what animal is this?\\r\\n', 'source': 'Mic', 'timeInverval': '7.44s', 'userTrails': 7}, {'courseTitle': 'Animals', 'errorAttempts': '', 'location': 'Zoo', 'question': \"Look, here comes an Owl, Let's recall what animal did we see?\", 'source': 'Keyboard', 'timeInverval': '10.20s', 'userTrails': 1}, {'courseTitle': 'Alphabet', 'errorAttempts': '', 'location': 'School', 'question': \"Let's call the next letter, D\\n D is for Doctor, repeat after me, Doctor, Say it again\", 'source': 'Keyboard', 'timeInverval': '4.13s', 'userTrails': 1}, {'courseTitle': 'Alphabet', 'errorAttempts': 'dog, ', 'location': 'School', 'question': \"Let's call the next letter, D\\n D is for Doctor, repeat after me, Doctor, Say it again\", 'source': 'Mic', 'timeInverval': '9.03s', 'userTrails': 2}, {'courseTitle': 'Alphabet', 'errorAttempts': '', 'location': 'School', 'question': \"Now, comes E\\n E is for Elephant, let's say it together, Elephant, Let's say it again\", 'source': 'Mic', 'timeInverval': '4.70s', 'userTrails': 1}, {'courseTitle': 'Alphabet', 'errorAttempts': \"i don't know, \", 'location': 'School', 'question': 'The next letter is F\\n F is for Flower, Yes, you are right, Flower, say it again, Come on.', 'source': 'Mic', 'timeInverval': '6.72s', 'userTrails': 4}, {'courseTitle': 'Alphabet', 'errorAttempts': '', 'location': 'School', 'question': \"Now, comes E\\n E is for Elephant, let's say it together, Elephant, Let's say it again\", 'source': 'Mic', 'timeInverval': '21.02s', 'userTrails': 1}, {'courseTitle': 'Alphabet', 'errorAttempts': '', 'location': 'School', 'question': 'The first letter is A!\\n A is for Apple, repeat after me, Apple, now you go', 'source': 'Mic', 'timeInverval': '1.00s', 'userTrails': 1}]\n",
      "[{'courseTitle': 'Alphabet', 'errorAttempts': '', 'location': 'School', 'question': 'The first letter is A!\\n A is for Apple, repeat after me, Apple, now you go', 'source': 'Mic', 'timeInverval': '8.39s', 'userTrails': 1}, {'courseTitle': 'Alphabet', 'errorAttempts': '', 'location': 'School', 'question': 'Next letter is B\\n B is for Ball, a ball is round, Come say it again, Ball', 'source': 'Mic', 'timeInverval': '16.57s', 'userTrails': 1}, {'courseTitle': 'Alphabet', 'errorAttempts': '', 'location': 'School', 'question': \"Then comes C\\n C is for Cat, a cat is an animal, it's your turn now  \", 'source': 'Mic', 'timeInverval': '2.93s', 'userTrails': 1}, {'courseTitle': 'Alphabet', 'errorAttempts': '', 'location': 'School', 'question': 'The first letter is A!\\n A is for Apple, repeat after me, Apple, now you go', 'source': 'Keyboard', 'timeInverval': '7.68s', 'userTrails': 1}, {'courseTitle': 'Alphabet', 'errorAttempts': '', 'location': 'School', 'question': 'Next letter is B\\n B is for Ball, a ball is round, Come say it again, Ball', 'source': 'Mic', 'timeInverval': '2.25s', 'userTrails': 1}, {'courseTitle': 'Sports', 'errorAttempts': '', 'location': 'Playground', 'question': \"Let's play Football today. So what are we playing again?\", 'source': 'Keyboard', 'timeInverval': '9.71s', 'userTrails': 1}, {'courseTitle': 'Sports', 'errorAttempts': '', 'location': 'Playground', 'question': \"Let's put a ball through the hoop…We are going to play Basketball. Come say it with me?\", 'source': 'Keyboard', 'timeInverval': '9.31s', 'userTrails': 1}, {'courseTitle': 'Sports', 'errorAttempts': '', 'location': 'Playground', 'question': 'Next we are going to use a bat and ball. We are now going to play Cricket. So what are we playing again?', 'source': 'Keyboard', 'timeInverval': '13.44s', 'userTrails': 1}, {'courseTitle': 'Sports', 'errorAttempts': '', 'location': 'Playground', 'question': 'Next we are going to use a bat and ball. We are now going to play Cricket. So what are we playing again?', 'source': 'Keyboard', 'timeInverval': '10.17s', 'userTrails': 1}, {'courseTitle': 'Sports', 'errorAttempts': '', 'location': 'Playground', 'question': \"Let's put a ball through the hoop…We are going to play Basketball. Come say it with me?\", 'source': 'Keyboard', 'timeInverval': '2.20s', 'userTrails': 1}, {'courseTitle': 'Sports', 'errorAttempts': '', 'location': 'Playground', 'question': \"Let's play Tennis today. Are you excited? So what are we playing again?\", 'source': 'Keyboard', 'timeInverval': '9.19s', 'userTrails': 1}, {'courseTitle': 'Restaurant', 'errorAttempts': '', 'location': 'Kitchen', 'question': 'Today, we are going to cook a Pizza. So, what are we going to cook today?', 'source': 'Keyboard', 'timeInverval': '11.48s', 'userTrails': 1}, {'courseTitle': 'Restaurant', 'errorAttempts': '', 'location': 'Kitchen', 'question': \"It's cold outside, and it's time to make some Soup. Tell me, what are we making?\", 'source': 'Mic', 'timeInverval': '2.36s', 'userTrails': 1}, {'courseTitle': 'Restaurant', 'errorAttempts': '', 'location': 'Kitchen', 'question': \"It's time to bake some Cookies… Are you excited? What are we baking today?\", 'source': 'Mic', 'timeInverval': '3.46s', 'userTrails': 1}, {'courseTitle': 'Restaurant', 'errorAttempts': '', 'location': 'Kitchen', 'question': \"It's time to bake some Cookies… Are you excited? What are we baking today?\", 'source': 'Keyboard', 'timeInverval': '5.51s', 'userTrails': 1}, {'courseTitle': 'Restaurant', 'errorAttempts': '', 'location': 'Kitchen', 'question': \"It's cold outside, and it's time to make some Soup. Tell me, what are we making?\", 'source': 'Keyboard', 'timeInverval': '3.71s', 'userTrails': 1}, {'courseTitle': 'Restaurant', 'errorAttempts': '', 'location': 'Kitchen', 'question': 'The dish we are cooking today is Pasta... One more time, what are we cooking?', 'source': 'Keyboard', 'timeInverval': '28.61s', 'userTrails': 1}, {'courseTitle': 'Alphabet', 'errorAttempts': '', 'location': 'School', 'question': \"Let's call the next letter, D\\n D is for Doctor, repeat after me, Doctor, Say it again\", 'source': 'Keyboard', 'timeInverval': '6.87s', 'userTrails': 1}, {'courseTitle': 'Alphabet', 'errorAttempts': '', 'location': 'School', 'question': \"Now, comes E\\n E is for Elephant, let's say it together, Elephant, Let's say it again\", 'source': 'Keyboard', 'timeInverval': '4.97s', 'userTrails': 1}, {'courseTitle': 'Alphabet', 'errorAttempts': '', 'location': 'School', 'question': 'The next letter is F\\n F is for Flower, Yes, you are right, Flower, say it again, Come on.', 'source': 'Keyboard', 'timeInverval': '4.74s', 'userTrails': 1}, {'courseTitle': 'Alphabet', 'errorAttempts': '', 'location': 'School', 'question': \"Then comes C\\n C is for Cat, a cat is an animal, it's your turn now  \", 'source': 'Keyboard', 'timeInverval': '3.68s', 'userTrails': 1}, {'courseTitle': 'Alphabet', 'errorAttempts': '', 'location': 'School', 'question': 'The next letter is F\\n F is for Flower, Yes, you are right, Flower, say it again, Come on.', 'source': 'Keyboard', 'timeInverval': '3.98s', 'userTrails': 1}, {'courseTitle': 'Alphabet', 'errorAttempts': '', 'location': 'School', 'question': 'The first letter is A!\\n A is for Apple, repeat after me, Apple, now you go', 'source': 'Keyboard', 'timeInverval': '3.64s', 'userTrails': 1}, {'courseTitle': 'Sports', 'errorAttempts': '', 'location': 'Playground', 'question': \"Let's play Tennis today. Are you excited? So what are we playing again?\", 'source': 'Keyboard', 'timeInverval': '4.10s', 'userTrails': 1}, {'courseTitle': 'Sports', 'errorAttempts': '', 'location': 'Playground', 'question': \"Come let's go Swimming together. So what are we doing again?\", 'source': 'Keyboard', 'timeInverval': '6.31s', 'userTrails': 1}, {'courseTitle': 'Sports', 'errorAttempts': '', 'location': 'Playground', 'question': 'We are going to go for Running, Now. So get ready and say it again?', 'source': 'Keyboard', 'timeInverval': '5.06s', 'userTrails': 1}, {'courseTitle': 'Sports', 'errorAttempts': '', 'location': 'Playground', 'question': \"Come let's go Swimming together. So what are we doing again?\", 'source': 'Keyboard', 'timeInverval': '7.19s', 'userTrails': 1}]\n",
      "[{'courseTitle': 'Alphabet', 'errorAttempts': 'what is, ', 'location': 'School', 'question': 'The first letter is A!\\n A is for Apple, repeat after me, Apple, now you go', 'source': 'Mic', 'timeInverval': '18.28s', 'userTrails': 3}, {'courseTitle': 'Alphabet', 'errorAttempts': '', 'location': 'School', 'question': 'Next letter is B\\n B is for Ball, a ball is round, Come say it again, Ball', 'source': 'Mic', 'timeInverval': '7.29s', 'userTrails': 1}, {'courseTitle': 'Alphabet', 'errorAttempts': '', 'location': 'School', 'question': \"Then comes C\\n C is for Cat, a cat is an animal, it's your turn now  \", 'source': 'Mic', 'timeInverval': '5.57s', 'userTrails': 1}, {'courseTitle': 'Alphabet', 'errorAttempts': 'all, ', 'location': 'School', 'question': 'Next letter is B\\n B is for Ball, a ball is round, Come say it again, Ball', 'source': 'Mic', 'timeInverval': '8.71s', 'userTrails': 2}, {'courseTitle': 'Alphabet', 'errorAttempts': '', 'location': 'School', 'question': 'The first letter is A!\\n A is for Apple, repeat after me, Apple, now you go', 'source': 'Mic', 'timeInverval': '5.23s', 'userTrails': 1}, {'courseTitle': 'Sports', 'errorAttempts': '', 'location': 'Playground', 'question': \"Let's play Football today. So what are we playing again?\", 'source': 'Mic', 'timeInverval': '4.60s', 'userTrails': 1}, {'courseTitle': 'Sports', 'errorAttempts': '', 'location': 'Playground', 'question': \"Let's put a ball through the hoop…We are going to play Basketball. Come say it with me?\", 'source': 'Mic', 'timeInverval': '7.46s', 'userTrails': 1}, {'courseTitle': 'Sports', 'errorAttempts': '', 'location': 'Playground', 'question': 'Next we are going to use a bat and ball. We are now going to play Cricket. So what are we playing again?', 'source': 'Mic', 'timeInverval': '6.64s', 'userTrails': 1}, {'courseTitle': 'Sports', 'errorAttempts': '', 'location': 'Playground', 'question': \"Let's play Football today. So what are we playing again?\", 'source': 'Mic', 'timeInverval': '2.83s', 'userTrails': 1}, {'courseTitle': 'Sports', 'errorAttempts': '', 'location': 'Playground', 'question': \"Let's put a ball through the hoop…We are going to play Basketball. Come say it with me?\", 'source': 'Mic', 'timeInverval': '4.45s', 'userTrails': 1}, {'courseTitle': 'Restaurant', 'errorAttempts': '', 'location': 'Kitchen', 'question': 'Today, we are going to cook a Pizza. So, what are we going to cook today?', 'source': 'Mic', 'timeInverval': '5.72s', 'userTrails': 1}, {'courseTitle': 'Restaurant', 'errorAttempts': 'sikh, steak, ', 'location': 'Kitchen', 'question': \"It's cold outside, and it's time to make some Soup. Tell me, what are we making?\", 'source': 'Mic', 'timeInverval': '14.69s', 'userTrails': 3}, {'courseTitle': 'Restaurant', 'errorAttempts': '', 'location': 'Kitchen', 'question': \"It's time to bake some Cookies… Are you excited? What are we baking today?\", 'source': 'Mic', 'timeInverval': '4.15s', 'userTrails': 1}, {'courseTitle': 'Restaurant', 'errorAttempts': '', 'location': 'Kitchen', 'question': \"It's cold outside, and it's time to make some Soup. Tell me, what are we making?\", 'source': 'Mic', 'timeInverval': '2.36s', 'userTrails': 1}, {'courseTitle': 'Restaurant', 'errorAttempts': 'cookie, ', 'location': 'Kitchen', 'question': \"It's time to bake some Cookies… Are you excited? What are we baking today?\", 'source': 'Mic', 'timeInverval': '9.30s', 'userTrails': 2}, {'courseTitle': 'Animals', 'errorAttempts': '', 'location': 'Zoo', 'question': 'This animal is called a Dog... Did you know that? So what is this animal again?', 'source': 'Mic', 'timeInverval': '4.06s', 'userTrails': 1}, {'courseTitle': 'Animals', 'errorAttempts': '', 'location': 'Zoo', 'question': 'Look, here comes a tiger, Tell me again what animal is this?          ', 'source': 'Mic', 'timeInverval': '4.26s', 'userTrails': 1}, {'courseTitle': 'Animals', 'errorAttempts': '', 'location': 'Zoo', 'question': \"Oh look, it's a Meerkat, What do we call this animal?\", 'source': 'Mic', 'timeInverval': '4.85s', 'userTrails': 1}, {'courseTitle': 'Animals', 'errorAttempts': '', 'location': 'Zoo', 'question': \"Oh look, it's a Meerkat, What do we call this animal?\", 'source': 'Mic', 'timeInverval': '3.16s', 'userTrails': 1}, {'courseTitle': 'Animals', 'errorAttempts': '', 'location': 'Zoo', 'question': 'This animal is called a Dog... Did you know that? So what is this animal again?', 'source': 'Mic', 'timeInverval': '2.08s', 'userTrails': 1}, {'courseTitle': 'Veggies', 'errorAttempts': '', 'location': 'Kitchen', 'question': 'A is for apple. What is the fruit called?', 'source': 'Mic', 'timeInverval': '9.91s', 'userTrails': 1}, {'courseTitle': 'Veggies', 'errorAttempts': '', 'location': 'Kitchen', 'question': 'B is for banana. What is the fruit called?', 'source': 'Mic', 'timeInverval': '1.77s', 'userTrails': 1}, {'courseTitle': 'Animals', 'errorAttempts': '', 'location': 'Zoo', 'question': 'Look at this animal jumping, it is a Monkey, Tell me what animal is this?\\r\\n', 'source': 'Mic', 'timeInverval': '5.28s', 'userTrails': 1}, {'courseTitle': 'Animals', 'errorAttempts': '', 'location': 'Zoo', 'question': 'This is a Polar Bear, Tell me what animal is this?\\r\\n', 'source': 'Mic', 'timeInverval': '4.06s', 'userTrails': 1}, {'courseTitle': 'Animals', 'errorAttempts': '', 'location': 'Zoo', 'question': 'This animal is called  Crocodile... Did you know that? So what is this animal again?', 'source': 'Mic', 'timeInverval': '4.03s', 'userTrails': 1}, {'courseTitle': 'Animals', 'errorAttempts': '', 'location': 'Zoo', 'question': 'Look, here comes a tiger, Tell me again what animal is this?          ', 'source': 'Mic', 'timeInverval': '0.97s', 'userTrails': 1}, {'courseTitle': 'Sports', 'errorAttempts': '', 'location': 'Playground', 'question': \"Let's play Tennis today. Are you excited? So what are we playing again?\", 'source': 'Mic', 'timeInverval': '5.67s', 'userTrails': 1}, {'courseTitle': 'Sports', 'errorAttempts': '', 'location': 'Playground', 'question': \"Come let's go Swimming together. So what are we doing again?\", 'source': 'Mic', 'timeInverval': '12.14s', 'userTrails': 1}, {'courseTitle': 'Sports', 'errorAttempts': '', 'location': 'Playground', 'question': 'We are going to go for Running, Now. So get ready and say it again?', 'source': 'Mic', 'timeInverval': '5.50s', 'userTrails': 1}, {'courseTitle': 'Restaurant', 'errorAttempts': '', 'location': 'Kitchen', 'question': 'The dish we are cooking today is Pasta... One more time, what are we cooking?', 'source': 'Mic', 'timeInverval': '4.23s', 'userTrails': 1}]\n",
      "[{'courseTitle': 'Alphabet', 'errorAttempts': 'what do i do, ', 'location': 'School', 'question': 'The first letter is A!\\n A is for Apple, repeat after me, Apple, now you go', 'source': 'Mic', 'timeInverval': '37.01s', 'userTrails': 5}, {'courseTitle': 'Alphabet', 'errorAttempts': '', 'location': 'School', 'question': 'Next letter is B\\n B is for Ball, a ball is round, Come say it again, Ball', 'source': 'Mic', 'timeInverval': '8.91s', 'userTrails': 1}, {'courseTitle': 'Alphabet', 'errorAttempts': '', 'location': 'School', 'question': \"Then comes C\\n C is for Cat, a cat is an animal, it's your turn now  \", 'source': 'Mic', 'timeInverval': '10.65s', 'userTrails': 1}, {'courseTitle': 'Alphabet', 'errorAttempts': '', 'location': 'School', 'question': \"Then comes C\\n C is for Cat, a cat is an animal, it's your turn now  \", 'source': 'Mic', 'timeInverval': '13.12s', 'userTrails': 1}, {'courseTitle': 'Alphabet', 'errorAttempts': '', 'location': 'School', 'question': 'Next letter is B\\n B is for Ball, a ball is round, Come say it again, Ball', 'source': 'Mic', 'timeInverval': '4.66s', 'userTrails': 1}, {'courseTitle': 'Sports', 'errorAttempts': '', 'location': 'Playground', 'question': \"Let's play Football today. So what are we playing again?\", 'source': 'Mic', 'timeInverval': '8.34s', 'userTrails': 1}, {'courseTitle': 'Sports', 'errorAttempts': '', 'location': 'Playground', 'question': \"Let's put a ball through the hoop…We are going to play Basketball. Come say it with me?\", 'source': 'Mic', 'timeInverval': '5.28s', 'userTrails': 1}, {'courseTitle': 'Sports', 'errorAttempts': '', 'location': 'Playground', 'question': 'Next we are going to use a bat and ball. We are now going to play Cricket. So what are we playing again?', 'source': 'Mic', 'timeInverval': '6.60s', 'userTrails': 1}, {'courseTitle': 'Sports', 'errorAttempts': '', 'location': 'Playground', 'question': 'Next we are going to use a bat and ball. We are now going to play Cricket. So what are we playing again?', 'source': 'Mic', 'timeInverval': '3.31s', 'userTrails': 1}, {'courseTitle': 'Sports', 'errorAttempts': '', 'location': 'Playground', 'question': \"Let's play Football today. So what are we playing again?\", 'source': 'Mic', 'timeInverval': '2.36s', 'userTrails': 1}, {'courseTitle': 'Restaurant', 'errorAttempts': '', 'location': 'Kitchen', 'question': 'Today, we are going to cook a Pizza. So, what are we going to cook today?', 'source': 'Mic', 'timeInverval': '5.33s', 'userTrails': 1}, {'courseTitle': 'Restaurant', 'errorAttempts': 'sleep, ', 'location': 'Kitchen', 'question': \"It's cold outside, and it's time to make some Soup. Tell me, what are we making?\", 'source': 'Mic', 'timeInverval': '9.41s', 'userTrails': 2}, {'courseTitle': 'Restaurant', 'errorAttempts': '', 'location': 'Kitchen', 'question': \"It's time to bake some Cookies… Are you excited? What are we baking today?\", 'source': 'Mic', 'timeInverval': '5.10s', 'userTrails': 1}, {'courseTitle': 'Restaurant', 'errorAttempts': '', 'location': 'Kitchen', 'question': 'Today, we are going to cook a Pizza. So, what are we going to cook today?', 'source': 'Mic', 'timeInverval': '2.19s', 'userTrails': 1}, {'courseTitle': 'Restaurant', 'errorAttempts': 'sleep, ', 'location': 'Kitchen', 'question': \"It's cold outside, and it's time to make some Soup. Tell me, what are we making?\", 'source': 'Mic', 'timeInverval': '6.74s', 'userTrails': 2}, {'courseTitle': 'Animals', 'errorAttempts': '', 'location': 'Zoo', 'question': 'This animal is called a Dog... Did you know that? So what is this animal again?', 'source': 'Mic', 'timeInverval': '10.16s', 'userTrails': 1}, {'courseTitle': 'Animals', 'errorAttempts': 'the singer, ', 'location': 'Zoo', 'question': 'Look, here comes a tiger, Tell me again what animal is this?          ', 'source': 'Mic', 'timeInverval': '7.66s', 'userTrails': 3}, {'courseTitle': 'Animals', 'errorAttempts': '', 'location': 'Zoo', 'question': \"Oh look, it's a Meerkat, What do we call this animal?\", 'source': 'Mic', 'timeInverval': '5.13s', 'userTrails': 1}, {'courseTitle': 'Animals', 'errorAttempts': '', 'location': 'Zoo', 'question': \"Oh look, it's a Meerkat, What do we call this animal?\", 'source': 'Mic', 'timeInverval': '2.71s', 'userTrails': 1}, {'courseTitle': 'Animals', 'errorAttempts': '', 'location': 'Zoo', 'question': 'This animal is called a Dog... Did you know that? So what is this animal again?', 'source': 'Mic', 'timeInverval': '5.73s', 'userTrails': 1}, {'courseTitle': 'Veggies', 'errorAttempts': '', 'location': 'Kitchen', 'question': 'A is for apple. What is the fruit called?', 'source': 'Mic', 'timeInverval': '18.10s', 'userTrails': 1}, {'courseTitle': 'Alphabet', 'errorAttempts': '', 'location': 'School', 'question': \"Let's call the next letter, D\\n D is for Doctor, repeat after me, Doctor, Say it again\", 'source': 'Mic', 'timeInverval': '5.07s', 'userTrails': 1}, {'courseTitle': 'Alphabet', 'errorAttempts': '', 'location': 'School', 'question': \"Now, comes E\\n E is for Elephant, let's say it together, Elephant, Let's say it again\", 'source': 'Mic', 'timeInverval': '7.21s', 'userTrails': 1}, {'courseTitle': 'Alphabet', 'errorAttempts': '', 'location': 'School', 'question': 'The next letter is F\\n F is for Flower, Yes, you are right, Flower, say it again, Come on.', 'source': 'Mic', 'timeInverval': '4.07s', 'userTrails': 1}, {'courseTitle': 'Alphabet', 'errorAttempts': '', 'location': 'School', 'question': 'Next letter is B\\n B is for Ball, a ball is round, Come say it again, Ball', 'source': 'Mic', 'timeInverval': '13.53s', 'userTrails': 1}, {'courseTitle': 'Alphabet', 'errorAttempts': '', 'location': 'School', 'question': 'Welcome letter G\\n G is for Great, repeat after me, Great, now you go...', 'source': 'Mic', 'timeInverval': '7.08s', 'userTrails': 1}, {'courseTitle': 'Alphabet', 'errorAttempts': 'grape, grape, grape, ', 'location': 'School', 'question': 'Welcome letter G\\n G is for Great, repeat after me, Great, now you go...', 'source': 'Keyboard', 'timeInverval': '33.09s', 'userTrails': 4}, {'courseTitle': 'Alphabet', 'errorAttempts': '', 'location': 'School', 'question': 'Welcome letter G\\n G is for Great, repeat after me, Great, now you go...', 'source': 'Keyboard', 'timeInverval': '6.18s', 'userTrails': 1}, {'courseTitle': 'Alphabet', 'errorAttempts': '', 'location': 'School', 'question': 'Then comes H\\n H is for House, Say it along, House, come on, your turn', 'source': 'Keyboard', 'timeInverval': '3.83s', 'userTrails': 1}]\n",
      "[{'courseTitle': 'Alphabet', 'errorAttempts': '', 'location': 'School', 'question': 'The first letter is A!\\n A is for Apple, repeat after me, Apple, now you go', 'source': 'Mic', 'timeInverval': '6.28s', 'userTrails': 1}, {'courseTitle': 'Alphabet', 'errorAttempts': '', 'location': 'School', 'question': 'Next letter is B\\n B is for Ball, a ball is round, Come say it again, Ball', 'source': 'Mic', 'timeInverval': '2.50s', 'userTrails': 1}, {'courseTitle': 'Alphabet', 'errorAttempts': '', 'location': 'School', 'question': \"Then comes C\\n C is for Cat, a cat is an animal, it's your turn now  \", 'source': 'Mic', 'timeInverval': '1.37s', 'userTrails': 1}, {'courseTitle': 'Alphabet', 'errorAttempts': '', 'location': 'School', 'question': \"Then comes C\\n C is for Cat, a cat is an animal, it's your turn now  \", 'source': 'Mic', 'timeInverval': '12.15s', 'userTrails': 1}, {'courseTitle': 'Alphabet', 'errorAttempts': '', 'location': 'School', 'question': 'Next letter is B\\n B is for Ball, a ball is round, Come say it again, Ball', 'source': 'Mic', 'timeInverval': '1.92s', 'userTrails': 1}, {'courseTitle': 'Sports', 'errorAttempts': '', 'location': 'Playground', 'question': \"Let's play Football today. So what are we playing again?\", 'source': 'Mic', 'timeInverval': '5.01s', 'userTrails': 1}, {'courseTitle': 'Sports', 'errorAttempts': '', 'location': 'Playground', 'question': \"Let's put a ball through the hoop…We are going to play Basketball. Come say it with me?\", 'source': 'Mic', 'timeInverval': '1.80s', 'userTrails': 1}, {'courseTitle': 'Sports', 'errorAttempts': '', 'location': 'Playground', 'question': 'Next we are going to use a bat and ball. We are now going to play Cricket. So what are we playing again?', 'source': 'Mic', 'timeInverval': '1.17s', 'userTrails': 1}, {'courseTitle': 'Sports', 'errorAttempts': '', 'location': 'Playground', 'question': \"Let's put a ball through the hoop…We are going to play Basketball. Come say it with me?\", 'source': 'Mic', 'timeInverval': '1.57s', 'userTrails': 1}, {'courseTitle': 'Sports', 'errorAttempts': '', 'location': 'Playground', 'question': \"Let's play Football today. So what are we playing again?\", 'source': 'Mic', 'timeInverval': '2.50s', 'userTrails': 1}, {'courseTitle': 'Restaurant', 'errorAttempts': '', 'location': 'Kitchen', 'question': 'Today, we are going to cook a Pizza. So, what are we going to cook today?', 'source': 'Mic', 'timeInverval': '2.30s', 'userTrails': 1}, {'courseTitle': 'Restaurant', 'errorAttempts': 'daniel, ', 'location': 'Kitchen', 'question': \"It's cold outside, and it's time to make some Soup. Tell me, what are we making?\", 'source': 'Mic', 'timeInverval': '6.04s', 'userTrails': 2}, {'courseTitle': 'Alphabet', 'errorAttempts': '', 'location': 'School', 'question': \"Let's call the next letter, D\\n D is for Doctor, repeat after me, Doctor, Say it again\", 'source': 'Mic', 'timeInverval': '6.92s', 'userTrails': 1}, {'courseTitle': 'Alphabet', 'errorAttempts': '', 'location': 'School', 'question': \"Now, comes E\\n E is for Elephant, let's say it together, Elephant, Let's say it again\", 'source': 'Mic', 'timeInverval': '1.58s', 'userTrails': 1}, {'courseTitle': 'Alphabet', 'errorAttempts': '', 'location': 'School', 'question': 'The next letter is F\\n F is for Flower, Yes, you are right, Flower, say it again, Come on.', 'source': 'Mic', 'timeInverval': '11.64s', 'userTrails': 1}, {'courseTitle': 'Alphabet', 'errorAttempts': '', 'location': 'School', 'question': 'Next letter is B\\n B is for Ball, a ball is round, Come say it again, Ball', 'source': 'Mic', 'timeInverval': '1.48s', 'userTrails': 1}, {'courseTitle': 'Alphabet', 'errorAttempts': '', 'location': 'School', 'question': 'The first letter is A!\\n A is for Apple, repeat after me, Apple, now you go', 'source': 'Mic', 'timeInverval': '1.80s', 'userTrails': 1}, {'courseTitle': 'Sports', 'errorAttempts': '', 'location': 'Playground', 'question': \"Let's play Tennis today. Are you excited? So what are we playing again?\", 'source': 'Mic', 'timeInverval': '3.96s', 'userTrails': 1}, {'courseTitle': 'Sports', 'errorAttempts': '', 'location': 'Playground', 'question': \"Come let's go Swimming together. So what are we doing again?\", 'source': 'Mic', 'timeInverval': '1.45s', 'userTrails': 1}, {'courseTitle': 'Sports', 'errorAttempts': '', 'location': 'Playground', 'question': 'We are going to go for Running, Now. So get ready and say it again?', 'source': 'Mic', 'timeInverval': '0.32s', 'userTrails': 1}, {'courseTitle': 'Sports', 'errorAttempts': '', 'location': 'Playground', 'question': 'Next we are going to use a bat and ball. We are now going to play Cricket. So what are we playing again?', 'source': 'Mic', 'timeInverval': '2.03s', 'userTrails': 1}]\n",
      "[{'courseTitle': 'Alphabet', 'errorAttempts': '', 'location': 'School', 'question': 'The first letter is A!\\n A is for Apple, repeat after me, Apple, now you go', 'source': 'Mic', 'timeInverval': '6.65s', 'userTrails': 1}, {'courseTitle': 'Alphabet', 'errorAttempts': '', 'location': 'School', 'question': 'Next letter is B\\n B is for Ball, a ball is round, Come say it again, Ball', 'source': 'Mic', 'timeInverval': '7.32s', 'userTrails': 1}, {'courseTitle': 'Alphabet', 'errorAttempts': '', 'location': 'School', 'question': \"Then comes C\\n C is for Cat, a cat is an animal, it's your turn now  \", 'source': 'Mic', 'timeInverval': '10.87s', 'userTrails': 1}, {'courseTitle': 'Alphabet', 'errorAttempts': '', 'location': 'School', 'question': \"Then comes C\\n C is for Cat, a cat is an animal, it's your turn now  \", 'source': 'Mic', 'timeInverval': '2.31s', 'userTrails': 1}, {'courseTitle': 'Alphabet', 'errorAttempts': '', 'location': 'School', 'question': \"Then comes C\\n C is for Cat, a cat is an animal, it's your turn now  \", 'source': 'Mic', 'timeInverval': '1.20s', 'userTrails': 1}, {'courseTitle': 'Alphabet', 'errorAttempts': '', 'location': 'School', 'question': \"Then comes C\\n C is for Cat, a cat is an animal, it's your turn now  \", 'source': 'Mic', 'timeInverval': '6.58s', 'userTrails': 1}, {'courseTitle': 'Restaurant', 'errorAttempts': '', 'location': 'Kitchen', 'question': 'Today, we are going to cook a Pizza. So, what are we going to cook today?', 'source': 'Mic', 'timeInverval': '7.03s', 'userTrails': 1}, {'courseTitle': 'Alphabet', 'errorAttempts': '', 'location': 'School', 'question': \"Then comes C\\n C is for Cat, a cat is an animal, it's your turn now  \", 'source': 'Mic', 'timeInverval': '2.21s', 'userTrails': 1}, {'courseTitle': 'Alphabet', 'errorAttempts': 'this is way too easy, ', 'location': 'School', 'question': \"Then comes C\\n C is for Cat, a cat is an animal, it's your turn now  \", 'source': 'Mic', 'timeInverval': '10.00s', 'userTrails': 6}, {'courseTitle': 'Alphabet', 'errorAttempts': '', 'location': 'School', 'question': \"Then comes C\\n C is for Cat, a cat is an animal, it's your turn now  \", 'source': 'Mic', 'timeInverval': '0.98s', 'userTrails': 1}]\n",
      "[{'courseTitle': 'Alphabet', 'errorAttempts': '', 'location': 'School', 'question': 'The first letter is A!\\n A is for Apple, repeat after me, Apple, now you go', 'source': 'Mic', 'timeInverval': '7.45s', 'userTrails': 1}, {'courseTitle': 'Alphabet', 'errorAttempts': '', 'location': 'School', 'question': 'Next letter is B\\n B is for Ball, a ball is round, Come say it again, Ball', 'source': 'Mic', 'timeInverval': '5.82s', 'userTrails': 1}, {'courseTitle': 'Alphabet', 'errorAttempts': '', 'location': 'School', 'question': \"Then comes C\\n C is for Cat, a cat is an animal, it's your turn now  \", 'source': 'Mic', 'timeInverval': '6.62s', 'userTrails': 1}, {'courseTitle': 'Alphabet', 'errorAttempts': '', 'location': 'School', 'question': 'Next letter is B\\n B is for Ball, a ball is round, Come say it again, Ball', 'source': 'Mic', 'timeInverval': '5.42s', 'userTrails': 1}, {'courseTitle': 'Alphabet', 'errorAttempts': '', 'location': 'School', 'question': 'The first letter is A!\\n A is for Apple, repeat after me, Apple, now you go', 'source': 'Mic', 'timeInverval': '2.46s', 'userTrails': 1}, {'courseTitle': 'Sports', 'errorAttempts': '', 'location': 'Playground', 'question': \"Let's play Football today. So what are we playing again?\", 'source': 'Mic', 'timeInverval': '4.76s', 'userTrails': 1}, {'courseTitle': 'Sports', 'errorAttempts': '', 'location': 'Playground', 'question': \"Let's put a ball through the hoop…We are going to play Basketball. Come say it with me?\", 'source': 'Mic', 'timeInverval': '6.57s', 'userTrails': 1}, {'courseTitle': 'Sports', 'errorAttempts': '', 'location': 'Playground', 'question': 'Next we are going to use a bat and ball. We are now going to play Cricket. So what are we playing again?', 'source': 'Mic', 'timeInverval': '6.15s', 'userTrails': 1}, {'courseTitle': 'Sports', 'errorAttempts': '', 'location': 'Playground', 'question': \"Let's play Football today. So what are we playing again?\", 'source': 'Mic', 'timeInverval': '2.93s', 'userTrails': 1}, {'courseTitle': 'Sports', 'errorAttempts': '', 'location': 'Playground', 'question': \"Let's put a ball through the hoop…We are going to play Basketball. Come say it with me?\", 'source': 'Mic', 'timeInverval': '5.89s', 'userTrails': 1}, {'courseTitle': 'Restaurant', 'errorAttempts': '', 'location': 'Kitchen', 'question': 'Today, we are going to cook a Pizza. So, what are we going to cook today?', 'source': 'Mic', 'timeInverval': '5.11s', 'userTrails': 1}, {'courseTitle': 'Restaurant', 'errorAttempts': '', 'location': 'Kitchen', 'question': \"It's cold outside, and it's time to make some Soup. Tell me, what are we making?\", 'source': 'Mic', 'timeInverval': '4.59s', 'userTrails': 1}, {'courseTitle': 'Restaurant', 'errorAttempts': '', 'location': 'Kitchen', 'question': \"It's time to bake some Cookies… Are you excited? What are we baking today?\", 'source': 'Mic', 'timeInverval': '5.52s', 'userTrails': 1}, {'courseTitle': 'Restaurant', 'errorAttempts': 'suit, super, ', 'location': 'Kitchen', 'question': \"It's cold outside, and it's time to make some Soup. Tell me, what are we making?\", 'source': 'Mic', 'timeInverval': '15.90s', 'userTrails': 3}, {'courseTitle': 'Restaurant', 'errorAttempts': '', 'location': 'Kitchen', 'question': \"It's time to bake some Cookies… Are you excited? What are we baking today?\", 'source': 'Mic', 'timeInverval': '4.11s', 'userTrails': 1}, {'courseTitle': 'Animals', 'errorAttempts': '', 'location': 'Zoo', 'question': 'This animal is called a Dog... Did you know that? So what is this animal again?', 'source': 'Mic', 'timeInverval': '3.48s', 'userTrails': 1}, {'courseTitle': 'Animals', 'errorAttempts': '', 'location': 'Zoo', 'question': 'Look, here comes a tiger, Tell me again what animal is this?          ', 'source': 'Mic', 'timeInverval': '4.97s', 'userTrails': 1}, {'courseTitle': 'Animals', 'errorAttempts': '', 'location': 'Zoo', 'question': \"Oh look, it's a Meerkat, What do we call this animal?\", 'source': 'Mic', 'timeInverval': '3.44s', 'userTrails': 1}, {'courseTitle': 'Animals', 'errorAttempts': '', 'location': 'Zoo', 'question': \"Oh look, it's a Meerkat, What do we call this animal?\", 'source': 'Mic', 'timeInverval': '3.26s', 'userTrails': 1}, {'courseTitle': 'Animals', 'errorAttempts': '', 'location': 'Zoo', 'question': 'Look, here comes a tiger, Tell me again what animal is this?          ', 'source': 'Mic', 'timeInverval': '2.21s', 'userTrails': 1}, {'courseTitle': 'Veggies', 'errorAttempts': '', 'location': 'Kitchen', 'question': 'A is for apple. What is the fruit called?', 'source': 'Mic', 'timeInverval': '15.41s', 'userTrails': 1}, {'courseTitle': 'Veggies', 'errorAttempts': '', 'location': 'Kitchen', 'question': 'B is for banana. What is the fruit called?', 'source': 'Mic', 'timeInverval': '7.52s', 'userTrails': 1}, {'courseTitle': 'Veggies', 'errorAttempts': '', 'location': 'Kitchen', 'question': 'C is for carrot. What is the vegetable called?', 'source': 'Mic', 'timeInverval': '3.96s', 'userTrails': 1}, {'courseTitle': 'Veggies', 'errorAttempts': '', 'location': 'Kitchen', 'question': 'A is for apple. What is the fruit called?', 'source': 'Mic', 'timeInverval': '11.37s', 'userTrails': 1}, {'courseTitle': 'Sports', 'errorAttempts': '', 'location': 'Playground', 'question': \"Let's play Tennis today. Are you excited? So what are we playing again?\", 'source': 'Mic', 'timeInverval': '6.65s', 'userTrails': 1}, {'courseTitle': 'Sports', 'errorAttempts': '', 'location': 'Playground', 'question': \"Come let's go Swimming together. So what are we doing again?\", 'source': 'Mic', 'timeInverval': '5.14s', 'userTrails': 1}, {'courseTitle': 'Sports', 'errorAttempts': '', 'location': 'Playground', 'question': 'We are going to go for Running, Now. So get ready and say it again?', 'source': 'Mic', 'timeInverval': '3.08s', 'userTrails': 1}, {'courseTitle': 'Sports', 'errorAttempts': '', 'location': 'Playground', 'question': 'We are going to go for Running, Now. So get ready and say it again?', 'source': 'Mic', 'timeInverval': '2.85s', 'userTrails': 1}, {'courseTitle': 'Sports', 'errorAttempts': '', 'location': 'Playground', 'question': \"Let's play Tennis today. Are you excited? So what are we playing again?\", 'source': 'Mic', 'timeInverval': '2.40s', 'userTrails': 1}, {'courseTitle': 'Sports', 'errorAttempts': '', 'location': 'Playground', 'question': \"Let's put a ball through the hoop…We are going to play Basketball. Come say it with me?\", 'source': 'Mic', 'timeInverval': '4.96s', 'userTrails': 1}, {'courseTitle': 'Sports', 'errorAttempts': '', 'location': 'Playground', 'question': 'Today we are going to go Cycling. So what are we doing again?', 'source': 'Keyboard', 'timeInverval': '34.07s', 'userTrails': 1}]\n",
      "[{'courseTitle': 'Alphabet', 'errorAttempts': '', 'location': 'School', 'question': 'The first letter is A!\\n A is for Apple, repeat after me, Apple, now you go', 'source': 'Mic', 'timeInverval': '9.53s', 'userTrails': 1}, {'courseTitle': 'Alphabet', 'errorAttempts': '', 'location': 'School', 'question': 'Next letter is B\\n B is for Ball, a ball is round, Come say it again, Ball', 'source': 'Mic', 'timeInverval': '7.37s', 'userTrails': 1}, {'courseTitle': 'Alphabet', 'errorAttempts': '', 'location': 'School', 'question': \"Then comes C\\n C is for Cat, a cat is an animal, it's your turn now  \", 'source': 'Mic', 'timeInverval': '6.29s', 'userTrails': 1}, {'courseTitle': 'Alphabet', 'errorAttempts': 'the letter a, ', 'location': 'School', 'question': 'The first letter is A!\\n A is for Apple, repeat after me, Apple, now you go', 'source': 'Mic', 'timeInverval': '11.54s', 'userTrails': 4}, {'courseTitle': 'Alphabet', 'errorAttempts': '', 'location': 'School', 'question': \"Then comes C\\n C is for Cat, a cat is an animal, it's your turn now  \", 'source': 'Mic', 'timeInverval': '7.15s', 'userTrails': 1}, {'courseTitle': 'Sports', 'errorAttempts': '', 'location': 'Playground', 'question': \"Let's play Football today. So what are we playing again?\", 'source': 'Mic', 'timeInverval': '16.63s', 'userTrails': 1}, {'courseTitle': 'Sports', 'errorAttempts': '', 'location': 'Playground', 'question': \"Let's put a ball through the hoop…We are going to play Basketball. Come say it with me?\", 'source': 'Mic', 'timeInverval': '4.80s', 'userTrails': 1}, {'courseTitle': 'Alphabet', 'errorAttempts': '', 'location': 'School', 'question': \"Let's call the next letter, D\\n D is for Doctor, repeat after me, Doctor, Say it again\", 'source': 'Mic', 'timeInverval': '2.16s', 'userTrails': 1}, {'courseTitle': 'Alphabet', 'errorAttempts': '', 'location': 'School', 'question': \"Let's call the next letter, D\\n D is for Doctor, repeat after me, Doctor, Say it again\", 'source': 'Mic', 'timeInverval': '1.45s', 'userTrails': 1}, {'courseTitle': 'Animals', 'errorAttempts': '', 'location': 'Zoo', 'question': 'This animal is called a Dog... Did you know that? So what is this animal again?', 'source': 'Mic', 'timeInverval': '5.85s', 'userTrails': 1}, {'courseTitle': 'Animals', 'errorAttempts': '', 'location': 'Zoo', 'question': 'Look, here comes a tiger, Tell me again what animal is this?          ', 'source': 'Mic', 'timeInverval': '4.08s', 'userTrails': 1}, {'courseTitle': 'Animals', 'errorAttempts': '', 'location': 'Zoo', 'question': \"Oh look, it's a Meerkat, What do we call this animal?\", 'source': 'Mic', 'timeInverval': '4.19s', 'userTrails': 1}, {'courseTitle': 'Animals', 'errorAttempts': '', 'location': 'Zoo', 'question': 'This animal is called a Dog... Did you know that? So what is this animal again?', 'source': 'Mic', 'timeInverval': '7.45s', 'userTrails': 1}, {'courseTitle': 'Alphabet', 'errorAttempts': '', 'location': 'School', 'question': \"Let's call the next letter, D\\n D is for Doctor, repeat after me, Doctor, Say it again\", 'source': 'Mic', 'timeInverval': '5.92s', 'userTrails': 1}, {'courseTitle': 'Alphabet', 'errorAttempts': '', 'location': 'School', 'question': \"Now, comes E\\n E is for Elephant, let's say it together, Elephant, Let's say it again\", 'source': 'Mic', 'timeInverval': '7.67s', 'userTrails': 1}, {'courseTitle': 'Alphabet', 'errorAttempts': '', 'location': 'School', 'question': 'The next letter is F\\n F is for Flower, Yes, you are right, Flower, say it again, Come on.', 'source': 'Mic', 'timeInverval': '7.60s', 'userTrails': 1}, {'courseTitle': 'Alphabet', 'errorAttempts': '', 'location': 'School', 'question': 'The next letter is F\\n F is for Flower, Yes, you are right, Flower, say it again, Come on.', 'source': 'Mic', 'timeInverval': '3.33s', 'userTrails': 1}, {'courseTitle': 'Alphabet', 'errorAttempts': '', 'location': 'School', 'question': \"Then comes C\\n C is for Cat, a cat is an animal, it's your turn now  \", 'source': 'Mic', 'timeInverval': '7.38s', 'userTrails': 1}]\n",
      "[{'courseTitle': 'Alphabet', 'errorAttempts': '', 'location': 'School', 'question': 'Welcome letter G\\n G is for Great, repeat after me, Great, now you go...', 'source': 'Keyboard', 'timeInverval': '10.11s', 'userTrails': 1}]\n",
      "[{'courseTitle': 'Alphabet', 'errorAttempts': '', 'location': 'School', 'question': 'The first letter is A!\\n A is for Apple, repeat after me, Apple, now you go', 'source': 'Keyboard', 'timeInverval': '8.23s', 'userTrails': 1}, {'courseTitle': 'Alphabet', 'errorAttempts': '', 'location': 'School', 'question': 'Next letter is B\\n B is for Ball, a ball is round, Come say it again, Ball', 'source': 'Mic', 'timeInverval': '29.00s', 'userTrails': 1}, {'courseTitle': 'Alphabet', 'errorAttempts': '', 'location': 'School', 'question': \"Then comes C\\n C is for Cat, a cat is an animal, it's your turn now  \", 'source': 'Mic', 'timeInverval': '33.11s', 'userTrails': 1}, {'courseTitle': 'Alphabet', 'errorAttempts': '', 'location': 'School', 'question': \"Then comes C\\n C is for Cat, a cat is an animal, it's your turn now  \", 'source': 'Mic', 'timeInverval': '62.19s', 'userTrails': 1}, {'courseTitle': 'Sports', 'errorAttempts': '', 'location': 'Playground', 'question': \"Let's play Football today. So what are we playing again?\", 'source': 'Mic', 'timeInverval': '5.56s', 'userTrails': 1}, {'courseTitle': 'Sports', 'errorAttempts': '', 'location': 'Playground', 'question': \"Let's put a ball through the hoop…We are going to play Basketball. Come say it with me?\", 'source': 'Mic', 'timeInverval': '142.89s', 'userTrails': 1}]\n",
      "[{'courseTitle': 'Alphabet', 'errorAttempts': '', 'location': 'School', 'question': 'The first letter is A!\\n A is for Apple, repeat after me, Apple, now you go', 'source': 'Mic', 'timeInverval': '8.18s', 'userTrails': 1}, {'courseTitle': 'Alphabet', 'errorAttempts': 'bull, boy, ', 'location': 'School', 'question': 'Next letter is B\\n B is for Ball, a ball is round, Come say it again, Ball', 'source': 'Mic', 'timeInverval': '20.45s', 'userTrails': 3}, {'courseTitle': 'Alphabet', 'errorAttempts': 'pat, ', 'location': 'School', 'question': \"Then comes C\\n C is for Cat, a cat is an animal, it's your turn now  \", 'source': 'Mic', 'timeInverval': '10.92s', 'userTrails': 2}, {'courseTitle': 'Alphabet', 'errorAttempts': 'boil, boy, ', 'location': 'School', 'question': \"Then comes C\\n C is for Cat, a cat is an animal, it's your turn now  \", 'source': 'Mic', 'timeInverval': '32.35s', 'userTrails': 3}, {'courseTitle': 'Alphabet', 'errorAttempts': '', 'location': 'School', 'question': 'Next letter is B\\n B is for Ball, a ball is round, Come say it again, Ball', 'source': 'Mic', 'timeInverval': '3.31s', 'userTrails': 1}, {'courseTitle': 'Sports', 'errorAttempts': '', 'location': 'Playground', 'question': \"Let's play Football today. So what are we playing again?\", 'source': 'Mic', 'timeInverval': '5.86s', 'userTrails': 1}, {'courseTitle': 'Sports', 'errorAttempts': '', 'location': 'Playground', 'question': \"Let's put a ball through the hoop…We are going to play Basketball. Come say it with me?\", 'source': 'Mic', 'timeInverval': '8.84s', 'userTrails': 1}, {'courseTitle': 'Sports', 'errorAttempts': '', 'location': 'Playground', 'question': 'Next we are going to use a bat and ball. We are now going to play Cricket. So what are we playing again?', 'source': 'Mic', 'timeInverval': '7.01s', 'userTrails': 1}, {'courseTitle': 'Sports', 'errorAttempts': 'basketball, ', 'location': 'Playground', 'question': \"Let's play Football today. So what are we playing again?\", 'source': 'Mic', 'timeInverval': '12.17s', 'userTrails': 2}, {'courseTitle': 'Sports', 'errorAttempts': '', 'location': 'Playground', 'question': \"Let's put a ball through the hoop…We are going to play Basketball. Come say it with me?\", 'source': 'Mic', 'timeInverval': '2.78s', 'userTrails': 1}, {'courseTitle': 'Restaurant', 'errorAttempts': '', 'location': 'Kitchen', 'question': 'Today, we are going to cook a Pizza. So, what are we going to cook today?', 'source': 'Mic', 'timeInverval': '5.61s', 'userTrails': 1}, {'courseTitle': 'Restaurant', 'errorAttempts': '', 'location': 'Kitchen', 'question': \"It's cold outside, and it's time to make some Soup. Tell me, what are we making?\", 'source': 'Mic', 'timeInverval': '6.44s', 'userTrails': 1}, {'courseTitle': 'Restaurant', 'errorAttempts': '', 'location': 'Kitchen', 'question': \"It's time to bake some Cookies… Are you excited? What are we baking today?\", 'source': 'Mic', 'timeInverval': '5.90s', 'userTrails': 1}, {'courseTitle': 'Restaurant', 'errorAttempts': '', 'location': 'Kitchen', 'question': \"It's time to bake some Cookies… Are you excited? What are we baking today?\", 'source': 'Mic', 'timeInverval': '2.61s', 'userTrails': 1}, {'courseTitle': 'Restaurant', 'errorAttempts': '', 'location': 'Kitchen', 'question': \"It's cold outside, and it's time to make some Soup. Tell me, what are we making?\", 'source': 'Mic', 'timeInverval': '5.50s', 'userTrails': 1}, {'courseTitle': 'Animals', 'errorAttempts': '', 'location': 'Zoo', 'question': 'This animal is called a Dog... Did you know that? So what is this animal again?', 'source': 'Mic', 'timeInverval': '5.45s', 'userTrails': 1}, {'courseTitle': 'Animals', 'errorAttempts': '', 'location': 'Zoo', 'question': 'Look, here comes a tiger, Tell me again what animal is this?          ', 'source': 'Mic', 'timeInverval': '4.46s', 'userTrails': 1}, {'courseTitle': 'Animals', 'errorAttempts': '', 'location': 'Zoo', 'question': \"Oh look, it's a Meerkat, What do we call this animal?\", 'source': 'Mic', 'timeInverval': '4.54s', 'userTrails': 1}, {'courseTitle': 'Animals', 'errorAttempts': '', 'location': 'Zoo', 'question': 'This animal is called a Dog... Did you know that? So what is this animal again?', 'source': 'Mic', 'timeInverval': '2.71s', 'userTrails': 1}, {'courseTitle': 'Animals', 'errorAttempts': '', 'location': 'Zoo', 'question': 'Look, here comes a tiger, Tell me again what animal is this?          ', 'source': 'Mic', 'timeInverval': '2.25s', 'userTrails': 1}, {'courseTitle': 'Veggies', 'errorAttempts': '', 'location': 'Kitchen', 'question': 'A is for apple. What is the fruit called?', 'source': 'Mic', 'timeInverval': '7.29s', 'userTrails': 1}, {'courseTitle': 'Sports', 'errorAttempts': '', 'location': 'Playground', 'question': \"Let's play Tennis today. Are you excited? So what are we playing again?\", 'source': 'Mic', 'timeInverval': '4.57s', 'userTrails': 1}, {'courseTitle': 'Sports', 'errorAttempts': '', 'location': 'Playground', 'question': \"Come let's go Swimming together. So what are we doing again?\", 'source': 'Mic', 'timeInverval': '2.86s', 'userTrails': 1}, {'courseTitle': 'Sports', 'errorAttempts': '', 'location': 'Playground', 'question': 'We are going to go for Running, Now. So get ready and say it again?', 'source': 'Mic', 'timeInverval': '2.09s', 'userTrails': 1}, {'courseTitle': 'Sports', 'errorAttempts': '', 'location': 'Playground', 'question': 'We are going to go for Running, Now. So get ready and say it again?', 'source': 'Mic', 'timeInverval': '3.15s', 'userTrails': 1}, {'courseTitle': 'Sports', 'errorAttempts': '', 'location': 'Playground', 'question': \"Let's play Football today. So what are we playing again?\", 'source': 'Mic', 'timeInverval': '2.32s', 'userTrails': 1}, {'courseTitle': 'Sports', 'errorAttempts': '', 'location': 'Playground', 'question': \"Let's play Tennis today. Are you excited? So what are we playing again?\", 'source': 'Mic', 'timeInverval': '2.32s', 'userTrails': 1}, {'courseTitle': 'Sports', 'errorAttempts': '', 'location': 'Playground', 'question': 'Today we are going to go Cycling. So what are we doing again?', 'source': 'Keyboard', 'timeInverval': '31.01s', 'userTrails': 1}, {'courseTitle': 'Alphabet', 'errorAttempts': '', 'location': 'School', 'question': \"Let's call the next letter, D\\n D is for Doctor, repeat after me, Doctor, Say it again\", 'source': 'Mic', 'timeInverval': '6.91s', 'userTrails': 1}, {'courseTitle': 'Alphabet', 'errorAttempts': '', 'location': 'School', 'question': \"Now, comes E\\n E is for Elephant, let's say it together, Elephant, Let's say it again\", 'source': 'Mic', 'timeInverval': '7.59s', 'userTrails': 1}, {'courseTitle': 'Alphabet', 'errorAttempts': '', 'location': 'School', 'question': 'The next letter is F\\n F is for Flower, Yes, you are right, Flower, say it again, Come on.', 'source': 'Mic', 'timeInverval': '7.83s', 'userTrails': 1}, {'courseTitle': 'Alphabet', 'errorAttempts': '', 'location': 'School', 'question': \"Let's call the next letter, D\\n D is for Doctor, repeat after me, Doctor, Say it again\", 'source': 'Mic', 'timeInverval': '48.64s', 'userTrails': 1}, {'courseTitle': 'Alphabet', 'errorAttempts': '', 'location': 'School', 'question': \"Then comes C\\n C is for Cat, a cat is an animal, it's your turn now  \", 'source': 'Mic', 'timeInverval': '2.34s', 'userTrails': 1}, {'courseTitle': 'Alphabet', 'errorAttempts': '', 'location': 'School', 'question': 'Next letter is B\\n B is for Ball, a ball is round, Come say it again, Ball', 'source': 'Mic', 'timeInverval': '2.07s', 'userTrails': 1}, {'courseTitle': 'Alphabet', 'errorAttempts': '', 'location': 'School', 'question': 'Welcome letter G\\n G is for Great, repeat after me, Great, now you go...', 'source': 'Mic', 'timeInverval': '14.85s', 'userTrails': 1}, {'courseTitle': 'Animals', 'errorAttempts': '', 'location': 'Zoo', 'question': 'Look at this animal jumping, it is a Monkey, Tell me what animal is this?\\r\\n', 'source': 'Mic', 'timeInverval': '5.13s', 'userTrails': 1}, {'courseTitle': 'Animals', 'errorAttempts': '', 'location': 'Zoo', 'question': 'This is a Polar Bear, Tell me what animal is this?\\r\\n', 'source': 'Mic', 'timeInverval': '5.16s', 'userTrails': 1}, {'courseTitle': 'Animals', 'errorAttempts': '', 'location': 'Zoo', 'question': 'This animal is called  Crocodile... Did you know that? So what is this animal again?', 'source': 'Mic', 'timeInverval': '5.61s', 'userTrails': 1}, {'courseTitle': 'Animals', 'errorAttempts': '', 'location': 'Zoo', 'question': 'This animal is called a Dog... Did you know that? So what is this animal again?', 'source': 'Mic', 'timeInverval': '2.46s', 'userTrails': 1}, {'courseTitle': 'Animals', 'errorAttempts': '', 'location': 'Zoo', 'question': 'This is a Polar Bear, Tell me what animal is this?\\r\\n', 'source': 'Mic', 'timeInverval': '3.66s', 'userTrails': 1}]\n",
      "[{'courseTitle': 'Alphabet', 'errorAttempts': '', 'location': 'School', 'question': 'The first letter is A!\\n A is for Apple, repeat after me, Apple, now you go', 'source': 'Mic', 'timeInverval': '9.05s', 'userTrails': 1}, {'courseTitle': 'Alphabet', 'errorAttempts': '', 'location': 'School', 'question': 'Next letter is B\\n B is for Ball, a ball is round, Come say it again, Ball', 'source': 'Mic', 'timeInverval': '6.79s', 'userTrails': 1}, {'courseTitle': 'Alphabet', 'errorAttempts': '', 'location': 'School', 'question': \"Then comes C\\n C is for Cat, a cat is an animal, it's your turn now  \", 'source': 'Mic', 'timeInverval': '6.59s', 'userTrails': 1}, {'courseTitle': 'Alphabet', 'errorAttempts': 't, ', 'location': 'School', 'question': \"Then comes C\\n C is for Cat, a cat is an animal, it's your turn now  \", 'source': 'Keyboard', 'timeInverval': '14.37s', 'userTrails': 2}, {'courseTitle': 'Alphabet', 'errorAttempts': '', 'location': 'School', 'question': 'Next letter is B\\n B is for Ball, a ball is round, Come say it again, Ball', 'source': 'Mic', 'timeInverval': '3.51s', 'userTrails': 1}, {'courseTitle': 'Sports', 'errorAttempts': '', 'location': 'Playground', 'question': \"Let's play Football today. So what are we playing again?\", 'source': 'Mic', 'timeInverval': '6.48s', 'userTrails': 1}, {'courseTitle': 'Sports', 'errorAttempts': '', 'location': 'Playground', 'question': \"Let's put a ball through the hoop…We are going to play Basketball. Come say it with me?\", 'source': 'Mic', 'timeInverval': '17.57s', 'userTrails': 1}, {'courseTitle': 'Sports', 'errorAttempts': '', 'location': 'Playground', 'question': 'Next we are going to use a bat and ball. We are now going to play Cricket. So what are we playing again?', 'source': 'Mic', 'timeInverval': '8.17s', 'userTrails': 1}, {'courseTitle': 'Sports', 'errorAttempts': '', 'location': 'Playground', 'question': \"Let's put a ball through the hoop…We are going to play Basketball. Come say it with me?\", 'source': 'Mic', 'timeInverval': '7.10s', 'userTrails': 1}, {'courseTitle': 'Sports', 'errorAttempts': '', 'location': 'Playground', 'question': 'Next we are going to use a bat and ball. We are now going to play Cricket. So what are we playing again?', 'source': 'Mic', 'timeInverval': '5.57s', 'userTrails': 1}, {'courseTitle': 'Restaurant', 'errorAttempts': '', 'location': 'Kitchen', 'question': 'Today, we are going to cook a Pizza. So, what are we going to cook today?', 'source': 'Mic', 'timeInverval': '6.64s', 'userTrails': 1}, {'courseTitle': 'Restaurant', 'errorAttempts': 'tube, ', 'location': 'Kitchen', 'question': \"It's cold outside, and it's time to make some Soup. Tell me, what are we making?\", 'source': 'Mic', 'timeInverval': '12.76s', 'userTrails': 2}, {'courseTitle': 'Restaurant', 'errorAttempts': '', 'location': 'Kitchen', 'question': \"It's time to bake some Cookies… Are you excited? What are we baking today?\", 'source': 'Mic', 'timeInverval': '6.44s', 'userTrails': 1}, {'courseTitle': 'Restaurant', 'errorAttempts': '', 'location': 'Kitchen', 'question': \"It's cold outside, and it's time to make some Soup. Tell me, what are we making?\", 'source': 'Mic', 'timeInverval': '6.92s', 'userTrails': 1}]\n",
      "[{'courseTitle': 'Alphabet', 'errorAttempts': '', 'location': 'School', 'question': \"Let's call the next letter, D\\n D is for Doctor, repeat after me, Doctor, Say it again\", 'source': 'Keyboard', 'timeInverval': '17.48s', 'userTrails': 1}, {'courseTitle': 'Alphabet', 'errorAttempts': '', 'location': 'School', 'question': \"Now, comes E\\n E is for Elephant, let's say it together, Elephant, Let's say it again\", 'source': 'Keyboard', 'timeInverval': '8.99s', 'userTrails': 1}, {'courseTitle': 'Alphabet', 'errorAttempts': '', 'location': 'School', 'question': 'The next letter is F\\n F is for Flower, Yes, you are right, Flower, say it again, Come on.', 'source': 'Keyboard', 'timeInverval': '8.58s', 'userTrails': 1}, {'courseTitle': 'Alphabet', 'errorAttempts': '', 'location': 'School', 'question': 'The next letter is F\\n F is for Flower, Yes, you are right, Flower, say it again, Come on.', 'source': 'Keyboard', 'timeInverval': '1.96s', 'userTrails': 1}, {'courseTitle': 'Animals', 'errorAttempts': '', 'location': 'Zoo', 'question': 'This animal is called a Dog... Did you know that? So what is this animal again?', 'source': 'Keyboard', 'timeInverval': '12.05s', 'userTrails': 1}, {'courseTitle': 'Animals', 'errorAttempts': '', 'location': 'Zoo', 'question': 'Look, here comes a tiger, Tell me again what animal is this?          ', 'source': 'Keyboard', 'timeInverval': '9.86s', 'userTrails': 1}, {'courseTitle': 'Animals', 'errorAttempts': '', 'location': 'Zoo', 'question': \"Oh look, it's a Meerkat, What do we call this animal?\", 'source': 'Keyboard', 'timeInverval': '13.05s', 'userTrails': 1}, {'courseTitle': 'Alphabet', 'errorAttempts': '', 'location': 'School', 'question': 'The next letter is F\\n F is for Flower, Yes, you are right, Flower, say it again, Come on.', 'source': 'Mic', 'timeInverval': '11.91s', 'userTrails': 1}, {'courseTitle': 'Alphabet', 'errorAttempts': '', 'location': 'School', 'question': 'Welcome letter G\\n G is for Great, repeat after me, Great, now you go...', 'source': 'Mic', 'timeInverval': '6.29s', 'userTrails': 1}, {'courseTitle': 'Alphabet', 'errorAttempts': '', 'location': 'School', 'question': 'Then comes H\\n H is for House, Say it along, House, come on, your turn', 'source': 'Mic', 'timeInverval': '2.03s', 'userTrails': 1}, {'courseTitle': 'Sports', 'errorAttempts': 'dennis, ', 'location': 'Playground', 'question': \"Let's play Tennis today. Are you excited? So what are we playing again?\", 'source': 'Mic', 'timeInverval': '11.96s', 'userTrails': 2}, {'courseTitle': 'Sports', 'errorAttempts': '', 'location': 'Playground', 'question': \"Come let's go Swimming together. So what are we doing again?\", 'source': 'Mic', 'timeInverval': '3.34s', 'userTrails': 1}, {'courseTitle': 'Restaurant', 'errorAttempts': '', 'location': 'Kitchen', 'question': 'The dish we are cooking today is Pasta... One more time, what are we cooking?', 'source': 'Mic', 'timeInverval': '6.34s', 'userTrails': 1}, {'courseTitle': 'Restaurant', 'errorAttempts': '', 'location': 'Kitchen', 'question': \"Let's learn how to make Curry… One more time, what are we cooking?\", 'source': 'Mic', 'timeInverval': '5.57s', 'userTrails': 1}, {'courseTitle': 'Restaurant', 'errorAttempts': '', 'location': 'Kitchen', 'question': 'Are you excited to learn about Chinese noodles. Come, tell me what are we going to cook today?', 'source': 'Mic', 'timeInverval': '9.16s', 'userTrails': 1}, {'courseTitle': 'Restaurant', 'errorAttempts': '', 'location': 'Kitchen', 'question': 'Are you excited to learn about Chinese noodles. Come, tell me what are we going to cook today?', 'source': 'Mic', 'timeInverval': '20.72s', 'userTrails': 1}, {'courseTitle': 'Alphabet', 'errorAttempts': '', 'location': 'School', 'question': 'Then comes H\\n H is for House, Say it along, House, come on, your turn', 'source': 'Mic', 'timeInverval': '15.19s', 'userTrails': 1}, {'courseTitle': 'Alphabet', 'errorAttempts': '', 'location': 'School', 'question': 'Then comes H\\n H is for House, Say it along, House, come on, your turn', 'source': 'Mic', 'timeInverval': '6.64s', 'userTrails': 1}, {'courseTitle': 'Alphabet', 'errorAttempts': '', 'location': 'School', 'question': 'Next letter is I\\n I is for Ice cream, say with a smile, Ice cream , Very good, say it again', 'source': 'Mic', 'timeInverval': '5.61s', 'userTrails': 1}, {'courseTitle': 'Alphabet', 'errorAttempts': '', 'location': 'School', 'question': 'Now we will learn about letter J\\n J is for Juice, repeat after me, Juice, Say it for me again,', 'source': 'Mic', 'timeInverval': '18.29s', 'userTrails': 1}, {'courseTitle': 'Alphabet', 'errorAttempts': '', 'location': 'School', 'question': \"Now, comes E\\n E is for Elephant, let's say it together, Elephant, Let's say it again\", 'source': 'Mic', 'timeInverval': '46.65s', 'userTrails': 1}]\n",
      "[{'courseTitle': 'Alphabet', 'errorAttempts': '', 'location': 'School', 'question': \"The next letter is K\\n K is for Kite, lets say it together, Kite, now it's your turn\", 'source': 'Keyboard', 'timeInverval': '7.58s', 'userTrails': 1}, {'courseTitle': 'Alphabet', 'errorAttempts': '', 'location': 'School', 'question': \"The next letter is K\\n K is for Kite, lets say it together, Kite, now it's your turn\", 'source': 'Keyboard', 'timeInverval': '2.84s', 'userTrails': 1}, {'courseTitle': 'Alphabet', 'errorAttempts': '', 'location': 'School', 'question': \"The next letter is K\\n K is for Kite, lets say it together, Kite, now it's your turn\", 'source': 'Keyboard', 'timeInverval': '3.95s', 'userTrails': 1}]\n",
      "[{'courseTitle': 'Alphabet', 'errorAttempts': '', 'location': 'School', 'question': 'The first letter is A!\\n A is for Apple, repeat after me, Apple, now you go', 'source': 'Mic', 'timeInverval': '29.11s', 'userTrails': 1}, {'courseTitle': 'Alphabet', 'errorAttempts': 'paul, ', 'location': 'School', 'question': 'Next letter is B\\n B is for Ball, a ball is round, Come say it again, Ball', 'source': 'Mic', 'timeInverval': '14.63s', 'userTrails': 2}, {'courseTitle': 'Alphabet', 'errorAttempts': '', 'location': 'School', 'question': \"Then comes C\\n C is for Cat, a cat is an animal, it's your turn now  \", 'source': 'Mic', 'timeInverval': '2.99s', 'userTrails': 1}, {'courseTitle': 'Alphabet', 'errorAttempts': '', 'location': 'School', 'question': 'Next letter is B\\n B is for Ball, a ball is round, Come say it again, Ball', 'source': 'Mic', 'timeInverval': '5.33s', 'userTrails': 1}, {'courseTitle': 'Alphabet', 'errorAttempts': 'beautiful cat, b is for cat, ', 'location': 'School', 'question': \"Then comes C\\n C is for Cat, a cat is an animal, it's your turn now  \", 'source': 'Mic', 'timeInverval': '13.14s', 'userTrails': 7}, {'courseTitle': 'Sports', 'errorAttempts': '', 'location': 'Playground', 'question': \"Let's play Football today. So what are we playing again?\", 'source': 'Mic', 'timeInverval': '6.49s', 'userTrails': 1}, {'courseTitle': 'Sports', 'errorAttempts': '', 'location': 'Playground', 'question': \"Let's put a ball through the hoop…We are going to play Basketball. Come say it with me?\", 'source': 'Mic', 'timeInverval': '21.47s', 'userTrails': 1}, {'courseTitle': 'Alphabet', 'errorAttempts': '', 'location': 'School', 'question': \"Let's call the next letter, D\\n D is for Doctor, repeat after me, Doctor, Say it again\", 'source': 'Mic', 'timeInverval': '4.16s', 'userTrails': 1}, {'courseTitle': 'Alphabet', 'errorAttempts': 'is for ellison, ', 'location': 'School', 'question': \"Now, comes E\\n E is for Elephant, let's say it together, Elephant, Let's say it again\", 'source': 'Mic', 'timeInverval': '6.64s', 'userTrails': 4}, {'courseTitle': 'Alphabet', 'errorAttempts': '', 'location': 'School', 'question': 'The next letter is F\\n F is for Flower, Yes, you are right, Flower, say it again, Come on.', 'source': 'Mic', 'timeInverval': '6.44s', 'userTrails': 1}, {'courseTitle': 'Alphabet', 'errorAttempts': '', 'location': 'School', 'question': 'Next letter is B\\n B is for Ball, a ball is round, Come say it again, Ball', 'source': 'Mic', 'timeInverval': '5.58s', 'userTrails': 1}, {'courseTitle': 'Alphabet', 'errorAttempts': '', 'location': 'School', 'question': \"Let's call the next letter, D\\n D is for Doctor, repeat after me, Doctor, Say it again\", 'source': 'Mic', 'timeInverval': '4.82s', 'userTrails': 1}, {'courseTitle': 'Alphabet', 'errorAttempts': '', 'location': 'School', 'question': 'The next letter is F\\n F is for Flower, Yes, you are right, Flower, say it again, Come on.', 'source': 'Mic', 'timeInverval': '2.08s', 'userTrails': 1}, {'courseTitle': 'Alphabet', 'errorAttempts': '', 'location': 'School', 'question': 'Welcome letter G\\n G is for Great, repeat after me, Great, now you go...', 'source': 'Keyboard', 'timeInverval': '35.30s', 'userTrails': 1}, {'courseTitle': 'Alphabet', 'errorAttempts': '', 'location': 'School', 'question': 'Welcome letter G\\n G is for Great, repeat after me, Great, now you go...', 'source': 'Keyboard', 'timeInverval': '2.06s', 'userTrails': 1}]\n",
      "[{'courseTitle': 'Alphabet', 'errorAttempts': '', 'location': 'School', 'question': 'The first letter is A!\\n A is for Apple, repeat after me, Apple, now you go', 'source': 'Mic', 'timeInverval': '7.72s', 'userTrails': 1}]\n",
      "[{'courseTitle': 'Alphabet', 'errorAttempts': '', 'location': 'School', 'question': 'The first letter is A!\\n A is for Apple, repeat after me, Apple, now you go', 'source': 'Keyboard', 'timeInverval': '23,52s', 'userTrails': 1}]\n",
      "[{'courseTitle': 'Alphabet', 'errorAttempts': '', 'location': 'School', 'question': 'Next letter is B\\n B is for Ball, a ball is round, Come say it again, Ball', 'source': 'Keyboard', 'timeInverval': '10,62s', 'userTrails': 1}]\n",
      "[{'courseTitle': 'Alphabet', 'errorAttempts': '', 'location': 'School', 'question': 'The first letter is A!\\n A is for Apple, repeat after me, Apple, now you go', 'source': 'Keyboard', 'timeInverval': '7.84s', 'userTrails': 1}, {'courseTitle': 'Alphabet', 'errorAttempts': '', 'location': 'School', 'question': 'Next letter is B\\n B is for Ball, a ball is round, Come say it again, Ball', 'source': 'Keyboard', 'timeInverval': '4.14s', 'userTrails': 1}, {'courseTitle': 'Alphabet', 'errorAttempts': '', 'location': 'School', 'question': \"Then comes C\\n C is for Cat, a cat is an animal, it's your turn now  \", 'source': 'Keyboard', 'timeInverval': '1.99s', 'userTrails': 1}, {'courseTitle': 'Alphabet', 'errorAttempts': '', 'location': 'School', 'question': \"Then comes C\\n C is for Cat, a cat is an animal, it's your turn now  \", 'source': 'Keyboard', 'timeInverval': '24.49s', 'userTrails': 1}, {'courseTitle': 'Alphabet', 'errorAttempts': '', 'location': 'School', 'question': \"Then comes C\\n C is for Cat, a cat is an animal, it's your turn now  \", 'source': 'Mic', 'timeInverval': '5.08s', 'userTrails': 1}, {'courseTitle': 'Alphabet', 'errorAttempts': '', 'location': 'School', 'question': \"Let's call the next letter, D\\n D is for Doctor, repeat after me, Doctor, Say it again\", 'source': 'Mic', 'timeInverval': '42.46s', 'userTrails': 1}, {'courseTitle': 'Alphabet', 'errorAttempts': 'can you please repeat the chewed?, apple apple, ustase, can you please repeat the chew? try one apple?, ', 'location': 'School', 'question': \"Now, comes E\\n E is for Elephant, let's say it together, Elephant, Let's say it again\", 'source': 'Mic', 'timeInverval': '106.57s', 'userTrails': 19}, {'courseTitle': 'Alphabet', 'errorAttempts': 'if he knew it, at is 4 l, allison, ', 'location': 'School', 'question': \"Now, comes E\\n E is for Elephant, let's say it together, Elephant, Let's say it again\", 'source': 'Mic', 'timeInverval': '26.33s', 'userTrails': 10}, {'courseTitle': 'Alphabet', 'errorAttempts': '', 'location': 'School', 'question': 'The first letter is A!\\n A is for Apple, repeat after me, Apple, now you go', 'source': 'Mic', 'timeInverval': '8.43s', 'userTrails': 1}, {'courseTitle': 'Alphabet', 'errorAttempts': 'ps4, jelly ball, ', 'location': 'School', 'question': 'Next letter is B\\n B is for Ball, a ball is round, Come say it again, Ball', 'source': 'Mic', 'timeInverval': '38.49s', 'userTrails': 4}, {'courseTitle': 'Alphabet', 'errorAttempts': '', 'location': 'School', 'question': 'The next letter is F\\n F is for Flower, Yes, you are right, Flower, say it again, Come on.', 'source': 'Keyboard', 'timeInverval': '77.75s', 'userTrails': 1}, {'courseTitle': 'Alphabet', 'errorAttempts': 'is 4 f is for, ', 'location': 'School', 'question': 'The next letter is F\\n F is for Flower, Yes, you are right, Flower, say it again, Come on.', 'source': 'Mic', 'timeInverval': '15.62s', 'userTrails': 6}, {'courseTitle': 'Alphabet', 'errorAttempts': '', 'location': 'School', 'question': 'Welcome letter G\\n G is for Great, repeat after me, Great, now you go...', 'source': 'Mic', 'timeInverval': '40.65s', 'userTrails': 1}, {'courseTitle': 'Alphabet', 'errorAttempts': 'how?, great great, ', 'location': 'School', 'question': 'Then comes H\\n H is for House, Say it along, House, come on, your turn', 'source': 'Mic', 'timeInverval': '18.55s', 'userTrails': 4}, {'courseTitle': 'Alphabet', 'errorAttempts': \"speaking out, it is a haha, i can't hear youtube, i can't hey jude where you saying something?, i can't hey jude where you saying something?, \", 'location': 'School', 'question': 'Then comes H\\n H is for House, Say it along, House, come on, your turn', 'source': 'Keyboard', 'timeInverval': '71.49s', 'userTrails': 27}, {'courseTitle': 'Alphabet', 'errorAttempts': '', 'location': 'School', 'question': 'Welcome letter G\\n G is for Great, repeat after me, Great, now you go...', 'source': 'Keyboard', 'timeInverval': '12.17s', 'userTrails': 1}, {'courseTitle': 'Alphabet', 'errorAttempts': '', 'location': 'School', 'question': 'Next letter is I\\n I is for Ice cream, say with a smile, Ice cream , Very good, say it again', 'source': 'Keyboard', 'timeInverval': '35.02s', 'userTrails': 1}, {'courseTitle': 'Alphabet', 'errorAttempts': '', 'location': 'School', 'question': 'Next letter is I\\n I is for Ice cream, say with a smile, Ice cream , Very good, say it again', 'source': 'Keyboard', 'timeInverval': '11.03s', 'userTrails': 1}, {'courseTitle': 'Alphabet', 'errorAttempts': '', 'location': 'School', 'question': 'Next letter is I\\n I is for Ice cream, say with a smile, Ice cream , Very good, say it again', 'source': 'Keyboard', 'timeInverval': '29.38s', 'userTrails': 1}, {'courseTitle': 'Alphabet', 'errorAttempts': 'ice, ', 'location': 'School', 'question': 'Next letter is I\\n I is for Ice cream, say with a smile, Ice cream , Very good, say it again', 'source': 'Mic', 'timeInverval': '42.10s', 'userTrails': 2}, {'courseTitle': 'Alphabet', 'errorAttempts': \"i is for ice cream good, basketball basketball eyes ice cream, i is for ice cream can we change?, on the same way oh yes, ice cream ice cream ice, ice cream ice cream ice, ice cream ice cream ice, i think trying to find go to the map and see if we can go get ice cream, j is for june, 50 is for ice cream ice cream ice cream, great i'm getting out of it and we see if positive are you kidding me? pause when you get to the ice is for ice, great i'm getting out of it and we see if positive are you kidding me? pause when you get to the ice is for ice, great i'm getting out of it and we see if positive are you kidding me? pause when you get to the ice is for ice, great i'm getting out of it and we see if positive are you kidding me? pause when you get to the ice is for ice, \", 'location': 'School', 'question': 'Now we will learn about letter J\\n J is for Juice, repeat after me, Juice, Say it for me again,', 'source': 'Keyboard', 'timeInverval': '54.79s', 'userTrails': 172}, {'courseTitle': 'Alphabet', 'errorAttempts': \"great i'm getting out of it and we see if positive are you kidding me? pause when you get to the ice is for ice, \", 'location': 'School', 'question': 'Now we will learn about letter J\\n J is for Juice, repeat after me, Juice, Say it for me again,', 'source': 'Keyboard', 'timeInverval': '20.17s', 'userTrails': 26}, {'courseTitle': 'Alphabet', 'errorAttempts': '', 'location': 'School', 'question': 'Now we will learn about letter J\\n J is for Juice, repeat after me, Juice, Say it for me again,', 'source': 'Keyboard', 'timeInverval': '5.92s', 'userTrails': 1}, {'courseTitle': 'Alphabet', 'errorAttempts': \"i can't hear you, i can't hear you, i can't hear you, \", 'location': 'School', 'question': \"The next letter is K\\n K is for Kite, lets say it together, Kite, now it's your turn\", 'source': 'Mic', 'timeInverval': '28.75s', 'userTrails': 13}, {'courseTitle': 'Alphabet', 'errorAttempts': '', 'location': 'School', 'question': 'The letter is L!\\n L is for Lemon, repeat after me, Lemon, now you go...', 'source': 'Keyboard', 'timeInverval': '30.68s', 'userTrails': 1}, {'courseTitle': 'Alphabet', 'errorAttempts': '', 'location': 'School', 'question': 'The letter is L!\\n L is for Lemon, repeat after me, Lemon, now you go...', 'source': 'Keyboard', 'timeInverval': '16.89s', 'userTrails': 1}]\n",
      "[{'courseTitle': 'Alphabet', 'errorAttempts': '', 'location': 'School', 'question': 'The first letter is A!\\n A is for Apple, repeat after me, Apple, now you go', 'source': 'Keyboard', 'timeInverval': '94.52s', 'userTrails': 1}, {'courseTitle': 'Alphabet', 'errorAttempts': '', 'location': 'School', 'question': 'Next letter is B\\n B is for Ball, a ball is round, Come say it again, Ball', 'source': 'Keyboard', 'timeInverval': '41.01s', 'userTrails': 1}]\n",
      "[{'courseTitle': 'Alphabet', 'errorAttempts': '', 'location': 'School', 'question': 'Next letter is B\\n B is for Ball, a ball is round, Come say it again, Ball', 'source': 'Mic', 'timeInverval': '5.87s', 'userTrails': 1}, {'courseTitle': 'Alphabet', 'errorAttempts': '', 'location': 'School', 'question': \"Then comes C\\n C is for Cat, a cat is an animal, it's your turn now  \", 'source': 'Mic', 'timeInverval': '7.72s', 'userTrails': 1}, {'courseTitle': 'Alphabet', 'errorAttempts': '', 'location': 'School', 'question': \"Let's call the next letter, D\\n D is for Doctor, repeat after me, Doctor, Say it again\", 'source': 'Mic', 'timeInverval': '13.61s', 'userTrails': 1}, {'courseTitle': 'Alphabet', 'errorAttempts': '', 'location': 'School', 'question': 'The first letter is A!\\n A is for Apple, repeat after me, Apple, now you go', 'source': 'Mic', 'timeInverval': '7.46s', 'userTrails': 1}, {'courseTitle': 'Alphabet', 'errorAttempts': '', 'location': 'School', 'question': 'Next letter is B\\n B is for Ball, a ball is round, Come say it again, Ball', 'source': 'Mic', 'timeInverval': '3.01s', 'userTrails': 1}, {'courseTitle': 'Alphabet', 'errorAttempts': 'see, ', 'location': 'School', 'question': \"Then comes C\\n C is for Cat, a cat is an animal, it's your turn now  \", 'source': 'Mic', 'timeInverval': '7.96s', 'userTrails': 2}, {'courseTitle': 'Sports', 'errorAttempts': '', 'location': 'Playground', 'question': \"Let's play Football today. So what are we playing again?\", 'source': 'Mic', 'timeInverval': '5.63s', 'userTrails': 1}, {'courseTitle': 'Sports', 'errorAttempts': '', 'location': 'Playground', 'question': \"Let's put a ball through the hoop…We are going to play Basketball. Come say it with me?\", 'source': 'Mic', 'timeInverval': '9.49s', 'userTrails': 1}, {'courseTitle': 'Sports', 'errorAttempts': '', 'location': 'Playground', 'question': 'Next we are going to use a bat and ball. We are now going to play Cricket. So what are we playing again?', 'source': 'Mic', 'timeInverval': '8.56s', 'userTrails': 1}, {'courseTitle': 'Sports', 'errorAttempts': '', 'location': 'Playground', 'question': \"Let's play Football today. So what are we playing again?\", 'source': 'Mic', 'timeInverval': '3.08s', 'userTrails': 1}, {'courseTitle': 'Sports', 'errorAttempts': '', 'location': 'Playground', 'question': 'Next we are going to use a bat and ball. We are now going to play Cricket. So what are we playing again?', 'source': 'Mic', 'timeInverval': '2.78s', 'userTrails': 1}, {'courseTitle': 'Restaurant', 'errorAttempts': '', 'location': 'Kitchen', 'question': 'Today, we are going to cook a Pizza. So, what are we going to cook today?', 'source': 'Mic', 'timeInverval': '6.32s', 'userTrails': 1}, {'courseTitle': 'Restaurant', 'errorAttempts': 'snoop dogg, ', 'location': 'Kitchen', 'question': \"It's cold outside, and it's time to make some Soup. Tell me, what are we making?\", 'source': 'Mic', 'timeInverval': '14.43s', 'userTrails': 3}, {'courseTitle': 'Restaurant', 'errorAttempts': 'yes, kirky, cookie, ', 'location': 'Kitchen', 'question': \"It's time to bake some Cookies… Are you excited? What are we baking today?\", 'source': 'Mic', 'timeInverval': '16.45s', 'userTrails': 4}, {'courseTitle': 'Restaurant', 'errorAttempts': '', 'location': 'Kitchen', 'question': 'Today, we are going to cook a Pizza. So, what are we going to cook today?', 'source': 'Mic', 'timeInverval': '2.41s', 'userTrails': 1}, {'courseTitle': 'Restaurant', 'errorAttempts': '', 'location': 'Kitchen', 'question': \"It's cold outside, and it's time to make some Soup. Tell me, what are we making?\", 'source': 'Mic', 'timeInverval': '2.54s', 'userTrails': 1}, {'courseTitle': 'Animals', 'errorAttempts': '', 'location': 'Zoo', 'question': 'This animal is called a Dog... Did you know that? So what is this animal again?', 'source': 'Mic', 'timeInverval': '6.14s', 'userTrails': 1}, {'courseTitle': 'Animals', 'errorAttempts': '', 'location': 'Zoo', 'question': 'Look, here comes a tiger, Tell me again what animal is this?          ', 'source': 'Mic', 'timeInverval': '3.58s', 'userTrails': 1}, {'courseTitle': 'Animals', 'errorAttempts': '', 'location': 'Zoo', 'question': \"Oh look, it's a Meerkat, What do we call this animal?\", 'source': 'Mic', 'timeInverval': '4.53s', 'userTrails': 1}, {'courseTitle': 'Animals', 'errorAttempts': '', 'location': 'Zoo', 'question': \"Oh look, it's a Meerkat, What do we call this animal?\", 'source': 'Mic', 'timeInverval': '2.28s', 'userTrails': 1}, {'courseTitle': 'Animals', 'errorAttempts': '', 'location': 'Zoo', 'question': 'Look, here comes a tiger, Tell me again what animal is this?          ', 'source': 'Mic', 'timeInverval': '2.21s', 'userTrails': 1}, {'courseTitle': 'Veggies', 'errorAttempts': '', 'location': 'Kitchen', 'question': 'A is for apple. What is the fruit called?', 'source': 'Mic', 'timeInverval': '6.48s', 'userTrails': 1}, {'courseTitle': 'Alphabet', 'errorAttempts': '', 'location': 'School', 'question': \"Now, comes E\\n E is for Elephant, let's say it together, Elephant, Let's say it again\", 'source': 'Mic', 'timeInverval': '5.92s', 'userTrails': 1}, {'courseTitle': 'Restaurant', 'errorAttempts': 'asda, ', 'location': 'Kitchen', 'question': 'The dish we are cooking today is Pasta... One more time, what are we cooking?', 'source': 'Mic', 'timeInverval': '12.24s', 'userTrails': 2}, {'courseTitle': 'Restaurant', 'errorAttempts': '', 'location': 'Kitchen', 'question': \"Let's learn how to make Curry… One more time, what are we cooking?\", 'source': 'Mic', 'timeInverval': '4.68s', 'userTrails': 1}, {'courseTitle': 'Restaurant', 'errorAttempts': '', 'location': 'Kitchen', 'question': 'Are you excited to learn about Chinese noodles. Come, tell me what are we going to cook today?', 'source': 'Mic', 'timeInverval': '9.29s', 'userTrails': 1}, {'courseTitle': 'Restaurant', 'errorAttempts': '', 'location': 'Kitchen', 'question': 'Today, we are going to cook a Pizza. So, what are we going to cook today?', 'source': 'Mic', 'timeInverval': '2.39s', 'userTrails': 1}, {'courseTitle': 'Restaurant', 'errorAttempts': '', 'location': 'Kitchen', 'question': \"It's cold outside, and it's time to make some Soup. Tell me, what are we making?\", 'source': 'Mic', 'timeInverval': '7.49s', 'userTrails': 1}]\n",
      "[{'courseTitle': 'Alphabet', 'errorAttempts': '', 'location': 'School', 'question': 'The first letter is A!\\n A is for Apple, repeat after me, Apple, now you go', 'source': 'Keyboard', 'timeInverval': '11.73s', 'userTrails': 1}, {'courseTitle': 'Alphabet', 'errorAttempts': '', 'location': 'School', 'question': 'Next letter is B\\n B is for Ball, a ball is round, Come say it again, Ball', 'source': 'Keyboard', 'timeInverval': '36.23s', 'userTrails': 1}, {'courseTitle': 'Alphabet', 'errorAttempts': '', 'location': 'School', 'question': \"Then comes C\\n C is for Cat, a cat is an animal, it's your turn now  \", 'source': 'Keyboard', 'timeInverval': '2.07s', 'userTrails': 1}, {'courseTitle': 'Alphabet', 'errorAttempts': '', 'location': 'School', 'question': \"Then comes C\\n C is for Cat, a cat is an animal, it's your turn now  \", 'source': 'Keyboard', 'timeInverval': '3.53s', 'userTrails': 1}, {'courseTitle': 'Alphabet', 'errorAttempts': '', 'location': 'School', 'question': \"Then comes C\\n C is for Cat, a cat is an animal, it's your turn now  \", 'source': 'Keyboard', 'timeInverval': '1.58s', 'userTrails': 1}, {'courseTitle': 'Alphabet', 'errorAttempts': '', 'location': 'School', 'question': \"Then comes C\\n C is for Cat, a cat is an animal, it's your turn now  \", 'source': 'Keyboard', 'timeInverval': '1.60s', 'userTrails': 1}, {'courseTitle': 'Alphabet', 'errorAttempts': '', 'location': 'School', 'question': \"Then comes C\\n C is for Cat, a cat is an animal, it's your turn now  \", 'source': 'Keyboard', 'timeInverval': '1.38s', 'userTrails': 1}]\n",
      "[{'courseTitle': 'Alphabet', 'errorAttempts': 'cap, ', 'location': 'School', 'question': \"Then comes C\\n C is for Cat, a cat is an animal, it's your turn now  \", 'source': 'Mic', 'timeInverval': '21.16s', 'userTrails': 2}, {'courseTitle': 'Alphabet', 'errorAttempts': '', 'location': 'School', 'question': \"Let's call the next letter, D\\n D is for Doctor, repeat after me, Doctor, Say it again\", 'source': 'Mic', 'timeInverval': '10.29s', 'userTrails': 1}, {'courseTitle': 'Alphabet', 'errorAttempts': '', 'location': 'School', 'question': \"Now, comes E\\n E is for Elephant, let's say it together, Elephant, Let's say it again\", 'source': 'Mic', 'timeInverval': '8.71s', 'userTrails': 1}, {'courseTitle': 'Alphabet', 'errorAttempts': '', 'location': 'School', 'question': \"Then comes C\\n C is for Cat, a cat is an animal, it's your turn now  \", 'source': 'Mic', 'timeInverval': '1.18s', 'userTrails': 1}, {'courseTitle': 'Alphabet', 'errorAttempts': '', 'location': 'School', 'question': 'The next letter is F\\n F is for Flower, Yes, you are right, Flower, say it again, Come on.', 'source': 'Mic', 'timeInverval': '1.92s', 'userTrails': 1}, {'courseTitle': 'Alphabet', 'errorAttempts': '', 'location': 'School', 'question': 'The next letter is F\\n F is for Flower, Yes, you are right, Flower, say it again, Come on.', 'source': 'Mic', 'timeInverval': '4.50s', 'userTrails': 1}, {'courseTitle': 'Alphabet', 'errorAttempts': '', 'location': 'School', 'question': 'The next letter is F\\n F is for Flower, Yes, you are right, Flower, say it again, Come on.', 'source': 'Mic', 'timeInverval': '1.05s', 'userTrails': 1}, {'courseTitle': 'Alphabet', 'errorAttempts': '', 'location': 'School', 'question': 'The next letter is F\\n F is for Flower, Yes, you are right, Flower, say it again, Come on.', 'source': 'Mic', 'timeInverval': '2.50s', 'userTrails': 1}]\n",
      "[{'courseTitle': 'Sports', 'errorAttempts': '', 'location': 'Playground', 'question': \"Let's play Football today. So what are we playing again?\", 'source': 'Keyboard', 'timeInverval': '10.30s', 'userTrails': 1}, {'courseTitle': 'Sports', 'errorAttempts': '', 'location': 'Playground', 'question': \"Let's put a ball through the hoop…We are going to play Basketball. Come say it with me?\", 'source': 'Keyboard', 'timeInverval': '19.49s', 'userTrails': 1}, {'courseTitle': 'Sports', 'errorAttempts': '', 'location': 'Playground', 'question': 'Next we are going to use a bat and ball. We are now going to play Cricket. So what are we playing again?', 'source': 'Keyboard', 'timeInverval': '10.85s', 'userTrails': 1}, {'courseTitle': 'Sports', 'errorAttempts': '', 'location': 'Playground', 'question': \"Let's put a ball through the hoop…We are going to play Basketball. Come say it with me?\", 'source': 'Keyboard', 'timeInverval': '12.99s', 'userTrails': 1}, {'courseTitle': 'Sports', 'errorAttempts': '', 'location': 'Playground', 'question': 'Next we are going to use a bat and ball. We are now going to play Cricket. So what are we playing again?', 'source': 'Keyboard', 'timeInverval': '8.67s', 'userTrails': 1}, {'courseTitle': 'Sports', 'errorAttempts': '', 'location': 'Playground', 'question': \"Let's play Tennis today. Are you excited? So what are we playing again?\", 'source': 'Keyboard', 'timeInverval': '56.95s', 'userTrails': 1}, {'courseTitle': 'Restaurant', 'errorAttempts': '', 'location': 'Kitchen', 'question': 'Today, we are going to cook a Pizza. So, what are we going to cook today?', 'source': 'Keyboard', 'timeInverval': '8.02s', 'userTrails': 1}, {'courseTitle': 'Restaurant', 'errorAttempts': '', 'location': 'Kitchen', 'question': \"It's cold outside, and it's time to make some Soup. Tell me, what are we making?\", 'source': 'Keyboard', 'timeInverval': '9.07s', 'userTrails': 1}, {'courseTitle': 'Restaurant', 'errorAttempts': '', 'location': 'Kitchen', 'question': \"It's time to bake some Cookies… Are you excited? What are we baking today?\", 'source': 'Keyboard', 'timeInverval': '7.32s', 'userTrails': 1}, {'courseTitle': 'Restaurant', 'errorAttempts': '', 'location': 'Kitchen', 'question': \"It's cold outside, and it's time to make some Soup. Tell me, what are we making?\", 'source': 'Keyboard', 'timeInverval': '5.98s', 'userTrails': 1}, {'courseTitle': 'Restaurant', 'errorAttempts': '', 'location': 'Kitchen', 'question': 'Today, we are going to cook a Pizza. So, what are we going to cook today?', 'source': 'Keyboard', 'timeInverval': '7.32s', 'userTrails': 1}, {'courseTitle': 'Restaurant', 'errorAttempts': '', 'location': 'Kitchen', 'question': 'The dish we are cooking today is Pasta... One more time, what are we cooking?', 'source': 'Keyboard', 'timeInverval': '66.85s', 'userTrails': 1}, {'courseTitle': 'Alphabet', 'errorAttempts': '', 'location': 'School', 'question': 'The next letter is F\\n F is for Flower, Yes, you are right, Flower, say it again, Come on.', 'source': 'Keyboard', 'timeInverval': '10.12s', 'userTrails': 1}, {'courseTitle': 'Alphabet', 'errorAttempts': '', 'location': 'School', 'question': 'Welcome letter G\\n G is for Great, repeat after me, Great, now you go...', 'source': 'Keyboard', 'timeInverval': '12.13s', 'userTrails': 1}, {'courseTitle': 'Alphabet', 'errorAttempts': '', 'location': 'School', 'question': 'Then comes H\\n H is for House, Say it along, House, come on, your turn', 'source': 'Keyboard', 'timeInverval': '6.83s', 'userTrails': 1}, {'courseTitle': 'Alphabet', 'errorAttempts': '', 'location': 'School', 'question': \"Let's call the next letter, D\\n D is for Doctor, repeat after me, Doctor, Say it again\", 'source': 'Keyboard', 'timeInverval': '7.87s', 'userTrails': 1}, {'courseTitle': 'Alphabet', 'errorAttempts': '', 'location': 'School', 'question': 'The next letter is F\\n F is for Flower, Yes, you are right, Flower, say it again, Come on.', 'source': 'Keyboard', 'timeInverval': '4.78s', 'userTrails': 1}, {'courseTitle': 'Alphabet', 'errorAttempts': '', 'location': 'School', 'question': 'Next letter is B\\n B is for Ball, a ball is round, Come say it again, Ball', 'source': 'Keyboard', 'timeInverval': '5.53s', 'userTrails': 1}]\n",
      "[{'courseTitle': 'Alphabet', 'errorAttempts': '', 'location': 'School', 'question': 'The letter is L!\\n L is for Lemon, repeat after me, Lemon, now you go...', 'source': 'Keyboard', 'timeInverval': '3.05s', 'userTrails': 1}]\n",
      "[{'courseTitle': 'Alphabet', 'errorAttempts': '', 'location': 'School', 'question': 'Next letter is I\\n I is for Ice cream, say with a smile, Ice cream , Very good, say it again', 'source': 'Keyboard', 'timeInverval': '2.82s', 'userTrails': 1}]\n",
      "[{'courseTitle': 'Alphabet', 'errorAttempts': '', 'location': 'School', 'question': 'The letter is L!\\n L is for Lemon, repeat after me, Lemon, now you go...', 'source': 'Keyboard', 'timeInverval': '7.29s', 'userTrails': 1}, {'courseTitle': 'Alphabet', 'errorAttempts': '', 'location': 'School', 'question': 'Now the letter is M!\\n M is for Mother, repeat after me, Mother, now you go...', 'source': 'Keyboard', 'timeInverval': '8.22s', 'userTrails': 1}, {'courseTitle': 'Alphabet', 'errorAttempts': '', 'location': 'School', 'question': 'The letter is N!\\n N is for Nose, repeat after me, Nose, now you go...', 'source': 'Keyboard', 'timeInverval': '7.60s', 'userTrails': 1}, {'courseTitle': 'Alphabet', 'errorAttempts': '', 'location': 'School', 'question': \"The next letter is K\\n K is for Kite, lets say it together, Kite, now it's your turn\", 'source': 'Keyboard', 'timeInverval': '6.15s', 'userTrails': 1}, {'courseTitle': 'Alphabet', 'errorAttempts': '', 'location': 'School', 'question': 'Then comes H\\n H is for House, Say it along, House, come on, your turn', 'source': 'Keyboard', 'timeInverval': '5.33s', 'userTrails': 1}, {'courseTitle': 'Alphabet', 'errorAttempts': '', 'location': 'School', 'question': 'Now the letter is M!\\n M is for Mother, repeat after me, Mother, now you go...', 'source': 'Keyboard', 'timeInverval': '6.55s', 'userTrails': 1}, {'courseTitle': 'Sports', 'errorAttempts': '', 'location': 'Playground', 'question': 'Today we are going to go Cycling. So what are we doing again?', 'source': 'Keyboard', 'timeInverval': '15.12s', 'userTrails': 1}, {'courseTitle': 'Alphabet', 'errorAttempts': '', 'location': 'School', 'question': \"Let's welcome letter O!\\n O is for Owl, repeat after me, Owl, Let's say it again\", 'source': 'Keyboard', 'timeInverval': '7.63s', 'userTrails': 1}, {'courseTitle': 'Alphabet', 'errorAttempts': '', 'location': 'School', 'question': 'The letter is P!\\n P is for Pencil, repeat after me, Pencil, now you go...', 'source': 'Keyboard', 'timeInverval': '6.15s', 'userTrails': 1}, {'courseTitle': 'Alphabet', 'errorAttempts': '', 'location': 'School', 'question': 'The letter is Q!\\n Q is for Queen, repeat after me, Queen, now you go...', 'source': 'Mic', 'timeInverval': '8.04s', 'userTrails': 1}, {'courseTitle': 'Alphabet', 'errorAttempts': '哦, o, o, or, 哦, ', 'location': 'School', 'question': 'Then comes H\\n H is for House, Say it along, House, come on, your turn', 'source': 'Mic', 'timeInverval': '145.34s', 'userTrails': 6}, {'courseTitle': 'Alphabet', 'errorAttempts': '', 'location': 'School', 'question': 'The letter is P!\\n P is for Pencil, repeat after me, Pencil, now you go...', 'source': 'Keyboard', 'timeInverval': '9.70s', 'userTrails': 1}, {'courseTitle': 'Alphabet', 'errorAttempts': '', 'location': 'School', 'question': \"Let's welcome letter O!\\n O is for Owl, repeat after me, Owl, Let's say it again\", 'source': 'Keyboard', 'timeInverval': '69.15s', 'userTrails': 1}, {'courseTitle': 'Restaurant', 'errorAttempts': '', 'location': 'Kitchen', 'question': 'The dish we are cooking today is Tacos. One more time, what are we cooking?', 'source': 'Mic', 'timeInverval': '50.41s', 'userTrails': 1}, {'courseTitle': 'Restaurant', 'errorAttempts': '', 'location': 'Kitchen', 'question': \"It's time to bake some Cookies… Are you excited? What are we baking today?\", 'source': 'Mic', 'timeInverval': '3.07s', 'userTrails': 1}, {'courseTitle': 'Restaurant', 'errorAttempts': '', 'location': 'Kitchen', 'question': 'Are you excited to learn about Chinese noodles. Come, tell me what are we going to cook today?', 'source': 'Mic', 'timeInverval': '27.50s', 'userTrails': 1}, {'courseTitle': 'Restaurant', 'errorAttempts': '', 'location': 'Kitchen', 'question': \"It's time to bake some Cookies… Are you excited? What are we baking today?\", 'source': 'Mic', 'timeInverval': '7.24s', 'userTrails': 1}, {'courseTitle': 'Restaurant', 'errorAttempts': 'bass down, bass down, 把star, bass down, bass down, ', 'location': 'Kitchen', 'question': 'The dish we are cooking today is Pasta... One more time, what are we cooking?', 'source': 'Mic', 'timeInverval': '40.46s', 'userTrails': 10}]\n",
      "[{'courseTitle': 'Animals', 'errorAttempts': '', 'location': 'Zoo', 'question': 'This animal is called a Dog... Did you know that? So what is this animal again?', 'source': 'Mic', 'timeInverval': '7.92s', 'userTrails': 1}, {'courseTitle': 'Animals', 'errorAttempts': '', 'location': 'Zoo', 'question': 'Look, here comes a tiger, Tell me again what animal is this?          ', 'source': 'Mic', 'timeInverval': '5.57s', 'userTrails': 1}, {'courseTitle': 'Animals', 'errorAttempts': 'milk it, milk tea, me r c u r at e, meercat, ', 'location': 'Zoo', 'question': \"Oh look, it's a Meerkat, What do we call this animal?\", 'source': 'Keyboard', 'timeInverval': '41.80s', 'userTrails': 13}, {'courseTitle': 'Animals', 'errorAttempts': '', 'location': 'Zoo', 'question': 'Look, here comes a tiger, Tell me again what animal is this?          ', 'source': 'Mic', 'timeInverval': '2.92s', 'userTrails': 1}, {'courseTitle': 'Animals', 'errorAttempts': 'milk, mirror cast, milk, ', 'location': 'Zoo', 'question': \"Oh look, it's a Meerkat, What do we call this animal?\", 'source': 'Keyboard', 'timeInverval': '25.13s', 'userTrails': 5}, {'courseTitle': 'Animals', 'errorAttempts': '', 'location': 'Zoo', 'question': 'Look at this animal jumping, it is a Monkey, Tell me what animal is this?\\r\\n', 'source': 'Mic', 'timeInverval': '53.95s', 'userTrails': 1}, {'courseTitle': 'Alphabet', 'errorAttempts': '', 'location': 'School', 'question': 'The letter is T!\\n T is for Tree, repeat after me, Tree, now you go...', 'source': 'Keyboard', 'timeInverval': '7.65s', 'userTrails': 1}, {'courseTitle': 'Alphabet', 'errorAttempts': '', 'location': 'School', 'question': 'The letter is U!\\n U is for Umbrella, repeat after me, Umbrella, now you go...', 'source': 'Mic', 'timeInverval': '7.69s', 'userTrails': 1}, {'courseTitle': 'Alphabet', 'errorAttempts': 'you零, ', 'location': 'School', 'question': \"The next letter is V!\\n V is for Violin, let's repeat it, Violin, come on, your turn.\", 'source': 'Mic', 'timeInverval': '17.33s', 'userTrails': 2}, {'courseTitle': 'Alphabet', 'errorAttempts': '你弟, ', 'location': 'School', 'question': \"Let's call the next letter, D\\n D is for Doctor, repeat after me, Doctor, Say it again\", 'source': 'Mic', 'timeInverval': '12.47s', 'userTrails': 2}, {'courseTitle': 'Alphabet', 'errorAttempts': '', 'location': 'School', 'question': 'The next letter is F\\n F is for Flower, Yes, you are right, Flower, say it again, Come on.', 'source': 'Mic', 'timeInverval': '4.05s', 'userTrails': 1}, {'courseTitle': 'Alphabet', 'errorAttempts': \"it's the last day, \", 'location': 'School', 'question': 'Welcome letter G\\n G is for Great, repeat after me, Great, now you go...', 'source': 'Mic', 'timeInverval': '15.54s', 'userTrails': 5}, {'courseTitle': 'Sports', 'errorAttempts': '', 'location': 'Playground', 'question': \"It's time to play Badminton. Let's gear and say what are we playing agian?\", 'source': 'Keyboard', 'timeInverval': '28.99s', 'userTrails': 1}, {'courseTitle': 'Sports', 'errorAttempts': '', 'location': 'Playground', 'question': 'Today we are going to play Baseball. Are you ready? Come, tell me what are we going to play?', 'source': 'Keyboard', 'timeInverval': '8.07s', 'userTrails': 1}, {'courseTitle': 'Sports', 'errorAttempts': '', 'location': 'Playground', 'question': 'Today we are going to play Golf. So, what are we playing again?', 'source': 'Keyboard', 'timeInverval': '8.68s', 'userTrails': 1}, {'courseTitle': 'Sports', 'errorAttempts': '', 'location': 'Playground', 'question': 'We are going to go for Running, Now. So get ready and say it again?', 'source': 'Keyboard', 'timeInverval': '8.57s', 'userTrails': 1}, {'courseTitle': 'Sports', 'errorAttempts': '', 'location': 'Playground', 'question': 'Today we are going to go Cycling. So what are we doing again?', 'source': 'Keyboard', 'timeInverval': '6.65s', 'userTrails': 1}, {'courseTitle': 'Sports', 'errorAttempts': '', 'location': 'Playground', 'question': 'Today we are going to play Golf. So, what are we playing again?', 'source': 'Keyboard', 'timeInverval': '7.72s', 'userTrails': 1}, {'courseTitle': 'Restaurant', 'errorAttempts': '', 'location': 'Kitchen', 'question': \"It's time to bake some yummy Cupcakes. So, what are we going to bake today?\", 'source': 'Keyboard', 'timeInverval': '15.55s', 'userTrails': 1}, {'courseTitle': 'Restaurant', 'errorAttempts': '', 'location': 'Kitchen', 'question': \"Let's use some buns and make Hot dogs. Sounds delicious? Tell me, what are we cooking today?\", 'source': 'Keyboard', 'timeInverval': '6.93s', 'userTrails': 1}, {'courseTitle': 'Restaurant', 'errorAttempts': 'smoothies, smoothies, 思慕的意思, cloud s, school days milk juice, 思慕的意思, music, smoothies, ', 'location': 'Kitchen', 'question': \"Let's use a blender and make some Smoothies. Are you ready? So, whart are we making today?\", 'source': 'Keyboard', 'timeInverval': '81.61s', 'userTrails': 13}, {'courseTitle': 'Restaurant', 'errorAttempts': '', 'location': 'Kitchen', 'question': \"Let's learn how to make Curry… One more time, what are we cooking?\", 'source': 'Keyboard', 'timeInverval': '7.00s', 'userTrails': 1}, {'courseTitle': 'Restaurant', 'errorAttempts': 'no, school days, smoothies, ', 'location': 'Kitchen', 'question': \"Let's use a blender and make some Smoothies. Are you ready? So, whart are we making today?\", 'source': 'Keyboard', 'timeInverval': '34.92s', 'userTrails': 5}, {'courseTitle': 'Alphabet', 'errorAttempts': '', 'location': 'School', 'question': 'Then comes W\\n W is for World, The big, wide, World, now say it again', 'source': 'Keyboard', 'timeInverval': '10.37s', 'userTrails': 1}, {'courseTitle': 'Alphabet', 'errorAttempts': '', 'location': 'School', 'question': \"Very Good! Your are doing great... The next letter is X\\n X is for X-ray, let's say it again, X-ray, now you go...\", 'source': 'Keyboard', 'timeInverval': '11.13s', 'userTrails': 1}, {'courseTitle': 'Alphabet', 'errorAttempts': '', 'location': 'School', 'question': 'Lets learn about letter Y\\n Y is for Yoga, repeat after me, Yoga, come on, its your turn', 'source': 'Keyboard', 'timeInverval': '6.07s', 'userTrails': 1}, {'courseTitle': 'Alphabet', 'errorAttempts': '', 'location': 'School', 'question': \"The next letter is K\\n K is for Kite, lets say it together, Kite, now it's your turn\", 'source': 'Keyboard', 'timeInverval': '5.43s', 'userTrails': 1}, {'courseTitle': 'Alphabet', 'errorAttempts': '', 'location': 'School', 'question': 'Then comes W\\n W is for World, The big, wide, World, now say it again', 'source': 'Keyboard', 'timeInverval': '5.87s', 'userTrails': 1}, {'courseTitle': 'Alphabet', 'errorAttempts': '', 'location': 'School', 'question': \"The letter is R!\\n R is for Rainbow, a big bright Rainbow, it's your turn to say it again\", 'source': 'Keyboard', 'timeInverval': '5.25s', 'userTrails': 1}, {'courseTitle': 'Sports', 'errorAttempts': '', 'location': 'Playground', 'question': 'Are you ready to learn Karate? So, what are we doing again?', 'source': 'Keyboard', 'timeInverval': '29.59s', 'userTrails': 1}, {'courseTitle': 'Alphabet', 'errorAttempts': '', 'location': 'School', 'question': 'Hurray! The last letter is Z!\\n Z is for Zebra, repeat after me, Zebra, come, say it agin', 'source': 'Keyboard', 'timeInverval': '12.44s', 'userTrails': 1}, {'courseTitle': 'Alphabet', 'errorAttempts': '', 'location': 'School', 'question': 'Hurray! The last letter is Z!\\n Z is for Zebra, repeat after me, Zebra, come, say it agin', 'source': 'Keyboard', 'timeInverval': '7.13s', 'userTrails': 1}, {'courseTitle': 'Alphabet', 'errorAttempts': '', 'location': 'School', 'question': 'Then comes H\\n H is for House, Say it along, House, come on, your turn', 'source': 'Keyboard', 'timeInverval': '5.70s', 'userTrails': 1}, {'courseTitle': 'Alphabet', 'errorAttempts': 'i, ', 'location': 'School', 'question': 'The letter is T!\\n T is for Tree, repeat after me, Tree, now you go...', 'source': 'Keyboard', 'timeInverval': '7.88s', 'userTrails': 2}, {'courseTitle': 'Alphabet', 'errorAttempts': '', 'location': 'School', 'question': 'Now the letter is M!\\n M is for Mother, repeat after me, Mother, now you go...', 'source': 'Keyboard', 'timeInverval': '5.33s', 'userTrails': 1}, {'courseTitle': 'Sports', 'errorAttempts': '', 'location': 'Playground', 'question': 'Are you ready to learn Karate? So, what are we doing again?', 'source': 'Keyboard', 'timeInverval': '8.13s', 'userTrails': 1}, {'courseTitle': 'Sports', 'errorAttempts': '', 'location': 'Playground', 'question': 'Get ready, we are going Horse riding today. So, where are we going today?', 'source': 'Keyboard', 'timeInverval': '11.62s', 'userTrails': 1}, {'courseTitle': 'Sports', 'errorAttempts': '', 'location': 'Playground', 'question': 'Today we are going to play Netball. So, what are we playing again?', 'source': 'Keyboard', 'timeInverval': '14.27s', 'userTrails': 1}, {'courseTitle': 'Sports', 'errorAttempts': '', 'location': 'Playground', 'question': 'Get ready, we are going Horse riding today. So, where are we going today?', 'source': 'Keyboard', 'timeInverval': '9.28s', 'userTrails': 1}, {'courseTitle': 'Sports', 'errorAttempts': 'no, ', 'location': 'Playground', 'question': \"Let's put a ball through the hoop…We are going to play Basketball. Come say it with me?\", 'source': 'Keyboard', 'timeInverval': '47.29s', 'userTrails': 2}, {'courseTitle': 'Sports', 'errorAttempts': 'basketball, ', 'location': 'Playground', 'question': 'Today we are going to play Baseball. Are you ready? Come, tell me what are we going to play?', 'source': 'Keyboard', 'timeInverval': '28.75s', 'userTrails': 2}, {'courseTitle': 'Restaurant', 'errorAttempts': '', 'location': 'Kitchen', 'question': \"It's time to grab the lettuce and make a big Burger, Tell me, what are we making again?\", 'source': 'Keyboard', 'timeInverval': '22.24s', 'userTrails': 1}, {'courseTitle': 'Restaurant', 'errorAttempts': '拉萨娘, 拉萨呢, 拉萨, 拉萨鸟, 拉萨, 拉萨呢, ', 'location': 'Kitchen', 'question': 'The dish we are cooking today is Lasagne. One more time, what are we cooking?', 'source': 'Mic', 'timeInverval': '47.39s', 'userTrails': 7}]\n",
      "[{'courseTitle': 'Alphabet', 'errorAttempts': '', 'location': 'School', 'question': 'The letter is U!\\n U is for Umbrella, repeat after me, Umbrella, now you go...', 'source': 'Keyboard', 'timeInverval': '5.05s', 'userTrails': 1}]\n",
      "[{'courseTitle': 'Restaurant', 'errorAttempts': 'mac and cheese, mac and cheese, ', 'location': 'Kitchen', 'question': \"Yummy! It's time to make Mac and cheese… Aren't you hungry? Tell me what are we making again?\", 'source': 'Keyboard', 'timeInverval': '27.74s', 'userTrails': 7}]\n",
      "[{'courseTitle': 'Animals', 'errorAttempts': '', 'location': 'Zoo', 'question': \"Look, here comes an Owl, Let's recall what animal did we see?\", 'source': 'Keyboard', 'timeInverval': '5.15s', 'userTrails': 1}, {'courseTitle': 'Animals', 'errorAttempts': '', 'location': 'Zoo', 'question': 'Oh! Do you want to see a Fox... What animal did we see here?', 'source': 'Keyboard', 'timeInverval': '14.80s', 'userTrails': 1}, {'courseTitle': 'Animals', 'errorAttempts': '', 'location': 'Zoo', 'question': 'Here is a Rabbit, Which animal is this?', 'source': 'Keyboard', 'timeInverval': '5.57s', 'userTrails': 1}, {'courseTitle': 'Animals', 'errorAttempts': 'no, ', 'location': 'Zoo', 'question': \"Oh look, it's a Meerkat, What do we call this animal?\", 'source': 'Keyboard', 'timeInverval': '13.67s', 'userTrails': 2}, {'courseTitle': 'Animals', 'errorAttempts': '', 'location': 'Zoo', 'question': 'This is a Polar Bear, Tell me what animal is this?\\r\\n', 'source': 'Keyboard', 'timeInverval': '7.63s', 'userTrails': 1}, {'courseTitle': 'Animals', 'errorAttempts': '', 'location': 'Zoo', 'question': 'Look, here comes a tiger, Tell me again what animal is this?          ', 'source': 'Keyboard', 'timeInverval': '5.47s', 'userTrails': 1}, {'courseTitle': 'Animals', 'errorAttempts': '', 'location': 'Zoo', 'question': 'Next animal is a Panther, What animal is this?\\r\\n', 'source': 'Keyboard', 'timeInverval': '29.22s', 'userTrails': 1}]\n",
      "[{'courseTitle': 'Sports', 'errorAttempts': '', 'location': 'Playground', 'question': \"Come, it's time to play Volleyball. So, what are we playing again?\", 'source': 'Keyboard', 'timeInverval': '14.97s', 'userTrails': 1}, {'courseTitle': 'Sports', 'errorAttempts': '', 'location': 'Playground', 'question': 'Today you will learn how to play Squash. So, what are we playing again?', 'source': 'Keyboard', 'timeInverval': '10.80s', 'userTrails': 1}, {'courseTitle': 'Sports', 'errorAttempts': '', 'location': 'Playground', 'question': 'Today we are going to play Handball. Get ready and say it with me?', 'source': 'Keyboard', 'timeInverval': '7.43s', 'userTrails': 1}, {'courseTitle': 'Sports', 'errorAttempts': '', 'location': 'Playground', 'question': \"Let's play Tennis today. Are you excited? So what are we playing again?\", 'source': 'Keyboard', 'timeInverval': '9.75s', 'userTrails': 1}, {'courseTitle': 'Sports', 'errorAttempts': '', 'location': 'Playground', 'question': 'Today you will learn how to play Squash. So, what are we playing again?', 'source': 'Keyboard', 'timeInverval': '9.02s', 'userTrails': 1}, {'courseTitle': 'Sports', 'errorAttempts': '', 'location': 'Playground', 'question': \"Come, it's time to play Volleyball. So, what are we playing again?\", 'source': 'Keyboard', 'timeInverval': '8.00s', 'userTrails': 1}, {'courseTitle': 'Sports', 'errorAttempts': '', 'location': 'Playground', 'question': 'Today we are going to throw a Javelin. So what are we throwing again?', 'source': 'Keyboard', 'timeInverval': '71.13s', 'userTrails': 1}, {'courseTitle': 'Alphabet', 'errorAttempts': '', 'location': 'School', 'question': \"Let's call the next letter, D\\n D is for Doctor, repeat after me, Doctor, Say it again\", 'source': 'Keyboard', 'timeInverval': '6.35s', 'userTrails': 1}, {'courseTitle': 'Alphabet', 'errorAttempts': '', 'location': 'School', 'question': 'Next letter is I\\n I is for Ice cream, say with a smile, Ice cream , Very good, say it again', 'source': 'Keyboard', 'timeInverval': '6.98s', 'userTrails': 1}, {'courseTitle': 'Alphabet', 'errorAttempts': '', 'location': 'School', 'question': 'Welcome letter G\\n G is for Great, repeat after me, Great, now you go...', 'source': 'Keyboard', 'timeInverval': '5.53s', 'userTrails': 1}, {'courseTitle': 'Alphabet', 'errorAttempts': '', 'location': 'School', 'question': 'The letter is U!\\n U is for Umbrella, repeat after me, Umbrella, now you go...', 'source': 'Keyboard', 'timeInverval': '5.93s', 'userTrails': 1}, {'courseTitle': 'Alphabet', 'errorAttempts': '', 'location': 'School', 'question': 'The letter is L!\\n L is for Lemon, repeat after me, Lemon, now you go...', 'source': 'Keyboard', 'timeInverval': '6.33s', 'userTrails': 1}, {'courseTitle': 'Alphabet', 'errorAttempts': '', 'location': 'School', 'question': 'The letter is T!\\n T is for Tree, repeat after me, Tree, now you go...', 'source': 'Keyboard', 'timeInverval': '5.18s', 'userTrails': 1}, {'courseTitle': 'Sports', 'errorAttempts': '', 'location': 'Playground', 'question': 'Today we are going to throw a Javelin. So what are we throwing again?', 'source': 'Keyboard', 'timeInverval': '7.52s', 'userTrails': 1}, {'courseTitle': 'Sports', 'errorAttempts': '', 'location': 'Playground', 'question': 'Pick up your stick because today we are going to play Hockey. So, what are we playing again?', 'source': 'Keyboard', 'timeInverval': '11.82s', 'userTrails': 1}, {'courseTitle': 'Sports', 'errorAttempts': '', 'location': 'Playground', 'question': \"Let's put a ball through the hoop…We are going to play Basketball. Come say it with me?\", 'source': 'Keyboard', 'timeInverval': '10.25s', 'userTrails': 1}, {'courseTitle': 'Sports', 'errorAttempts': '', 'location': 'Playground', 'question': 'Get ready, we are going Horse riding today. So, where are we going today?', 'source': 'Keyboard', 'timeInverval': '8.80s', 'userTrails': 1}, {'courseTitle': 'Sports', 'errorAttempts': '', 'location': 'Playground', 'question': 'Today we are going to go Cycling. So what are we doing again?', 'source': 'Keyboard', 'timeInverval': '12.90s', 'userTrails': 1}, {'courseTitle': 'Restaurant', 'errorAttempts': '', 'location': 'Kitchen', 'question': 'The dish we are cooking today is Lasagne. One more time, what are we cooking?', 'source': 'Keyboard', 'timeInverval': '6.65s', 'userTrails': 1}, {'courseTitle': 'Restaurant', 'errorAttempts': '', 'location': 'Kitchen', 'question': \"It's time for celebration, so let's bake a Cake. Come, say it again, what are we going to bake?\", 'source': 'Keyboard', 'timeInverval': '6.22s', 'userTrails': 1}, {'courseTitle': 'Restaurant', 'errorAttempts': '', 'location': 'Kitchen', 'question': \"Come let's use some sauces and make Spaghetti. One more time, what are we cooking?\", 'source': 'Keyboard', 'timeInverval': '8.57s', 'userTrails': 1}, {'courseTitle': 'Restaurant', 'errorAttempts': '', 'location': 'Kitchen', 'question': \"Come let's use some sauces and make Spaghetti. One more time, what are we cooking?\", 'source': 'Keyboard', 'timeInverval': '6.38s', 'userTrails': 1}, {'courseTitle': 'Restaurant', 'errorAttempts': '', 'location': 'Kitchen', 'question': \"Let's learn how to make Curry… One more time, what are we cooking?\", 'source': 'Keyboard', 'timeInverval': '4.80s', 'userTrails': 1}, {'courseTitle': 'Restaurant', 'errorAttempts': 'no, there is no picture, ', 'location': 'Kitchen', 'question': \"Let's use a blender and make some Smoothies. Are you ready? So, whart are we making today?\", 'source': 'Keyboard', 'timeInverval': '29.12s', 'userTrails': 6}, {'courseTitle': 'Animals', 'errorAttempts': '', 'location': 'Zoo', 'question': 'Look at this animal jumping, it is a Monkey, Tell me what animal is this?\\r\\n', 'source': 'Keyboard', 'timeInverval': '11.20s', 'userTrails': 1}, {'courseTitle': 'Animals', 'errorAttempts': '', 'location': 'Zoo', 'question': 'This is a Polar Bear, Tell me what animal is this?\\r\\n', 'source': 'Keyboard', 'timeInverval': '8.27s', 'userTrails': 1}, {'courseTitle': 'Animals', 'errorAttempts': '', 'location': 'Zoo', 'question': 'This animal is called  Crocodile... Did you know that? So what is this animal again?', 'source': 'Keyboard', 'timeInverval': '6.47s', 'userTrails': 1}, {'courseTitle': 'Animals', 'errorAttempts': '', 'location': 'Zoo', 'question': 'This is a Polar Bear, Tell me what animal is this?\\r\\n', 'source': 'Keyboard', 'timeInverval': '7.45s', 'userTrails': 1}, {'courseTitle': 'Animals', 'errorAttempts': '', 'location': 'Zoo', 'question': 'Look at this animal jumping, it is a Monkey, Tell me what animal is this?\\r\\n', 'source': 'Keyboard', 'timeInverval': '7.68s', 'userTrails': 1}, {'courseTitle': 'Animals', 'errorAttempts': '', 'location': 'Zoo', 'question': 'Look, here comes a tiger, Tell me again what animal is this?          ', 'source': 'Keyboard', 'timeInverval': '4.95s', 'userTrails': 1}, {'courseTitle': 'Animals', 'errorAttempts': '', 'location': 'Zoo', 'question': \"Look, here comes an Owl, Let's recall what animal did we see?\", 'source': 'Keyboard', 'timeInverval': '28.77s', 'userTrails': 1}]\n",
      "[{'courseTitle': 'Restaurant', 'errorAttempts': '', 'location': 'Kitchen', 'question': 'Come, together we we learn how to make an Apple pie. So, tell me what are we baking?', 'source': 'Keyboard', 'timeInverval': '13.92s', 'userTrails': 1}, {'courseTitle': 'Restaurant', 'errorAttempts': '', 'location': 'Kitchen', 'question': 'Today we are going to learn how to roll Sushi. One more time, what are we cooking?', 'source': 'Keyboard', 'timeInverval': '7.95s', 'userTrails': 1}, {'courseTitle': 'Restaurant', 'errorAttempts': '', 'location': 'Kitchen', 'question': \"It's breakfast time and it's time to make some Pancakes... One more time, what are we cooking?\", 'source': 'Keyboard', 'timeInverval': '8.93s', 'userTrails': 1}, {'courseTitle': 'Restaurant', 'errorAttempts': '', 'location': 'Kitchen', 'question': \"It's breakfast time and it's time to make some Pancakes... One more time, what are we cooking?\", 'source': 'Keyboard', 'timeInverval': '10.50s', 'userTrails': 1}, {'courseTitle': 'Restaurant', 'errorAttempts': 'hot dog, ', 'location': 'Kitchen', 'question': \"Let's use some buns and make Hot dogs. Sounds delicious? Tell me, what are we cooking today?\", 'source': 'Keyboard', 'timeInverval': '24.72s', 'userTrails': 3}, {'courseTitle': 'Restaurant', 'errorAttempts': '', 'location': 'Kitchen', 'question': \"It's time to grab the lettuce and make a big Burger, Tell me, what are we making again?\", 'source': 'Keyboard', 'timeInverval': '8.68s', 'userTrails': 1}, {'courseTitle': 'Restaurant', 'errorAttempts': '', 'location': 'Kitchen', 'question': \"Yummy! It's time to make Mac and cheese… Aren't you hungry? Tell me what are we making again?\", 'source': 'Keyboard', 'timeInverval': '9.00s', 'userTrails': 1}]\n",
      "[{'courseTitle': 'Alphabet', 'errorAttempts': '', 'location': 'School', 'question': 'The first letter is A!\\n A is for Apple, repeat after me, Apple, now you go', 'source': 'Keyboard', 'timeInverval': '6.38s', 'userTrails': 1}]\n",
      "[{'courseTitle': 'Sports', 'errorAttempts': '', 'location': 'Playground', 'question': \"Let's play Football today. So what are we playing again?\", 'source': 'Keyboard', 'timeInverval': '14.08s', 'userTrails': 1}, {'courseTitle': 'Sports', 'errorAttempts': '', 'location': 'Playground', 'question': \"Let's put a ball through the hoop…We are going to play Basketball. Come say it with me?\", 'source': 'Mic', 'timeInverval': '18.43s', 'userTrails': 1}, {'courseTitle': 'Sports', 'errorAttempts': '', 'location': 'Playground', 'question': 'Next we are going to use a bat and ball. We are now going to play Cricket. So what are we playing again?', 'source': 'Keyboard', 'timeInverval': '15.54s', 'userTrails': 1}, {'courseTitle': 'Sports', 'errorAttempts': '', 'location': 'Playground', 'question': \"Let's put a ball through the hoop…We are going to play Basketball. Come say it with me?\", 'source': 'Mic', 'timeInverval': '5.19s', 'userTrails': 1}, {'courseTitle': 'Sports', 'errorAttempts': '', 'location': 'Playground', 'question': \"Let's play Football today. So what are we playing again?\", 'source': 'Mic', 'timeInverval': '5.06s', 'userTrails': 1}, {'courseTitle': 'Sports', 'errorAttempts': '', 'location': 'Playground', 'question': \"Let's play Tennis today. Are you excited? So what are we playing again?\", 'source': 'Keyboard', 'timeInverval': '35.37s', 'userTrails': 1}, {'courseTitle': 'Alphabet', 'errorAttempts': '', 'location': 'School', 'question': 'The first letter is A!\\n A is for Apple, repeat after me, Apple, now you go', 'source': 'Mic', 'timeInverval': '9.99s', 'userTrails': 1}, {'courseTitle': 'Alphabet', 'errorAttempts': 'born, ', 'location': 'School', 'question': 'Next letter is B\\n B is for Ball, a ball is round, Come say it again, Ball', 'source': 'Mic', 'timeInverval': '3.71s', 'userTrails': 2}, {'courseTitle': 'Alphabet', 'errorAttempts': '', 'location': 'School', 'question': \"Then comes C\\n C is for Cat, a cat is an animal, it's your turn now  \", 'source': 'Mic', 'timeInverval': '1.50s', 'userTrails': 1}, {'courseTitle': 'Alphabet', 'errorAttempts': '', 'location': 'School', 'question': 'The first letter is A!\\n A is for Apple, repeat after me, Apple, now you go', 'source': 'Mic', 'timeInverval': '1.85s', 'userTrails': 1}, {'courseTitle': 'Alphabet', 'errorAttempts': '', 'location': 'School', 'question': 'Next letter is B\\n B is for Ball, a ball is round, Come say it again, Ball', 'source': 'Mic', 'timeInverval': '3.13s', 'userTrails': 1}, {'courseTitle': 'Sports', 'errorAttempts': '', 'location': 'Playground', 'question': \"Let's play Tennis today. Are you excited? So what are we playing again?\", 'source': 'Mic', 'timeInverval': '5.46s', 'userTrails': 1}, {'courseTitle': 'Sports', 'errorAttempts': '', 'location': 'Playground', 'question': \"Come let's go Swimming together. So what are we doing again?\", 'source': 'Mic', 'timeInverval': '1.75s', 'userTrails': 1}, {'courseTitle': 'Sports', 'errorAttempts': '', 'location': 'Playground', 'question': 'We are going to go for Running, Now. So get ready and say it again?', 'source': 'Mic', 'timeInverval': '1.62s', 'userTrails': 1}, {'courseTitle': 'Sports', 'errorAttempts': '', 'location': 'Playground', 'question': 'We are going to go for Running, Now. So get ready and say it again?', 'source': 'Mic', 'timeInverval': '1.72s', 'userTrails': 1}, {'courseTitle': 'Sports', 'errorAttempts': 'possible, ', 'location': 'Playground', 'question': \"Let's put a ball through the hoop…We are going to play Basketball. Come say it with me?\", 'source': 'Mic', 'timeInverval': '5.83s', 'userTrails': 2}, {'courseTitle': 'Sports', 'errorAttempts': '', 'location': 'Playground', 'question': \"Let's play Tennis today. Are you excited? So what are we playing again?\", 'source': 'Mic', 'timeInverval': '2.98s', 'userTrails': 1}, {'courseTitle': 'Restaurant', 'errorAttempts': '', 'location': 'Kitchen', 'question': 'Today, we are going to cook a Pizza. So, what are we going to cook today?', 'source': 'Mic', 'timeInverval': '2.79s', 'userTrails': 1}, {'courseTitle': 'Restaurant', 'errorAttempts': '', 'location': 'Kitchen', 'question': \"It's cold outside, and it's time to make some Soup. Tell me, what are we making?\", 'source': 'Mic', 'timeInverval': '2.05s', 'userTrails': 1}, {'courseTitle': 'Restaurant', 'errorAttempts': '', 'location': 'Kitchen', 'question': \"It's time to bake some Cookies… Are you excited? What are we baking today?\", 'source': 'Mic', 'timeInverval': '2.22s', 'userTrails': 1}, {'courseTitle': 'Restaurant', 'errorAttempts': 'cookie, ', 'location': 'Kitchen', 'question': \"It's time to bake some Cookies… Are you excited? What are we baking today?\", 'source': 'Mic', 'timeInverval': '7.51s', 'userTrails': 2}, {'courseTitle': 'Restaurant', 'errorAttempts': 'peter, ', 'location': 'Kitchen', 'question': 'Today, we are going to cook a Pizza. So, what are we going to cook today?', 'source': 'Mic', 'timeInverval': '2.86s', 'userTrails': 2}, {'courseTitle': 'Animals', 'errorAttempts': '', 'location': 'Zoo', 'question': 'This animal is called a Dog... Did you know that? So what is this animal again?', 'source': 'Mic', 'timeInverval': '25.05s', 'userTrails': 1}, {'courseTitle': 'Animals', 'errorAttempts': '', 'location': 'Zoo', 'question': 'Look, here comes a tiger, Tell me again what animal is this?          ', 'source': 'Mic', 'timeInverval': '1.41s', 'userTrails': 1}, {'courseTitle': 'Animals', 'errorAttempts': '', 'location': 'Zoo', 'question': \"Oh look, it's a Meerkat, What do we call this animal?\", 'source': 'Mic', 'timeInverval': '1.50s', 'userTrails': 1}, {'courseTitle': 'Animals', 'errorAttempts': '', 'location': 'Zoo', 'question': 'Look, here comes a tiger, Tell me again what animal is this?          ', 'source': 'Mic', 'timeInverval': '1.26s', 'userTrails': 1}, {'courseTitle': 'Animals', 'errorAttempts': 'lying, ', 'location': 'Zoo', 'question': 'This animal is called a Dog... Did you know that? So what is this animal again?', 'source': 'Mic', 'timeInverval': '2.49s', 'userTrails': 2}, {'courseTitle': 'Veggies', 'errorAttempts': '', 'location': 'Kitchen', 'question': 'A is for apple. What is the fruit called?', 'source': 'Mic', 'timeInverval': '2.49s', 'userTrails': 1}, {'courseTitle': 'Veggies', 'errorAttempts': '', 'location': 'Kitchen', 'question': 'B is for banana. What is the fruit called?', 'source': 'Mic', 'timeInverval': '1.04s', 'userTrails': 1}, {'courseTitle': 'Veggies', 'errorAttempts': 'parrot, ', 'location': 'Kitchen', 'question': 'C is for carrot. What is the vegetable called?', 'source': 'Mic', 'timeInverval': '2.27s', 'userTrails': 2}, {'courseTitle': 'Veggies', 'errorAttempts': '', 'location': 'Kitchen', 'question': 'C is for carrot. What is the vegetable called?', 'source': 'Mic', 'timeInverval': '11.52s', 'userTrails': 1}, {'courseTitle': 'Veggies', 'errorAttempts': 'no, ', 'location': 'Kitchen', 'question': 'B is for banana. What is the fruit called?', 'source': 'Mic', 'timeInverval': '14.16s', 'userTrails': 2}, {'courseTitle': 'Alphabet', 'errorAttempts': 'd, d, d, d, ', 'location': 'School', 'question': \"Let's call the next letter, D\\n D is for Doctor, repeat after me, Doctor, Say it again\", 'source': 'Keyboard', 'timeInverval': '19.75s', 'userTrails': 5}, {'courseTitle': 'Alphabet', 'errorAttempts': '', 'location': 'School', 'question': \"Now, comes E\\n E is for Elephant, let's say it together, Elephant, Let's say it again\", 'source': 'Mic', 'timeInverval': '1.01s', 'userTrails': 1}, {'courseTitle': 'Alphabet', 'errorAttempts': '', 'location': 'School', 'question': 'The next letter is F\\n F is for Flower, Yes, you are right, Flower, say it again, Come on.', 'source': 'Mic', 'timeInverval': '1.06s', 'userTrails': 1}, {'courseTitle': 'Alphabet', 'errorAttempts': '', 'location': 'School', 'question': \"Now, comes E\\n E is for Elephant, let's say it together, Elephant, Let's say it again\", 'source': 'Keyboard', 'timeInverval': '8.28s', 'userTrails': 1}, {'courseTitle': 'Alphabet', 'errorAttempts': 'if yes please, ', 'location': 'School', 'question': 'The next letter is F\\n F is for Flower, Yes, you are right, Flower, say it again, Come on.', 'source': 'Keyboard', 'timeInverval': '26.92s', 'userTrails': 4}, {'courseTitle': 'Alphabet', 'errorAttempts': '', 'location': 'School', 'question': 'Welcome letter G\\n G is for Great, repeat after me, Great, now you go...', 'source': 'Keyboard', 'timeInverval': '13.21s', 'userTrails': 1}]\n",
      "[{'courseTitle': 'Alphabet', 'errorAttempts': '', 'location': 'School', 'question': 'The first letter is A!\\n A is for Apple, repeat after me, Apple, now you go', 'source': 'Mic', 'timeInverval': '6.65s', 'userTrails': 1}, {'courseTitle': 'Alphabet', 'errorAttempts': '', 'location': 'School', 'question': 'Next letter is B\\n B is for Ball, a ball is round, Come say it again, Ball', 'source': 'Mic', 'timeInverval': '7.15s', 'userTrails': 1}, {'courseTitle': 'Alphabet', 'errorAttempts': '', 'location': 'School', 'question': \"Then comes C\\n C is for Cat, a cat is an animal, it's your turn now  \", 'source': 'Mic', 'timeInverval': '6.49s', 'userTrails': 1}, {'courseTitle': 'Alphabet', 'errorAttempts': '', 'location': 'School', 'question': 'Next letter is B\\n B is for Ball, a ball is round, Come say it again, Ball', 'source': 'Mic', 'timeInverval': '15.45s', 'userTrails': 1}, {'courseTitle': 'Alphabet', 'errorAttempts': '', 'location': 'School', 'question': 'The first letter is A!\\n A is for Apple, repeat after me, Apple, now you go', 'source': 'Mic', 'timeInverval': '3.83s', 'userTrails': 1}, {'courseTitle': 'Sports', 'errorAttempts': '', 'location': 'Playground', 'question': \"Let's play Football today. So what are we playing again?\", 'source': 'Mic', 'timeInverval': '4.94s', 'userTrails': 1}, {'courseTitle': 'Sports', 'errorAttempts': '', 'location': 'Playground', 'question': \"Let's put a ball through the hoop…We are going to play Basketball. Come say it with me?\", 'source': 'Mic', 'timeInverval': '7.58s', 'userTrails': 1}, {'courseTitle': 'Sports', 'errorAttempts': '', 'location': 'Playground', 'question': 'Next we are going to use a bat and ball. We are now going to play Cricket. So what are we playing again?', 'source': 'Mic', 'timeInverval': '7.39s', 'userTrails': 1}, {'courseTitle': 'Sports', 'errorAttempts': '', 'location': 'Playground', 'question': 'Next we are going to use a bat and ball. We are now going to play Cricket. So what are we playing again?', 'source': 'Mic', 'timeInverval': '2.96s', 'userTrails': 1}, {'courseTitle': 'Sports', 'errorAttempts': '', 'location': 'Playground', 'question': \"Let's put a ball through the hoop…We are going to play Basketball. Come say it with me?\", 'source': 'Mic', 'timeInverval': '6.20s', 'userTrails': 1}, {'courseTitle': 'Restaurant', 'errorAttempts': '', 'location': 'Kitchen', 'question': 'Today, we are going to cook a Pizza. So, what are we going to cook today?', 'source': 'Mic', 'timeInverval': '5.79s', 'userTrails': 1}, {'courseTitle': 'Restaurant', 'errorAttempts': '', 'location': 'Kitchen', 'question': \"It's cold outside, and it's time to make some Soup. Tell me, what are we making?\", 'source': 'Mic', 'timeInverval': '4.86s', 'userTrails': 1}, {'courseTitle': 'Restaurant', 'errorAttempts': '', 'location': 'Kitchen', 'question': \"It's time to bake some Cookies… Are you excited? What are we baking today?\", 'source': 'Mic', 'timeInverval': '5.90s', 'userTrails': 1}, {'courseTitle': 'Restaurant', 'errorAttempts': '', 'location': 'Kitchen', 'question': \"It's cold outside, and it's time to make some Soup. Tell me, what are we making?\", 'source': 'Mic', 'timeInverval': '3.15s', 'userTrails': 1}, {'courseTitle': 'Restaurant', 'errorAttempts': '', 'location': 'Kitchen', 'question': \"It's time to bake some Cookies… Are you excited? What are we baking today?\", 'source': 'Mic', 'timeInverval': '2.71s', 'userTrails': 1}, {'courseTitle': 'Animals', 'errorAttempts': 'log, ', 'location': 'Zoo', 'question': 'This animal is called a Dog... Did you know that? So what is this animal again?', 'source': 'Mic', 'timeInverval': '12.84s', 'userTrails': 2}, {'courseTitle': 'Animals', 'errorAttempts': '', 'location': 'Zoo', 'question': 'Look, here comes a tiger, Tell me again what animal is this?          ', 'source': 'Mic', 'timeInverval': '6.58s', 'userTrails': 1}, {'courseTitle': 'Alphabet', 'errorAttempts': '', 'location': 'School', 'question': \"Let's call the next letter, D\\n D is for Doctor, repeat after me, Doctor, Say it again\", 'source': 'Mic', 'timeInverval': '5.90s', 'userTrails': 1}, {'courseTitle': 'Alphabet', 'errorAttempts': '', 'location': 'School', 'question': \"Now, comes E\\n E is for Elephant, let's say it together, Elephant, Let's say it again\", 'source': 'Mic', 'timeInverval': '7.05s', 'userTrails': 1}, {'courseTitle': 'Alphabet', 'errorAttempts': '', 'location': 'School', 'question': 'The next letter is F\\n F is for Flower, Yes, you are right, Flower, say it again, Come on.', 'source': 'Mic', 'timeInverval': '12.63s', 'userTrails': 1}, {'courseTitle': 'Sports', 'errorAttempts': '', 'location': 'Playground', 'question': \"Let's play Tennis today. Are you excited? So what are we playing again?\", 'source': 'Mic', 'timeInverval': '5.61s', 'userTrails': 1}, {'courseTitle': 'Sports', 'errorAttempts': '', 'location': 'Playground', 'question': \"Come let's go Swimming together. So what are we doing again?\", 'source': 'Mic', 'timeInverval': '2.83s', 'userTrails': 1}, {'courseTitle': 'Sports', 'errorAttempts': '', 'location': 'Playground', 'question': 'We are going to go for Running, Now. So get ready and say it again?', 'source': 'Mic', 'timeInverval': '5.21s', 'userTrails': 1}, {'courseTitle': 'Sports', 'errorAttempts': '', 'location': 'Playground', 'question': \"Let's play Football today. So what are we playing again?\", 'source': 'Mic', 'timeInverval': '3.94s', 'userTrails': 1}, {'courseTitle': 'Sports', 'errorAttempts': '', 'location': 'Playground', 'question': 'We are going to go for Running, Now. So get ready and say it again?', 'source': 'Mic', 'timeInverval': '2.75s', 'userTrails': 1}, {'courseTitle': 'Sports', 'errorAttempts': '', 'location': 'Playground', 'question': \"Let's put a ball through the hoop…We are going to play Basketball. Come say it with me?\", 'source': 'Mic', 'timeInverval': '2.93s', 'userTrails': 1}, {'courseTitle': 'Sports', 'errorAttempts': '', 'location': 'Playground', 'question': 'Today we are going to go Cycling. So what are we doing again?', 'source': 'Mic', 'timeInverval': '15.52s', 'userTrails': 1}]\n",
      "[{'courseTitle': 'Animals', 'errorAttempts': '', 'location': 'Zoo', 'question': 'This animal is called a Dog... Did you know that? So what is this animal again?', 'source': 'Keyboard', 'timeInverval': '15.16s', 'userTrails': 1}, {'courseTitle': 'Animals', 'errorAttempts': '', 'location': 'Zoo', 'question': 'Look, here comes a tiger, Tell me again what animal is this?          ', 'source': 'Keyboard', 'timeInverval': '7.59s', 'userTrails': 1}, {'courseTitle': 'Animals', 'errorAttempts': '', 'location': 'Zoo', 'question': \"Oh look, it's a Meerkat, What do we call this animal?\", 'source': 'Keyboard', 'timeInverval': '9.09s', 'userTrails': 1}, {'courseTitle': 'Animals', 'errorAttempts': '', 'location': 'Zoo', 'question': \"Oh look, it's a Meerkat, What do we call this animal?\", 'source': 'Keyboard', 'timeInverval': '9.57s', 'userTrails': 1}, {'courseTitle': 'Animals', 'errorAttempts': '', 'location': 'Zoo', 'question': 'Look, here comes a tiger, Tell me again what animal is this?          ', 'source': 'Keyboard', 'timeInverval': '5.91s', 'userTrails': 1}, {'courseTitle': 'Animals', 'errorAttempts': '', 'location': 'Zoo', 'question': 'Look at this animal jumping, it is a Monkey, Tell me what animal is this?\\r\\n', 'source': 'Keyboard', 'timeInverval': '15.66s', 'userTrails': 1}, {'courseTitle': 'Alphabet', 'errorAttempts': 'monkey, ', 'location': 'School', 'question': 'Next letter is B\\n B is for Ball, a ball is round, Come say it again, Ball', 'source': 'Keyboard', 'timeInverval': '9.29s', 'userTrails': 2}, {'courseTitle': 'Alphabet', 'errorAttempts': 'boys, ', 'location': 'School', 'question': 'Next letter is B\\n B is for Ball, a ball is round, Come say it again, Ball', 'source': 'Keyboard', 'timeInverval': '14.69s', 'userTrails': 2}, {'courseTitle': 'Alphabet', 'errorAttempts': '', 'location': 'School', 'question': \"Then comes C\\n C is for Cat, a cat is an animal, it's your turn now  \", 'source': 'Keyboard', 'timeInverval': '8.07s', 'userTrails': 1}, {'courseTitle': 'Alphabet', 'errorAttempts': '', 'location': 'School', 'question': \"Let's call the next letter, D\\n D is for Doctor, repeat after me, Doctor, Say it again\", 'source': 'Keyboard', 'timeInverval': '7.50s', 'userTrails': 1}, {'courseTitle': 'Alphabet', 'errorAttempts': '', 'location': 'School', 'question': \"Let's call the next letter, D\\n D is for Doctor, repeat after me, Doctor, Say it again\", 'source': 'Keyboard', 'timeInverval': '8.29s', 'userTrails': 1}, {'courseTitle': 'Alphabet', 'errorAttempts': '', 'location': 'School', 'question': \"Then comes C\\n C is for Cat, a cat is an animal, it's your turn now  \", 'source': 'Keyboard', 'timeInverval': '5.11s', 'userTrails': 1}, {'courseTitle': 'Alphabet', 'errorAttempts': '', 'location': 'School', 'question': \"Now, comes E\\n E is for Elephant, let's say it together, Elephant, Let's say it again\", 'source': 'Keyboard', 'timeInverval': '54.08s', 'userTrails': 1}, {'courseTitle': 'Alphabet', 'errorAttempts': '', 'location': 'School', 'question': \"Now, comes E\\n E is for Elephant, let's say it together, Elephant, Let's say it again\", 'source': 'Keyboard', 'timeInverval': '2.66s', 'userTrails': 1}, {'courseTitle': 'Alphabet', 'errorAttempts': '', 'location': 'School', 'question': \"Now, comes E\\n E is for Elephant, let's say it together, Elephant, Let's say it again\", 'source': 'Keyboard', 'timeInverval': '3.49s', 'userTrails': 1}, {'courseTitle': 'Sports', 'errorAttempts': '', 'location': 'Playground', 'question': \"Let's play Football today. So what are we playing again?\", 'source': 'Keyboard', 'timeInverval': '7.65s', 'userTrails': 1}, {'courseTitle': 'Sports', 'errorAttempts': '', 'location': 'Playground', 'question': \"Let's put a ball through the hoop…We are going to play Basketball. Come say it with me?\", 'source': 'Keyboard', 'timeInverval': '8.69s', 'userTrails': 1}, {'courseTitle': 'Sports', 'errorAttempts': '', 'location': 'Playground', 'question': 'Next we are going to use a bat and ball. We are now going to play Cricket. So what are we playing again?', 'source': 'Keyboard', 'timeInverval': '5.58s', 'userTrails': 1}, {'courseTitle': 'Sports', 'errorAttempts': 'football , football , ', 'location': 'Playground', 'question': \"Let's put a ball through the hoop…We are going to play Basketball. Come say it with me?\", 'source': 'Keyboard', 'timeInverval': '20.62s', 'userTrails': 5}, {'courseTitle': 'Sports', 'errorAttempts': '', 'location': 'Playground', 'question': 'Next we are going to use a bat and ball. We are now going to play Cricket. So what are we playing again?', 'source': 'Keyboard', 'timeInverval': '6.37s', 'userTrails': 1}]\n",
      "[{'courseTitle': 'Alphabet', 'errorAttempts': '', 'location': 'School', 'question': 'The first letter is A!\\n A is for Apple, repeat after me, Apple, now you go', 'source': 'Mic', 'timeInverval': '11.34s', 'userTrails': 1}, {'courseTitle': 'Alphabet', 'errorAttempts': 'pool, ', 'location': 'School', 'question': 'Next letter is B\\n B is for Ball, a ball is round, Come say it again, Ball', 'source': 'Mic', 'timeInverval': '31.72s', 'userTrails': 2}, {'courseTitle': 'Alphabet', 'errorAttempts': '', 'location': 'School', 'question': \"Then comes C\\n C is for Cat, a cat is an animal, it's your turn now  \", 'source': 'Mic', 'timeInverval': '18.74s', 'userTrails': 1}, {'courseTitle': 'Alphabet', 'errorAttempts': '', 'location': 'School', 'question': 'The first letter is A!\\n A is for Apple, repeat after me, Apple, now you go', 'source': 'Mic', 'timeInverval': '8.54s', 'userTrails': 1}, {'courseTitle': 'Alphabet', 'errorAttempts': '', 'location': 'School', 'question': \"Then comes C\\n C is for Cat, a cat is an animal, it's your turn now  \", 'source': 'Mic', 'timeInverval': '37.37s', 'userTrails': 1}, {'courseTitle': 'Alphabet', 'errorAttempts': '', 'location': 'School', 'question': \"Let's call the next letter, D\\n D is for Doctor, repeat after me, Doctor, Say it again\", 'source': 'Keyboard', 'timeInverval': '78.36s', 'userTrails': 1}, {'courseTitle': 'Alphabet', 'errorAttempts': '', 'location': 'School', 'question': \"Now, comes E\\n E is for Elephant, let's say it together, Elephant, Let's say it again\", 'source': 'Keyboard', 'timeInverval': '41.34s', 'userTrails': 1}, {'courseTitle': 'Alphabet', 'errorAttempts': '', 'location': 'School', 'question': \"Now, comes E\\n E is for Elephant, let's say it together, Elephant, Let's say it again\", 'source': 'Keyboard', 'timeInverval': '2.44s', 'userTrails': 1}, {'courseTitle': 'Sports', 'errorAttempts': 'cat, elephant, doctor, doctor, elephant, cat, elephant, elephant, doctor, doctor, ', 'location': 'Playground', 'question': \"Let's play Football today. So what are we playing again?\", 'source': 'Mic', 'timeInverval': '28.69s', 'userTrails': 11}, {'courseTitle': 'Sports', 'errorAttempts': 'football, ', 'location': 'Playground', 'question': \"Let's put a ball through the hoop…We are going to play Basketball. Come say it with me?\", 'source': 'Mic', 'timeInverval': '11.77s', 'userTrails': 2}, {'courseTitle': 'Sports', 'errorAttempts': 'crackhead, ', 'location': 'Playground', 'question': 'Next we are going to use a bat and ball. We are now going to play Cricket. So what are we playing again?', 'source': 'Mic', 'timeInverval': '18.20s', 'userTrails': 2}, {'courseTitle': 'Sports', 'errorAttempts': 'volleyball, ', 'location': 'Playground', 'question': \"Let's put a ball through the hoop…We are going to play Basketball. Come say it with me?\", 'source': 'Mic', 'timeInverval': '17.94s', 'userTrails': 2}, {'courseTitle': 'Sports', 'errorAttempts': '', 'location': 'Playground', 'question': \"Let's play Football today. So what are we playing again?\", 'source': 'Mic', 'timeInverval': '5.04s', 'userTrails': 1}, {'courseTitle': 'Sports', 'errorAttempts': '', 'location': 'Playground', 'question': \"Let's play Tennis today. Are you excited? So what are we playing again?\", 'source': 'Keyboard', 'timeInverval': '31.00s', 'userTrails': 1}, {'courseTitle': 'Sports', 'errorAttempts': 'pettis pools, i think kevin, ', 'location': 'Playground', 'question': \"Let's play Tennis today. Are you excited? So what are we playing again?\", 'source': 'Mic', 'timeInverval': '26.88s', 'userTrails': 6}, {'courseTitle': 'Sports', 'errorAttempts': 'tennis ball, i think kevin, tennis, ', 'location': 'Playground', 'question': \"Come let's go Swimming together. So what are we doing again?\", 'source': 'Mic', 'timeInverval': '11.32s', 'userTrails': 7}, {'courseTitle': 'Sports', 'errorAttempts': '', 'location': 'Playground', 'question': 'We are going to go for Running, Now. So get ready and say it again?', 'source': 'Mic', 'timeInverval': '8.08s', 'userTrails': 1}, {'courseTitle': 'Sports', 'errorAttempts': '', 'location': 'Playground', 'question': 'We are going to go for Running, Now. So get ready and say it again?', 'source': 'Mic', 'timeInverval': '4.72s', 'userTrails': 1}, {'courseTitle': 'Sports', 'errorAttempts': 'tennessee, ', 'location': 'Playground', 'question': \"Let's play Tennis today. Are you excited? So what are we playing again?\", 'source': 'Mic', 'timeInverval': '12.83s', 'userTrails': 2}, {'courseTitle': 'Sports', 'errorAttempts': '', 'location': 'Playground', 'question': 'Today we are going to go Cycling. So what are we doing again?', 'source': 'Mic', 'timeInverval': '2.59s', 'userTrails': 1}, {'courseTitle': 'Restaurant', 'errorAttempts': '', 'location': 'Kitchen', 'question': 'Today, we are going to cook a Pizza. So, what are we going to cook today?', 'source': 'Mic', 'timeInverval': '8.31s', 'userTrails': 1}, {'courseTitle': 'Restaurant', 'errorAttempts': 'suit, jumpsuit suit, suit, suit, ', 'location': 'Kitchen', 'question': \"It's cold outside, and it's time to make some Soup. Tell me, what are we making?\", 'source': 'Mic', 'timeInverval': '42.47s', 'userTrails': 6}, {'courseTitle': 'Restaurant', 'errorAttempts': 'little alchemy, cookie, ', 'location': 'Kitchen', 'question': \"It's time to bake some Cookies… Are you excited? What are we baking today?\", 'source': 'Mic', 'timeInverval': '16.54s', 'userTrails': 4}, {'courseTitle': 'Restaurant', 'errorAttempts': '', 'location': 'Kitchen', 'question': 'Today, we are going to cook a Pizza. So, what are we going to cook today?', 'source': 'Mic', 'timeInverval': '6.50s', 'userTrails': 1}, {'courseTitle': 'Restaurant', 'errorAttempts': '', 'location': 'Kitchen', 'question': \"It's time to bake some Cookies… Are you excited? What are we baking today?\", 'source': 'Mic', 'timeInverval': '5.39s', 'userTrails': 1}, {'courseTitle': 'Restaurant', 'errorAttempts': '', 'location': 'Kitchen', 'question': 'The dish we are cooking today is Pasta... One more time, what are we cooking?', 'source': 'Mic', 'timeInverval': '17.40s', 'userTrails': 1}]\n",
      "[{'courseTitle': 'Alphabet', 'errorAttempts': '', 'location': 'School', 'question': 'The first letter is A!\\n A is for Apple, repeat after me, Apple, now you go', 'source': 'Mic', 'timeInverval': '4.78s', 'userTrails': 1}, {'courseTitle': 'Alphabet', 'errorAttempts': '', 'location': 'School', 'question': 'Next letter is B\\n B is for Ball, a ball is round, Come say it again, Ball', 'source': 'Mic', 'timeInverval': '2.81s', 'userTrails': 1}, {'courseTitle': 'Alphabet', 'errorAttempts': 'b, c4 cafe, ', 'location': 'School', 'question': \"Then comes C\\n C is for Cat, a cat is an animal, it's your turn now  \", 'source': 'Mic', 'timeInverval': '4.95s', 'userTrails': 4}, {'courseTitle': 'Alphabet', 'errorAttempts': '', 'location': 'School', 'question': 'Next letter is B\\n B is for Ball, a ball is round, Come say it again, Ball', 'source': 'Mic', 'timeInverval': '12.42s', 'userTrails': 1}, {'courseTitle': 'Alphabet', 'errorAttempts': '', 'location': 'School', 'question': \"Let's call the next letter, D\\n D is for Doctor, repeat after me, Doctor, Say it again\", 'source': 'Mic', 'timeInverval': '3.02s', 'userTrails': 1}, {'courseTitle': 'Alphabet', 'errorAttempts': '', 'location': 'School', 'question': \"Let's call the next letter, D\\n D is for Doctor, repeat after me, Doctor, Say it again\", 'source': 'Mic', 'timeInverval': '3.32s', 'userTrails': 1}, {'courseTitle': 'Alphabet', 'errorAttempts': '', 'location': 'School', 'question': \"Let's call the next letter, D\\n D is for Doctor, repeat after me, Doctor, Say it again\", 'source': 'Mic', 'timeInverval': '12.65s', 'userTrails': 1}, {'courseTitle': 'Alphabet', 'errorAttempts': 'this 4dr, ', 'location': 'School', 'question': \"Let's call the next letter, D\\n D is for Doctor, repeat after me, Doctor, Say it again\", 'source': 'Mic', 'timeInverval': '5.42s', 'userTrails': 3}, {'courseTitle': 'Alphabet', 'errorAttempts': '', 'location': 'School', 'question': \"Now, comes E\\n E is for Elephant, let's say it together, Elephant, Let's say it again\", 'source': 'Mic', 'timeInverval': '2.96s', 'userTrails': 1}, {'courseTitle': 'Alphabet', 'errorAttempts': '', 'location': 'School', 'question': 'The next letter is F\\n F is for Flower, Yes, you are right, Flower, say it again, Come on.', 'source': 'Mic', 'timeInverval': '11.75s', 'userTrails': 1}, {'courseTitle': 'Alphabet', 'errorAttempts': 'is for elephant, ', 'location': 'School', 'question': \"Now, comes E\\n E is for Elephant, let's say it together, Elephant, Let's say it again\", 'source': 'Mic', 'timeInverval': '31.00s', 'userTrails': 4}, {'courseTitle': 'Alphabet', 'errorAttempts': 'is for elephant, ', 'location': 'School', 'question': 'The first letter is A!\\n A is for Apple, repeat after me, Apple, now you go', 'source': 'Keyboard', 'timeInverval': '10.28s', 'userTrails': 4}, {'courseTitle': 'Alphabet', 'errorAttempts': '', 'location': 'School', 'question': 'The next letter is F\\n F is for Flower, Yes, you are right, Flower, say it again, Come on.', 'source': 'Keyboard', 'timeInverval': '6.07s', 'userTrails': 1}, {'courseTitle': 'Sports', 'errorAttempts': '', 'location': 'Playground', 'question': \"Let's play Football today. So what are we playing again?\", 'source': 'Keyboard', 'timeInverval': '15.32s', 'userTrails': 1}, {'courseTitle': 'Sports', 'errorAttempts': '', 'location': 'Playground', 'question': \"Let's put a ball through the hoop…We are going to play Basketball. Come say it with me?\", 'source': 'Keyboard', 'timeInverval': '6.95s', 'userTrails': 1}, {'courseTitle': 'Sports', 'errorAttempts': '', 'location': 'Playground', 'question': 'Next we are going to use a bat and ball. We are now going to play Cricket. So what are we playing again?', 'source': 'Keyboard', 'timeInverval': '11.13s', 'userTrails': 1}, {'courseTitle': 'Sports', 'errorAttempts': '', 'location': 'Playground', 'question': \"Let's put a ball through the hoop…We are going to play Basketball. Come say it with me?\", 'source': 'Keyboard', 'timeInverval': '10.44s', 'userTrails': 1}, {'courseTitle': 'Sports', 'errorAttempts': '', 'location': 'Playground', 'question': 'Next we are going to use a bat and ball. We are now going to play Cricket. So what are we playing again?', 'source': 'Keyboard', 'timeInverval': '8.70s', 'userTrails': 1}, {'courseTitle': 'Restaurant', 'errorAttempts': '', 'location': 'Kitchen', 'question': 'Today, we are going to cook a Pizza. So, what are we going to cook today?', 'source': 'Keyboard', 'timeInverval': '11.95s', 'userTrails': 1}, {'courseTitle': 'Restaurant', 'errorAttempts': '', 'location': 'Kitchen', 'question': \"It's cold outside, and it's time to make some Soup. Tell me, what are we making?\", 'source': 'Keyboard', 'timeInverval': '5.06s', 'userTrails': 1}, {'courseTitle': 'Restaurant', 'errorAttempts': 'cookie , ', 'location': 'Kitchen', 'question': \"It's time to bake some Cookies… Are you excited? What are we baking today?\", 'source': 'Keyboard', 'timeInverval': '22.16s', 'userTrails': 3}, {'courseTitle': 'Restaurant', 'errorAttempts': '', 'location': 'Kitchen', 'question': \"It's cold outside, and it's time to make some Soup. Tell me, what are we making?\", 'source': 'Keyboard', 'timeInverval': '6.18s', 'userTrails': 1}, {'courseTitle': 'Restaurant', 'errorAttempts': '', 'location': 'Kitchen', 'question': 'Today, we are going to cook a Pizza. So, what are we going to cook today?', 'source': 'Keyboard', 'timeInverval': '5.48s', 'userTrails': 1}, {'courseTitle': 'Animals', 'errorAttempts': '', 'location': 'Zoo', 'question': 'This animal is called a Dog... Did you know that? So what is this animal again?', 'source': 'Keyboard', 'timeInverval': '6.05s', 'userTrails': 1}, {'courseTitle': 'Animals', 'errorAttempts': '', 'location': 'Zoo', 'question': 'Look, here comes a tiger, Tell me again what animal is this?          ', 'source': 'Keyboard', 'timeInverval': '65.43s', 'userTrails': 1}]\n",
      "[{'courseTitle': 'Alphabet', 'errorAttempts': '', 'location': 'School', 'question': 'The first letter is A!\\n A is for Apple, repeat after me, Apple, now you go', 'source': 'Keyboard', 'timeInverval': '36.17s', 'userTrails': 1}, {'courseTitle': 'Alphabet', 'errorAttempts': '', 'location': 'School', 'question': 'Next letter is B\\n B is for Ball, a ball is round, Come say it again, Ball', 'source': 'Keyboard', 'timeInverval': '69.27s', 'userTrails': 1}, {'courseTitle': 'Alphabet', 'errorAttempts': '', 'location': 'School', 'question': \"Then comes C\\n C is for Cat, a cat is an animal, it's your turn now  \", 'source': 'Keyboard', 'timeInverval': '15.71s', 'userTrails': 1}, {'courseTitle': 'Alphabet', 'errorAttempts': '', 'location': 'School', 'question': 'The first letter is A!\\n A is for Apple, repeat after me, Apple, now you go', 'source': 'Keyboard', 'timeInverval': '16.22s', 'userTrails': 1}, {'courseTitle': 'Alphabet', 'errorAttempts': '', 'location': 'School', 'question': \"Then comes C\\n C is for Cat, a cat is an animal, it's your turn now  \", 'source': 'Keyboard', 'timeInverval': '8.46s', 'userTrails': 1}, {'courseTitle': 'Alphabet', 'errorAttempts': '', 'location': 'School', 'question': \"Let's call the next letter, D\\n D is for Doctor, repeat after me, Doctor, Say it again\", 'source': 'Keyboard', 'timeInverval': '109.17s', 'userTrails': 1}, {'courseTitle': 'Alphabet', 'errorAttempts': '', 'location': 'School', 'question': \"Let's call the next letter, D\\n D is for Doctor, repeat after me, Doctor, Say it again\", 'source': 'Mic', 'timeInverval': '10.84s', 'userTrails': 1}, {'courseTitle': 'Alphabet', 'errorAttempts': '', 'location': 'School', 'question': \"Now, comes E\\n E is for Elephant, let's say it together, Elephant, Let's say it again\", 'source': 'Mic', 'timeInverval': '9.26s', 'userTrails': 1}, {'courseTitle': 'Alphabet', 'errorAttempts': '', 'location': 'School', 'question': 'The next letter is F\\n F is for Flower, Yes, you are right, Flower, say it again, Come on.', 'source': 'Mic', 'timeInverval': '10.93s', 'userTrails': 1}, {'courseTitle': 'Alphabet', 'errorAttempts': ' e, ', 'location': 'School', 'question': \"Now, comes E\\n E is for Elephant, let's say it together, Elephant, Let's say it again\", 'source': 'Mic', 'timeInverval': '37.48s', 'userTrails': 3}, {'courseTitle': 'Alphabet', 'errorAttempts': '', 'location': 'School', 'question': \"Let's call the next letter, D\\n D is for Doctor, repeat after me, Doctor, Say it again\", 'source': 'Mic', 'timeInverval': '8.94s', 'userTrails': 1}, {'courseTitle': 'Alphabet', 'errorAttempts': 'recognize failed: cannot connect to destination host, ', 'location': 'School', 'question': 'Next letter is B\\n B is for Ball, a ball is round, Come say it again, Ball', 'source': 'Keyboard', 'timeInverval': '57.02s', 'userTrails': 8}, {'courseTitle': 'Sports', 'errorAttempts': 'recognize failed: cannot connect to destination host, recognize failed: cannot resolve destination host, ', 'location': 'Playground', 'question': \"Let's play Football today. So what are we playing again?\", 'source': 'Keyboard', 'timeInverval': '59.98s', 'userTrails': 14}, {'courseTitle': 'Sports', 'errorAttempts': '', 'location': 'Playground', 'question': \"Let's put a ball through the hoop…We are going to play Basketball. Come say it with me?\", 'source': 'Keyboard', 'timeInverval': '33.42s', 'userTrails': 1}, {'courseTitle': 'Restaurant', 'errorAttempts': 'recognize failed: cannot resolve destination host, ', 'location': 'Kitchen', 'question': 'Today, we are going to cook a Pizza. So, what are we going to cook today?', 'source': 'Keyboard', 'timeInverval': '62.69s', 'userTrails': 7}, {'courseTitle': 'Restaurant', 'errorAttempts': '', 'location': 'Kitchen', 'question': \"It's cold outside, and it's time to make some Soup. Tell me, what are we making?\", 'source': 'Keyboard', 'timeInverval': '94.74s', 'userTrails': 1}, {'courseTitle': 'Restaurant', 'errorAttempts': '', 'location': 'Kitchen', 'question': \"It's time to bake some Cookies… Are you excited? What are we baking today?\", 'source': 'Keyboard', 'timeInverval': '40.82s', 'userTrails': 1}]\n",
      "[{'courseTitle': 'Alphabet', 'errorAttempts': '', 'location': 'School', 'question': 'The first letter is A!\\n A is for Apple, repeat after me, Apple, now you go', 'source': 'Keyboard', 'timeInverval': '3.03s', 'userTrails': 1}, {'courseTitle': 'Alphabet', 'errorAttempts': '', 'location': 'School', 'question': 'The first letter is A!\\n A is for Apple, repeat after me, Apple, now you go', 'source': 'Mic', 'timeInverval': '10.29s', 'userTrails': 1}, {'courseTitle': 'Alphabet', 'errorAttempts': '', 'location': 'School', 'question': 'Next letter is B\\n B is for Ball, a ball is round, Come say it again, Ball', 'source': 'Mic', 'timeInverval': '5.57s', 'userTrails': 1}, {'courseTitle': 'Alphabet', 'errorAttempts': '', 'location': 'School', 'question': \"Then comes C\\n C is for Cat, a cat is an animal, it's your turn now  \", 'source': 'Mic', 'timeInverval': '5.58s', 'userTrails': 1}, {'courseTitle': 'Alphabet', 'errorAttempts': '', 'location': 'School', 'question': \"Then comes C\\n C is for Cat, a cat is an animal, it's your turn now  \", 'source': 'Mic', 'timeInverval': '12.58s', 'userTrails': 1}, {'courseTitle': 'Alphabet', 'errorAttempts': '', 'location': 'School', 'question': 'The first letter is A!\\n A is for Apple, repeat after me, Apple, now you go', 'source': 'Mic', 'timeInverval': '3.82s', 'userTrails': 1}, {'courseTitle': 'Sports', 'errorAttempts': '', 'location': 'Playground', 'question': \"Let's play Football today. So what are we playing again?\", 'source': 'Mic', 'timeInverval': '4.71s', 'userTrails': 1}, {'courseTitle': 'Sports', 'errorAttempts': '', 'location': 'Playground', 'question': \"Let's put a ball through the hoop…We are going to play Basketball. Come say it with me?\", 'source': 'Mic', 'timeInverval': '6.27s', 'userTrails': 1}, {'courseTitle': 'Sports', 'errorAttempts': '', 'location': 'Playground', 'question': 'Next we are going to use a bat and ball. We are now going to play Cricket. So what are we playing again?', 'source': 'Keyboard', 'timeInverval': '18.97s', 'userTrails': 1}, {'courseTitle': 'Sports', 'errorAttempts': '', 'location': 'Playground', 'question': 'Next we are going to use a bat and ball. We are now going to play Cricket. So what are we playing again?', 'source': 'Keyboard', 'timeInverval': '12.67s', 'userTrails': 1}, {'courseTitle': 'Sports', 'errorAttempts': '', 'location': 'Playground', 'question': \"Let's play Football today. So what are we playing again?\", 'source': 'Keyboard', 'timeInverval': '31.86s', 'userTrails': 1}, {'courseTitle': 'Restaurant', 'errorAttempts': 'cricket, ', 'location': 'Kitchen', 'question': 'Today, we are going to cook a Pizza. So, what are we going to cook today?', 'source': 'Mic', 'timeInverval': '15.98s', 'userTrails': 2}, {'courseTitle': 'Restaurant', 'errorAttempts': 'cricket, cricket, football, ', 'location': 'Kitchen', 'question': \"It's cold outside, and it's time to make some Soup. Tell me, what are we making?\", 'source': 'Mic', 'timeInverval': '12.12s', 'userTrails': 4}, {'courseTitle': 'Restaurant', 'errorAttempts': '', 'location': 'Kitchen', 'question': \"It's time to bake some Cookies… Are you excited? What are we baking today?\", 'source': 'Mic', 'timeInverval': '21.30s', 'userTrails': 1}, {'courseTitle': 'Restaurant', 'errorAttempts': '', 'location': 'Kitchen', 'question': \"It's time to bake some Cookies… Are you excited? What are we baking today?\", 'source': 'Mic', 'timeInverval': '1.58s', 'userTrails': 1}, {'courseTitle': 'Restaurant', 'errorAttempts': '', 'location': 'Kitchen', 'question': 'Today, we are going to cook a Pizza. So, what are we going to cook today?', 'source': 'Mic', 'timeInverval': '4.00s', 'userTrails': 1}, {'courseTitle': 'Animals', 'errorAttempts': '', 'location': 'Zoo', 'question': 'This animal is called a Dog... Did you know that? So what is this animal again?', 'source': 'Mic', 'timeInverval': '11.39s', 'userTrails': 1}, {'courseTitle': 'Animals', 'errorAttempts': '', 'location': 'Zoo', 'question': 'Look, here comes a tiger, Tell me again what animal is this?          ', 'source': 'Mic', 'timeInverval': '6.27s', 'userTrails': 1}, {'courseTitle': 'Animals', 'errorAttempts': '', 'location': 'Zoo', 'question': \"Oh look, it's a Meerkat, What do we call this animal?\", 'source': 'Mic', 'timeInverval': '8.73s', 'userTrails': 1}, {'courseTitle': 'Animals', 'errorAttempts': 'tyga, ', 'location': 'Zoo', 'question': 'Look, here comes a tiger, Tell me again what animal is this?          ', 'source': 'Mic', 'timeInverval': '15.16s', 'userTrails': 2}, {'courseTitle': 'Animals', 'errorAttempts': '', 'location': 'Zoo', 'question': 'This animal is called a Dog... Did you know that? So what is this animal again?', 'source': 'Mic', 'timeInverval': '5.98s', 'userTrails': 1}, {'courseTitle': 'Veggies', 'errorAttempts': '', 'location': 'Kitchen', 'question': 'A is for apple. What is the fruit called?', 'source': 'Mic', 'timeInverval': '14.35s', 'userTrails': 1}, {'courseTitle': 'Veggies', 'errorAttempts': '', 'location': 'Kitchen', 'question': 'B is for banana. What is the fruit called?', 'source': 'Mic', 'timeInverval': '4.04s', 'userTrails': 1}, {'courseTitle': 'Veggies', 'errorAttempts': 'carid, tie rod, garrett, ', 'location': 'Kitchen', 'question': 'C is for carrot. What is the vegetable called?', 'source': 'Keyboard', 'timeInverval': '25.54s', 'userTrails': 5}, {'courseTitle': 'Veggies', 'errorAttempts': 'no, ', 'location': 'Kitchen', 'question': 'A is for apple. What is the fruit called?', 'source': 'Mic', 'timeInverval': '14.35s', 'userTrails': 2}, {'courseTitle': 'Veggies', 'errorAttempts': 'banana, ', 'location': 'Kitchen', 'question': 'C is for carrot. What is the vegetable called?', 'source': 'Mic', 'timeInverval': '13.12s', 'userTrails': 2}]\n",
      "[{'courseTitle': 'Alphabet', 'errorAttempts': '', 'location': 'School', 'question': \"Let's call the next letter, D\\n D is for Doctor, repeat after me, Doctor, Say it again\", 'source': 'Mic', 'timeInverval': '16.10s', 'userTrails': 1}, {'courseTitle': 'Alphabet', 'errorAttempts': 'doctor, ', 'location': 'School', 'question': \"Now, comes E\\n E is for Elephant, let's say it together, Elephant, Let's say it again\", 'source': 'Keyboard', 'timeInverval': '9.77s', 'userTrails': 2}, {'courseTitle': 'Alphabet', 'errorAttempts': '', 'location': 'School', 'question': 'The next letter is F\\n F is for Flower, Yes, you are right, Flower, say it again, Come on.', 'source': 'Keyboard', 'timeInverval': '3.41s', 'userTrails': 1}, {'courseTitle': 'Alphabet', 'errorAttempts': '', 'location': 'School', 'question': 'The next letter is F\\n F is for Flower, Yes, you are right, Flower, say it again, Come on.', 'source': 'Keyboard', 'timeInverval': '2.63s', 'userTrails': 1}, {'courseTitle': 'Animals', 'errorAttempts': '', 'location': 'Zoo', 'question': 'Look at this animal jumping, it is a Monkey, Tell me what animal is this?\\r\\n', 'source': 'Keyboard', 'timeInverval': '5.46s', 'userTrails': 1}]\n",
      "[{'courseTitle': 'Alphabet', 'errorAttempts': '', 'location': 'School', 'question': 'The first letter is A!\\n A is for Apple, repeat after me, Apple, now you go', 'source': 'Mic', 'timeInverval': '1.89s', 'userTrails': 1}, {'courseTitle': 'Alphabet', 'errorAttempts': '', 'location': 'School', 'question': 'Next letter is B\\n B is for Ball, a ball is round, Come say it again, Ball', 'source': 'Mic', 'timeInverval': '5.00s', 'userTrails': 1}]\n",
      "[{'courseTitle': 'Alphabet', 'errorAttempts': '', 'location': 'School', 'question': \"Then comes C\\n C is for Cat, a cat is an animal, it's your turn now  \", 'source': 'Mic', 'timeInverval': '10.27s', 'userTrails': 1}, {'courseTitle': 'Alphabet', 'errorAttempts': '', 'location': 'School', 'question': \"Let's call the next letter, D\\n D is for Doctor, repeat after me, Doctor, Say it again\", 'source': 'Mic', 'timeInverval': '6.17s', 'userTrails': 1}, {'courseTitle': 'Alphabet', 'errorAttempts': '', 'location': 'School', 'question': \"Now, comes E\\n E is for Elephant, let's say it together, Elephant, Let's say it again\", 'source': 'Mic', 'timeInverval': '1.57s', 'userTrails': 1}, {'courseTitle': 'Alphabet', 'errorAttempts': '', 'location': 'School', 'question': 'Next letter is B\\n B is for Ball, a ball is round, Come say it again, Ball', 'source': 'Mic', 'timeInverval': '1.56s', 'userTrails': 1}, {'courseTitle': 'Alphabet', 'errorAttempts': '', 'location': 'School', 'question': 'The first letter is A!\\n A is for Apple, repeat after me, Apple, now you go', 'source': 'Mic', 'timeInverval': '1.91s', 'userTrails': 1}, {'courseTitle': 'Alphabet', 'errorAttempts': '', 'location': 'School', 'question': \"Let's call the next letter, D\\n D is for Doctor, repeat after me, Doctor, Say it again\", 'source': 'Mic', 'timeInverval': '1.54s', 'userTrails': 1}, {'courseTitle': 'Sports', 'errorAttempts': '', 'location': 'Playground', 'question': \"Let's play Football today. So what are we playing again?\", 'source': 'Keyboard', 'timeInverval': '2.25s', 'userTrails': 1}, {'courseTitle': 'Restaurant', 'errorAttempts': '', 'location': 'Kitchen', 'question': 'Today, we are going to cook a Pizza. So, what are we going to cook today?', 'source': 'Mic', 'timeInverval': '10.06s', 'userTrails': 1}, {'courseTitle': 'Restaurant', 'errorAttempts': '', 'location': 'Kitchen', 'question': \"It's cold outside, and it's time to make some Soup. Tell me, what are we making?\", 'source': 'Mic', 'timeInverval': '2.06s', 'userTrails': 1}, {'courseTitle': 'Restaurant', 'errorAttempts': '', 'location': 'Kitchen', 'question': \"It's time to bake some Cookies… Are you excited? What are we baking today?\", 'source': 'Mic', 'timeInverval': '5.28s', 'userTrails': 1}, {'courseTitle': 'Restaurant', 'errorAttempts': '', 'location': 'Kitchen', 'question': \"It's cold outside, and it's time to make some Soup. Tell me, what are we making?\", 'source': 'Mic', 'timeInverval': '1.69s', 'userTrails': 1}, {'courseTitle': 'Restaurant', 'errorAttempts': '', 'location': 'Kitchen', 'question': 'Today, we are going to cook a Pizza. So, what are we going to cook today?', 'source': 'Mic', 'timeInverval': '1.51s', 'userTrails': 1}, {'courseTitle': 'Restaurant', 'errorAttempts': '', 'location': 'Kitchen', 'question': \"Let's learn how to make Curry… One more time, what are we cooking?\", 'source': 'Mic', 'timeInverval': '2.48s', 'userTrails': 1}, {'courseTitle': 'Restaurant', 'errorAttempts': '', 'location': 'Kitchen', 'question': 'Are you excited to learn about Chinese noodles. Come, tell me what are we going to cook today?', 'source': 'Mic', 'timeInverval': '3.76s', 'userTrails': 1}, {'courseTitle': 'Restaurant', 'errorAttempts': '', 'location': 'Kitchen', 'question': \"It's time to bake some Cookies… Are you excited? What are we baking today?\", 'source': 'Mic', 'timeInverval': '1.69s', 'userTrails': 1}, {'courseTitle': 'Restaurant', 'errorAttempts': '', 'location': 'Kitchen', 'question': 'Today, we are going to cook a Pizza. So, what are we going to cook today?', 'source': 'Mic', 'timeInverval': '2.24s', 'userTrails': 1}, {'courseTitle': 'Restaurant', 'errorAttempts': '', 'location': 'Kitchen', 'question': \"It's cold outside, and it's time to make some Soup. Tell me, what are we making?\", 'source': 'Mic', 'timeInverval': '1.72s', 'userTrails': 1}, {'courseTitle': 'Restaurant', 'errorAttempts': '', 'location': 'Kitchen', 'question': 'The dish we are cooking today is Pasta... One more time, what are we cooking?', 'source': 'Keyboard', 'timeInverval': '53.72s', 'userTrails': 1}]\n",
      "[{'courseTitle': 'Alphabet', 'errorAttempts': '', 'location': 'School', 'question': 'The first letter is A!\\n A is for Apple, repeat after me, Apple, now you go', 'source': 'Keyboard', 'timeInverval': '6.34s', 'userTrails': 1}, {'courseTitle': 'Alphabet', 'errorAttempts': '', 'location': 'School', 'question': 'The first letter is A!\\n A is for Apple, repeat after me, Apple, now you go', 'source': 'Keyboard', 'timeInverval': '9.31s', 'userTrails': 1}]\n",
      "[{'courseTitle': 'Animals', 'errorAttempts': '', 'location': 'Zoo', 'question': 'This animal is called a Dog... Did you know that? So what is this animal again?', 'source': 'Keyboard', 'timeInverval': '11.67s', 'userTrails': 1}, {'courseTitle': 'Animals', 'errorAttempts': '', 'location': 'Zoo', 'question': 'Look, here comes a tiger, Tell me again what animal is this?          ', 'source': 'Keyboard', 'timeInverval': '7.31s', 'userTrails': 1}, {'courseTitle': 'Animals', 'errorAttempts': '', 'location': 'Zoo', 'question': \"Oh look, it's a Meerkat, What do we call this animal?\", 'source': 'Keyboard', 'timeInverval': '8.18s', 'userTrails': 1}, {'courseTitle': 'Animals', 'errorAttempts': '', 'location': 'Zoo', 'question': 'This animal is called a Dog... Did you know that? So what is this animal again?', 'source': 'Keyboard', 'timeInverval': '14.49s', 'userTrails': 1}, {'courseTitle': 'Animals', 'errorAttempts': '', 'location': 'Zoo', 'question': 'Look, here comes a tiger, Tell me again what animal is this?          ', 'source': 'Keyboard', 'timeInverval': '9.64s', 'userTrails': 1}, {'courseTitle': 'Animals', 'errorAttempts': '', 'location': 'Zoo', 'question': 'Look at this animal jumping, it is a Monkey, Tell me what animal is this?\\r\\n', 'source': 'Keyboard', 'timeInverval': '22.51s', 'userTrails': 1}]\n",
      "[{'courseTitle': 'Alphabet', 'errorAttempts': '', 'location': 'School', 'question': 'The first letter is A!\\n A is for Apple, repeat after me, Apple, now you go', 'source': 'Keyboard', 'timeInverval': '2.92s', 'userTrails': 1}]\n",
      "[{'courseTitle': 'Alphabet', 'errorAttempts': '', 'location': 'School', 'question': 'The first letter is A!\\n A is for Apple, repeat after me, Apple, now you go', 'source': 'Mic', 'timeInverval': '9.51s', 'userTrails': 1}, {'courseTitle': 'Alphabet', 'errorAttempts': '', 'location': 'School', 'question': 'Next letter is B\\n B is for Ball, a ball is round, Come say it again, Ball', 'source': 'Mic', 'timeInverval': '7.54s', 'userTrails': 1}, {'courseTitle': 'Alphabet', 'errorAttempts': '', 'location': 'School', 'question': \"Then comes C\\n C is for Cat, a cat is an animal, it's your turn now  \", 'source': 'Mic', 'timeInverval': '6.48s', 'userTrails': 1}, {'courseTitle': 'Alphabet', 'errorAttempts': '', 'location': 'School', 'question': \"Then comes C\\n C is for Cat, a cat is an animal, it's your turn now  \", 'source': 'Mic', 'timeInverval': '14.50s', 'userTrails': 1}, {'courseTitle': 'Alphabet', 'errorAttempts': '', 'location': 'School', 'question': 'The first letter is A!\\n A is for Apple, repeat after me, Apple, now you go', 'source': 'Mic', 'timeInverval': '2.48s', 'userTrails': 1}, {'courseTitle': 'Sports', 'errorAttempts': '', 'location': 'Playground', 'question': \"Let's play Football today. So what are we playing again?\", 'source': 'Mic', 'timeInverval': '5.17s', 'userTrails': 1}, {'courseTitle': 'Sports', 'errorAttempts': '', 'location': 'Playground', 'question': \"Let's put a ball through the hoop…We are going to play Basketball. Come say it with me?\", 'source': 'Mic', 'timeInverval': '7.62s', 'userTrails': 1}, {'courseTitle': 'Sports', 'errorAttempts': '', 'location': 'Playground', 'question': 'Next we are going to use a bat and ball. We are now going to play Cricket. So what are we playing again?', 'source': 'Mic', 'timeInverval': '7.18s', 'userTrails': 1}, {'courseTitle': 'Sports', 'errorAttempts': '', 'location': 'Playground', 'question': 'Next we are going to use a bat and ball. We are now going to play Cricket. So what are we playing again?', 'source': 'Mic', 'timeInverval': '2.29s', 'userTrails': 1}, {'courseTitle': 'Sports', 'errorAttempts': '', 'location': 'Playground', 'question': \"Let's put a ball through the hoop…We are going to play Basketball. Come say it with me?\", 'source': 'Mic', 'timeInverval': '3.19s', 'userTrails': 1}, {'courseTitle': 'Restaurant', 'errorAttempts': '', 'location': 'Kitchen', 'question': 'Today, we are going to cook a Pizza. So, what are we going to cook today?', 'source': 'Mic', 'timeInverval': '5.92s', 'userTrails': 1}, {'courseTitle': 'Restaurant', 'errorAttempts': '', 'location': 'Kitchen', 'question': \"It's cold outside, and it's time to make some Soup. Tell me, what are we making?\", 'source': 'Mic', 'timeInverval': '5.60s', 'userTrails': 1}, {'courseTitle': 'Restaurant', 'errorAttempts': '', 'location': 'Kitchen', 'question': \"It's time to bake some Cookies… Are you excited? What are we baking today?\", 'source': 'Mic', 'timeInverval': '5.48s', 'userTrails': 1}, {'courseTitle': 'Restaurant', 'errorAttempts': '', 'location': 'Kitchen', 'question': \"It's cold outside, and it's time to make some Soup. Tell me, what are we making?\", 'source': 'Mic', 'timeInverval': '1.89s', 'userTrails': 1}, {'courseTitle': 'Restaurant', 'errorAttempts': '', 'location': 'Kitchen', 'question': \"It's time to bake some Cookies… Are you excited? What are we baking today?\", 'source': 'Mic', 'timeInverval': '1.99s', 'userTrails': 1}, {'courseTitle': 'Animals', 'errorAttempts': '', 'location': 'Zoo', 'question': 'This animal is called a Dog... Did you know that? So what is this animal again?', 'source': 'Mic', 'timeInverval': '5.65s', 'userTrails': 1}, {'courseTitle': 'Animals', 'errorAttempts': '', 'location': 'Zoo', 'question': 'Look, here comes a tiger, Tell me again what animal is this?          ', 'source': 'Mic', 'timeInverval': '4.90s', 'userTrails': 1}, {'courseTitle': 'Animals', 'errorAttempts': \"it's made cat, \", 'location': 'Zoo', 'question': \"Oh look, it's a Meerkat, What do we call this animal?\", 'source': 'Mic', 'timeInverval': '5.58s', 'userTrails': 4}, {'courseTitle': 'Animals', 'errorAttempts': '', 'location': 'Zoo', 'question': \"Oh look, it's a Meerkat, What do we call this animal?\", 'source': 'Mic', 'timeInverval': '1.87s', 'userTrails': 1}, {'courseTitle': 'Animals', 'errorAttempts': '', 'location': 'Zoo', 'question': 'Look, here comes a tiger, Tell me again what animal is this?          ', 'source': 'Mic', 'timeInverval': '1.82s', 'userTrails': 1}, {'courseTitle': 'Veggies', 'errorAttempts': '', 'location': 'Kitchen', 'question': 'A is for apple. What is the fruit called?', 'source': 'Mic', 'timeInverval': '4.20s', 'userTrails': 1}, {'courseTitle': 'Veggies', 'errorAttempts': '', 'location': 'Kitchen', 'question': 'B is for banana. What is the fruit called?', 'source': 'Mic', 'timeInverval': '3.03s', 'userTrails': 1}, {'courseTitle': 'Veggies', 'errorAttempts': '', 'location': 'Kitchen', 'question': 'C is for carrot. What is the vegetable called?', 'source': 'Mic', 'timeInverval': '4.15s', 'userTrails': 1}]\n",
      "[{'courseTitle': 'Alphabet', 'errorAttempts': '', 'location': 'School', 'question': \"Let's call the next letter, D\\n D is for Doctor, repeat after me, Doctor, Say it again\", 'source': 'Mic', 'timeInverval': '7.52s', 'userTrails': 1}]\n",
      "[{'courseTitle': 'Sports', 'errorAttempts': '', 'location': 'Playground', 'question': \"Let's play Football today. So what are we playing again?\", 'source': 'Keyboard', 'timeInverval': '5.51s', 'userTrails': 1}, {'courseTitle': 'Alphabet', 'errorAttempts': '', 'location': 'School', 'question': 'Next letter is B\\n B is for Ball, a ball is round, Come say it again, Ball', 'source': 'Keyboard', 'timeInverval': '4.21s', 'userTrails': 1}, {'courseTitle': 'Restaurant', 'errorAttempts': '', 'location': 'Kitchen', 'question': 'Today, we are going to cook a Pizza. So, what are we going to cook today?', 'source': 'Keyboard', 'timeInverval': '4.33s', 'userTrails': 1}, {'courseTitle': 'Animals', 'errorAttempts': '', 'location': 'Zoo', 'question': 'This animal is called a Dog... Did you know that? So what is this animal again?', 'source': 'Keyboard', 'timeInverval': '3.70s', 'userTrails': 1}, {'courseTitle': 'Alphabet', 'errorAttempts': '', 'location': 'School', 'question': 'Next letter is B\\n B is for Ball, a ball is round, Come say it again, Ball', 'source': 'Keyboard', 'timeInverval': '13.23s', 'userTrails': 1}, {'courseTitle': 'Alphabet', 'errorAttempts': '', 'location': 'School', 'question': 'Next letter is B\\n B is for Ball, a ball is round, Come say it again, Ball', 'source': 'Keyboard', 'timeInverval': '5.72s', 'userTrails': 1}]\n",
      "[{'courseTitle': 'Alphabet', 'errorAttempts': '', 'location': 'School', 'question': 'Next letter is B\\n B is for Ball, a ball is round, Come say it again, Ball', 'source': 'Keyboard', 'timeInverval': '3.43s', 'userTrails': 1}]\n",
      "[{'courseTitle': 'Alphabet', 'errorAttempts': '', 'location': 'School', 'question': 'Next letter is B\\n B is for Ball, a ball is round, Come say it again, Ball', 'source': 'Keyboard', 'timeInverval': '4.83s', 'userTrails': 1}, {'courseTitle': 'Alphabet', 'errorAttempts': '', 'location': 'School', 'question': \"Then comes C\\n C is for Cat, a cat is an animal, it's your turn now  \", 'source': 'Keyboard', 'timeInverval': '5.10s', 'userTrails': 1}, {'courseTitle': 'Alphabet', 'errorAttempts': '', 'location': 'School', 'question': \"Let's call the next letter, D\\n D is for Doctor, repeat after me, Doctor, Say it again\", 'source': 'Keyboard', 'timeInverval': '4.32s', 'userTrails': 1}, {'courseTitle': 'Alphabet', 'errorAttempts': '', 'location': 'School', 'question': \"Let's call the next letter, D\\n D is for Doctor, repeat after me, Doctor, Say it again\", 'source': 'Keyboard', 'timeInverval': '5.52s', 'userTrails': 1}, {'courseTitle': 'Alphabet', 'errorAttempts': '', 'location': 'School', 'question': \"Then comes C\\n C is for Cat, a cat is an animal, it's your turn now  \", 'source': 'Keyboard', 'timeInverval': '0.10s', 'userTrails': 1}]\n",
      "[{'courseTitle': 'Alphabet', 'errorAttempts': '', 'location': 'School', 'question': \"Now, comes E\\n E is for Elephant, let's say it together, Elephant, Let's say it again\", 'source': 'Keyboard', 'timeInverval': '7.08s', 'userTrails': 1}, {'courseTitle': 'Alphabet', 'errorAttempts': '', 'location': 'School', 'question': 'The next letter is F\\n F is for Flower, Yes, you are right, Flower, say it again, Come on.', 'source': 'Keyboard', 'timeInverval': '1.07s', 'userTrails': 1}]\n",
      "[{'courseTitle': 'Alphabet', 'errorAttempts': '', 'location': 'School', 'question': 'The next letter is F\\n F is for Flower, Yes, you are right, Flower, say it again, Come on.', 'source': 'Keyboard', 'timeInverval': '4.99s', 'userTrails': 1}, {'courseTitle': 'Alphabet', 'errorAttempts': '', 'location': 'School', 'question': 'Welcome letter G\\n G is for Great, repeat after me, Great, now you go...', 'source': 'Keyboard', 'timeInverval': '2.28s', 'userTrails': 1}]\n",
      "[{'courseTitle': 'Alphabet', 'errorAttempts': '', 'location': 'School', 'question': 'Welcome letter G\\n G is for Great, repeat after me, Great, now you go...', 'source': 'Keyboard', 'timeInverval': '1.30s', 'userTrails': 1}]\n",
      "[{'courseTitle': 'Alphabet', 'errorAttempts': '', 'location': 'School', 'question': 'Welcome letter G\\n G is for Great, repeat after me, Great, now you go...', 'source': 'Keyboard', 'timeInverval': '7.52s', 'userTrails': 1}, {'courseTitle': 'Alphabet', 'errorAttempts': '', 'location': 'School', 'question': 'Then comes H\\n H is for House, Say it along, House, come on, your turn', 'source': 'Keyboard', 'timeInverval': '17.68s', 'userTrails': 1}]\n",
      "[{'courseTitle': 'Alphabet', 'errorAttempts': '', 'location': 'School', 'question': 'The first letter is A!\\n A is for Apple, repeat after me, Apple, now you go', 'source': 'Keyboard', 'timeInverval': '6.08s', 'userTrails': 1}]\n",
      "[{'courseTitle': 'Alphabet', 'errorAttempts': '', 'location': 'School', 'question': 'Next letter is B\\n B is for Ball, a ball is round, Come say it again, Ball', 'source': 'Keyboard', 'timeInverval': '4.19s', 'userTrails': 1}]\n",
      "[{'courseTitle': 'Alphabet', 'errorAttempts': '', 'location': 'School', 'question': 'Next letter is B\\n B is for Ball, a ball is round, Come say it again, Ball', 'source': 'Keyboard', 'timeInverval': '1.26s', 'userTrails': 1}, {'courseTitle': 'Alphabet', 'errorAttempts': '', 'location': 'School', 'question': 'Next letter is B\\n B is for Ball, a ball is round, Come say it again, Ball', 'source': 'Keyboard', 'timeInverval': '1.49s', 'userTrails': 1}]\n",
      "[{'courseTitle': 'Alphabet', 'errorAttempts': '', 'location': 'School', 'question': 'Next letter is B\\n B is for Ball, a ball is round, Come say it again, Ball', 'source': 'Keyboard', 'timeInverval': '74.48s', 'userTrails': 1}]\n",
      "[{'courseTitle': 'Alphabet', 'errorAttempts': '', 'location': 'School', 'question': 'The first letter is A!\\n A is for Apple, repeat after me, Apple, now you go', 'source': 'Keyboard', 'timeInverval': '10.91s', 'userTrails': 1}, {'courseTitle': 'Alphabet', 'errorAttempts': '', 'location': 'School', 'question': 'Next letter is B\\n B is for Ball, a ball is round, Come say it again, Ball', 'source': 'Keyboard', 'timeInverval': '1.79s', 'userTrails': 1}]\n",
      "[{'courseTitle': 'Alphabet', 'errorAttempts': '', 'location': 'School', 'question': 'The first letter is A!\\n A is for Apple, repeat after me, Apple, now you go', 'source': 'Mic', 'timeInverval': '18.11s', 'userTrails': 1}, {'courseTitle': 'Alphabet', 'errorAttempts': '', 'location': 'School', 'question': 'Next letter is B\\n B is for Ball, a ball is round, Come say it again, Ball', 'source': 'Mic', 'timeInverval': '18.66s', 'userTrails': 1}, {'courseTitle': 'Alphabet', 'errorAttempts': 'see doctor, doctor, ', 'location': 'School', 'question': \"Then comes C\\n C is for Cat, a cat is an animal, it's your turn now  \", 'source': 'Mic', 'timeInverval': '29.66s', 'userTrails': 4}, {'courseTitle': 'Alphabet', 'errorAttempts': 'resume, see, ', 'location': 'School', 'question': \"Then comes C\\n C is for Cat, a cat is an animal, it's your turn now  \", 'source': 'Mic', 'timeInverval': '9.67s', 'userTrails': 3}, {'courseTitle': 'Alphabet', 'errorAttempts': '', 'location': 'School', 'question': 'The first letter is A!\\n A is for Apple, repeat after me, Apple, now you go', 'source': 'Mic', 'timeInverval': '2.31s', 'userTrails': 1}, {'courseTitle': 'Alphabet', 'errorAttempts': '', 'location': 'School', 'question': \"Let's call the next letter, D\\n D is for Doctor, repeat after me, Doctor, Say it again\", 'source': 'Mic', 'timeInverval': '13.87s', 'userTrails': 1}, {'courseTitle': 'Alphabet', 'errorAttempts': '', 'location': 'School', 'question': \"Let's call the next letter, D\\n D is for Doctor, repeat after me, Doctor, Say it again\", 'source': 'Mic', 'timeInverval': '2.26s', 'userTrails': 1}, {'courseTitle': 'Alphabet', 'errorAttempts': '', 'location': 'School', 'question': \"Now, comes E\\n E is for Elephant, let's say it together, Elephant, Let's say it again\", 'source': 'Mic', 'timeInverval': '4.19s', 'userTrails': 1}, {'courseTitle': 'Alphabet', 'errorAttempts': '', 'location': 'School', 'question': 'The next letter is F\\n F is for Flower, Yes, you are right, Flower, say it again, Come on.', 'source': 'Mic', 'timeInverval': '3.76s', 'userTrails': 1}, {'courseTitle': 'Alphabet', 'errorAttempts': '', 'location': 'School', 'question': \"Then comes C\\n C is for Cat, a cat is an animal, it's your turn now  \", 'source': 'Mic', 'timeInverval': '5.64s', 'userTrails': 1}, {'courseTitle': 'Alphabet', 'errorAttempts': '', 'location': 'School', 'question': 'The next letter is F\\n F is for Flower, Yes, you are right, Flower, say it again, Come on.', 'source': 'Mic', 'timeInverval': '2.31s', 'userTrails': 1}, {'courseTitle': 'Alphabet', 'errorAttempts': '', 'location': 'School', 'question': 'Welcome letter G\\n G is for Great, repeat after me, Great, now you go...', 'source': 'Mic', 'timeInverval': '15.16s', 'userTrails': 1}, {'courseTitle': 'Alphabet', 'errorAttempts': '', 'location': 'School', 'question': 'Welcome letter G\\n G is for Great, repeat after me, Great, now you go...', 'source': 'Mic', 'timeInverval': '2.20s', 'userTrails': 1}, {'courseTitle': 'Alphabet', 'errorAttempts': '', 'location': 'School', 'question': 'Then comes H\\n H is for House, Say it along, House, come on, your turn', 'source': 'Mic', 'timeInverval': '4.71s', 'userTrails': 1}, {'courseTitle': 'Alphabet', 'errorAttempts': '', 'location': 'School', 'question': 'Next letter is I\\n I is for Ice cream, say with a smile, Ice cream , Very good, say it again', 'source': 'Mic', 'timeInverval': '3.69s', 'userTrails': 1}, {'courseTitle': 'Alphabet', 'errorAttempts': '', 'location': 'School', 'question': 'Next letter is B\\n B is for Ball, a ball is round, Come say it again, Ball', 'source': 'Mic', 'timeInverval': '10.19s', 'userTrails': 1}, {'courseTitle': 'Alphabet', 'errorAttempts': '', 'location': 'School', 'question': \"Now, comes E\\n E is for Elephant, let's say it together, Elephant, Let's say it again\", 'source': 'Mic', 'timeInverval': '3.86s', 'userTrails': 1}, {'courseTitle': 'Alphabet', 'errorAttempts': '', 'location': 'School', 'question': 'Now we will learn about letter J\\n J is for Juice, repeat after me, Juice, Say it for me again,', 'source': 'Mic', 'timeInverval': '24.97s', 'userTrails': 1}, {'courseTitle': 'Alphabet', 'errorAttempts': '', 'location': 'School', 'question': 'Now we will learn about letter J\\n J is for Juice, repeat after me, Juice, Say it for me again,', 'source': 'Mic', 'timeInverval': '0.89s', 'userTrails': 1}, {'courseTitle': 'Alphabet', 'errorAttempts': '', 'location': 'School', 'question': \"The next letter is K\\n K is for Kite, lets say it together, Kite, now it's your turn\", 'source': 'Mic', 'timeInverval': '7.90s', 'userTrails': 1}, {'courseTitle': 'Sports', 'errorAttempts': '', 'location': 'Playground', 'question': \"Let's play Football today. So what are we playing again?\", 'source': 'Mic', 'timeInverval': '5.41s', 'userTrails': 1}]\n",
      "[{'courseTitle': 'Alphabet', 'errorAttempts': '', 'location': 'School', 'question': 'The first letter is A!\\n A is for Apple, repeat after me, Apple, now you go', 'source': 'Keyboard', 'timeInverval': '15.27s', 'userTrails': 1}, {'courseTitle': 'Alphabet', 'errorAttempts': 'b, ', 'location': 'School', 'question': 'Next letter is B\\n B is for Ball, a ball is round, Come say it again, Ball', 'source': 'Keyboard', 'timeInverval': '13.35s', 'userTrails': 2}, {'courseTitle': 'Alphabet', 'errorAttempts': '', 'location': 'School', 'question': \"Then comes C\\n C is for Cat, a cat is an animal, it's your turn now  \", 'source': 'Keyboard', 'timeInverval': '5.45s', 'userTrails': 1}, {'courseTitle': 'Alphabet', 'errorAttempts': '', 'location': 'School', 'question': \"Then comes C\\n C is for Cat, a cat is an animal, it's your turn now  \", 'source': 'Keyboard', 'timeInverval': '5.32s', 'userTrails': 1}, {'courseTitle': 'Alphabet', 'errorAttempts': '', 'location': 'School', 'question': 'The first letter is A!\\n A is for Apple, repeat after me, Apple, now you go', 'source': 'Mic', 'timeInverval': '5.07s', 'userTrails': 1}, {'courseTitle': 'Sports', 'errorAttempts': '', 'location': 'Playground', 'question': \"Let's play Football today. So what are we playing again?\", 'source': 'Keyboard', 'timeInverval': '15.03s', 'userTrails': 1}, {'courseTitle': 'Sports', 'errorAttempts': '', 'location': 'Playground', 'question': \"Let's put a ball through the hoop…We are going to play Basketball. Come say it with me?\", 'source': 'Keyboard', 'timeInverval': '19.10s', 'userTrails': 1}, {'courseTitle': 'Sports', 'errorAttempts': '', 'location': 'Playground', 'question': 'Next we are going to use a bat and ball. We are now going to play Cricket. So what are we playing again?', 'source': 'Keyboard', 'timeInverval': '18.27s', 'userTrails': 1}, {'courseTitle': 'Sports', 'errorAttempts': '', 'location': 'Playground', 'question': \"Let's play Football today. So what are we playing again?\", 'source': 'Mic', 'timeInverval': '5.82s', 'userTrails': 1}, {'courseTitle': 'Sports', 'errorAttempts': '', 'location': 'Playground', 'question': 'Next we are going to use a bat and ball. We are now going to play Cricket. So what are we playing again?', 'source': 'Mic', 'timeInverval': '2.85s', 'userTrails': 1}, {'courseTitle': 'Restaurant', 'errorAttempts': '', 'location': 'Kitchen', 'question': 'Today, we are going to cook a Pizza. So, what are we going to cook today?', 'source': 'Mic', 'timeInverval': '6.23s', 'userTrails': 1}, {'courseTitle': 'Restaurant', 'errorAttempts': '', 'location': 'Kitchen', 'question': \"It's cold outside, and it's time to make some Soup. Tell me, what are we making?\", 'source': 'Mic', 'timeInverval': '2.76s', 'userTrails': 1}, {'courseTitle': 'Restaurant', 'errorAttempts': '', 'location': 'Kitchen', 'question': \"It's time to bake some Cookies… Are you excited? What are we baking today?\", 'source': 'Mic', 'timeInverval': '1.52s', 'userTrails': 1}, {'courseTitle': 'Restaurant', 'errorAttempts': '', 'location': 'Kitchen', 'question': 'Today, we are going to cook a Pizza. So, what are we going to cook today?', 'source': 'Mic', 'timeInverval': '2.13s', 'userTrails': 1}, {'courseTitle': 'Restaurant', 'errorAttempts': '', 'location': 'Kitchen', 'question': \"It's time to bake some Cookies… Are you excited? What are we baking today?\", 'source': 'Mic', 'timeInverval': '2.16s', 'userTrails': 1}, {'courseTitle': 'Animals', 'errorAttempts': '', 'location': 'Zoo', 'question': 'This animal is called a Dog... Did you know that? So what is this animal again?', 'source': 'Mic', 'timeInverval': '1.99s', 'userTrails': 1}, {'courseTitle': 'Animals', 'errorAttempts': '', 'location': 'Zoo', 'question': 'Look, here comes a tiger, Tell me again what animal is this?          ', 'source': 'Mic', 'timeInverval': '1.28s', 'userTrails': 1}, {'courseTitle': 'Animals', 'errorAttempts': '', 'location': 'Zoo', 'question': \"Oh look, it's a Meerkat, What do we call this animal?\", 'source': 'Mic', 'timeInverval': '5.48s', 'userTrails': 1}, {'courseTitle': 'Animals', 'errorAttempts': '', 'location': 'Zoo', 'question': \"Oh look, it's a Meerkat, What do we call this animal?\", 'source': 'Mic', 'timeInverval': '5.26s', 'userTrails': 1}, {'courseTitle': 'Animals', 'errorAttempts': '', 'location': 'Zoo', 'question': 'This animal is called a Dog... Did you know that? So what is this animal again?', 'source': 'Mic', 'timeInverval': '2.66s', 'userTrails': 1}, {'courseTitle': 'Veggies', 'errorAttempts': '', 'location': 'Kitchen', 'question': 'A is for apple. What is the fruit called?', 'source': 'Keyboard', 'timeInverval': '10.99s', 'userTrails': 1}, {'courseTitle': 'Veggies', 'errorAttempts': '', 'location': 'Kitchen', 'question': 'B is for banana. What is the fruit called?', 'source': 'Mic', 'timeInverval': '2.91s', 'userTrails': 1}, {'courseTitle': 'Veggies', 'errorAttempts': '', 'location': 'Kitchen', 'question': 'C is for carrot. What is the vegetable called?', 'source': 'Mic', 'timeInverval': '2.43s', 'userTrails': 1}, {'courseTitle': 'Veggies', 'errorAttempts': '', 'location': 'Kitchen', 'question': 'B is for banana. What is the fruit called?', 'source': 'Mic', 'timeInverval': '17.30s', 'userTrails': 1}, {'courseTitle': 'Veggies', 'errorAttempts': '', 'location': 'Kitchen', 'question': 'C is for carrot. What is the vegetable called?', 'source': 'Mic', 'timeInverval': '4.11s', 'userTrails': 1}, {'courseTitle': 'Alphabet', 'errorAttempts': '', 'location': 'School', 'question': \"Let's call the next letter, D\\n D is for Doctor, repeat after me, Doctor, Say it again\", 'source': 'Mic', 'timeInverval': '9.60s', 'userTrails': 1}, {'courseTitle': 'Alphabet', 'errorAttempts': '', 'location': 'School', 'question': \"Now, comes E\\n E is for Elephant, let's say it together, Elephant, Let's say it again\", 'source': 'Mic', 'timeInverval': '2.43s', 'userTrails': 1}, {'courseTitle': 'Alphabet', 'errorAttempts': '', 'location': 'School', 'question': 'The next letter is F\\n F is for Flower, Yes, you are right, Flower, say it again, Come on.', 'source': 'Mic', 'timeInverval': '2.66s', 'userTrails': 1}, {'courseTitle': 'Alphabet', 'errorAttempts': '', 'location': 'School', 'question': 'The next letter is F\\n F is for Flower, Yes, you are right, Flower, say it again, Come on.', 'source': 'Mic', 'timeInverval': '25.00s', 'userTrails': 1}, {'courseTitle': 'Alphabet', 'errorAttempts': 'see, ', 'location': 'School', 'question': \"Then comes C\\n C is for Cat, a cat is an animal, it's your turn now  \", 'source': 'Keyboard', 'timeInverval': '8.95s', 'userTrails': 2}, {'courseTitle': 'Alphabet', 'errorAttempts': '', 'location': 'School', 'question': \"Let's call the next letter, D\\n D is for Doctor, repeat after me, Doctor, Say it again\", 'source': 'Keyboard', 'timeInverval': '7.02s', 'userTrails': 1}, {'courseTitle': 'Alphabet', 'errorAttempts': '', 'location': 'School', 'question': 'Welcome letter G\\n G is for Great, repeat after me, Great, now you go...', 'source': 'Mic', 'timeInverval': '26.97s', 'userTrails': 1}]\n",
      "[{'courseTitle': 'Alphabet', 'errorAttempts': '', 'location': 'School', 'question': \"Let's call the next letter, D\\n D is for Doctor, repeat after me, Doctor, Say it again\", 'source': 'Mic', 'timeInverval': '8.14s', 'userTrails': 1}, {'courseTitle': 'Alphabet', 'errorAttempts': '', 'location': 'School', 'question': \"Now, comes E\\n E is for Elephant, let's say it together, Elephant, Let's say it again\", 'source': 'Mic', 'timeInverval': '12.30s', 'userTrails': 1}, {'courseTitle': 'Alphabet', 'errorAttempts': '', 'location': 'School', 'question': 'The next letter is F\\n F is for Flower, Yes, you are right, Flower, say it again, Come on.', 'source': 'Mic', 'timeInverval': '8.41s', 'userTrails': 1}, {'courseTitle': 'Alphabet', 'errorAttempts': '', 'location': 'School', 'question': 'Next letter is B\\n B is for Ball, a ball is round, Come say it again, Ball', 'source': 'Mic', 'timeInverval': '3.75s', 'userTrails': 1}, {'courseTitle': 'Alphabet', 'errorAttempts': '', 'location': 'School', 'question': \"Now, comes E\\n E is for Elephant, let's say it together, Elephant, Let's say it again\", 'source': 'Keyboard', 'timeInverval': '19.18s', 'userTrails': 1}, {'courseTitle': 'Alphabet', 'errorAttempts': 'pat pat, ', 'location': 'School', 'question': \"Then comes C\\n C is for Cat, a cat is an animal, it's your turn now  \", 'source': 'Mic', 'timeInverval': '8.26s', 'userTrails': 3}, {'courseTitle': 'Alphabet', 'errorAttempts': '', 'location': 'School', 'question': 'Welcome letter G\\n G is for Great, repeat after me, Great, now you go...', 'source': 'Keyboard', 'timeInverval': '28.31s', 'userTrails': 1}, {'courseTitle': 'Alphabet', 'errorAttempts': '', 'location': 'School', 'question': 'Welcome letter G\\n G is for Great, repeat after me, Great, now you go...', 'source': 'Keyboard', 'timeInverval': '1.77s', 'userTrails': 1}, {'courseTitle': 'Alphabet', 'errorAttempts': '', 'location': 'School', 'question': 'Welcome letter G\\n G is for Great, repeat after me, Great, now you go...', 'source': 'Keyboard', 'timeInverval': '7.23s', 'userTrails': 1}, {'courseTitle': 'Alphabet', 'errorAttempts': '', 'location': 'School', 'question': 'Then comes H\\n H is for House, Say it along, House, come on, your turn', 'source': 'Mic', 'timeInverval': '4.63s', 'userTrails': 1}, {'courseTitle': 'Alphabet', 'errorAttempts': '', 'location': 'School', 'question': 'Next letter is I\\n I is for Ice cream, say with a smile, Ice cream , Very good, say it again', 'source': 'Mic', 'timeInverval': '6.34s', 'userTrails': 1}, {'courseTitle': 'Alphabet', 'errorAttempts': '', 'location': 'School', 'question': 'Welcome letter G\\n G is for Great, repeat after me, Great, now you go...', 'source': 'Mic', 'timeInverval': '2.19s', 'userTrails': 1}, {'courseTitle': 'Alphabet', 'errorAttempts': '', 'location': 'School', 'question': 'The next letter is F\\n F is for Flower, Yes, you are right, Flower, say it again, Come on.', 'source': 'Mic', 'timeInverval': '4.11s', 'userTrails': 1}, {'courseTitle': 'Alphabet', 'errorAttempts': '', 'location': 'School', 'question': 'Next letter is I\\n I is for Ice cream, say with a smile, Ice cream , Very good, say it again', 'source': 'Mic', 'timeInverval': '2.26s', 'userTrails': 1}, {'courseTitle': 'Alphabet', 'errorAttempts': '', 'location': 'School', 'question': 'Now we will learn about letter J\\n J is for Juice, repeat after me, Juice, Say it for me again,', 'source': 'Keyboard', 'timeInverval': '68.21s', 'userTrails': 1}, {'courseTitle': 'Alphabet', 'errorAttempts': '', 'location': 'School', 'question': 'Now we will learn about letter J\\n J is for Juice, repeat after me, Juice, Say it for me again,', 'source': 'Keyboard', 'timeInverval': '3.02s', 'userTrails': 1}, {'courseTitle': 'Alphabet', 'errorAttempts': 'tight, tight, ', 'location': 'School', 'question': \"The next letter is K\\n K is for Kite, lets say it together, Kite, now it's your turn\", 'source': 'Keyboard', 'timeInverval': '26.81s', 'userTrails': 3}, {'courseTitle': 'Alphabet', 'errorAttempts': '', 'location': 'School', 'question': 'The letter is L!\\n L is for Lemon, repeat after me, Lemon, now you go...', 'source': 'Keyboard', 'timeInverval': '7.47s', 'userTrails': 1}, {'courseTitle': 'Alphabet', 'errorAttempts': '', 'location': 'School', 'question': 'Now we will learn about letter J\\n J is for Juice, repeat after me, Juice, Say it for me again,', 'source': 'Keyboard', 'timeInverval': '18.11s', 'userTrails': 1}, {'courseTitle': 'Alphabet', 'errorAttempts': '', 'location': 'School', 'question': 'Welcome letter G\\n G is for Great, repeat after me, Great, now you go...', 'source': 'Keyboard', 'timeInverval': '42.76s', 'userTrails': 1}, {'courseTitle': 'Alphabet', 'errorAttempts': '', 'location': 'School', 'question': \"Let's call the next letter, D\\n D is for Doctor, repeat after me, Doctor, Say it again\", 'source': 'Keyboard', 'timeInverval': '6.89s', 'userTrails': 1}, {'courseTitle': 'Alphabet', 'errorAttempts': '', 'location': 'School', 'question': 'Now the letter is M!\\n M is for Mother, repeat after me, Mother, now you go...', 'source': 'Keyboard', 'timeInverval': '12.60s', 'userTrails': 1}, {'courseTitle': 'Alphabet', 'errorAttempts': '', 'location': 'School', 'question': 'Now the letter is M!\\n M is for Mother, repeat after me, Mother, now you go...', 'source': 'Keyboard', 'timeInverval': '2.79s', 'userTrails': 1}, {'courseTitle': 'Alphabet', 'errorAttempts': '', 'location': 'School', 'question': 'The letter is N!\\n N is for Nose, repeat after me, Nose, now you go...', 'source': 'Keyboard', 'timeInverval': '12.50s', 'userTrails': 1}, {'courseTitle': 'Alphabet', 'errorAttempts': '', 'location': 'School', 'question': \"Let's welcome letter O!\\n O is for Owl, repeat after me, Owl, Let's say it again\", 'source': 'Keyboard', 'timeInverval': '12.31s', 'userTrails': 1}, {'courseTitle': 'Alphabet', 'errorAttempts': '', 'location': 'School', 'question': \"Let's welcome letter O!\\n O is for Owl, repeat after me, Owl, Let's say it again\", 'source': 'Keyboard', 'timeInverval': '13.17s', 'userTrails': 1}, {'courseTitle': 'Alphabet', 'errorAttempts': '', 'location': 'School', 'question': 'Now we will learn about letter J\\n J is for Juice, repeat after me, Juice, Say it for me again,', 'source': 'Keyboard', 'timeInverval': '17.58s', 'userTrails': 1}, {'courseTitle': 'Alphabet', 'errorAttempts': '', 'location': 'School', 'question': 'The first letter is A!\\n A is for Apple, repeat after me, Apple, now you go', 'source': 'Mic', 'timeInverval': '4.78s', 'userTrails': 1}, {'courseTitle': 'Alphabet', 'errorAttempts': '', 'location': 'School', 'question': 'The letter is P!\\n P is for Pencil, repeat after me, Pencil, now you go...', 'source': 'Mic', 'timeInverval': '5.01s', 'userTrails': 1}, {'courseTitle': 'Alphabet', 'errorAttempts': '', 'location': 'School', 'question': 'The letter is P!\\n P is for Pencil, repeat after me, Pencil, now you go...', 'source': 'Keyboard', 'timeInverval': '18.71s', 'userTrails': 1}, {'courseTitle': 'Alphabet', 'errorAttempts': '', 'location': 'School', 'question': 'The letter is Q!\\n Q is for Queen, repeat after me, Queen, now you go...', 'source': 'Keyboard', 'timeInverval': '16.01s', 'userTrails': 1}, {'courseTitle': 'Alphabet', 'errorAttempts': '', 'location': 'School', 'question': \"The letter is R!\\n R is for Rainbow, a big bright Rainbow, it's your turn to say it again\", 'source': 'Keyboard', 'timeInverval': '352.14s', 'userTrails': 1}, {'courseTitle': 'Sports', 'errorAttempts': '', 'location': 'Playground', 'question': \"Let's put a ball through the hoop…We are going to play Basketball. Come say it with me?\", 'source': 'Keyboard', 'timeInverval': '4.09s', 'userTrails': 1}]\n",
      "[{'courseTitle': 'Alphabet', 'errorAttempts': '', 'location': 'School', 'question': 'The first letter is A!\\n A is for Apple, repeat after me, Apple, now you go', 'source': 'Keyboard', 'timeInverval': '39,87s', 'userTrails': 1}, {'courseTitle': 'Alphabet', 'errorAttempts': '', 'location': 'School', 'question': 'Next letter is B\\n B is for Ball, a ball is round, Come say it again, Ball', 'source': 'Keyboard', 'timeInverval': '64,64s', 'userTrails': 1}]\n",
      "[{'courseTitle': 'Alphabet', 'errorAttempts': 'forget, forget, forget, forget, forget, ', 'location': 'School', 'question': 'Welcome letter G\\n G is for Great, repeat after me, Great, now you go...', 'source': 'Keyboard', 'timeInverval': '41.40s', 'userTrails': 6}]\n",
      "[{'courseTitle': 'Animals', 'errorAttempts': '', 'location': 'Zoo', 'question': 'This animal is called a Dog... Did you know that? So what is this animal again?', 'source': 'Mic', 'timeInverval': '10.38s', 'userTrails': 1}, {'courseTitle': 'Animals', 'errorAttempts': '', 'location': 'Zoo', 'question': 'Look, here comes a tiger, Tell me again what animal is this?          ', 'source': 'Mic', 'timeInverval': '5.73s', 'userTrails': 1}, {'courseTitle': 'Animals', 'errorAttempts': 'america, makeup, makeup, makeup, makeup, makeup, ', 'location': 'Zoo', 'question': \"Oh look, it's a Meerkat, What do we call this animal?\", 'source': 'Keyboard', 'timeInverval': '27.04s', 'userTrails': 7}, {'courseTitle': 'Alphabet', 'errorAttempts': '', 'location': 'School', 'question': 'The first letter is A!\\n A is for Apple, repeat after me, Apple, now you go', 'source': 'Mic', 'timeInverval': '4.99s', 'userTrails': 1}, {'courseTitle': 'Alphabet', 'errorAttempts': '', 'location': 'School', 'question': 'Next letter is B\\n B is for Ball, a ball is round, Come say it again, Ball', 'source': 'Mic', 'timeInverval': '2.56s', 'userTrails': 1}, {'courseTitle': 'Alphabet', 'errorAttempts': 'cap, tap, pat, ', 'location': 'School', 'question': \"Then comes C\\n C is for Cat, a cat is an animal, it's your turn now  \", 'source': 'Mic', 'timeInverval': '11.49s', 'userTrails': 4}, {'courseTitle': 'Alphabet', 'errorAttempts': '', 'location': 'School', 'question': 'Next letter is B\\n B is for Ball, a ball is round, Come say it again, Ball', 'source': 'Mic', 'timeInverval': '6.62s', 'userTrails': 1}, {'courseTitle': 'Alphabet', 'errorAttempts': '', 'location': 'School', 'question': 'The first letter is A!\\n A is for Apple, repeat after me, Apple, now you go', 'source': 'Mic', 'timeInverval': '1.83s', 'userTrails': 1}, {'courseTitle': 'Sports', 'errorAttempts': '', 'location': 'Playground', 'question': \"Let's play Football today. So what are we playing again?\", 'source': 'Mic', 'timeInverval': '11.83s', 'userTrails': 1}, {'courseTitle': 'Sports', 'errorAttempts': '', 'location': 'Playground', 'question': \"Let's put a ball through the hoop…We are going to play Basketball. Come say it with me?\", 'source': 'Mic', 'timeInverval': '3.93s', 'userTrails': 1}, {'courseTitle': 'Sports', 'errorAttempts': '', 'location': 'Playground', 'question': 'Next we are going to use a bat and ball. We are now going to play Cricket. So what are we playing again?', 'source': 'Mic', 'timeInverval': '5.38s', 'userTrails': 1}, {'courseTitle': 'Sports', 'errorAttempts': '', 'location': 'Playground', 'question': 'Next we are going to use a bat and ball. We are now going to play Cricket. So what are we playing again?', 'source': 'Mic', 'timeInverval': '16.49s', 'userTrails': 1}, {'courseTitle': 'Sports', 'errorAttempts': '', 'location': 'Playground', 'question': \"Let's put a ball through the hoop…We are going to play Basketball. Come say it with me?\", 'source': 'Mic', 'timeInverval': '3.03s', 'userTrails': 1}, {'courseTitle': 'Restaurant', 'errorAttempts': '', 'location': 'Kitchen', 'question': 'Today, we are going to cook a Pizza. So, what are we going to cook today?', 'source': 'Mic', 'timeInverval': '2.35s', 'userTrails': 1}, {'courseTitle': 'Alphabet', 'errorAttempts': 'd, ', 'location': 'School', 'question': \"Let's call the next letter, D\\n D is for Doctor, repeat after me, Doctor, Say it again\", 'source': 'Mic', 'timeInverval': '7.95s', 'userTrails': 2}, {'courseTitle': 'Alphabet', 'errorAttempts': '', 'location': 'School', 'question': \"Now, comes E\\n E is for Elephant, let's say it together, Elephant, Let's say it again\", 'source': 'Mic', 'timeInverval': '1.56s', 'userTrails': 1}, {'courseTitle': 'Alphabet', 'errorAttempts': '', 'location': 'School', 'question': 'The next letter is F\\n F is for Flower, Yes, you are right, Flower, say it again, Come on.', 'source': 'Mic', 'timeInverval': '4.44s', 'userTrails': 1}, {'courseTitle': 'Alphabet', 'errorAttempts': 'see, ', 'location': 'School', 'question': \"Then comes C\\n C is for Cat, a cat is an animal, it's your turn now  \", 'source': 'Keyboard', 'timeInverval': '19.73s', 'userTrails': 2}, {'courseTitle': 'Alphabet', 'errorAttempts': '', 'location': 'School', 'question': 'The next letter is F\\n F is for Flower, Yes, you are right, Flower, say it again, Come on.', 'source': 'Mic', 'timeInverval': '2.89s', 'userTrails': 1}, {'courseTitle': 'Alphabet', 'errorAttempts': '', 'location': 'School', 'question': 'Next letter is B\\n B is for Ball, a ball is round, Come say it again, Ball', 'source': 'Keyboard', 'timeInverval': '7.78s', 'userTrails': 1}, {'courseTitle': 'Alphabet', 'errorAttempts': '', 'location': 'School', 'question': 'Welcome letter G\\n G is for Great, repeat after me, Great, now you go...', 'source': 'Mic', 'timeInverval': '45.92s', 'userTrails': 1}, {'courseTitle': 'Restaurant', 'errorAttempts': '', 'location': 'Kitchen', 'question': 'Today, we are going to cook a Pizza. So, what are we going to cook today?', 'source': 'Mic', 'timeInverval': '23.65s', 'userTrails': 1}, {'courseTitle': 'Restaurant', 'errorAttempts': '', 'location': 'Kitchen', 'question': \"It's cold outside, and it's time to make some Soup. Tell me, what are we making?\", 'source': 'Mic', 'timeInverval': '2.61s', 'userTrails': 1}, {'courseTitle': 'Restaurant', 'errorAttempts': '', 'location': 'Kitchen', 'question': \"It's time to bake some Cookies… Are you excited? What are we baking today?\", 'source': 'Mic', 'timeInverval': '3.04s', 'userTrails': 1}, {'courseTitle': 'Restaurant', 'errorAttempts': '', 'location': 'Kitchen', 'question': \"It's time to bake some Cookies… Are you excited? What are we baking today?\", 'source': 'Mic', 'timeInverval': '2.03s', 'userTrails': 1}, {'courseTitle': 'Restaurant', 'errorAttempts': '', 'location': 'Kitchen', 'question': 'Today, we are going to cook a Pizza. So, what are we going to cook today?', 'source': 'Mic', 'timeInverval': '7.88s', 'userTrails': 1}, {'courseTitle': 'Restaurant', 'errorAttempts': '', 'location': 'Kitchen', 'question': 'The dish we are cooking today is Pasta... One more time, what are we cooking?', 'source': 'Mic', 'timeInverval': '23.87s', 'userTrails': 1}, {'courseTitle': 'Alphabet', 'errorAttempts': 'g, ', 'location': 'School', 'question': 'Welcome letter G\\n G is for Great, repeat after me, Great, now you go...', 'source': 'Mic', 'timeInverval': '4.82s', 'userTrails': 2}, {'courseTitle': 'Alphabet', 'errorAttempts': '', 'location': 'School', 'question': 'Then comes H\\n H is for House, Say it along, House, come on, your turn', 'source': 'Mic', 'timeInverval': '3.29s', 'userTrails': 1}, {'courseTitle': 'Alphabet', 'errorAttempts': '', 'location': 'School', 'question': 'Next letter is I\\n I is for Ice cream, say with a smile, Ice cream , Very good, say it again', 'source': 'Mic', 'timeInverval': '13.55s', 'userTrails': 1}, {'courseTitle': 'Alphabet', 'errorAttempts': '', 'location': 'School', 'question': 'Next letter is I\\n I is for Ice cream, say with a smile, Ice cream , Very good, say it again', 'source': 'Mic', 'timeInverval': '6.28s', 'userTrails': 1}, {'courseTitle': 'Alphabet', 'errorAttempts': '', 'location': 'School', 'question': 'The first letter is A!\\n A is for Apple, repeat after me, Apple, now you go', 'source': 'Mic', 'timeInverval': '6.55s', 'userTrails': 1}, {'courseTitle': 'Alphabet', 'errorAttempts': '', 'location': 'School', 'question': 'Now we will learn about letter J\\n J is for Juice, repeat after me, Juice, Say it for me again,', 'source': 'Keyboard', 'timeInverval': '67.95s', 'userTrails': 1}, {'courseTitle': 'Alphabet', 'errorAttempts': '', 'location': 'School', 'question': 'Now we will learn about letter J\\n J is for Juice, repeat after me, Juice, Say it for me again,', 'source': 'Keyboard', 'timeInverval': '1.61s', 'userTrails': 1}]\n",
      "[{'courseTitle': 'Alphabet', 'errorAttempts': '', 'location': 'School', 'question': 'The first letter is A!\\n A is for Apple, repeat after me, Apple, now you go', 'source': 'Keyboard', 'timeInverval': '2.59s', 'userTrails': 1}]\n",
      "[{'courseTitle': 'Alphabet', 'errorAttempts': '', 'location': 'School', 'question': \"Then comes C\\n C is for Cat, a cat is an animal, it's your turn now  \", 'source': 'Keyboard', 'timeInverval': '5.55s', 'userTrails': 1}, {'courseTitle': 'Alphabet', 'errorAttempts': '', 'location': 'School', 'question': \"Let's call the next letter, D\\n D is for Doctor, repeat after me, Doctor, Say it again\", 'source': 'Keyboard', 'timeInverval': '1.09s', 'userTrails': 1}, {'courseTitle': 'Alphabet', 'errorAttempts': '', 'location': 'School', 'question': \"Let's call the next letter, D\\n D is for Doctor, repeat after me, Doctor, Say it again\", 'source': 'Keyboard', 'timeInverval': '0.76s', 'userTrails': 1}, {'courseTitle': 'Alphabet', 'errorAttempts': '', 'location': 'School', 'question': \"Let's call the next letter, D\\n D is for Doctor, repeat after me, Doctor, Say it again\", 'source': 'Keyboard', 'timeInverval': '0.74s', 'userTrails': 1}, {'courseTitle': 'Alphabet', 'errorAttempts': '', 'location': 'School', 'question': \"Let's call the next letter, D\\n D is for Doctor, repeat after me, Doctor, Say it again\", 'source': 'Keyboard', 'timeInverval': '0.85s', 'userTrails': 1}, {'courseTitle': 'Alphabet', 'errorAttempts': '', 'location': 'School', 'question': \"Let's call the next letter, D\\n D is for Doctor, repeat after me, Doctor, Say it again\", 'source': 'Keyboard', 'timeInverval': '0.98s', 'userTrails': 1}, {'courseTitle': 'Alphabet', 'errorAttempts': '', 'location': 'School', 'question': \"Let's call the next letter, D\\n D is for Doctor, repeat after me, Doctor, Say it again\", 'source': 'Keyboard', 'timeInverval': '0.91s', 'userTrails': 1}]\n",
      "[{'courseTitle': 'Alphabet', 'errorAttempts': '', 'location': 'School', 'question': \"Let's call the next letter, D\\n D is for Doctor, repeat after me, Doctor, Say it again\", 'source': 'Keyboard', 'timeInverval': '1.46s', 'userTrails': 1}, {'courseTitle': 'Alphabet', 'errorAttempts': '', 'location': 'School', 'question': \"Let's call the next letter, D\\n D is for Doctor, repeat after me, Doctor, Say it again\", 'source': 'Keyboard', 'timeInverval': '0.77s', 'userTrails': 1}, {'courseTitle': 'Alphabet', 'errorAttempts': '', 'location': 'School', 'question': \"Let's call the next letter, D\\n D is for Doctor, repeat after me, Doctor, Say it again\", 'source': 'Keyboard', 'timeInverval': '0.69s', 'userTrails': 1}, {'courseTitle': 'Alphabet', 'errorAttempts': '', 'location': 'School', 'question': \"Let's call the next letter, D\\n D is for Doctor, repeat after me, Doctor, Say it again\", 'source': 'Keyboard', 'timeInverval': '0.82s', 'userTrails': 1}]\n",
      "[{'courseTitle': 'Alphabet', 'errorAttempts': '', 'location': 'School', 'question': \"Let's call the next letter, D\\n D is for Doctor, repeat after me, Doctor, Say it again\", 'source': 'Keyboard', 'timeInverval': '1.99s', 'userTrails': 1}, {'courseTitle': 'Alphabet', 'errorAttempts': '', 'location': 'School', 'question': \"Let's call the next letter, D\\n D is for Doctor, repeat after me, Doctor, Say it again\", 'source': 'Keyboard', 'timeInverval': '2.16s', 'userTrails': 1}, {'courseTitle': 'Alphabet', 'errorAttempts': '', 'location': 'School', 'question': \"Let's call the next letter, D\\n D is for Doctor, repeat after me, Doctor, Say it again\", 'source': 'Keyboard', 'timeInverval': '2.03s', 'userTrails': 1}, {'courseTitle': 'Alphabet', 'errorAttempts': '', 'location': 'School', 'question': \"Let's call the next letter, D\\n D is for Doctor, repeat after me, Doctor, Say it again\", 'source': 'Keyboard', 'timeInverval': '1.34s', 'userTrails': 1}, {'courseTitle': 'Alphabet', 'errorAttempts': '', 'location': 'School', 'question': \"Let's call the next letter, D\\n D is for Doctor, repeat after me, Doctor, Say it again\", 'source': 'Keyboard', 'timeInverval': '1.30s', 'userTrails': 1}, {'courseTitle': 'Alphabet', 'errorAttempts': '', 'location': 'School', 'question': \"Let's call the next letter, D\\n D is for Doctor, repeat after me, Doctor, Say it again\", 'source': 'Keyboard', 'timeInverval': '8.67s', 'userTrails': 1}, {'courseTitle': 'Alphabet', 'errorAttempts': '', 'location': 'School', 'question': \"Let's call the next letter, D\\n D is for Doctor, repeat after me, Doctor, Say it again\", 'source': 'Keyboard', 'timeInverval': '2.14s', 'userTrails': 1}, {'courseTitle': 'Alphabet', 'errorAttempts': '', 'location': 'School', 'question': \"Let's call the next letter, D\\n D is for Doctor, repeat after me, Doctor, Say it again\", 'source': 'Keyboard', 'timeInverval': '2.38s', 'userTrails': 1}]\n",
      "[{'courseTitle': 'Alphabet', 'errorAttempts': '', 'location': 'School', 'question': \"Let's call the next letter, D\\n D is for Doctor, repeat after me, Doctor, Say it again\", 'source': 'Keyboard', 'timeInverval': '5.34s', 'userTrails': 1}]\n",
      "[{'courseTitle': 'Alphabet', 'errorAttempts': '', 'location': 'School', 'question': \"Let's call the next letter, D\\n D is for Doctor, repeat after me, Doctor, Say it again\", 'source': 'Keyboard', 'timeInverval': '4.80s', 'userTrails': 1}]\n",
      "[{'courseTitle': 'Alphabet', 'errorAttempts': '', 'location': 'School', 'question': \"Let's call the next letter, D\\n D is for Doctor, repeat after me, Doctor, Say it again\", 'source': 'Keyboard', 'timeInverval': '6.96s', 'userTrails': 1}, {'courseTitle': 'Alphabet', 'errorAttempts': '', 'location': 'School', 'question': \"Now, comes E\\n E is for Elephant, let's say it together, Elephant, Let's say it again\", 'source': 'Keyboard', 'timeInverval': '4.07s', 'userTrails': 1}, {'courseTitle': 'Alphabet', 'errorAttempts': '', 'location': 'School', 'question': \"Now, comes E\\n E is for Elephant, let's say it together, Elephant, Let's say it again\", 'source': 'Keyboard', 'timeInverval': '2.15s', 'userTrails': 1}]\n",
      "[{'courseTitle': 'Alphabet', 'errorAttempts': '', 'location': 'School', 'question': \"Now, comes E\\n E is for Elephant, let's say it together, Elephant, Let's say it again\", 'source': 'Keyboard', 'timeInverval': '15.71s', 'userTrails': 1}]\n",
      "[{'courseTitle': 'Alphabet', 'errorAttempts': '', 'location': 'School', 'question': 'The letter is U!\\n U is for Umbrella, repeat after me, Umbrella, now you go...', 'source': 'Keyboard', 'timeInverval': '10.15s', 'userTrails': 1}, {'courseTitle': 'Alphabet', 'errorAttempts': '', 'location': 'School', 'question': \"The next letter is V!\\n V is for Violin, let's repeat it, Violin, come on, your turn.\", 'source': 'Keyboard', 'timeInverval': '10.28s', 'userTrails': 1}, {'courseTitle': 'Alphabet', 'errorAttempts': '', 'location': 'School', 'question': 'Then comes W\\n W is for World, The big, wide, World, now say it again', 'source': 'Keyboard', 'timeInverval': '10.75s', 'userTrails': 1}]\n",
      "[{'courseTitle': 'Alphabet', 'errorAttempts': '', 'location': 'School', 'question': \"Very Good! Your are doing great... The next letter is X\\n X is for X-ray, let's say it again, X-ray, now you go...\", 'source': 'Keyboard', 'timeInverval': '28.29s', 'userTrails': 1}, {'courseTitle': 'Alphabet', 'errorAttempts': '', 'location': 'School', 'question': 'Lets learn about letter Y\\n Y is for Yoga, repeat after me, Yoga, come on, its your turn', 'source': 'Keyboard', 'timeInverval': '11.55s', 'userTrails': 1}]\n",
      "[{'courseTitle': 'Alphabet', 'errorAttempts': '', 'location': 'School', 'question': 'The letter is L!\\n L is for Lemon, repeat after me, Lemon, now you go...', 'source': 'Keyboard', 'timeInverval': '10.04s', 'userTrails': 1}, {'courseTitle': 'Alphabet', 'errorAttempts': '', 'location': 'School', 'question': 'Next letter is B\\n B is for Ball, a ball is round, Come say it again, Ball', 'source': 'Keyboard', 'timeInverval': '7.32s', 'userTrails': 1}, {'courseTitle': 'Alphabet', 'errorAttempts': '', 'location': 'School', 'question': 'The letter is Q!\\n Q is for Queen, repeat after me, Queen, now you go...', 'source': 'Keyboard', 'timeInverval': '5.05s', 'userTrails': 1}, {'courseTitle': 'Alphabet', 'errorAttempts': '', 'location': 'School', 'question': 'Then comes W\\n W is for World, The big, wide, World, now say it again', 'source': 'Keyboard', 'timeInverval': '5.80s', 'userTrails': 1}, {'courseTitle': 'Alphabet', 'errorAttempts': '', 'location': 'School', 'question': 'Now the letter is M!\\n M is for Mother, repeat after me, Mother, now you go...', 'source': 'Keyboard', 'timeInverval': '5.29s', 'userTrails': 1}, {'courseTitle': 'Alphabet', 'errorAttempts': '', 'location': 'School', 'question': 'The letter is P!\\n P is for Pencil, repeat after me, Pencil, now you go...', 'source': 'Keyboard', 'timeInverval': '5.70s', 'userTrails': 1}]\n",
      "[{'courseTitle': 'Sports', 'errorAttempts': '', 'location': 'Playground', 'question': \"It's time to play Badminton. Let's gear and say what are we playing agian?\", 'source': 'Keyboard', 'timeInverval': '1.20s', 'userTrails': 1}, {'courseTitle': 'Restaurant', 'errorAttempts': '', 'location': 'Kitchen', 'question': \"It's time to bake some Cookies… Are you excited? What are we baking today?\", 'source': 'Keyboard', 'timeInverval': '1.16s', 'userTrails': 1}, {'courseTitle': 'Restaurant', 'errorAttempts': '', 'location': 'Kitchen', 'question': \"It's time to bake some Cookies… Are you excited? What are we baking today?\", 'source': 'Keyboard', 'timeInverval': '2.16s', 'userTrails': 1}, {'courseTitle': 'Alphabet', 'errorAttempts': '', 'location': 'School', 'question': 'Welcome letter G\\n G is for Great, repeat after me, Great, now you go...', 'source': 'Keyboard', 'timeInverval': '4.41s', 'userTrails': 1}, {'courseTitle': 'Alphabet', 'errorAttempts': '', 'location': 'School', 'question': 'The letter is T!\\n T is for Tree, repeat after me, Tree, now you go...', 'source': 'Keyboard', 'timeInverval': '3.51s', 'userTrails': 1}, {'courseTitle': 'Alphabet', 'errorAttempts': '', 'location': 'School', 'question': \"The next letter is K\\n K is for Kite, lets say it together, Kite, now it's your turn\", 'source': 'Keyboard', 'timeInverval': '4.13s', 'userTrails': 1}, {'courseTitle': 'Alphabet', 'errorAttempts': '', 'location': 'School', 'question': 'The first letter is A!\\n A is for Apple, repeat after me, Apple, now you go', 'source': 'Keyboard', 'timeInverval': '3.85s', 'userTrails': 1}, {'courseTitle': 'Alphabet', 'errorAttempts': '', 'location': 'School', 'question': \"Now, comes E\\n E is for Elephant, let's say it together, Elephant, Let's say it again\", 'source': 'Keyboard', 'timeInverval': '5.42s', 'userTrails': 1}, {'courseTitle': 'Alphabet', 'errorAttempts': '', 'location': 'School', 'question': \"Let's call the next letter, D\\n D is for Doctor, repeat after me, Doctor, Say it again\", 'source': 'Keyboard', 'timeInverval': '6.01s', 'userTrails': 1}]\n",
      "[{'courseTitle': 'Alphabet', 'errorAttempts': '', 'location': 'School', 'question': 'The first letter is A!\\n A is for Apple, repeat after me, Apple, now you go', 'source': 'Keyboard', 'timeInverval': '29.30s', 'userTrails': 1}, {'courseTitle': 'Alphabet', 'errorAttempts': '', 'location': 'School', 'question': 'Next letter is B\\n B is for Ball, a ball is round, Come say it again, Ball', 'source': 'Keyboard', 'timeInverval': '6.96s', 'userTrails': 1}, {'courseTitle': 'Alphabet', 'errorAttempts': '', 'location': 'School', 'question': \"Then comes C\\n C is for Cat, a cat is an animal, it's your turn now  \", 'source': 'Keyboard', 'timeInverval': '8.60s', 'userTrails': 1}, {'courseTitle': 'Alphabet', 'errorAttempts': 'no, doggg, ', 'location': 'School', 'question': \"Let's call the next letter, D\\n D is for Doctor, repeat after me, Doctor, Say it again\", 'source': 'Keyboard', 'timeInverval': '32.13s', 'userTrails': 3}, {'courseTitle': 'Alphabet', 'errorAttempts': '', 'location': 'School', 'question': \"Now, comes E\\n E is for Elephant, let's say it together, Elephant, Let's say it again\", 'source': 'Keyboard', 'timeInverval': '2.81s', 'userTrails': 1}, {'courseTitle': 'Alphabet', 'errorAttempts': '', 'location': 'School', 'question': \"Now, comes E\\n E is for Elephant, let's say it together, Elephant, Let's say it again\", 'source': 'Keyboard', 'timeInverval': '2.65s', 'userTrails': 1}, {'courseTitle': 'Alphabet', 'errorAttempts': 'elphant, ', 'location': 'School', 'question': \"Now, comes E\\n E is for Elephant, let's say it together, Elephant, Let's say it again\", 'source': 'Keyboard', 'timeInverval': '20.95s', 'userTrails': 2}, {'courseTitle': 'Alphabet', 'errorAttempts': '', 'location': 'School', 'question': \"Now, comes E\\n E is for Elephant, let's say it together, Elephant, Let's say it again\", 'source': 'Keyboard', 'timeInverval': '2.34s', 'userTrails': 1}, {'courseTitle': 'Alphabet', 'errorAttempts': '', 'location': 'School', 'question': \"Now, comes E\\n E is for Elephant, let's say it together, Elephant, Let's say it again\", 'source': 'Keyboard', 'timeInverval': '2.47s', 'userTrails': 1}, {'courseTitle': 'Alphabet', 'errorAttempts': '', 'location': 'School', 'question': \"Now, comes E\\n E is for Elephant, let's say it together, Elephant, Let's say it again\", 'source': 'Keyboard', 'timeInverval': '2.70s', 'userTrails': 1}, {'courseTitle': 'Alphabet', 'errorAttempts': '', 'location': 'School', 'question': \"Now, comes E\\n E is for Elephant, let's say it together, Elephant, Let's say it again\", 'source': 'Keyboard', 'timeInverval': '10.77s', 'userTrails': 1}, {'courseTitle': 'Alphabet', 'errorAttempts': '', 'location': 'School', 'question': 'The next letter is F\\n F is for Flower, Yes, you are right, Flower, say it again, Come on.', 'source': 'Keyboard', 'timeInverval': '11.52s', 'userTrails': 1}, {'courseTitle': 'Alphabet', 'errorAttempts': '', 'location': 'School', 'question': 'Welcome letter G\\n G is for Great, repeat after me, Great, now you go...', 'source': 'Keyboard', 'timeInverval': '12.08s', 'userTrails': 1}, {'courseTitle': 'Alphabet', 'errorAttempts': '', 'location': 'School', 'question': \"Then comes C\\n C is for Cat, a cat is an animal, it's your turn now  \", 'source': 'Keyboard', 'timeInverval': '8.94s', 'userTrails': 1}, {'courseTitle': 'Alphabet', 'errorAttempts': '', 'location': 'School', 'question': 'The next letter is F\\n F is for Flower, Yes, you are right, Flower, say it again, Come on.', 'source': 'Keyboard', 'timeInverval': '7.02s', 'userTrails': 1}, {'courseTitle': 'Alphabet', 'errorAttempts': '', 'location': 'School', 'question': 'Next letter is B\\n B is for Ball, a ball is round, Come say it again, Ball', 'source': 'Keyboard', 'timeInverval': '4.92s', 'userTrails': 1}, {'courseTitle': 'Alphabet', 'errorAttempts': '', 'location': 'School', 'question': 'Then comes H\\n H is for House, Say it along, House, come on, your turn', 'source': 'Keyboard', 'timeInverval': '22.65s', 'userTrails': 1}, {'courseTitle': 'Alphabet', 'errorAttempts': '', 'location': 'School', 'question': 'Then comes H\\n H is for House, Say it along, House, come on, your turn', 'source': 'Keyboard', 'timeInverval': '7.36s', 'userTrails': 1}, {'courseTitle': 'Animals', 'errorAttempts': '', 'location': 'Zoo', 'question': 'This animal is called a Dog... Did you know that? So what is this animal again?', 'source': 'Keyboard', 'timeInverval': '9.81s', 'userTrails': 1}, {'courseTitle': 'Animals', 'errorAttempts': '', 'location': 'Zoo', 'question': 'Look, here comes a tiger, Tell me again what animal is this?          ', 'source': 'Keyboard', 'timeInverval': '6.16s', 'userTrails': 1}, {'courseTitle': 'Sports', 'errorAttempts': '', 'location': 'Playground', 'question': \"Let's play Football today. So what are we playing again?\", 'source': 'Keyboard', 'timeInverval': '9.66s', 'userTrails': 1}, {'courseTitle': 'Sports', 'errorAttempts': '', 'location': 'Playground', 'question': \"Let's put a ball through the hoop…We are going to play Basketball. Come say it with me?\", 'source': 'Keyboard', 'timeInverval': '9.44s', 'userTrails': 1}, {'courseTitle': 'Sports', 'errorAttempts': '', 'location': 'Playground', 'question': 'Next we are going to use a bat and ball. We are now going to play Cricket. So what are we playing again?', 'source': 'Keyboard', 'timeInverval': '6.94s', 'userTrails': 1}, {'courseTitle': 'Sports', 'errorAttempts': '', 'location': 'Playground', 'question': \"Let's play Football today. So what are we playing again?\", 'source': 'Keyboard', 'timeInverval': '4.87s', 'userTrails': 1}, {'courseTitle': 'Restaurant', 'errorAttempts': '', 'location': 'Kitchen', 'question': 'Today, we are going to cook a Pizza. So, what are we going to cook today?', 'source': 'Keyboard', 'timeInverval': '6.13s', 'userTrails': 1}, {'courseTitle': 'Restaurant', 'errorAttempts': '', 'location': 'Kitchen', 'question': \"It's cold outside, and it's time to make some Soup. Tell me, what are we making?\", 'source': 'Keyboard', 'timeInverval': '9.05s', 'userTrails': 1}, {'courseTitle': 'Restaurant', 'errorAttempts': '', 'location': 'Kitchen', 'question': \"It's time to bake some Cookies… Are you excited? What are we baking today?\", 'source': 'Keyboard', 'timeInverval': '3.66s', 'userTrails': 1}, {'courseTitle': 'Restaurant', 'errorAttempts': '', 'location': 'Kitchen', 'question': \"It's time to bake some Cookies… Are you excited? What are we baking today?\", 'source': 'Keyboard', 'timeInverval': '6.70s', 'userTrails': 1}, {'courseTitle': 'Restaurant', 'errorAttempts': '', 'location': 'Kitchen', 'question': 'Today, we are going to cook a Pizza. So, what are we going to cook today?', 'source': 'Keyboard', 'timeInverval': '7.79s', 'userTrails': 1}, {'courseTitle': 'Restaurant', 'errorAttempts': '', 'location': 'Kitchen', 'question': 'The dish we are cooking today is Pasta... One more time, what are we cooking?', 'source': 'Keyboard', 'timeInverval': '44.40s', 'userTrails': 1}, {'courseTitle': 'Restaurant', 'errorAttempts': '', 'location': 'Kitchen', 'question': 'The dish we are cooking today is Pasta... One more time, what are we cooking?', 'source': 'Keyboard', 'timeInverval': '2.44s', 'userTrails': 1}, {'courseTitle': 'Restaurant', 'errorAttempts': '', 'location': 'Kitchen', 'question': \"Let's learn how to make Curry… One more time, what are we cooking?\", 'source': 'Keyboard', 'timeInverval': '4.96s', 'userTrails': 1}, {'courseTitle': 'Restaurant', 'errorAttempts': '', 'location': 'Kitchen', 'question': \"Let's learn how to make Curry… One more time, what are we cooking?\", 'source': 'Keyboard', 'timeInverval': '5.75s', 'userTrails': 1}, {'courseTitle': 'Restaurant', 'errorAttempts': '', 'location': 'Kitchen', 'question': 'Are you excited to learn about Chinese noodles. Come, tell me what are we going to cook today?', 'source': 'Keyboard', 'timeInverval': '10.50s', 'userTrails': 1}, {'courseTitle': 'Restaurant', 'errorAttempts': '', 'location': 'Kitchen', 'question': 'The dish we are cooking today is Tacos. One more time, what are we cooking?', 'source': 'Keyboard', 'timeInverval': '9.41s', 'userTrails': 1}, {'courseTitle': 'Restaurant', 'errorAttempts': '', 'location': 'Kitchen', 'question': \"It's time to bake some Cookies… Are you excited? What are we baking today?\", 'source': 'Keyboard', 'timeInverval': '5.68s', 'userTrails': 1}, {'courseTitle': 'Restaurant', 'errorAttempts': '', 'location': 'Kitchen', 'question': 'Today, we are going to cook a Pizza. So, what are we going to cook today?', 'source': 'Keyboard', 'timeInverval': '8.84s', 'userTrails': 1}]\n",
      "[{'courseTitle': 'Alphabet', 'errorAttempts': '', 'location': 'School', 'question': 'The first letter is A!\\n A is for Apple, repeat after me, Apple, now you go', 'source': 'Mic', 'timeInverval': '6.87s', 'userTrails': 1}, {'courseTitle': 'Alphabet', 'errorAttempts': '', 'location': 'School', 'question': 'Next letter is B\\n B is for Ball, a ball is round, Come say it again, Ball', 'source': 'Mic', 'timeInverval': '5.39s', 'userTrails': 1}, {'courseTitle': 'Alphabet', 'errorAttempts': '', 'location': 'School', 'question': \"Then comes C\\n C is for Cat, a cat is an animal, it's your turn now  \", 'source': 'Mic', 'timeInverval': '8.00s', 'userTrails': 1}, {'courseTitle': 'Alphabet', 'errorAttempts': 'see, ', 'location': 'School', 'question': \"Then comes C\\n C is for Cat, a cat is an animal, it's your turn now  \", 'source': 'Mic', 'timeInverval': '12.11s', 'userTrails': 2}, {'courseTitle': 'Alphabet', 'errorAttempts': '', 'location': 'School', 'question': 'The first letter is A!\\n A is for Apple, repeat after me, Apple, now you go', 'source': 'Mic', 'timeInverval': '2.35s', 'userTrails': 1}, {'courseTitle': 'Sports', 'errorAttempts': '', 'location': 'Playground', 'question': \"Let's play Football today. So what are we playing again?\", 'source': 'Mic', 'timeInverval': '4.29s', 'userTrails': 1}, {'courseTitle': 'Sports', 'errorAttempts': '', 'location': 'Playground', 'question': \"Let's put a ball through the hoop…We are going to play Basketball. Come say it with me?\", 'source': 'Mic', 'timeInverval': '9.48s', 'userTrails': 1}, {'courseTitle': 'Sports', 'errorAttempts': '', 'location': 'Playground', 'question': 'Next we are going to use a bat and ball. We are now going to play Cricket. So what are we playing again?', 'source': 'Mic', 'timeInverval': '6.55s', 'userTrails': 1}, {'courseTitle': 'Sports', 'errorAttempts': '', 'location': 'Playground', 'question': 'Next we are going to use a bat and ball. We are now going to play Cricket. So what are we playing again?', 'source': 'Mic', 'timeInverval': '3.34s', 'userTrails': 1}, {'courseTitle': 'Sports', 'errorAttempts': '', 'location': 'Playground', 'question': \"Let's put a ball through the hoop…We are going to play Basketball. Come say it with me?\", 'source': 'Mic', 'timeInverval': '2.61s', 'userTrails': 1}, {'courseTitle': 'Restaurant', 'errorAttempts': '', 'location': 'Kitchen', 'question': 'Today, we are going to cook a Pizza. So, what are we going to cook today?', 'source': 'Mic', 'timeInverval': '5.74s', 'userTrails': 1}, {'courseTitle': 'Restaurant', 'errorAttempts': '', 'location': 'Kitchen', 'question': \"It's cold outside, and it's time to make some Soup. Tell me, what are we making?\", 'source': 'Mic', 'timeInverval': '6.04s', 'userTrails': 1}, {'courseTitle': 'Restaurant', 'errorAttempts': 'cookie, ', 'location': 'Kitchen', 'question': \"It's time to bake some Cookies… Are you excited? What are we baking today?\", 'source': 'Mic', 'timeInverval': '11.44s', 'userTrails': 2}, {'courseTitle': 'Restaurant', 'errorAttempts': '', 'location': 'Kitchen', 'question': \"It's cold outside, and it's time to make some Soup. Tell me, what are we making?\", 'source': 'Mic', 'timeInverval': '2.26s', 'userTrails': 1}, {'courseTitle': 'Restaurant', 'errorAttempts': '', 'location': 'Kitchen', 'question': \"It's time to bake some Cookies… Are you excited? What are we baking today?\", 'source': 'Mic', 'timeInverval': '1.82s', 'userTrails': 1}, {'courseTitle': 'Animals', 'errorAttempts': '', 'location': 'Zoo', 'question': 'This animal is called a Dog... Did you know that? So what is this animal again?', 'source': 'Mic', 'timeInverval': '2.93s', 'userTrails': 1}, {'courseTitle': 'Animals', 'errorAttempts': '', 'location': 'Zoo', 'question': 'Look, here comes a tiger, Tell me again what animal is this?          ', 'source': 'Mic', 'timeInverval': '4.54s', 'userTrails': 1}, {'courseTitle': 'Animals', 'errorAttempts': '', 'location': 'Zoo', 'question': \"Oh look, it's a Meerkat, What do we call this animal?\", 'source': 'Mic', 'timeInverval': '2.90s', 'userTrails': 1}, {'courseTitle': 'Animals', 'errorAttempts': '', 'location': 'Zoo', 'question': \"Oh look, it's a Meerkat, What do we call this animal?\", 'source': 'Mic', 'timeInverval': '4.40s', 'userTrails': 1}, {'courseTitle': 'Animals', 'errorAttempts': '', 'location': 'Zoo', 'question': 'Look, here comes a tiger, Tell me again what animal is this?          ', 'source': 'Mic', 'timeInverval': '2.33s', 'userTrails': 1}, {'courseTitle': 'Veggies', 'errorAttempts': '', 'location': 'Kitchen', 'question': 'A is for apple. What is the fruit called?', 'source': 'Mic', 'timeInverval': '4.26s', 'userTrails': 1}, {'courseTitle': 'Veggies', 'errorAttempts': '', 'location': 'Kitchen', 'question': 'B is for banana. What is the fruit called?', 'source': 'Mic', 'timeInverval': '2.56s', 'userTrails': 1}, {'courseTitle': 'Veggies', 'errorAttempts': '', 'location': 'Kitchen', 'question': 'C is for carrot. What is the vegetable called?', 'source': 'Mic', 'timeInverval': '3.56s', 'userTrails': 1}, {'courseTitle': 'Veggies', 'errorAttempts': '', 'location': 'Kitchen', 'question': 'A is for apple. What is the fruit called?', 'source': 'Mic', 'timeInverval': '9.28s', 'userTrails': 1}, {'courseTitle': 'Veggies', 'errorAttempts': '', 'location': 'Kitchen', 'question': 'B is for banana. What is the fruit called?', 'source': 'Mic', 'timeInverval': '2.66s', 'userTrails': 1}, {'courseTitle': 'Alphabet', 'errorAttempts': '', 'location': 'School', 'question': \"Let's call the next letter, D\\n D is for Doctor, repeat after me, Doctor, Say it again\", 'source': 'Mic', 'timeInverval': '5.24s', 'userTrails': 1}, {'courseTitle': 'Alphabet', 'errorAttempts': '', 'location': 'School', 'question': \"Let's call the next letter, D\\n D is for Doctor, repeat after me, Doctor, Say it again\", 'source': 'Mic', 'timeInverval': '1.66s', 'userTrails': 1}]\n",
      "[{'courseTitle': 'Alphabet', 'errorAttempts': '', 'location': 'School', 'question': 'The first letter is A!\\n A is for Apple, repeat after me, Apple, now you go', 'source': 'Keyboard', 'timeInverval': '16.57s', 'userTrails': 1}, {'courseTitle': 'Alphabet', 'errorAttempts': '', 'location': 'School', 'question': 'Next letter is B\\n B is for Ball, a ball is round, Come say it again, Ball', 'source': 'Keyboard', 'timeInverval': '7.95s', 'userTrails': 1}, {'courseTitle': 'Alphabet', 'errorAttempts': '', 'location': 'School', 'question': \"Then comes C\\n C is for Cat, a cat is an animal, it's your turn now  \", 'source': 'Keyboard', 'timeInverval': '8.13s', 'userTrails': 1}, {'courseTitle': 'Alphabet', 'errorAttempts': '', 'location': 'School', 'question': \"Then comes C\\n C is for Cat, a cat is an animal, it's your turn now  \", 'source': 'Keyboard', 'timeInverval': '14.55s', 'userTrails': 1}, {'courseTitle': 'Alphabet', 'errorAttempts': 'docter, docter, ', 'location': 'School', 'question': \"Let's call the next letter, D\\n D is for Doctor, repeat after me, Doctor, Say it again\", 'source': 'Keyboard', 'timeInverval': '26.55s', 'userTrails': 3}, {'courseTitle': 'Alphabet', 'errorAttempts': '', 'location': 'School', 'question': \"Now, comes E\\n E is for Elephant, let's say it together, Elephant, Let's say it again\", 'source': 'Keyboard', 'timeInverval': '1.46s', 'userTrails': 1}, {'courseTitle': 'Alphabet', 'errorAttempts': '', 'location': 'School', 'question': \"Now, comes E\\n E is for Elephant, let's say it together, Elephant, Let's say it again\", 'source': 'Keyboard', 'timeInverval': '9.82s', 'userTrails': 1}, {'courseTitle': 'Alphabet', 'errorAttempts': '', 'location': 'School', 'question': 'The next letter is F\\n F is for Flower, Yes, you are right, Flower, say it again, Come on.', 'source': 'Keyboard', 'timeInverval': '10.80s', 'userTrails': 1}, {'courseTitle': 'Alphabet', 'errorAttempts': '', 'location': 'School', 'question': 'Welcome letter G\\n G is for Great, repeat after me, Great, now you go...', 'source': 'Keyboard', 'timeInverval': '7.37s', 'userTrails': 1}, {'courseTitle': 'Sports', 'errorAttempts': '', 'location': 'Playground', 'question': \"Let's play Football today. So what are we playing again?\", 'source': 'Keyboard', 'timeInverval': '11.82s', 'userTrails': 1}, {'courseTitle': 'Sports', 'errorAttempts': '', 'location': 'Playground', 'question': \"Let's put a ball through the hoop…We are going to play Basketball. Come say it with me?\", 'source': 'Mic', 'timeInverval': '8.39s', 'userTrails': 1}, {'courseTitle': 'Sports', 'errorAttempts': '', 'location': 'Playground', 'question': 'Next we are going to use a bat and ball. We are now going to play Cricket. So what are we playing again?', 'source': 'Mic', 'timeInverval': '2.23s', 'userTrails': 1}, {'courseTitle': 'Restaurant', 'errorAttempts': '', 'location': 'Kitchen', 'question': 'Today, we are going to cook a Pizza. So, what are we going to cook today?', 'source': 'Keyboard', 'timeInverval': '9.80s', 'userTrails': 1}, {'courseTitle': 'Restaurant', 'errorAttempts': '', 'location': 'Kitchen', 'question': \"It's cold outside, and it's time to make some Soup. Tell me, what are we making?\", 'source': 'Keyboard', 'timeInverval': '7.99s', 'userTrails': 1}, {'courseTitle': 'Restaurant', 'errorAttempts': '', 'location': 'Kitchen', 'question': \"It's time to bake some Cookies… Are you excited? What are we baking today?\", 'source': 'Mic', 'timeInverval': '6.09s', 'userTrails': 1}, {'courseTitle': 'Restaurant', 'errorAttempts': '', 'location': 'Kitchen', 'question': 'Today, we are going to cook a Pizza. So, what are we going to cook today?', 'source': 'Keyboard', 'timeInverval': '9.02s', 'userTrails': 1}, {'courseTitle': 'Restaurant', 'errorAttempts': '', 'location': 'Kitchen', 'question': \"It's time to bake some Cookies… Are you excited? What are we baking today?\", 'source': 'Mic', 'timeInverval': '4.72s', 'userTrails': 1}, {'courseTitle': 'Restaurant', 'errorAttempts': '', 'location': 'Kitchen', 'question': 'The dish we are cooking today is Pasta... One more time, what are we cooking?', 'source': 'Keyboard', 'timeInverval': '37.54s', 'userTrails': 1}]\n",
      "[{'courseTitle': 'Alphabet', 'errorAttempts': '', 'location': 'School', 'question': 'The first letter is A!\\n A is for Apple, repeat after me, Apple, now you go', 'source': 'Keyboard', 'timeInverval': '9.76s', 'userTrails': 1}, {'courseTitle': 'Alphabet', 'errorAttempts': '', 'location': 'School', 'question': 'The first letter is A!\\n A is for Apple, repeat after me, Apple, now you go', 'source': 'Mic', 'timeInverval': '14.41s', 'userTrails': 1}, {'courseTitle': 'Alphabet', 'errorAttempts': 'youtube, wall, bol bol, ', 'location': 'School', 'question': 'Next letter is B\\n B is for Ball, a ball is round, Come say it again, Ball', 'source': 'Mic', 'timeInverval': '26.72s', 'userTrails': 5}, {'courseTitle': 'Alphabet', 'errorAttempts': '', 'location': 'School', 'question': \"Then comes C\\n C is for Cat, a cat is an animal, it's your turn now  \", 'source': 'Mic', 'timeInverval': '2.28s', 'userTrails': 1}, {'courseTitle': 'Alphabet', 'errorAttempts': '', 'location': 'School', 'question': 'Next letter is B\\n B is for Ball, a ball is round, Come say it again, Ball', 'source': 'Mic', 'timeInverval': '14.36s', 'userTrails': 1}, {'courseTitle': 'Alphabet', 'errorAttempts': '', 'location': 'School', 'question': 'The first letter is A!\\n A is for Apple, repeat after me, Apple, now you go', 'source': 'Mic', 'timeInverval': '2.49s', 'userTrails': 1}, {'courseTitle': 'Sports', 'errorAttempts': '', 'location': 'Playground', 'question': \"Let's play Football today. So what are we playing again?\", 'source': 'Mic', 'timeInverval': '5.40s', 'userTrails': 1}, {'courseTitle': 'Sports', 'errorAttempts': '', 'location': 'Playground', 'question': \"Let's put a ball through the hoop…We are going to play Basketball. Come say it with me?\", 'source': 'Mic', 'timeInverval': '3.04s', 'userTrails': 1}, {'courseTitle': 'Sports', 'errorAttempts': '', 'location': 'Playground', 'question': 'Next we are going to use a bat and ball. We are now going to play Cricket. So what are we playing again?', 'source': 'Mic', 'timeInverval': '12.20s', 'userTrails': 1}, {'courseTitle': 'Restaurant', 'errorAttempts': '', 'location': 'Kitchen', 'question': 'Today, we are going to cook a Pizza. So, what are we going to cook today?', 'source': 'Mic', 'timeInverval': '9.64s', 'userTrails': 1}, {'courseTitle': 'Restaurant', 'errorAttempts': '', 'location': 'Kitchen', 'question': \"It's cold outside, and it's time to make some Soup. Tell me, what are we making?\", 'source': 'Mic', 'timeInverval': '4.73s', 'userTrails': 1}, {'courseTitle': 'Restaurant', 'errorAttempts': '', 'location': 'Kitchen', 'question': \"It's time to bake some Cookies… Are you excited? What are we baking today?\", 'source': 'Mic', 'timeInverval': '6.10s', 'userTrails': 1}, {'courseTitle': 'Restaurant', 'errorAttempts': 'water, ', 'location': 'Kitchen', 'question': 'Today, we are going to cook a Pizza. So, what are we going to cook today?', 'source': 'Mic', 'timeInverval': '4.67s', 'userTrails': 2}, {'courseTitle': 'Restaurant', 'errorAttempts': '', 'location': 'Kitchen', 'question': \"It's time to bake some Cookies… Are you excited? What are we baking today?\", 'source': 'Mic', 'timeInverval': '3.38s', 'userTrails': 1}, {'courseTitle': 'Restaurant', 'errorAttempts': '', 'location': 'Kitchen', 'question': 'The dish we are cooking today is Pasta... One more time, what are we cooking?', 'source': 'Mic', 'timeInverval': '15.08s', 'userTrails': 1}, {'courseTitle': 'Restaurant', 'errorAttempts': 'master, ', 'location': 'Kitchen', 'question': 'The dish we are cooking today is Pasta... One more time, what are we cooking?', 'source': 'Mic', 'timeInverval': '7.46s', 'userTrails': 2}, {'courseTitle': 'Restaurant', 'errorAttempts': '', 'location': 'Kitchen', 'question': \"Let's learn how to make Curry… One more time, what are we cooking?\", 'source': 'Mic', 'timeInverval': '3.76s', 'userTrails': 1}]\n",
      "[{'courseTitle': 'Alphabet', 'errorAttempts': '', 'location': 'School', 'question': 'The first letter is A!\\n A is for Apple, repeat after me, Apple, now you go', 'source': 'Mic', 'timeInverval': '12.82s', 'userTrails': 1}, {'courseTitle': 'Alphabet', 'errorAttempts': 'bull, ', 'location': 'School', 'question': 'Next letter is B\\n B is for Ball, a ball is round, Come say it again, Ball', 'source': 'Keyboard', 'timeInverval': '18.41s', 'userTrails': 2}, {'courseTitle': 'Alphabet', 'errorAttempts': '', 'location': 'School', 'question': \"Then comes C\\n C is for Cat, a cat is an animal, it's your turn now  \", 'source': 'Keyboard', 'timeInverval': '9.49s', 'userTrails': 1}, {'courseTitle': 'Alphabet', 'errorAttempts': '', 'location': 'School', 'question': 'The first letter is A!\\n A is for Apple, repeat after me, Apple, now you go', 'source': 'Keyboard', 'timeInverval': '5.32s', 'userTrails': 1}, {'courseTitle': 'Alphabet', 'errorAttempts': '', 'location': 'School', 'question': 'Next letter is B\\n B is for Ball, a ball is round, Come say it again, Ball', 'source': 'Keyboard', 'timeInverval': '8.93s', 'userTrails': 1}, {'courseTitle': 'Sports', 'errorAttempts': '', 'location': 'Playground', 'question': \"Let's play Football today. So what are we playing again?\", 'source': 'Keyboard', 'timeInverval': '17.26s', 'userTrails': 1}, {'courseTitle': 'Sports', 'errorAttempts': '', 'location': 'Playground', 'question': \"Let's put a ball through the hoop…We are going to play Basketball. Come say it with me?\", 'source': 'Keyboard', 'timeInverval': '13.27s', 'userTrails': 1}, {'courseTitle': 'Sports', 'errorAttempts': '', 'location': 'Playground', 'question': 'Next we are going to use a bat and ball. We are now going to play Cricket. So what are we playing again?', 'source': 'Keyboard', 'timeInverval': '8.88s', 'userTrails': 1}, {'courseTitle': 'Sports', 'errorAttempts': '', 'location': 'Playground', 'question': 'Next we are going to use a bat and ball. We are now going to play Cricket. So what are we playing again?', 'source': 'Keyboard', 'timeInverval': '10.19s', 'userTrails': 1}, {'courseTitle': 'Sports', 'errorAttempts': '', 'location': 'Playground', 'question': \"Let's play Football today. So what are we playing again?\", 'source': 'Keyboard', 'timeInverval': '3.94s', 'userTrails': 1}, {'courseTitle': 'Alphabet', 'errorAttempts': '', 'location': 'School', 'question': \"Let's call the next letter, D\\n D is for Doctor, repeat after me, Doctor, Say it again\", 'source': 'Keyboard', 'timeInverval': '7.52s', 'userTrails': 1}, {'courseTitle': 'Animals', 'errorAttempts': '', 'location': 'Zoo', 'question': 'This animal is called a Dog... Did you know that? So what is this animal again?', 'source': 'Keyboard', 'timeInverval': '10.78s', 'userTrails': 1}, {'courseTitle': 'Animals', 'errorAttempts': '', 'location': 'Zoo', 'question': 'Look, here comes a tiger, Tell me again what animal is this?          ', 'source': 'Keyboard', 'timeInverval': '23.84s', 'userTrails': 1}, {'courseTitle': 'Animals', 'errorAttempts': '', 'location': 'Zoo', 'question': \"Oh look, it's a Meerkat, What do we call this animal?\", 'source': 'Keyboard', 'timeInverval': '4.40s', 'userTrails': 1}]\n",
      "[{'courseTitle': 'Animals', 'errorAttempts': '', 'location': 'Zoo', 'question': 'This animal is called a Dog... Did you know that? So what is this animal again?', 'source': 'Mic', 'timeInverval': '21.24s', 'userTrails': 1}, {'courseTitle': 'Animals', 'errorAttempts': '', 'location': 'Zoo', 'question': 'Look, here comes a tiger, Tell me again what animal is this?          ', 'source': 'Mic', 'timeInverval': '7.09s', 'userTrails': 1}, {'courseTitle': 'Animals', 'errorAttempts': \"i don't know, \", 'location': 'Zoo', 'question': \"Oh look, it's a Meerkat, What do we call this animal?\", 'source': 'Mic', 'timeInverval': '14.64s', 'userTrails': 4}, {'courseTitle': 'Animals', 'errorAttempts': '', 'location': 'Zoo', 'question': 'Look, here comes a tiger, Tell me again what animal is this?          ', 'source': 'Mic', 'timeInverval': '15.18s', 'userTrails': 1}, {'courseTitle': 'Animals', 'errorAttempts': '', 'location': 'Zoo', 'question': \"Oh look, it's a Meerkat, What do we call this animal?\", 'source': 'Mic', 'timeInverval': '1.07s', 'userTrails': 1}]\n",
      "[{'courseTitle': 'Sports', 'errorAttempts': '', 'location': 'Playground', 'question': \"Let's play Football today. So what are we playing again?\", 'source': 'Mic', 'timeInverval': '6.75s', 'userTrails': 1}, {'courseTitle': 'Sports', 'errorAttempts': '', 'location': 'Playground', 'question': \"Let's put a ball through the hoop…We are going to play Basketball. Come say it with me?\", 'source': 'Mic', 'timeInverval': '14.90s', 'userTrails': 1}, {'courseTitle': 'Sports', 'errorAttempts': \"play again, turn on, i don't know, \", 'location': 'Playground', 'question': 'Next we are going to use a bat and ball. We are now going to play Cricket. So what are we playing again?', 'source': 'Mic', 'timeInverval': '37.18s', 'userTrails': 8}, {'courseTitle': 'Sports', 'errorAttempts': '', 'location': 'Playground', 'question': 'Next we are going to use a bat and ball. We are now going to play Cricket. So what are we playing again?', 'source': 'Mic', 'timeInverval': '9.34s', 'userTrails': 1}, {'courseTitle': 'Sports', 'errorAttempts': '', 'location': 'Playground', 'question': \"Let's put a ball through the hoop…We are going to play Basketball. Come say it with me?\", 'source': 'Mic', 'timeInverval': '5.16s', 'userTrails': 1}, {'courseTitle': 'Alphabet', 'errorAttempts': 'paul, paul, ', 'location': 'School', 'question': 'Next letter is B\\n B is for Ball, a ball is round, Come say it again, Ball', 'source': 'Mic', 'timeInverval': '19.97s', 'userTrails': 3}, {'courseTitle': 'Alphabet', 'errorAttempts': '', 'location': 'School', 'question': \"Then comes C\\n C is for Cat, a cat is an animal, it's your turn now  \", 'source': 'Mic', 'timeInverval': '25.86s', 'userTrails': 1}]\n",
      "[{'courseTitle': 'Alphabet', 'errorAttempts': '', 'location': 'School', 'question': 'The first letter is A!\\n A is for Apple, repeat after me, Apple, now you go', 'source': 'Mic', 'timeInverval': '6.49s', 'userTrails': 1}, {'courseTitle': 'Alphabet', 'errorAttempts': '', 'location': 'School', 'question': 'Next letter is B\\n B is for Ball, a ball is round, Come say it again, Ball', 'source': 'Mic', 'timeInverval': '0.32s', 'userTrails': 1}, {'courseTitle': 'Sports', 'errorAttempts': '', 'location': 'Playground', 'question': \"Let's play Football today. So what are we playing again?\", 'source': 'Mic', 'timeInverval': '4.19s', 'userTrails': 1}, {'courseTitle': 'Sports', 'errorAttempts': '', 'location': 'Playground', 'question': \"Let's put a ball through the hoop…We are going to play Basketball. Come say it with me?\", 'source': 'Mic', 'timeInverval': '9.38s', 'userTrails': 1}, {'courseTitle': 'Sports', 'errorAttempts': '', 'location': 'Playground', 'question': 'Next we are going to use a bat and ball. We are now going to play Cricket. So what are we playing again?', 'source': 'Mic', 'timeInverval': '7.18s', 'userTrails': 1}, {'courseTitle': 'Sports', 'errorAttempts': '', 'location': 'Playground', 'question': \"Let's play Football today. So what are we playing again?\", 'source': 'Mic', 'timeInverval': '2.74s', 'userTrails': 1}, {'courseTitle': 'Sports', 'errorAttempts': '', 'location': 'Playground', 'question': \"Let's put a ball through the hoop…We are going to play Basketball. Come say it with me?\", 'source': 'Mic', 'timeInverval': '2.00s', 'userTrails': 1}, {'courseTitle': 'Alphabet', 'errorAttempts': '', 'location': 'School', 'question': 'Next letter is B\\n B is for Ball, a ball is round, Come say it again, Ball', 'source': 'Mic', 'timeInverval': '16.33s', 'userTrails': 1}]\n",
      "[{'courseTitle': 'Alphabet', 'errorAttempts': '', 'location': 'School', 'question': 'The first letter is A!\\n A is for Apple, repeat after me, Apple, now you go', 'source': 'Keyboard', 'timeInverval': '9.05s', 'userTrails': 1}, {'courseTitle': 'Alphabet', 'errorAttempts': '', 'location': 'School', 'question': 'The first letter is A!\\n A is for Apple, repeat after me, Apple, now you go', 'source': 'Keyboard', 'timeInverval': '1.11s', 'userTrails': 1}]\n",
      "[{'courseTitle': 'Alphabet', 'errorAttempts': '', 'location': 'School', 'question': 'The first letter is A!\\n A is for Apple, repeat after me, Apple, now you go', 'source': 'Mic', 'timeInverval': '5.93s', 'userTrails': 1}, {'courseTitle': 'Sports', 'errorAttempts': \"i don't know, \", 'location': 'Playground', 'question': \"Let's play Football today. So what are we playing again?\", 'source': 'Mic', 'timeInverval': '10.89s', 'userTrails': 4}, {'courseTitle': 'Sports', 'errorAttempts': '', 'location': 'Playground', 'question': \"Let's put a ball through the hoop…We are going to play Basketball. Come say it with me?\", 'source': 'Mic', 'timeInverval': '1.88s', 'userTrails': 1}]\n"
     ]
    }
   ],
   "source": [
    "my_dict=dict()\n",
    "my_list=[]\n",
    "for i in data_df.IDC:\n",
    "    for j in i.values():\n",
    "        for k,v in j.items():\n",
    "            if k=='name':\n",
    "                val=v\n",
    "            if k=='questionsData':\n",
    "                print(v)\n",
    "                my_list.append(v)"
   ]
  },
  {
   "cell_type": "code",
   "execution_count": 4,
   "id": "5d2a0ac6",
   "metadata": {},
   "outputs": [
    {
     "data": {
      "text/html": [
       "<div>\n",
       "<style scoped>\n",
       "    .dataframe tbody tr th:only-of-type {\n",
       "        vertical-align: middle;\n",
       "    }\n",
       "\n",
       "    .dataframe tbody tr th {\n",
       "        vertical-align: top;\n",
       "    }\n",
       "\n",
       "    .dataframe thead th {\n",
       "        text-align: right;\n",
       "    }\n",
       "</style>\n",
       "<table border=\"1\" class=\"dataframe\">\n",
       "  <thead>\n",
       "    <tr style=\"text-align: right;\">\n",
       "      <th></th>\n",
       "      <th>courseTitle</th>\n",
       "      <th>errorAttempts</th>\n",
       "      <th>location</th>\n",
       "      <th>question</th>\n",
       "      <th>source</th>\n",
       "      <th>timeInverval</th>\n",
       "      <th>userTrails</th>\n",
       "    </tr>\n",
       "  </thead>\n",
       "  <tbody>\n",
       "    <tr>\n",
       "      <th>0</th>\n",
       "      <td>Alphabet</td>\n",
       "      <td>i didn't ask you to say,</td>\n",
       "      <td>School</td>\n",
       "      <td>The first letter is A!\\n A is for Apple, repea...</td>\n",
       "      <td>Mic</td>\n",
       "      <td>20.27s</td>\n",
       "      <td>7</td>\n",
       "    </tr>\n",
       "    <tr>\n",
       "      <th>1</th>\n",
       "      <td>Alphabet</td>\n",
       "      <td></td>\n",
       "      <td>School</td>\n",
       "      <td>Next letter is B\\n B is for Ball, a ball is ro...</td>\n",
       "      <td>Mic</td>\n",
       "      <td>5.92s</td>\n",
       "      <td>1</td>\n",
       "    </tr>\n",
       "    <tr>\n",
       "      <th>2</th>\n",
       "      <td>Alphabet</td>\n",
       "      <td></td>\n",
       "      <td>School</td>\n",
       "      <td>Then comes C\\n C is for Cat, a cat is an anima...</td>\n",
       "      <td>Mic</td>\n",
       "      <td>4.63s</td>\n",
       "      <td>1</td>\n",
       "    </tr>\n",
       "    <tr>\n",
       "      <th>3</th>\n",
       "      <td>Alphabet</td>\n",
       "      <td></td>\n",
       "      <td>School</td>\n",
       "      <td>The first letter is A!\\n A is for Apple, repea...</td>\n",
       "      <td>Mic</td>\n",
       "      <td>4.15s</td>\n",
       "      <td>1</td>\n",
       "    </tr>\n",
       "    <tr>\n",
       "      <th>4</th>\n",
       "      <td>Alphabet</td>\n",
       "      <td></td>\n",
       "      <td>School</td>\n",
       "      <td>Then comes C\\n C is for Cat, a cat is an anima...</td>\n",
       "      <td>Mic</td>\n",
       "      <td>2.31s</td>\n",
       "      <td>1</td>\n",
       "    </tr>\n",
       "    <tr>\n",
       "      <th>5</th>\n",
       "      <td>Sports</td>\n",
       "      <td></td>\n",
       "      <td>Playground</td>\n",
       "      <td>Let's play Football today. So what are we play...</td>\n",
       "      <td>Mic</td>\n",
       "      <td>13.14s</td>\n",
       "      <td>1</td>\n",
       "    </tr>\n",
       "    <tr>\n",
       "      <th>6</th>\n",
       "      <td>Sports</td>\n",
       "      <td></td>\n",
       "      <td>Playground</td>\n",
       "      <td>Let's put a ball through the hoop…We are going...</td>\n",
       "      <td>Mic</td>\n",
       "      <td>7.19s</td>\n",
       "      <td>1</td>\n",
       "    </tr>\n",
       "    <tr>\n",
       "      <th>7</th>\n",
       "      <td>Sports</td>\n",
       "      <td>quick kit,</td>\n",
       "      <td>Playground</td>\n",
       "      <td>Next we are going to use a bat and ball. We ar...</td>\n",
       "      <td>Mic</td>\n",
       "      <td>9.45s</td>\n",
       "      <td>3</td>\n",
       "    </tr>\n",
       "    <tr>\n",
       "      <th>8</th>\n",
       "      <td>Sports</td>\n",
       "      <td></td>\n",
       "      <td>Playground</td>\n",
       "      <td>Next we are going to use a bat and ball. We ar...</td>\n",
       "      <td>Mic</td>\n",
       "      <td>4.40s</td>\n",
       "      <td>1</td>\n",
       "    </tr>\n",
       "    <tr>\n",
       "      <th>9</th>\n",
       "      <td>Sports</td>\n",
       "      <td></td>\n",
       "      <td>Playground</td>\n",
       "      <td>Let's put a ball through the hoop…We are going...</td>\n",
       "      <td>Mic</td>\n",
       "      <td>4.56s</td>\n",
       "      <td>1</td>\n",
       "    </tr>\n",
       "    <tr>\n",
       "      <th>10</th>\n",
       "      <td>Restaurant</td>\n",
       "      <td></td>\n",
       "      <td>Kitchen</td>\n",
       "      <td>Today, we are going to cook a Pizza. So, what ...</td>\n",
       "      <td>Mic</td>\n",
       "      <td>6.00s</td>\n",
       "      <td>1</td>\n",
       "    </tr>\n",
       "    <tr>\n",
       "      <th>11</th>\n",
       "      <td>Restaurant</td>\n",
       "      <td></td>\n",
       "      <td>Kitchen</td>\n",
       "      <td>It's cold outside, and it's time to make some ...</td>\n",
       "      <td>Mic</td>\n",
       "      <td>4.82s</td>\n",
       "      <td>1</td>\n",
       "    </tr>\n",
       "    <tr>\n",
       "      <th>12</th>\n",
       "      <td>Restaurant</td>\n",
       "      <td></td>\n",
       "      <td>Kitchen</td>\n",
       "      <td>It's time to bake some Cookies… Are you excite...</td>\n",
       "      <td>Mic</td>\n",
       "      <td>2.86s</td>\n",
       "      <td>1</td>\n",
       "    </tr>\n",
       "    <tr>\n",
       "      <th>13</th>\n",
       "      <td>Restaurant</td>\n",
       "      <td></td>\n",
       "      <td>Kitchen</td>\n",
       "      <td>Today, we are going to cook a Pizza. So, what ...</td>\n",
       "      <td>Mic</td>\n",
       "      <td>6.47s</td>\n",
       "      <td>1</td>\n",
       "    </tr>\n",
       "    <tr>\n",
       "      <th>14</th>\n",
       "      <td>Restaurant</td>\n",
       "      <td></td>\n",
       "      <td>Kitchen</td>\n",
       "      <td>It's cold outside, and it's time to make some ...</td>\n",
       "      <td>Mic</td>\n",
       "      <td>2.53s</td>\n",
       "      <td>1</td>\n",
       "    </tr>\n",
       "    <tr>\n",
       "      <th>15</th>\n",
       "      <td>Animals</td>\n",
       "      <td></td>\n",
       "      <td>Zoo</td>\n",
       "      <td>This animal is called a Dog... Did you know th...</td>\n",
       "      <td>Mic</td>\n",
       "      <td>10.28s</td>\n",
       "      <td>1</td>\n",
       "    </tr>\n",
       "    <tr>\n",
       "      <th>16</th>\n",
       "      <td>Animals</td>\n",
       "      <td></td>\n",
       "      <td>Zoo</td>\n",
       "      <td>Look, here comes a tiger, Tell me again what a...</td>\n",
       "      <td>Mic</td>\n",
       "      <td>2.53s</td>\n",
       "      <td>1</td>\n",
       "    </tr>\n",
       "    <tr>\n",
       "      <th>17</th>\n",
       "      <td>Animals</td>\n",
       "      <td></td>\n",
       "      <td>Zoo</td>\n",
       "      <td>Oh look, it's a Meerkat, What do we call this ...</td>\n",
       "      <td>Mic</td>\n",
       "      <td>4.45s</td>\n",
       "      <td>1</td>\n",
       "    </tr>\n",
       "    <tr>\n",
       "      <th>18</th>\n",
       "      <td>Animals</td>\n",
       "      <td></td>\n",
       "      <td>Zoo</td>\n",
       "      <td>Look, here comes a tiger, Tell me again what a...</td>\n",
       "      <td>Mic</td>\n",
       "      <td>2.31s</td>\n",
       "      <td>1</td>\n",
       "    </tr>\n",
       "    <tr>\n",
       "      <th>19</th>\n",
       "      <td>Animals</td>\n",
       "      <td></td>\n",
       "      <td>Zoo</td>\n",
       "      <td>This animal is called a Dog... Did you know th...</td>\n",
       "      <td>Mic</td>\n",
       "      <td>5.12s</td>\n",
       "      <td>1</td>\n",
       "    </tr>\n",
       "    <tr>\n",
       "      <th>20</th>\n",
       "      <td>Veggies</td>\n",
       "      <td></td>\n",
       "      <td>Kitchen</td>\n",
       "      <td>A is for apple. What is the fruit called?</td>\n",
       "      <td>Mic</td>\n",
       "      <td>5.40s</td>\n",
       "      <td>1</td>\n",
       "    </tr>\n",
       "    <tr>\n",
       "      <th>21</th>\n",
       "      <td>Veggies</td>\n",
       "      <td></td>\n",
       "      <td>Kitchen</td>\n",
       "      <td>B is for banana. What is the fruit called?</td>\n",
       "      <td>Mic</td>\n",
       "      <td>4.71s</td>\n",
       "      <td>1</td>\n",
       "    </tr>\n",
       "    <tr>\n",
       "      <th>22</th>\n",
       "      <td>Restaurant</td>\n",
       "      <td></td>\n",
       "      <td>Kitchen</td>\n",
       "      <td>The dish we are cooking today is Pasta... One ...</td>\n",
       "      <td>Mic</td>\n",
       "      <td>6.28s</td>\n",
       "      <td>1</td>\n",
       "    </tr>\n",
       "    <tr>\n",
       "      <th>23</th>\n",
       "      <td>Animals</td>\n",
       "      <td></td>\n",
       "      <td>Zoo</td>\n",
       "      <td>Look at this animal jumping, it is a Monkey, T...</td>\n",
       "      <td>Mic</td>\n",
       "      <td>7.90s</td>\n",
       "      <td>1</td>\n",
       "    </tr>\n",
       "    <tr>\n",
       "      <th>24</th>\n",
       "      <td>Animals</td>\n",
       "      <td></td>\n",
       "      <td>Zoo</td>\n",
       "      <td>This is a Polar Bear, Tell me what animal is t...</td>\n",
       "      <td>Mic</td>\n",
       "      <td>5.03s</td>\n",
       "      <td>1</td>\n",
       "    </tr>\n",
       "    <tr>\n",
       "      <th>25</th>\n",
       "      <td>Animals</td>\n",
       "      <td></td>\n",
       "      <td>Zoo</td>\n",
       "      <td>This animal is called  Crocodile... Did you kn...</td>\n",
       "      <td>Mic</td>\n",
       "      <td>1.77s</td>\n",
       "      <td>1</td>\n",
       "    </tr>\n",
       "  </tbody>\n",
       "</table>\n",
       "</div>"
      ],
      "text/plain": [
       "   courseTitle              errorAttempts    location  \\\n",
       "0     Alphabet  i didn't ask you to say,       School   \n",
       "1     Alphabet                                 School   \n",
       "2     Alphabet                                 School   \n",
       "3     Alphabet                                 School   \n",
       "4     Alphabet                                 School   \n",
       "5       Sports                             Playground   \n",
       "6       Sports                             Playground   \n",
       "7       Sports                quick kit,   Playground   \n",
       "8       Sports                             Playground   \n",
       "9       Sports                             Playground   \n",
       "10  Restaurant                                Kitchen   \n",
       "11  Restaurant                                Kitchen   \n",
       "12  Restaurant                                Kitchen   \n",
       "13  Restaurant                                Kitchen   \n",
       "14  Restaurant                                Kitchen   \n",
       "15     Animals                                    Zoo   \n",
       "16     Animals                                    Zoo   \n",
       "17     Animals                                    Zoo   \n",
       "18     Animals                                    Zoo   \n",
       "19     Animals                                    Zoo   \n",
       "20     Veggies                                Kitchen   \n",
       "21     Veggies                                Kitchen   \n",
       "22  Restaurant                                Kitchen   \n",
       "23     Animals                                    Zoo   \n",
       "24     Animals                                    Zoo   \n",
       "25     Animals                                    Zoo   \n",
       "\n",
       "                                             question source timeInverval  \\\n",
       "0   The first letter is A!\\n A is for Apple, repea...    Mic       20.27s   \n",
       "1   Next letter is B\\n B is for Ball, a ball is ro...    Mic        5.92s   \n",
       "2   Then comes C\\n C is for Cat, a cat is an anima...    Mic        4.63s   \n",
       "3   The first letter is A!\\n A is for Apple, repea...    Mic        4.15s   \n",
       "4   Then comes C\\n C is for Cat, a cat is an anima...    Mic        2.31s   \n",
       "5   Let's play Football today. So what are we play...    Mic       13.14s   \n",
       "6   Let's put a ball through the hoop…We are going...    Mic        7.19s   \n",
       "7   Next we are going to use a bat and ball. We ar...    Mic        9.45s   \n",
       "8   Next we are going to use a bat and ball. We ar...    Mic        4.40s   \n",
       "9   Let's put a ball through the hoop…We are going...    Mic        4.56s   \n",
       "10  Today, we are going to cook a Pizza. So, what ...    Mic        6.00s   \n",
       "11  It's cold outside, and it's time to make some ...    Mic        4.82s   \n",
       "12  It's time to bake some Cookies… Are you excite...    Mic        2.86s   \n",
       "13  Today, we are going to cook a Pizza. So, what ...    Mic        6.47s   \n",
       "14  It's cold outside, and it's time to make some ...    Mic        2.53s   \n",
       "15  This animal is called a Dog... Did you know th...    Mic       10.28s   \n",
       "16  Look, here comes a tiger, Tell me again what a...    Mic        2.53s   \n",
       "17  Oh look, it's a Meerkat, What do we call this ...    Mic        4.45s   \n",
       "18  Look, here comes a tiger, Tell me again what a...    Mic        2.31s   \n",
       "19  This animal is called a Dog... Did you know th...    Mic        5.12s   \n",
       "20          A is for apple. What is the fruit called?    Mic        5.40s   \n",
       "21         B is for banana. What is the fruit called?    Mic        4.71s   \n",
       "22  The dish we are cooking today is Pasta... One ...    Mic        6.28s   \n",
       "23  Look at this animal jumping, it is a Monkey, T...    Mic        7.90s   \n",
       "24  This is a Polar Bear, Tell me what animal is t...    Mic        5.03s   \n",
       "25  This animal is called  Crocodile... Did you kn...    Mic        1.77s   \n",
       "\n",
       "    userTrails  \n",
       "0            7  \n",
       "1            1  \n",
       "2            1  \n",
       "3            1  \n",
       "4            1  \n",
       "5            1  \n",
       "6            1  \n",
       "7            3  \n",
       "8            1  \n",
       "9            1  \n",
       "10           1  \n",
       "11           1  \n",
       "12           1  \n",
       "13           1  \n",
       "14           1  \n",
       "15           1  \n",
       "16           1  \n",
       "17           1  \n",
       "18           1  \n",
       "19           1  \n",
       "20           1  \n",
       "21           1  \n",
       "22           1  \n",
       "23           1  \n",
       "24           1  \n",
       "25           1  "
      ]
     },
     "execution_count": 4,
     "metadata": {},
     "output_type": "execute_result"
    }
   ],
   "source": [
    "pd.DataFrame(my_list[1])"
   ]
  },
  {
   "cell_type": "code",
   "execution_count": 5,
   "id": "83f21dbc",
   "metadata": {},
   "outputs": [],
   "source": [
    "def time_process(data_df):\n",
    "    time_list=[]\n",
    "    time_dict=dict()\n",
    "    for i in data_df['IDC']:\n",
    "        for j in i.values():\n",
    "            for x,y in j.items():\n",
    "                if x=='timeSpent':\n",
    "                    for key,value in y.items():\n",
    "                        if value=='':\n",
    "                            value=0\n",
    "                            time_dict[key]=float(value)\n",
    "                        else:\n",
    "                            value=value[:-1]\n",
    "                            value=value.replace(',','.')\n",
    "                            time_dict[key]=float(value)\n",
    "                        time_dict[key]=float(value)\n",
    "                    time_list.append(time_dict.copy())\n",
    "    return time_list"
   ]
  },
  {
   "cell_type": "code",
   "execution_count": 6,
   "id": "cadc94ab",
   "metadata": {},
   "outputs": [],
   "source": [
    "def value_normalization(user_data):\n",
    "    new_list_for=[]\n",
    "    dict_for_this=dict()\n",
    "    for i in user_data:\n",
    "        for k,v in i.items():\n",
    "            if not isinstance(v,dict):\n",
    "                dict_for_this[k]=v\n",
    "\n",
    "            else:\n",
    "                for key,value in v.items():\n",
    "                    dict_for_this[k+'_'+key]=value\n",
    "\n",
    "    #     print(dict_for_this)\n",
    "        new_list_for.append(dict_for_this.copy())\n",
    "    return new_list_for"
   ]
  },
  {
   "cell_type": "code",
   "execution_count": 7,
   "id": "4b8841fb",
   "metadata": {},
   "outputs": [],
   "source": [
    "def process_data(data_df):\n",
    "    user_data=[]\n",
    "    for i in data_df['IDC']:\n",
    "        for j in i.values():\n",
    "            user_data.append(j)\n",
    "    user_data = pd.DataFrame(user_data)\n",
    "    user_data.timeSpent=time_process(data_df)\n",
    "    user_data = list(user_data.T.to_dict().values())\n",
    "    user_data=value_normalization(user_data)\n",
    "    user_data = pd.DataFrame(user_data)\n",
    "    user_data['timeSpent_total'] = user_data.iloc[:,7:14].sum(axis='columns')\n",
    "    date=user_data['dateTime'].apply(lambda x:x.split(' ',1)[0])\n",
    "    time=user_data['dateTime'].apply(lambda x:x.split(' ',1)[1])\n",
    "    user_data.insert(2,'Date', date)\n",
    "    user_data.insert(3,'Time', time)\n",
    "    user_data.drop('dateTime',axis='columns',inplace=True)\n",
    "    return user_data"
   ]
  },
  {
   "cell_type": "code",
   "execution_count": 8,
   "id": "1756d1ec",
   "metadata": {},
   "outputs": [
    {
     "data": {
      "text/html": [
       "<div>\n",
       "<style scoped>\n",
       "    .dataframe tbody tr th:only-of-type {\n",
       "        vertical-align: middle;\n",
       "    }\n",
       "\n",
       "    .dataframe tbody tr th {\n",
       "        vertical-align: top;\n",
       "    }\n",
       "\n",
       "    .dataframe thead th {\n",
       "        text-align: right;\n",
       "    }\n",
       "</style>\n",
       "<table border=\"1\" class=\"dataframe\">\n",
       "  <thead>\n",
       "    <tr style=\"text-align: right;\">\n",
       "      <th></th>\n",
       "      <th>name</th>\n",
       "      <th>Date</th>\n",
       "      <th>Time</th>\n",
       "      <th>personalRecords_CC</th>\n",
       "      <th>personalRecords_EA</th>\n",
       "      <th>personalRecords_TCA</th>\n",
       "      <th>personalRecords_TQA</th>\n",
       "      <th>questionsData</th>\n",
       "      <th>timeSpent_timeAI</th>\n",
       "      <th>timeSpent_timeHomeScreen</th>\n",
       "      <th>timeSpent_timeLesson</th>\n",
       "      <th>timeSpent_timeMaps</th>\n",
       "      <th>timeSpent_timeQuiz</th>\n",
       "      <th>timeSpent_timeRewardPage</th>\n",
       "      <th>timeSpent_timeStore</th>\n",
       "      <th>userId</th>\n",
       "      <th>timeSpent_total</th>\n",
       "    </tr>\n",
       "  </thead>\n",
       "  <tbody>\n",
       "    <tr>\n",
       "      <th>0</th>\n",
       "      <td>abhijot</td>\n",
       "      <td>17/01/2023</td>\n",
       "      <td>15:52:55</td>\n",
       "      <td>9</td>\n",
       "      <td>2</td>\n",
       "      <td>33</td>\n",
       "      <td>33</td>\n",
       "      <td>[{'courseTitle': 'Alphabet', 'errorAttempts': ...</td>\n",
       "      <td>0.00</td>\n",
       "      <td>22.88</td>\n",
       "      <td>440.71</td>\n",
       "      <td>22.94</td>\n",
       "      <td>49.52</td>\n",
       "      <td>0.0</td>\n",
       "      <td>0.00</td>\n",
       "      <td>abhijot76957943</td>\n",
       "      <td>536.05</td>\n",
       "    </tr>\n",
       "    <tr>\n",
       "      <th>1</th>\n",
       "      <td>alice</td>\n",
       "      <td>16/01/2023</td>\n",
       "      <td>09:52:20</td>\n",
       "      <td>15</td>\n",
       "      <td>4</td>\n",
       "      <td>35</td>\n",
       "      <td>35</td>\n",
       "      <td>[{'courseTitle': 'Alphabet', 'errorAttempts': ...</td>\n",
       "      <td>2.92</td>\n",
       "      <td>70.63</td>\n",
       "      <td>249.74</td>\n",
       "      <td>63.18</td>\n",
       "      <td>143.48</td>\n",
       "      <td>0.0</td>\n",
       "      <td>0.00</td>\n",
       "      <td>alice40209003</td>\n",
       "      <td>529.95</td>\n",
       "    </tr>\n",
       "    <tr>\n",
       "      <th>2</th>\n",
       "      <td>amreet</td>\n",
       "      <td>07/12/2022</td>\n",
       "      <td>14:06:44</td>\n",
       "      <td>5</td>\n",
       "      <td>1</td>\n",
       "      <td>14</td>\n",
       "      <td>16</td>\n",
       "      <td>[{'courseTitle': 'Alphabet', 'errorAttempts': ...</td>\n",
       "      <td>0.00</td>\n",
       "      <td>27.61</td>\n",
       "      <td>221.02</td>\n",
       "      <td>27.07</td>\n",
       "      <td>0.00</td>\n",
       "      <td>0.0</td>\n",
       "      <td>3.82</td>\n",
       "      <td>amreet69858166</td>\n",
       "      <td>279.52</td>\n",
       "    </tr>\n",
       "    <tr>\n",
       "      <th>3</th>\n",
       "      <td>amreet</td>\n",
       "      <td>07/12/2022</td>\n",
       "      <td>14:18:42</td>\n",
       "      <td>0</td>\n",
       "      <td>0</td>\n",
       "      <td>0</td>\n",
       "      <td>0</td>\n",
       "      <td>[{'courseTitle': 'Alphabet', 'errorAttempts': ...</td>\n",
       "      <td>0.00</td>\n",
       "      <td>4.75</td>\n",
       "      <td>3.05</td>\n",
       "      <td>13.19</td>\n",
       "      <td>0.00</td>\n",
       "      <td>0.0</td>\n",
       "      <td>0.00</td>\n",
       "      <td>amreet69858166</td>\n",
       "      <td>20.99</td>\n",
       "    </tr>\n",
       "    <tr>\n",
       "      <th>4</th>\n",
       "      <td>anant</td>\n",
       "      <td>18/01/2023</td>\n",
       "      <td>19:34:28</td>\n",
       "      <td>0</td>\n",
       "      <td>0</td>\n",
       "      <td>0</td>\n",
       "      <td>0</td>\n",
       "      <td>NaN</td>\n",
       "      <td>0.00</td>\n",
       "      <td>0.03</td>\n",
       "      <td>0.00</td>\n",
       "      <td>0.00</td>\n",
       "      <td>0.00</td>\n",
       "      <td>0.0</td>\n",
       "      <td>0.00</td>\n",
       "      <td>anant16781190</td>\n",
       "      <td>0.03</td>\n",
       "    </tr>\n",
       "  </tbody>\n",
       "</table>\n",
       "</div>"
      ],
      "text/plain": [
       "      name        Date      Time  personalRecords_CC  personalRecords_EA  \\\n",
       "0  abhijot  17/01/2023  15:52:55                   9                   2   \n",
       "1    alice  16/01/2023  09:52:20                  15                   4   \n",
       "2   amreet  07/12/2022  14:06:44                   5                   1   \n",
       "3   amreet  07/12/2022  14:18:42                   0                   0   \n",
       "4    anant  18/01/2023  19:34:28                   0                   0   \n",
       "\n",
       "   personalRecords_TCA  personalRecords_TQA  \\\n",
       "0                   33                   33   \n",
       "1                   35                   35   \n",
       "2                   14                   16   \n",
       "3                    0                    0   \n",
       "4                    0                    0   \n",
       "\n",
       "                                       questionsData  timeSpent_timeAI  \\\n",
       "0  [{'courseTitle': 'Alphabet', 'errorAttempts': ...              0.00   \n",
       "1  [{'courseTitle': 'Alphabet', 'errorAttempts': ...              2.92   \n",
       "2  [{'courseTitle': 'Alphabet', 'errorAttempts': ...              0.00   \n",
       "3  [{'courseTitle': 'Alphabet', 'errorAttempts': ...              0.00   \n",
       "4                                                NaN              0.00   \n",
       "\n",
       "   timeSpent_timeHomeScreen  timeSpent_timeLesson  timeSpent_timeMaps  \\\n",
       "0                     22.88                440.71               22.94   \n",
       "1                     70.63                249.74               63.18   \n",
       "2                     27.61                221.02               27.07   \n",
       "3                      4.75                  3.05               13.19   \n",
       "4                      0.03                  0.00                0.00   \n",
       "\n",
       "   timeSpent_timeQuiz  timeSpent_timeRewardPage  timeSpent_timeStore  \\\n",
       "0               49.52                       0.0                 0.00   \n",
       "1              143.48                       0.0                 0.00   \n",
       "2                0.00                       0.0                 3.82   \n",
       "3                0.00                       0.0                 0.00   \n",
       "4                0.00                       0.0                 0.00   \n",
       "\n",
       "            userId  timeSpent_total  \n",
       "0  abhijot76957943           536.05  \n",
       "1    alice40209003           529.95  \n",
       "2   amreet69858166           279.52  \n",
       "3   amreet69858166            20.99  \n",
       "4    anant16781190             0.03  "
      ]
     },
     "execution_count": 8,
     "metadata": {},
     "output_type": "execute_result"
    }
   ],
   "source": [
    "user_data=process_data(data_df)\n",
    "user_data.head()"
   ]
  },
  {
   "cell_type": "code",
   "execution_count": 9,
   "id": "d5169520",
   "metadata": {},
   "outputs": [
    {
     "name": "stderr",
     "output_type": "stream",
     "text": [
      "/tmp/ipykernel_12826/2847519143.py:1: FutureWarning:\n",
      "\n",
      "Dropping of nuisance columns in DataFrame reductions (with 'numeric_only=None') is deprecated; in a future version this will raise TypeError.  Select only valid columns before calling the reduction.\n",
      "\n"
     ]
    },
    {
     "data": {
      "text/plain": [
       "timeSpent_timeAI             4189.68\n",
       "timeSpent_timeHomeScreen    13082.75\n",
       "timeSpent_timeLesson        17870.18\n",
       "timeSpent_timeMaps           2731.31\n",
       "timeSpent_timeQuiz           7188.93\n",
       "timeSpent_timeRewardPage        0.00\n",
       "Name: 0, dtype: float64"
      ]
     },
     "execution_count": 9,
     "metadata": {},
     "output_type": "execute_result"
    }
   ],
   "source": [
    "pd.DataFrame(user_data.iloc[:,7:14].sum())[0]"
   ]
  },
  {
   "cell_type": "code",
   "execution_count": null,
   "id": "c382f2ad",
   "metadata": {},
   "outputs": [],
   "source": []
  },
  {
   "cell_type": "code",
   "execution_count": 10,
   "id": "4dd0b0e4",
   "metadata": {},
   "outputs": [
    {
     "data": {
      "text/html": [
       "<div>\n",
       "<style scoped>\n",
       "    .dataframe tbody tr th:only-of-type {\n",
       "        vertical-align: middle;\n",
       "    }\n",
       "\n",
       "    .dataframe tbody tr th {\n",
       "        vertical-align: top;\n",
       "    }\n",
       "\n",
       "    .dataframe thead th {\n",
       "        text-align: right;\n",
       "    }\n",
       "</style>\n",
       "<table border=\"1\" class=\"dataframe\">\n",
       "  <thead>\n",
       "    <tr style=\"text-align: right;\">\n",
       "      <th></th>\n",
       "      <th>name</th>\n",
       "      <th>Date</th>\n",
       "      <th>Time</th>\n",
       "      <th>personalRecords_CC</th>\n",
       "      <th>personalRecords_EA</th>\n",
       "      <th>personalRecords_TCA</th>\n",
       "      <th>personalRecords_TQA</th>\n",
       "      <th>questionsData</th>\n",
       "      <th>timeSpent_timeAI</th>\n",
       "      <th>timeSpent_timeHomeScreen</th>\n",
       "      <th>timeSpent_timeLesson</th>\n",
       "      <th>timeSpent_timeMaps</th>\n",
       "      <th>timeSpent_timeQuiz</th>\n",
       "      <th>timeSpent_timeRewardPage</th>\n",
       "      <th>timeSpent_timeStore</th>\n",
       "      <th>userId</th>\n",
       "      <th>timeSpent_total</th>\n",
       "    </tr>\n",
       "  </thead>\n",
       "  <tbody>\n",
       "    <tr>\n",
       "      <th>0</th>\n",
       "      <td>abhijot</td>\n",
       "      <td>17/01/2023</td>\n",
       "      <td>15:52:55</td>\n",
       "      <td>9</td>\n",
       "      <td>2</td>\n",
       "      <td>33</td>\n",
       "      <td>33</td>\n",
       "      <td>[{'courseTitle': 'Alphabet', 'errorAttempts': ...</td>\n",
       "      <td>0.00</td>\n",
       "      <td>22.88</td>\n",
       "      <td>440.71</td>\n",
       "      <td>22.94</td>\n",
       "      <td>49.52</td>\n",
       "      <td>0.0</td>\n",
       "      <td>0.00</td>\n",
       "      <td>abhijot76957943</td>\n",
       "      <td>536.05</td>\n",
       "    </tr>\n",
       "    <tr>\n",
       "      <th>1</th>\n",
       "      <td>alice</td>\n",
       "      <td>16/01/2023</td>\n",
       "      <td>09:52:20</td>\n",
       "      <td>15</td>\n",
       "      <td>4</td>\n",
       "      <td>35</td>\n",
       "      <td>35</td>\n",
       "      <td>[{'courseTitle': 'Alphabet', 'errorAttempts': ...</td>\n",
       "      <td>2.92</td>\n",
       "      <td>70.63</td>\n",
       "      <td>249.74</td>\n",
       "      <td>63.18</td>\n",
       "      <td>143.48</td>\n",
       "      <td>0.0</td>\n",
       "      <td>0.00</td>\n",
       "      <td>alice40209003</td>\n",
       "      <td>529.95</td>\n",
       "    </tr>\n",
       "    <tr>\n",
       "      <th>2</th>\n",
       "      <td>amreet</td>\n",
       "      <td>07/12/2022</td>\n",
       "      <td>14:06:44</td>\n",
       "      <td>5</td>\n",
       "      <td>1</td>\n",
       "      <td>14</td>\n",
       "      <td>16</td>\n",
       "      <td>[{'courseTitle': 'Alphabet', 'errorAttempts': ...</td>\n",
       "      <td>0.00</td>\n",
       "      <td>27.61</td>\n",
       "      <td>221.02</td>\n",
       "      <td>27.07</td>\n",
       "      <td>0.00</td>\n",
       "      <td>0.0</td>\n",
       "      <td>3.82</td>\n",
       "      <td>amreet69858166</td>\n",
       "      <td>279.52</td>\n",
       "    </tr>\n",
       "    <tr>\n",
       "      <th>3</th>\n",
       "      <td>amreet</td>\n",
       "      <td>07/12/2022</td>\n",
       "      <td>14:18:42</td>\n",
       "      <td>0</td>\n",
       "      <td>0</td>\n",
       "      <td>0</td>\n",
       "      <td>0</td>\n",
       "      <td>[{'courseTitle': 'Alphabet', 'errorAttempts': ...</td>\n",
       "      <td>0.00</td>\n",
       "      <td>4.75</td>\n",
       "      <td>3.05</td>\n",
       "      <td>13.19</td>\n",
       "      <td>0.00</td>\n",
       "      <td>0.0</td>\n",
       "      <td>0.00</td>\n",
       "      <td>amreet69858166</td>\n",
       "      <td>20.99</td>\n",
       "    </tr>\n",
       "    <tr>\n",
       "      <th>4</th>\n",
       "      <td>anant</td>\n",
       "      <td>18/01/2023</td>\n",
       "      <td>19:34:28</td>\n",
       "      <td>0</td>\n",
       "      <td>0</td>\n",
       "      <td>0</td>\n",
       "      <td>0</td>\n",
       "      <td>NaN</td>\n",
       "      <td>0.00</td>\n",
       "      <td>0.03</td>\n",
       "      <td>0.00</td>\n",
       "      <td>0.00</td>\n",
       "      <td>0.00</td>\n",
       "      <td>0.0</td>\n",
       "      <td>0.00</td>\n",
       "      <td>anant16781190</td>\n",
       "      <td>0.03</td>\n",
       "    </tr>\n",
       "    <tr>\n",
       "      <th>...</th>\n",
       "      <td>...</td>\n",
       "      <td>...</td>\n",
       "      <td>...</td>\n",
       "      <td>...</td>\n",
       "      <td>...</td>\n",
       "      <td>...</td>\n",
       "      <td>...</td>\n",
       "      <td>...</td>\n",
       "      <td>...</td>\n",
       "      <td>...</td>\n",
       "      <td>...</td>\n",
       "      <td>...</td>\n",
       "      <td>...</td>\n",
       "      <td>...</td>\n",
       "      <td>...</td>\n",
       "      <td>...</td>\n",
       "      <td>...</td>\n",
       "    </tr>\n",
       "    <tr>\n",
       "      <th>231</th>\n",
       "      <td>yash</td>\n",
       "      <td>07/12/2022</td>\n",
       "      <td>11:23:31</td>\n",
       "      <td>4</td>\n",
       "      <td>0</td>\n",
       "      <td>5</td>\n",
       "      <td>5</td>\n",
       "      <td>[{'courseTitle': 'Alphabet', 'errorAttempts': ...</td>\n",
       "      <td>31.64</td>\n",
       "      <td>18.02</td>\n",
       "      <td>68.77</td>\n",
       "      <td>27.03</td>\n",
       "      <td>0.00</td>\n",
       "      <td>0.0</td>\n",
       "      <td>9.74</td>\n",
       "      <td>yash43571800</td>\n",
       "      <td>155.20</td>\n",
       "    </tr>\n",
       "    <tr>\n",
       "      <th>232</th>\n",
       "      <td>yash</td>\n",
       "      <td>13/01/2023</td>\n",
       "      <td>15:49:50</td>\n",
       "      <td>0</td>\n",
       "      <td>0</td>\n",
       "      <td>0</td>\n",
       "      <td>0</td>\n",
       "      <td>NaN</td>\n",
       "      <td>117.97</td>\n",
       "      <td>47.00</td>\n",
       "      <td>0.00</td>\n",
       "      <td>12.63</td>\n",
       "      <td>0.00</td>\n",
       "      <td>0.0</td>\n",
       "      <td>107.70</td>\n",
       "      <td>yash69329362</td>\n",
       "      <td>285.30</td>\n",
       "    </tr>\n",
       "    <tr>\n",
       "      <th>233</th>\n",
       "      <td>yash</td>\n",
       "      <td>19/12/2022</td>\n",
       "      <td>02:34:22</td>\n",
       "      <td>0</td>\n",
       "      <td>0</td>\n",
       "      <td>0</td>\n",
       "      <td>1</td>\n",
       "      <td>[{'courseTitle': 'Alphabet', 'errorAttempts': ...</td>\n",
       "      <td>0.00</td>\n",
       "      <td>30.80</td>\n",
       "      <td>9.05</td>\n",
       "      <td>0.00</td>\n",
       "      <td>0.00</td>\n",
       "      <td>0.0</td>\n",
       "      <td>0.00</td>\n",
       "      <td>yash736116</td>\n",
       "      <td>39.85</td>\n",
       "    </tr>\n",
       "    <tr>\n",
       "      <th>234</th>\n",
       "      <td>yash</td>\n",
       "      <td>21/12/2022</td>\n",
       "      <td>10:26:08</td>\n",
       "      <td>0</td>\n",
       "      <td>0</td>\n",
       "      <td>0</td>\n",
       "      <td>0</td>\n",
       "      <td>NaN</td>\n",
       "      <td>0.00</td>\n",
       "      <td>17.46</td>\n",
       "      <td>0.00</td>\n",
       "      <td>0.00</td>\n",
       "      <td>0.00</td>\n",
       "      <td>0.0</td>\n",
       "      <td>0.00</td>\n",
       "      <td>yash736116</td>\n",
       "      <td>17.46</td>\n",
       "    </tr>\n",
       "    <tr>\n",
       "      <th>235</th>\n",
       "      <td>yash</td>\n",
       "      <td>07/12/2022</td>\n",
       "      <td>12:54:29</td>\n",
       "      <td>1</td>\n",
       "      <td>1</td>\n",
       "      <td>2</td>\n",
       "      <td>2</td>\n",
       "      <td>[{'courseTitle': 'Alphabet', 'errorAttempts': ...</td>\n",
       "      <td>0.00</td>\n",
       "      <td>24.15</td>\n",
       "      <td>22.18</td>\n",
       "      <td>8.89</td>\n",
       "      <td>8.72</td>\n",
       "      <td>0.0</td>\n",
       "      <td>0.00</td>\n",
       "      <td>yash86189492</td>\n",
       "      <td>63.94</td>\n",
       "    </tr>\n",
       "  </tbody>\n",
       "</table>\n",
       "<p>236 rows × 17 columns</p>\n",
       "</div>"
      ],
      "text/plain": [
       "        name        Date      Time  personalRecords_CC  personalRecords_EA  \\\n",
       "0    abhijot  17/01/2023  15:52:55                   9                   2   \n",
       "1      alice  16/01/2023  09:52:20                  15                   4   \n",
       "2     amreet  07/12/2022  14:06:44                   5                   1   \n",
       "3     amreet  07/12/2022  14:18:42                   0                   0   \n",
       "4      anant  18/01/2023  19:34:28                   0                   0   \n",
       "..       ...         ...       ...                 ...                 ...   \n",
       "231     yash  07/12/2022  11:23:31                   4                   0   \n",
       "232     yash  13/01/2023  15:49:50                   0                   0   \n",
       "233     yash  19/12/2022  02:34:22                   0                   0   \n",
       "234     yash  21/12/2022  10:26:08                   0                   0   \n",
       "235     yash  07/12/2022  12:54:29                   1                   1   \n",
       "\n",
       "     personalRecords_TCA  personalRecords_TQA  \\\n",
       "0                     33                   33   \n",
       "1                     35                   35   \n",
       "2                     14                   16   \n",
       "3                      0                    0   \n",
       "4                      0                    0   \n",
       "..                   ...                  ...   \n",
       "231                    5                    5   \n",
       "232                    0                    0   \n",
       "233                    0                    1   \n",
       "234                    0                    0   \n",
       "235                    2                    2   \n",
       "\n",
       "                                         questionsData  timeSpent_timeAI  \\\n",
       "0    [{'courseTitle': 'Alphabet', 'errorAttempts': ...              0.00   \n",
       "1    [{'courseTitle': 'Alphabet', 'errorAttempts': ...              2.92   \n",
       "2    [{'courseTitle': 'Alphabet', 'errorAttempts': ...              0.00   \n",
       "3    [{'courseTitle': 'Alphabet', 'errorAttempts': ...              0.00   \n",
       "4                                                  NaN              0.00   \n",
       "..                                                 ...               ...   \n",
       "231  [{'courseTitle': 'Alphabet', 'errorAttempts': ...             31.64   \n",
       "232                                                NaN            117.97   \n",
       "233  [{'courseTitle': 'Alphabet', 'errorAttempts': ...              0.00   \n",
       "234                                                NaN              0.00   \n",
       "235  [{'courseTitle': 'Alphabet', 'errorAttempts': ...              0.00   \n",
       "\n",
       "     timeSpent_timeHomeScreen  timeSpent_timeLesson  timeSpent_timeMaps  \\\n",
       "0                       22.88                440.71               22.94   \n",
       "1                       70.63                249.74               63.18   \n",
       "2                       27.61                221.02               27.07   \n",
       "3                        4.75                  3.05               13.19   \n",
       "4                        0.03                  0.00                0.00   \n",
       "..                        ...                   ...                 ...   \n",
       "231                     18.02                 68.77               27.03   \n",
       "232                     47.00                  0.00               12.63   \n",
       "233                     30.80                  9.05                0.00   \n",
       "234                     17.46                  0.00                0.00   \n",
       "235                     24.15                 22.18                8.89   \n",
       "\n",
       "     timeSpent_timeQuiz  timeSpent_timeRewardPage  timeSpent_timeStore  \\\n",
       "0                 49.52                       0.0                 0.00   \n",
       "1                143.48                       0.0                 0.00   \n",
       "2                  0.00                       0.0                 3.82   \n",
       "3                  0.00                       0.0                 0.00   \n",
       "4                  0.00                       0.0                 0.00   \n",
       "..                  ...                       ...                  ...   \n",
       "231                0.00                       0.0                 9.74   \n",
       "232                0.00                       0.0               107.70   \n",
       "233                0.00                       0.0                 0.00   \n",
       "234                0.00                       0.0                 0.00   \n",
       "235                8.72                       0.0                 0.00   \n",
       "\n",
       "              userId  timeSpent_total  \n",
       "0    abhijot76957943           536.05  \n",
       "1      alice40209003           529.95  \n",
       "2     amreet69858166           279.52  \n",
       "3     amreet69858166            20.99  \n",
       "4      anant16781190             0.03  \n",
       "..               ...              ...  \n",
       "231     yash43571800           155.20  \n",
       "232     yash69329362           285.30  \n",
       "233       yash736116            39.85  \n",
       "234       yash736116            17.46  \n",
       "235     yash86189492            63.94  \n",
       "\n",
       "[236 rows x 17 columns]"
      ]
     },
     "execution_count": 10,
     "metadata": {},
     "output_type": "execute_result"
    }
   ],
   "source": [
    "user_data"
   ]
  },
  {
   "cell_type": "code",
   "execution_count": 11,
   "id": "51c37ad6",
   "metadata": {},
   "outputs": [],
   "source": [
    "df=user_data"
   ]
  },
  {
   "cell_type": "code",
   "execution_count": 12,
   "id": "c9bdbe69",
   "metadata": {},
   "outputs": [
    {
     "data": {
      "text/html": [
       "<div>\n",
       "<style scoped>\n",
       "    .dataframe tbody tr th:only-of-type {\n",
       "        vertical-align: middle;\n",
       "    }\n",
       "\n",
       "    .dataframe tbody tr th {\n",
       "        vertical-align: top;\n",
       "    }\n",
       "\n",
       "    .dataframe thead th {\n",
       "        text-align: right;\n",
       "    }\n",
       "</style>\n",
       "<table border=\"1\" class=\"dataframe\">\n",
       "  <thead>\n",
       "    <tr style=\"text-align: right;\">\n",
       "      <th></th>\n",
       "      <th>name</th>\n",
       "      <th>Date</th>\n",
       "      <th>Time</th>\n",
       "      <th>personalRecords_CC</th>\n",
       "      <th>personalRecords_EA</th>\n",
       "      <th>personalRecords_TCA</th>\n",
       "      <th>personalRecords_TQA</th>\n",
       "      <th>questionsData</th>\n",
       "      <th>timeSpent_timeAI</th>\n",
       "      <th>timeSpent_timeHomeScreen</th>\n",
       "      <th>timeSpent_timeLesson</th>\n",
       "      <th>timeSpent_timeMaps</th>\n",
       "      <th>timeSpent_timeQuiz</th>\n",
       "      <th>timeSpent_timeRewardPage</th>\n",
       "      <th>timeSpent_timeStore</th>\n",
       "      <th>userId</th>\n",
       "      <th>timeSpent_total</th>\n",
       "    </tr>\n",
       "  </thead>\n",
       "  <tbody>\n",
       "    <tr>\n",
       "      <th>0</th>\n",
       "      <td>abhijot</td>\n",
       "      <td>17/01/2023</td>\n",
       "      <td>15:52:55</td>\n",
       "      <td>9</td>\n",
       "      <td>2</td>\n",
       "      <td>33</td>\n",
       "      <td>33</td>\n",
       "      <td>[{'courseTitle': 'Alphabet', 'errorAttempts': ...</td>\n",
       "      <td>0.00</td>\n",
       "      <td>22.88</td>\n",
       "      <td>440.71</td>\n",
       "      <td>22.94</td>\n",
       "      <td>49.52</td>\n",
       "      <td>0.0</td>\n",
       "      <td>0.00</td>\n",
       "      <td>abhijot76957943</td>\n",
       "      <td>536.05</td>\n",
       "    </tr>\n",
       "    <tr>\n",
       "      <th>1</th>\n",
       "      <td>alice</td>\n",
       "      <td>16/01/2023</td>\n",
       "      <td>09:52:20</td>\n",
       "      <td>15</td>\n",
       "      <td>4</td>\n",
       "      <td>35</td>\n",
       "      <td>35</td>\n",
       "      <td>[{'courseTitle': 'Alphabet', 'errorAttempts': ...</td>\n",
       "      <td>2.92</td>\n",
       "      <td>70.63</td>\n",
       "      <td>249.74</td>\n",
       "      <td>63.18</td>\n",
       "      <td>143.48</td>\n",
       "      <td>0.0</td>\n",
       "      <td>0.00</td>\n",
       "      <td>alice40209003</td>\n",
       "      <td>529.95</td>\n",
       "    </tr>\n",
       "    <tr>\n",
       "      <th>2</th>\n",
       "      <td>amreet</td>\n",
       "      <td>07/12/2022</td>\n",
       "      <td>14:06:44</td>\n",
       "      <td>5</td>\n",
       "      <td>1</td>\n",
       "      <td>14</td>\n",
       "      <td>16</td>\n",
       "      <td>[{'courseTitle': 'Alphabet', 'errorAttempts': ...</td>\n",
       "      <td>0.00</td>\n",
       "      <td>27.61</td>\n",
       "      <td>221.02</td>\n",
       "      <td>27.07</td>\n",
       "      <td>0.00</td>\n",
       "      <td>0.0</td>\n",
       "      <td>3.82</td>\n",
       "      <td>amreet69858166</td>\n",
       "      <td>279.52</td>\n",
       "    </tr>\n",
       "    <tr>\n",
       "      <th>3</th>\n",
       "      <td>amreet</td>\n",
       "      <td>07/12/2022</td>\n",
       "      <td>14:18:42</td>\n",
       "      <td>0</td>\n",
       "      <td>0</td>\n",
       "      <td>0</td>\n",
       "      <td>0</td>\n",
       "      <td>[{'courseTitle': 'Alphabet', 'errorAttempts': ...</td>\n",
       "      <td>0.00</td>\n",
       "      <td>4.75</td>\n",
       "      <td>3.05</td>\n",
       "      <td>13.19</td>\n",
       "      <td>0.00</td>\n",
       "      <td>0.0</td>\n",
       "      <td>0.00</td>\n",
       "      <td>amreet69858166</td>\n",
       "      <td>20.99</td>\n",
       "    </tr>\n",
       "    <tr>\n",
       "      <th>4</th>\n",
       "      <td>anant</td>\n",
       "      <td>18/01/2023</td>\n",
       "      <td>19:34:28</td>\n",
       "      <td>0</td>\n",
       "      <td>0</td>\n",
       "      <td>0</td>\n",
       "      <td>0</td>\n",
       "      <td>NaN</td>\n",
       "      <td>0.00</td>\n",
       "      <td>0.03</td>\n",
       "      <td>0.00</td>\n",
       "      <td>0.00</td>\n",
       "      <td>0.00</td>\n",
       "      <td>0.0</td>\n",
       "      <td>0.00</td>\n",
       "      <td>anant16781190</td>\n",
       "      <td>0.03</td>\n",
       "    </tr>\n",
       "  </tbody>\n",
       "</table>\n",
       "</div>"
      ],
      "text/plain": [
       "      name        Date      Time  personalRecords_CC  personalRecords_EA  \\\n",
       "0  abhijot  17/01/2023  15:52:55                   9                   2   \n",
       "1    alice  16/01/2023  09:52:20                  15                   4   \n",
       "2   amreet  07/12/2022  14:06:44                   5                   1   \n",
       "3   amreet  07/12/2022  14:18:42                   0                   0   \n",
       "4    anant  18/01/2023  19:34:28                   0                   0   \n",
       "\n",
       "   personalRecords_TCA  personalRecords_TQA  \\\n",
       "0                   33                   33   \n",
       "1                   35                   35   \n",
       "2                   14                   16   \n",
       "3                    0                    0   \n",
       "4                    0                    0   \n",
       "\n",
       "                                       questionsData  timeSpent_timeAI  \\\n",
       "0  [{'courseTitle': 'Alphabet', 'errorAttempts': ...              0.00   \n",
       "1  [{'courseTitle': 'Alphabet', 'errorAttempts': ...              2.92   \n",
       "2  [{'courseTitle': 'Alphabet', 'errorAttempts': ...              0.00   \n",
       "3  [{'courseTitle': 'Alphabet', 'errorAttempts': ...              0.00   \n",
       "4                                                NaN              0.00   \n",
       "\n",
       "   timeSpent_timeHomeScreen  timeSpent_timeLesson  timeSpent_timeMaps  \\\n",
       "0                     22.88                440.71               22.94   \n",
       "1                     70.63                249.74               63.18   \n",
       "2                     27.61                221.02               27.07   \n",
       "3                      4.75                  3.05               13.19   \n",
       "4                      0.03                  0.00                0.00   \n",
       "\n",
       "   timeSpent_timeQuiz  timeSpent_timeRewardPage  timeSpent_timeStore  \\\n",
       "0               49.52                       0.0                 0.00   \n",
       "1              143.48                       0.0                 0.00   \n",
       "2                0.00                       0.0                 3.82   \n",
       "3                0.00                       0.0                 0.00   \n",
       "4                0.00                       0.0                 0.00   \n",
       "\n",
       "            userId  timeSpent_total  \n",
       "0  abhijot76957943           536.05  \n",
       "1    alice40209003           529.95  \n",
       "2   amreet69858166           279.52  \n",
       "3   amreet69858166            20.99  \n",
       "4    anant16781190             0.03  "
      ]
     },
     "execution_count": 12,
     "metadata": {},
     "output_type": "execute_result"
    }
   ],
   "source": [
    "df.head()"
   ]
  },
  {
   "cell_type": "code",
   "execution_count": 13,
   "id": "c169b73c",
   "metadata": {},
   "outputs": [
    {
     "data": {
      "text/html": [
       "<div>\n",
       "<style scoped>\n",
       "    .dataframe tbody tr th:only-of-type {\n",
       "        vertical-align: middle;\n",
       "    }\n",
       "\n",
       "    .dataframe tbody tr th {\n",
       "        vertical-align: top;\n",
       "    }\n",
       "\n",
       "    .dataframe thead th {\n",
       "        text-align: right;\n",
       "    }\n",
       "</style>\n",
       "<table border=\"1\" class=\"dataframe\">\n",
       "  <thead>\n",
       "    <tr style=\"text-align: right;\">\n",
       "      <th></th>\n",
       "      <th>name</th>\n",
       "      <th>Date</th>\n",
       "      <th>Time</th>\n",
       "      <th>personalRecords_CC</th>\n",
       "      <th>personalRecords_EA</th>\n",
       "      <th>personalRecords_TCA</th>\n",
       "      <th>personalRecords_TQA</th>\n",
       "      <th>questionsData</th>\n",
       "      <th>timeSpent_timeAI</th>\n",
       "      <th>timeSpent_timeHomeScreen</th>\n",
       "      <th>timeSpent_timeLesson</th>\n",
       "      <th>timeSpent_timeMaps</th>\n",
       "      <th>timeSpent_timeQuiz</th>\n",
       "      <th>timeSpent_timeRewardPage</th>\n",
       "      <th>timeSpent_timeStore</th>\n",
       "      <th>userId</th>\n",
       "      <th>timeSpent_total</th>\n",
       "    </tr>\n",
       "  </thead>\n",
       "  <tbody>\n",
       "    <tr>\n",
       "      <th>0</th>\n",
       "      <td>abhijot</td>\n",
       "      <td>17/01/2023</td>\n",
       "      <td>15:52:55</td>\n",
       "      <td>9</td>\n",
       "      <td>2</td>\n",
       "      <td>33</td>\n",
       "      <td>33</td>\n",
       "      <td>[{'courseTitle': 'Alphabet', 'errorAttempts': ...</td>\n",
       "      <td>0.0</td>\n",
       "      <td>22.88</td>\n",
       "      <td>440.71</td>\n",
       "      <td>22.94</td>\n",
       "      <td>49.52</td>\n",
       "      <td>0.0</td>\n",
       "      <td>0.00</td>\n",
       "      <td>abhijot76957943</td>\n",
       "      <td>536.05</td>\n",
       "    </tr>\n",
       "    <tr>\n",
       "      <th>10</th>\n",
       "      <td>aneiba</td>\n",
       "      <td>17/01/2023</td>\n",
       "      <td>15:25:37</td>\n",
       "      <td>3</td>\n",
       "      <td>2</td>\n",
       "      <td>10</td>\n",
       "      <td>10</td>\n",
       "      <td>[{'courseTitle': 'Alphabet', 'errorAttempts': ...</td>\n",
       "      <td>0.0</td>\n",
       "      <td>34.24</td>\n",
       "      <td>104.78</td>\n",
       "      <td>19.20</td>\n",
       "      <td>68.62</td>\n",
       "      <td>0.0</td>\n",
       "      <td>0.00</td>\n",
       "      <td>aneiba3632091</td>\n",
       "      <td>226.84</td>\n",
       "    </tr>\n",
       "    <tr>\n",
       "      <th>35</th>\n",
       "      <td>dilrajan</td>\n",
       "      <td>17/01/2023</td>\n",
       "      <td>15:47:45</td>\n",
       "      <td>14</td>\n",
       "      <td>2</td>\n",
       "      <td>37</td>\n",
       "      <td>37</td>\n",
       "      <td>[{'courseTitle': 'Alphabet', 'errorAttempts': ...</td>\n",
       "      <td>0.0</td>\n",
       "      <td>66.42</td>\n",
       "      <td>430.15</td>\n",
       "      <td>46.33</td>\n",
       "      <td>122.29</td>\n",
       "      <td>0.0</td>\n",
       "      <td>30.36</td>\n",
       "      <td>dilrajan80680667</td>\n",
       "      <td>695.55</td>\n",
       "    </tr>\n",
       "    <tr>\n",
       "      <th>41</th>\n",
       "      <td>gurnell</td>\n",
       "      <td>17/01/2023</td>\n",
       "      <td>15:36:25</td>\n",
       "      <td>11</td>\n",
       "      <td>3</td>\n",
       "      <td>27</td>\n",
       "      <td>27</td>\n",
       "      <td>[{'courseTitle': 'Alphabet', 'errorAttempts': ...</td>\n",
       "      <td>0.0</td>\n",
       "      <td>43.85</td>\n",
       "      <td>151.27</td>\n",
       "      <td>11.97</td>\n",
       "      <td>158.54</td>\n",
       "      <td>0.0</td>\n",
       "      <td>0.00</td>\n",
       "      <td>gurnell7204873</td>\n",
       "      <td>365.63</td>\n",
       "    </tr>\n",
       "    <tr>\n",
       "      <th>82</th>\n",
       "      <td>marwa</td>\n",
       "      <td>17/01/2023</td>\n",
       "      <td>15:36:26</td>\n",
       "      <td>2</td>\n",
       "      <td>1</td>\n",
       "      <td>5</td>\n",
       "      <td>5</td>\n",
       "      <td>NaN</td>\n",
       "      <td>0.0</td>\n",
       "      <td>20.91</td>\n",
       "      <td>0.00</td>\n",
       "      <td>0.00</td>\n",
       "      <td>61.26</td>\n",
       "      <td>0.0</td>\n",
       "      <td>0.00</td>\n",
       "      <td>marwa72747641</td>\n",
       "      <td>82.17</td>\n",
       "    </tr>\n",
       "    <tr>\n",
       "      <th>83</th>\n",
       "      <td>marwa</td>\n",
       "      <td>17/01/2023</td>\n",
       "      <td>15:42:20</td>\n",
       "      <td>5</td>\n",
       "      <td>2</td>\n",
       "      <td>19</td>\n",
       "      <td>19</td>\n",
       "      <td>[{'courseTitle': 'Animals', 'errorAttempts': '...</td>\n",
       "      <td>1.2</td>\n",
       "      <td>31.17</td>\n",
       "      <td>209.95</td>\n",
       "      <td>37.20</td>\n",
       "      <td>49.96</td>\n",
       "      <td>0.0</td>\n",
       "      <td>0.00</td>\n",
       "      <td>marwa72747641</td>\n",
       "      <td>329.48</td>\n",
       "    </tr>\n",
       "    <tr>\n",
       "      <th>220</th>\n",
       "      <td>tamiha</td>\n",
       "      <td>17/01/2023</td>\n",
       "      <td>15:24:17</td>\n",
       "      <td>5</td>\n",
       "      <td>2</td>\n",
       "      <td>17</td>\n",
       "      <td>17</td>\n",
       "      <td>[{'courseTitle': 'Alphabet', 'errorAttempts': ...</td>\n",
       "      <td>0.0</td>\n",
       "      <td>51.03</td>\n",
       "      <td>246.35</td>\n",
       "      <td>32.49</td>\n",
       "      <td>69.65</td>\n",
       "      <td>0.0</td>\n",
       "      <td>0.00</td>\n",
       "      <td>tamiha6346388</td>\n",
       "      <td>399.52</td>\n",
       "    </tr>\n",
       "  </tbody>\n",
       "</table>\n",
       "</div>"
      ],
      "text/plain": [
       "         name        Date      Time  personalRecords_CC  personalRecords_EA  \\\n",
       "0     abhijot  17/01/2023  15:52:55                   9                   2   \n",
       "10     aneiba  17/01/2023  15:25:37                   3                   2   \n",
       "35   dilrajan  17/01/2023  15:47:45                  14                   2   \n",
       "41    gurnell  17/01/2023  15:36:25                  11                   3   \n",
       "82      marwa  17/01/2023  15:36:26                   2                   1   \n",
       "83      marwa  17/01/2023  15:42:20                   5                   2   \n",
       "220    tamiha  17/01/2023  15:24:17                   5                   2   \n",
       "\n",
       "     personalRecords_TCA  personalRecords_TQA  \\\n",
       "0                     33                   33   \n",
       "10                    10                   10   \n",
       "35                    37                   37   \n",
       "41                    27                   27   \n",
       "82                     5                    5   \n",
       "83                    19                   19   \n",
       "220                   17                   17   \n",
       "\n",
       "                                         questionsData  timeSpent_timeAI  \\\n",
       "0    [{'courseTitle': 'Alphabet', 'errorAttempts': ...               0.0   \n",
       "10   [{'courseTitle': 'Alphabet', 'errorAttempts': ...               0.0   \n",
       "35   [{'courseTitle': 'Alphabet', 'errorAttempts': ...               0.0   \n",
       "41   [{'courseTitle': 'Alphabet', 'errorAttempts': ...               0.0   \n",
       "82                                                 NaN               0.0   \n",
       "83   [{'courseTitle': 'Animals', 'errorAttempts': '...               1.2   \n",
       "220  [{'courseTitle': 'Alphabet', 'errorAttempts': ...               0.0   \n",
       "\n",
       "     timeSpent_timeHomeScreen  timeSpent_timeLesson  timeSpent_timeMaps  \\\n",
       "0                       22.88                440.71               22.94   \n",
       "10                      34.24                104.78               19.20   \n",
       "35                      66.42                430.15               46.33   \n",
       "41                      43.85                151.27               11.97   \n",
       "82                      20.91                  0.00                0.00   \n",
       "83                      31.17                209.95               37.20   \n",
       "220                     51.03                246.35               32.49   \n",
       "\n",
       "     timeSpent_timeQuiz  timeSpent_timeRewardPage  timeSpent_timeStore  \\\n",
       "0                 49.52                       0.0                 0.00   \n",
       "10                68.62                       0.0                 0.00   \n",
       "35               122.29                       0.0                30.36   \n",
       "41               158.54                       0.0                 0.00   \n",
       "82                61.26                       0.0                 0.00   \n",
       "83                49.96                       0.0                 0.00   \n",
       "220               69.65                       0.0                 0.00   \n",
       "\n",
       "               userId  timeSpent_total  \n",
       "0     abhijot76957943           536.05  \n",
       "10      aneiba3632091           226.84  \n",
       "35   dilrajan80680667           695.55  \n",
       "41     gurnell7204873           365.63  \n",
       "82      marwa72747641            82.17  \n",
       "83      marwa72747641           329.48  \n",
       "220     tamiha6346388           399.52  "
      ]
     },
     "execution_count": 13,
     "metadata": {},
     "output_type": "execute_result"
    }
   ],
   "source": [
    "df[df.Date=='17/01/2023']"
   ]
  },
  {
   "cell_type": "code",
   "execution_count": 14,
   "id": "fd069d4d",
   "metadata": {},
   "outputs": [
    {
     "data": {
      "text/plain": [
       "['17/01/2023',\n",
       " '16/01/2023',\n",
       " '07/12/2022',\n",
       " '18/01/2023',\n",
       " '21/01/2023',\n",
       " '09/12/2022',\n",
       " '16-12-2022',\n",
       " '22/01/2023',\n",
       " '20/01/2023',\n",
       " '1/20/2023',\n",
       " '1/22/2023',\n",
       " '08/12/2022',\n",
       " '20-01-2023',\n",
       " '13/01/2023',\n",
       " '14/12/2022',\n",
       " '2022-12-21',\n",
       " '25/12/2022',\n",
       " '27/12/2022',\n",
       " '30/12/2022',\n",
       " '27-12-2022',\n",
       " '28-12-2022',\n",
       " '23/01/2023',\n",
       " '11/23/2022',\n",
       " '11/24/2022',\n",
       " '11/27/2022',\n",
       " '12/1/2022',\n",
       " '12/10/2022',\n",
       " '12/17/2022',\n",
       " '12/20/2022',\n",
       " '12/24/2022',\n",
       " '12/27/2022',\n",
       " '12/3/2022',\n",
       " '12/8/2022',\n",
       " '08/11/2022',\n",
       " '11/11/2022',\n",
       " '12/01/2023',\n",
       " '12/7/2022',\n",
       " '12/9/2022',\n",
       " '06/12/2022',\n",
       " '1/10/2023',\n",
       " '1/11/2023',\n",
       " '1/5/2023',\n",
       " '12/12/2022',\n",
       " '12/15/2022',\n",
       " '12/16/2022',\n",
       " '12/19/2022',\n",
       " '12/30/2022',\n",
       " '19/12/2022',\n",
       " '11/14/2022',\n",
       " '11/17/2022',\n",
       " '11/20/2022',\n",
       " '11/21/2022',\n",
       " '11/8/2022',\n",
       " '11/9/2022',\n",
       " '07/01/2023',\n",
       " '23/11/2022',\n",
       " '26/12/2022',\n",
       " '29/11/2022',\n",
       " '04/01/2023',\n",
       " '15/01/2023',\n",
       " '20/12/2022',\n",
       " '11/25/2022',\n",
       " '11/29/2022',\n",
       " '12/2/2022',\n",
       " '12/4/2022',\n",
       " '12/6/2022',\n",
       " '28/12/2022',\n",
       " '2023-01-22',\n",
       " '09/11/2022',\n",
       " '15/11/2022',\n",
       " '16/11/2022',\n",
       " '21/12/2022']"
      ]
     },
     "execution_count": 14,
     "metadata": {},
     "output_type": "execute_result"
    }
   ],
   "source": [
    "list(df.Date.unique())"
   ]
  },
  {
   "cell_type": "code",
   "execution_count": 15,
   "id": "3a32f766",
   "metadata": {},
   "outputs": [
    {
     "data": {
      "application/vnd.plotly.v1+json": {
       "config": {
        "plotlyServerURL": "https://plot.ly"
       },
       "data": [
        {
         "alignmentgroup": "True",
         "hovertemplate": "name=abhijot<br>Time=%{x}<br>timeSpent_total=%{y}<extra></extra>",
         "legendgroup": "abhijot",
         "marker": {
          "color": "#636efa",
          "pattern": {
           "shape": ""
          }
         },
         "name": "abhijot",
         "offsetgroup": "abhijot",
         "orientation": "v",
         "showlegend": true,
         "textposition": "auto",
         "type": "bar",
         "x": [
          "15:52:55"
         ],
         "xaxis": "x",
         "y": [
          536.05
         ],
         "yaxis": "y"
        },
        {
         "alignmentgroup": "True",
         "hovertemplate": "name=aneiba<br>Time=%{x}<br>timeSpent_total=%{y}<extra></extra>",
         "legendgroup": "aneiba",
         "marker": {
          "color": "#EF553B",
          "pattern": {
           "shape": ""
          }
         },
         "name": "aneiba",
         "offsetgroup": "aneiba",
         "orientation": "v",
         "showlegend": true,
         "textposition": "auto",
         "type": "bar",
         "x": [
          "15:25:37"
         ],
         "xaxis": "x",
         "y": [
          226.84
         ],
         "yaxis": "y"
        },
        {
         "alignmentgroup": "True",
         "hovertemplate": "name=dilrajan<br>Time=%{x}<br>timeSpent_total=%{y}<extra></extra>",
         "legendgroup": "dilrajan",
         "marker": {
          "color": "#00cc96",
          "pattern": {
           "shape": ""
          }
         },
         "name": "dilrajan",
         "offsetgroup": "dilrajan",
         "orientation": "v",
         "showlegend": true,
         "textposition": "auto",
         "type": "bar",
         "x": [
          "15:47:45"
         ],
         "xaxis": "x",
         "y": [
          695.55
         ],
         "yaxis": "y"
        },
        {
         "alignmentgroup": "True",
         "hovertemplate": "name=gurnell<br>Time=%{x}<br>timeSpent_total=%{y}<extra></extra>",
         "legendgroup": "gurnell",
         "marker": {
          "color": "#ab63fa",
          "pattern": {
           "shape": ""
          }
         },
         "name": "gurnell",
         "offsetgroup": "gurnell",
         "orientation": "v",
         "showlegend": true,
         "textposition": "auto",
         "type": "bar",
         "x": [
          "15:36:25"
         ],
         "xaxis": "x",
         "y": [
          365.63
         ],
         "yaxis": "y"
        },
        {
         "alignmentgroup": "True",
         "hovertemplate": "name=marwa<br>Time=%{x}<br>timeSpent_total=%{y}<extra></extra>",
         "legendgroup": "marwa",
         "marker": {
          "color": "#FFA15A",
          "pattern": {
           "shape": ""
          }
         },
         "name": "marwa",
         "offsetgroup": "marwa",
         "orientation": "v",
         "showlegend": true,
         "textposition": "auto",
         "type": "bar",
         "x": [
          "15:36:26",
          "15:42:20"
         ],
         "xaxis": "x",
         "y": [
          82.17,
          329.47999999999996
         ],
         "yaxis": "y"
        },
        {
         "alignmentgroup": "True",
         "hovertemplate": "name=tamiha<br>Time=%{x}<br>timeSpent_total=%{y}<extra></extra>",
         "legendgroup": "tamiha",
         "marker": {
          "color": "#19d3f3",
          "pattern": {
           "shape": ""
          }
         },
         "name": "tamiha",
         "offsetgroup": "tamiha",
         "orientation": "v",
         "showlegend": true,
         "textposition": "auto",
         "type": "bar",
         "x": [
          "15:24:17"
         ],
         "xaxis": "x",
         "y": [
          399.52
         ],
         "yaxis": "y"
        }
       ],
       "layout": {
        "barmode": "relative",
        "legend": {
         "title": {
          "text": "name"
         },
         "tracegroupgap": 0
        },
        "margin": {
         "t": 60
        },
        "template": {
         "data": {
          "bar": [
           {
            "error_x": {
             "color": "#2a3f5f"
            },
            "error_y": {
             "color": "#2a3f5f"
            },
            "marker": {
             "line": {
              "color": "#E5ECF6",
              "width": 0.5
             },
             "pattern": {
              "fillmode": "overlay",
              "size": 10,
              "solidity": 0.2
             }
            },
            "type": "bar"
           }
          ],
          "barpolar": [
           {
            "marker": {
             "line": {
              "color": "#E5ECF6",
              "width": 0.5
             },
             "pattern": {
              "fillmode": "overlay",
              "size": 10,
              "solidity": 0.2
             }
            },
            "type": "barpolar"
           }
          ],
          "carpet": [
           {
            "aaxis": {
             "endlinecolor": "#2a3f5f",
             "gridcolor": "white",
             "linecolor": "white",
             "minorgridcolor": "white",
             "startlinecolor": "#2a3f5f"
            },
            "baxis": {
             "endlinecolor": "#2a3f5f",
             "gridcolor": "white",
             "linecolor": "white",
             "minorgridcolor": "white",
             "startlinecolor": "#2a3f5f"
            },
            "type": "carpet"
           }
          ],
          "choropleth": [
           {
            "colorbar": {
             "outlinewidth": 0,
             "ticks": ""
            },
            "type": "choropleth"
           }
          ],
          "contour": [
           {
            "colorbar": {
             "outlinewidth": 0,
             "ticks": ""
            },
            "colorscale": [
             [
              0,
              "#0d0887"
             ],
             [
              0.1111111111111111,
              "#46039f"
             ],
             [
              0.2222222222222222,
              "#7201a8"
             ],
             [
              0.3333333333333333,
              "#9c179e"
             ],
             [
              0.4444444444444444,
              "#bd3786"
             ],
             [
              0.5555555555555556,
              "#d8576b"
             ],
             [
              0.6666666666666666,
              "#ed7953"
             ],
             [
              0.7777777777777778,
              "#fb9f3a"
             ],
             [
              0.8888888888888888,
              "#fdca26"
             ],
             [
              1,
              "#f0f921"
             ]
            ],
            "type": "contour"
           }
          ],
          "contourcarpet": [
           {
            "colorbar": {
             "outlinewidth": 0,
             "ticks": ""
            },
            "type": "contourcarpet"
           }
          ],
          "heatmap": [
           {
            "colorbar": {
             "outlinewidth": 0,
             "ticks": ""
            },
            "colorscale": [
             [
              0,
              "#0d0887"
             ],
             [
              0.1111111111111111,
              "#46039f"
             ],
             [
              0.2222222222222222,
              "#7201a8"
             ],
             [
              0.3333333333333333,
              "#9c179e"
             ],
             [
              0.4444444444444444,
              "#bd3786"
             ],
             [
              0.5555555555555556,
              "#d8576b"
             ],
             [
              0.6666666666666666,
              "#ed7953"
             ],
             [
              0.7777777777777778,
              "#fb9f3a"
             ],
             [
              0.8888888888888888,
              "#fdca26"
             ],
             [
              1,
              "#f0f921"
             ]
            ],
            "type": "heatmap"
           }
          ],
          "heatmapgl": [
           {
            "colorbar": {
             "outlinewidth": 0,
             "ticks": ""
            },
            "colorscale": [
             [
              0,
              "#0d0887"
             ],
             [
              0.1111111111111111,
              "#46039f"
             ],
             [
              0.2222222222222222,
              "#7201a8"
             ],
             [
              0.3333333333333333,
              "#9c179e"
             ],
             [
              0.4444444444444444,
              "#bd3786"
             ],
             [
              0.5555555555555556,
              "#d8576b"
             ],
             [
              0.6666666666666666,
              "#ed7953"
             ],
             [
              0.7777777777777778,
              "#fb9f3a"
             ],
             [
              0.8888888888888888,
              "#fdca26"
             ],
             [
              1,
              "#f0f921"
             ]
            ],
            "type": "heatmapgl"
           }
          ],
          "histogram": [
           {
            "marker": {
             "pattern": {
              "fillmode": "overlay",
              "size": 10,
              "solidity": 0.2
             }
            },
            "type": "histogram"
           }
          ],
          "histogram2d": [
           {
            "colorbar": {
             "outlinewidth": 0,
             "ticks": ""
            },
            "colorscale": [
             [
              0,
              "#0d0887"
             ],
             [
              0.1111111111111111,
              "#46039f"
             ],
             [
              0.2222222222222222,
              "#7201a8"
             ],
             [
              0.3333333333333333,
              "#9c179e"
             ],
             [
              0.4444444444444444,
              "#bd3786"
             ],
             [
              0.5555555555555556,
              "#d8576b"
             ],
             [
              0.6666666666666666,
              "#ed7953"
             ],
             [
              0.7777777777777778,
              "#fb9f3a"
             ],
             [
              0.8888888888888888,
              "#fdca26"
             ],
             [
              1,
              "#f0f921"
             ]
            ],
            "type": "histogram2d"
           }
          ],
          "histogram2dcontour": [
           {
            "colorbar": {
             "outlinewidth": 0,
             "ticks": ""
            },
            "colorscale": [
             [
              0,
              "#0d0887"
             ],
             [
              0.1111111111111111,
              "#46039f"
             ],
             [
              0.2222222222222222,
              "#7201a8"
             ],
             [
              0.3333333333333333,
              "#9c179e"
             ],
             [
              0.4444444444444444,
              "#bd3786"
             ],
             [
              0.5555555555555556,
              "#d8576b"
             ],
             [
              0.6666666666666666,
              "#ed7953"
             ],
             [
              0.7777777777777778,
              "#fb9f3a"
             ],
             [
              0.8888888888888888,
              "#fdca26"
             ],
             [
              1,
              "#f0f921"
             ]
            ],
            "type": "histogram2dcontour"
           }
          ],
          "mesh3d": [
           {
            "colorbar": {
             "outlinewidth": 0,
             "ticks": ""
            },
            "type": "mesh3d"
           }
          ],
          "parcoords": [
           {
            "line": {
             "colorbar": {
              "outlinewidth": 0,
              "ticks": ""
             }
            },
            "type": "parcoords"
           }
          ],
          "pie": [
           {
            "automargin": true,
            "type": "pie"
           }
          ],
          "scatter": [
           {
            "fillpattern": {
             "fillmode": "overlay",
             "size": 10,
             "solidity": 0.2
            },
            "type": "scatter"
           }
          ],
          "scatter3d": [
           {
            "line": {
             "colorbar": {
              "outlinewidth": 0,
              "ticks": ""
             }
            },
            "marker": {
             "colorbar": {
              "outlinewidth": 0,
              "ticks": ""
             }
            },
            "type": "scatter3d"
           }
          ],
          "scattercarpet": [
           {
            "marker": {
             "colorbar": {
              "outlinewidth": 0,
              "ticks": ""
             }
            },
            "type": "scattercarpet"
           }
          ],
          "scattergeo": [
           {
            "marker": {
             "colorbar": {
              "outlinewidth": 0,
              "ticks": ""
             }
            },
            "type": "scattergeo"
           }
          ],
          "scattergl": [
           {
            "marker": {
             "colorbar": {
              "outlinewidth": 0,
              "ticks": ""
             }
            },
            "type": "scattergl"
           }
          ],
          "scattermapbox": [
           {
            "marker": {
             "colorbar": {
              "outlinewidth": 0,
              "ticks": ""
             }
            },
            "type": "scattermapbox"
           }
          ],
          "scatterpolar": [
           {
            "marker": {
             "colorbar": {
              "outlinewidth": 0,
              "ticks": ""
             }
            },
            "type": "scatterpolar"
           }
          ],
          "scatterpolargl": [
           {
            "marker": {
             "colorbar": {
              "outlinewidth": 0,
              "ticks": ""
             }
            },
            "type": "scatterpolargl"
           }
          ],
          "scatterternary": [
           {
            "marker": {
             "colorbar": {
              "outlinewidth": 0,
              "ticks": ""
             }
            },
            "type": "scatterternary"
           }
          ],
          "surface": [
           {
            "colorbar": {
             "outlinewidth": 0,
             "ticks": ""
            },
            "colorscale": [
             [
              0,
              "#0d0887"
             ],
             [
              0.1111111111111111,
              "#46039f"
             ],
             [
              0.2222222222222222,
              "#7201a8"
             ],
             [
              0.3333333333333333,
              "#9c179e"
             ],
             [
              0.4444444444444444,
              "#bd3786"
             ],
             [
              0.5555555555555556,
              "#d8576b"
             ],
             [
              0.6666666666666666,
              "#ed7953"
             ],
             [
              0.7777777777777778,
              "#fb9f3a"
             ],
             [
              0.8888888888888888,
              "#fdca26"
             ],
             [
              1,
              "#f0f921"
             ]
            ],
            "type": "surface"
           }
          ],
          "table": [
           {
            "cells": {
             "fill": {
              "color": "#EBF0F8"
             },
             "line": {
              "color": "white"
             }
            },
            "header": {
             "fill": {
              "color": "#C8D4E3"
             },
             "line": {
              "color": "white"
             }
            },
            "type": "table"
           }
          ]
         },
         "layout": {
          "annotationdefaults": {
           "arrowcolor": "#2a3f5f",
           "arrowhead": 0,
           "arrowwidth": 1
          },
          "autotypenumbers": "strict",
          "coloraxis": {
           "colorbar": {
            "outlinewidth": 0,
            "ticks": ""
           }
          },
          "colorscale": {
           "diverging": [
            [
             0,
             "#8e0152"
            ],
            [
             0.1,
             "#c51b7d"
            ],
            [
             0.2,
             "#de77ae"
            ],
            [
             0.3,
             "#f1b6da"
            ],
            [
             0.4,
             "#fde0ef"
            ],
            [
             0.5,
             "#f7f7f7"
            ],
            [
             0.6,
             "#e6f5d0"
            ],
            [
             0.7,
             "#b8e186"
            ],
            [
             0.8,
             "#7fbc41"
            ],
            [
             0.9,
             "#4d9221"
            ],
            [
             1,
             "#276419"
            ]
           ],
           "sequential": [
            [
             0,
             "#0d0887"
            ],
            [
             0.1111111111111111,
             "#46039f"
            ],
            [
             0.2222222222222222,
             "#7201a8"
            ],
            [
             0.3333333333333333,
             "#9c179e"
            ],
            [
             0.4444444444444444,
             "#bd3786"
            ],
            [
             0.5555555555555556,
             "#d8576b"
            ],
            [
             0.6666666666666666,
             "#ed7953"
            ],
            [
             0.7777777777777778,
             "#fb9f3a"
            ],
            [
             0.8888888888888888,
             "#fdca26"
            ],
            [
             1,
             "#f0f921"
            ]
           ],
           "sequentialminus": [
            [
             0,
             "#0d0887"
            ],
            [
             0.1111111111111111,
             "#46039f"
            ],
            [
             0.2222222222222222,
             "#7201a8"
            ],
            [
             0.3333333333333333,
             "#9c179e"
            ],
            [
             0.4444444444444444,
             "#bd3786"
            ],
            [
             0.5555555555555556,
             "#d8576b"
            ],
            [
             0.6666666666666666,
             "#ed7953"
            ],
            [
             0.7777777777777778,
             "#fb9f3a"
            ],
            [
             0.8888888888888888,
             "#fdca26"
            ],
            [
             1,
             "#f0f921"
            ]
           ]
          },
          "colorway": [
           "#636efa",
           "#EF553B",
           "#00cc96",
           "#ab63fa",
           "#FFA15A",
           "#19d3f3",
           "#FF6692",
           "#B6E880",
           "#FF97FF",
           "#FECB52"
          ],
          "font": {
           "color": "#2a3f5f"
          },
          "geo": {
           "bgcolor": "white",
           "lakecolor": "white",
           "landcolor": "#E5ECF6",
           "showlakes": true,
           "showland": true,
           "subunitcolor": "white"
          },
          "hoverlabel": {
           "align": "left"
          },
          "hovermode": "closest",
          "mapbox": {
           "style": "light"
          },
          "paper_bgcolor": "white",
          "plot_bgcolor": "#E5ECF6",
          "polar": {
           "angularaxis": {
            "gridcolor": "white",
            "linecolor": "white",
            "ticks": ""
           },
           "bgcolor": "#E5ECF6",
           "radialaxis": {
            "gridcolor": "white",
            "linecolor": "white",
            "ticks": ""
           }
          },
          "scene": {
           "xaxis": {
            "backgroundcolor": "#E5ECF6",
            "gridcolor": "white",
            "gridwidth": 2,
            "linecolor": "white",
            "showbackground": true,
            "ticks": "",
            "zerolinecolor": "white"
           },
           "yaxis": {
            "backgroundcolor": "#E5ECF6",
            "gridcolor": "white",
            "gridwidth": 2,
            "linecolor": "white",
            "showbackground": true,
            "ticks": "",
            "zerolinecolor": "white"
           },
           "zaxis": {
            "backgroundcolor": "#E5ECF6",
            "gridcolor": "white",
            "gridwidth": 2,
            "linecolor": "white",
            "showbackground": true,
            "ticks": "",
            "zerolinecolor": "white"
           }
          },
          "shapedefaults": {
           "line": {
            "color": "#2a3f5f"
           }
          },
          "ternary": {
           "aaxis": {
            "gridcolor": "white",
            "linecolor": "white",
            "ticks": ""
           },
           "baxis": {
            "gridcolor": "white",
            "linecolor": "white",
            "ticks": ""
           },
           "bgcolor": "#E5ECF6",
           "caxis": {
            "gridcolor": "white",
            "linecolor": "white",
            "ticks": ""
           }
          },
          "title": {
           "x": 0.05
          },
          "xaxis": {
           "automargin": true,
           "gridcolor": "white",
           "linecolor": "white",
           "ticks": "",
           "title": {
            "standoff": 15
           },
           "zerolinecolor": "white",
           "zerolinewidth": 2
          },
          "yaxis": {
           "automargin": true,
           "gridcolor": "white",
           "linecolor": "white",
           "ticks": "",
           "title": {
            "standoff": 15
           },
           "zerolinecolor": "white",
           "zerolinewidth": 2
          }
         }
        },
        "xaxis": {
         "anchor": "y",
         "domain": [
          0,
          1
         ],
         "title": {
          "text": "Time"
         }
        },
        "yaxis": {
         "anchor": "x",
         "domain": [
          0,
          1
         ],
         "title": {
          "text": "timeSpent_total"
         }
        }
       }
      },
      "text/html": [
       "<div>                            <div id=\"471571b5-df39-41e0-854e-fe276645bbe4\" class=\"plotly-graph-div\" style=\"height:525px; width:100%;\"></div>            <script type=\"text/javascript\">                require([\"plotly\"], function(Plotly) {                    window.PLOTLYENV=window.PLOTLYENV || {};                                    if (document.getElementById(\"471571b5-df39-41e0-854e-fe276645bbe4\")) {                    Plotly.newPlot(                        \"471571b5-df39-41e0-854e-fe276645bbe4\",                        [{\"alignmentgroup\":\"True\",\"hovertemplate\":\"name=abhijot<br>Time=%{x}<br>timeSpent_total=%{y}<extra></extra>\",\"legendgroup\":\"abhijot\",\"marker\":{\"color\":\"#636efa\",\"pattern\":{\"shape\":\"\"}},\"name\":\"abhijot\",\"offsetgroup\":\"abhijot\",\"orientation\":\"v\",\"showlegend\":true,\"textposition\":\"auto\",\"x\":[\"15:52:55\"],\"xaxis\":\"x\",\"y\":[536.05],\"yaxis\":\"y\",\"type\":\"bar\"},{\"alignmentgroup\":\"True\",\"hovertemplate\":\"name=aneiba<br>Time=%{x}<br>timeSpent_total=%{y}<extra></extra>\",\"legendgroup\":\"aneiba\",\"marker\":{\"color\":\"#EF553B\",\"pattern\":{\"shape\":\"\"}},\"name\":\"aneiba\",\"offsetgroup\":\"aneiba\",\"orientation\":\"v\",\"showlegend\":true,\"textposition\":\"auto\",\"x\":[\"15:25:37\"],\"xaxis\":\"x\",\"y\":[226.84],\"yaxis\":\"y\",\"type\":\"bar\"},{\"alignmentgroup\":\"True\",\"hovertemplate\":\"name=dilrajan<br>Time=%{x}<br>timeSpent_total=%{y}<extra></extra>\",\"legendgroup\":\"dilrajan\",\"marker\":{\"color\":\"#00cc96\",\"pattern\":{\"shape\":\"\"}},\"name\":\"dilrajan\",\"offsetgroup\":\"dilrajan\",\"orientation\":\"v\",\"showlegend\":true,\"textposition\":\"auto\",\"x\":[\"15:47:45\"],\"xaxis\":\"x\",\"y\":[695.55],\"yaxis\":\"y\",\"type\":\"bar\"},{\"alignmentgroup\":\"True\",\"hovertemplate\":\"name=gurnell<br>Time=%{x}<br>timeSpent_total=%{y}<extra></extra>\",\"legendgroup\":\"gurnell\",\"marker\":{\"color\":\"#ab63fa\",\"pattern\":{\"shape\":\"\"}},\"name\":\"gurnell\",\"offsetgroup\":\"gurnell\",\"orientation\":\"v\",\"showlegend\":true,\"textposition\":\"auto\",\"x\":[\"15:36:25\"],\"xaxis\":\"x\",\"y\":[365.63],\"yaxis\":\"y\",\"type\":\"bar\"},{\"alignmentgroup\":\"True\",\"hovertemplate\":\"name=marwa<br>Time=%{x}<br>timeSpent_total=%{y}<extra></extra>\",\"legendgroup\":\"marwa\",\"marker\":{\"color\":\"#FFA15A\",\"pattern\":{\"shape\":\"\"}},\"name\":\"marwa\",\"offsetgroup\":\"marwa\",\"orientation\":\"v\",\"showlegend\":true,\"textposition\":\"auto\",\"x\":[\"15:36:26\",\"15:42:20\"],\"xaxis\":\"x\",\"y\":[82.17,329.47999999999996],\"yaxis\":\"y\",\"type\":\"bar\"},{\"alignmentgroup\":\"True\",\"hovertemplate\":\"name=tamiha<br>Time=%{x}<br>timeSpent_total=%{y}<extra></extra>\",\"legendgroup\":\"tamiha\",\"marker\":{\"color\":\"#19d3f3\",\"pattern\":{\"shape\":\"\"}},\"name\":\"tamiha\",\"offsetgroup\":\"tamiha\",\"orientation\":\"v\",\"showlegend\":true,\"textposition\":\"auto\",\"x\":[\"15:24:17\"],\"xaxis\":\"x\",\"y\":[399.52],\"yaxis\":\"y\",\"type\":\"bar\"}],                        {\"template\":{\"data\":{\"histogram2dcontour\":[{\"type\":\"histogram2dcontour\",\"colorbar\":{\"outlinewidth\":0,\"ticks\":\"\"},\"colorscale\":[[0.0,\"#0d0887\"],[0.1111111111111111,\"#46039f\"],[0.2222222222222222,\"#7201a8\"],[0.3333333333333333,\"#9c179e\"],[0.4444444444444444,\"#bd3786\"],[0.5555555555555556,\"#d8576b\"],[0.6666666666666666,\"#ed7953\"],[0.7777777777777778,\"#fb9f3a\"],[0.8888888888888888,\"#fdca26\"],[1.0,\"#f0f921\"]]}],\"choropleth\":[{\"type\":\"choropleth\",\"colorbar\":{\"outlinewidth\":0,\"ticks\":\"\"}}],\"histogram2d\":[{\"type\":\"histogram2d\",\"colorbar\":{\"outlinewidth\":0,\"ticks\":\"\"},\"colorscale\":[[0.0,\"#0d0887\"],[0.1111111111111111,\"#46039f\"],[0.2222222222222222,\"#7201a8\"],[0.3333333333333333,\"#9c179e\"],[0.4444444444444444,\"#bd3786\"],[0.5555555555555556,\"#d8576b\"],[0.6666666666666666,\"#ed7953\"],[0.7777777777777778,\"#fb9f3a\"],[0.8888888888888888,\"#fdca26\"],[1.0,\"#f0f921\"]]}],\"heatmap\":[{\"type\":\"heatmap\",\"colorbar\":{\"outlinewidth\":0,\"ticks\":\"\"},\"colorscale\":[[0.0,\"#0d0887\"],[0.1111111111111111,\"#46039f\"],[0.2222222222222222,\"#7201a8\"],[0.3333333333333333,\"#9c179e\"],[0.4444444444444444,\"#bd3786\"],[0.5555555555555556,\"#d8576b\"],[0.6666666666666666,\"#ed7953\"],[0.7777777777777778,\"#fb9f3a\"],[0.8888888888888888,\"#fdca26\"],[1.0,\"#f0f921\"]]}],\"heatmapgl\":[{\"type\":\"heatmapgl\",\"colorbar\":{\"outlinewidth\":0,\"ticks\":\"\"},\"colorscale\":[[0.0,\"#0d0887\"],[0.1111111111111111,\"#46039f\"],[0.2222222222222222,\"#7201a8\"],[0.3333333333333333,\"#9c179e\"],[0.4444444444444444,\"#bd3786\"],[0.5555555555555556,\"#d8576b\"],[0.6666666666666666,\"#ed7953\"],[0.7777777777777778,\"#fb9f3a\"],[0.8888888888888888,\"#fdca26\"],[1.0,\"#f0f921\"]]}],\"contourcarpet\":[{\"type\":\"contourcarpet\",\"colorbar\":{\"outlinewidth\":0,\"ticks\":\"\"}}],\"contour\":[{\"type\":\"contour\",\"colorbar\":{\"outlinewidth\":0,\"ticks\":\"\"},\"colorscale\":[[0.0,\"#0d0887\"],[0.1111111111111111,\"#46039f\"],[0.2222222222222222,\"#7201a8\"],[0.3333333333333333,\"#9c179e\"],[0.4444444444444444,\"#bd3786\"],[0.5555555555555556,\"#d8576b\"],[0.6666666666666666,\"#ed7953\"],[0.7777777777777778,\"#fb9f3a\"],[0.8888888888888888,\"#fdca26\"],[1.0,\"#f0f921\"]]}],\"surface\":[{\"type\":\"surface\",\"colorbar\":{\"outlinewidth\":0,\"ticks\":\"\"},\"colorscale\":[[0.0,\"#0d0887\"],[0.1111111111111111,\"#46039f\"],[0.2222222222222222,\"#7201a8\"],[0.3333333333333333,\"#9c179e\"],[0.4444444444444444,\"#bd3786\"],[0.5555555555555556,\"#d8576b\"],[0.6666666666666666,\"#ed7953\"],[0.7777777777777778,\"#fb9f3a\"],[0.8888888888888888,\"#fdca26\"],[1.0,\"#f0f921\"]]}],\"mesh3d\":[{\"type\":\"mesh3d\",\"colorbar\":{\"outlinewidth\":0,\"ticks\":\"\"}}],\"scatter\":[{\"fillpattern\":{\"fillmode\":\"overlay\",\"size\":10,\"solidity\":0.2},\"type\":\"scatter\"}],\"parcoords\":[{\"type\":\"parcoords\",\"line\":{\"colorbar\":{\"outlinewidth\":0,\"ticks\":\"\"}}}],\"scatterpolargl\":[{\"type\":\"scatterpolargl\",\"marker\":{\"colorbar\":{\"outlinewidth\":0,\"ticks\":\"\"}}}],\"bar\":[{\"error_x\":{\"color\":\"#2a3f5f\"},\"error_y\":{\"color\":\"#2a3f5f\"},\"marker\":{\"line\":{\"color\":\"#E5ECF6\",\"width\":0.5},\"pattern\":{\"fillmode\":\"overlay\",\"size\":10,\"solidity\":0.2}},\"type\":\"bar\"}],\"scattergeo\":[{\"type\":\"scattergeo\",\"marker\":{\"colorbar\":{\"outlinewidth\":0,\"ticks\":\"\"}}}],\"scatterpolar\":[{\"type\":\"scatterpolar\",\"marker\":{\"colorbar\":{\"outlinewidth\":0,\"ticks\":\"\"}}}],\"histogram\":[{\"marker\":{\"pattern\":{\"fillmode\":\"overlay\",\"size\":10,\"solidity\":0.2}},\"type\":\"histogram\"}],\"scattergl\":[{\"type\":\"scattergl\",\"marker\":{\"colorbar\":{\"outlinewidth\":0,\"ticks\":\"\"}}}],\"scatter3d\":[{\"type\":\"scatter3d\",\"line\":{\"colorbar\":{\"outlinewidth\":0,\"ticks\":\"\"}},\"marker\":{\"colorbar\":{\"outlinewidth\":0,\"ticks\":\"\"}}}],\"scattermapbox\":[{\"type\":\"scattermapbox\",\"marker\":{\"colorbar\":{\"outlinewidth\":0,\"ticks\":\"\"}}}],\"scatterternary\":[{\"type\":\"scatterternary\",\"marker\":{\"colorbar\":{\"outlinewidth\":0,\"ticks\":\"\"}}}],\"scattercarpet\":[{\"type\":\"scattercarpet\",\"marker\":{\"colorbar\":{\"outlinewidth\":0,\"ticks\":\"\"}}}],\"carpet\":[{\"aaxis\":{\"endlinecolor\":\"#2a3f5f\",\"gridcolor\":\"white\",\"linecolor\":\"white\",\"minorgridcolor\":\"white\",\"startlinecolor\":\"#2a3f5f\"},\"baxis\":{\"endlinecolor\":\"#2a3f5f\",\"gridcolor\":\"white\",\"linecolor\":\"white\",\"minorgridcolor\":\"white\",\"startlinecolor\":\"#2a3f5f\"},\"type\":\"carpet\"}],\"table\":[{\"cells\":{\"fill\":{\"color\":\"#EBF0F8\"},\"line\":{\"color\":\"white\"}},\"header\":{\"fill\":{\"color\":\"#C8D4E3\"},\"line\":{\"color\":\"white\"}},\"type\":\"table\"}],\"barpolar\":[{\"marker\":{\"line\":{\"color\":\"#E5ECF6\",\"width\":0.5},\"pattern\":{\"fillmode\":\"overlay\",\"size\":10,\"solidity\":0.2}},\"type\":\"barpolar\"}],\"pie\":[{\"automargin\":true,\"type\":\"pie\"}]},\"layout\":{\"autotypenumbers\":\"strict\",\"colorway\":[\"#636efa\",\"#EF553B\",\"#00cc96\",\"#ab63fa\",\"#FFA15A\",\"#19d3f3\",\"#FF6692\",\"#B6E880\",\"#FF97FF\",\"#FECB52\"],\"font\":{\"color\":\"#2a3f5f\"},\"hovermode\":\"closest\",\"hoverlabel\":{\"align\":\"left\"},\"paper_bgcolor\":\"white\",\"plot_bgcolor\":\"#E5ECF6\",\"polar\":{\"bgcolor\":\"#E5ECF6\",\"angularaxis\":{\"gridcolor\":\"white\",\"linecolor\":\"white\",\"ticks\":\"\"},\"radialaxis\":{\"gridcolor\":\"white\",\"linecolor\":\"white\",\"ticks\":\"\"}},\"ternary\":{\"bgcolor\":\"#E5ECF6\",\"aaxis\":{\"gridcolor\":\"white\",\"linecolor\":\"white\",\"ticks\":\"\"},\"baxis\":{\"gridcolor\":\"white\",\"linecolor\":\"white\",\"ticks\":\"\"},\"caxis\":{\"gridcolor\":\"white\",\"linecolor\":\"white\",\"ticks\":\"\"}},\"coloraxis\":{\"colorbar\":{\"outlinewidth\":0,\"ticks\":\"\"}},\"colorscale\":{\"sequential\":[[0.0,\"#0d0887\"],[0.1111111111111111,\"#46039f\"],[0.2222222222222222,\"#7201a8\"],[0.3333333333333333,\"#9c179e\"],[0.4444444444444444,\"#bd3786\"],[0.5555555555555556,\"#d8576b\"],[0.6666666666666666,\"#ed7953\"],[0.7777777777777778,\"#fb9f3a\"],[0.8888888888888888,\"#fdca26\"],[1.0,\"#f0f921\"]],\"sequentialminus\":[[0.0,\"#0d0887\"],[0.1111111111111111,\"#46039f\"],[0.2222222222222222,\"#7201a8\"],[0.3333333333333333,\"#9c179e\"],[0.4444444444444444,\"#bd3786\"],[0.5555555555555556,\"#d8576b\"],[0.6666666666666666,\"#ed7953\"],[0.7777777777777778,\"#fb9f3a\"],[0.8888888888888888,\"#fdca26\"],[1.0,\"#f0f921\"]],\"diverging\":[[0,\"#8e0152\"],[0.1,\"#c51b7d\"],[0.2,\"#de77ae\"],[0.3,\"#f1b6da\"],[0.4,\"#fde0ef\"],[0.5,\"#f7f7f7\"],[0.6,\"#e6f5d0\"],[0.7,\"#b8e186\"],[0.8,\"#7fbc41\"],[0.9,\"#4d9221\"],[1,\"#276419\"]]},\"xaxis\":{\"gridcolor\":\"white\",\"linecolor\":\"white\",\"ticks\":\"\",\"title\":{\"standoff\":15},\"zerolinecolor\":\"white\",\"automargin\":true,\"zerolinewidth\":2},\"yaxis\":{\"gridcolor\":\"white\",\"linecolor\":\"white\",\"ticks\":\"\",\"title\":{\"standoff\":15},\"zerolinecolor\":\"white\",\"automargin\":true,\"zerolinewidth\":2},\"scene\":{\"xaxis\":{\"backgroundcolor\":\"#E5ECF6\",\"gridcolor\":\"white\",\"linecolor\":\"white\",\"showbackground\":true,\"ticks\":\"\",\"zerolinecolor\":\"white\",\"gridwidth\":2},\"yaxis\":{\"backgroundcolor\":\"#E5ECF6\",\"gridcolor\":\"white\",\"linecolor\":\"white\",\"showbackground\":true,\"ticks\":\"\",\"zerolinecolor\":\"white\",\"gridwidth\":2},\"zaxis\":{\"backgroundcolor\":\"#E5ECF6\",\"gridcolor\":\"white\",\"linecolor\":\"white\",\"showbackground\":true,\"ticks\":\"\",\"zerolinecolor\":\"white\",\"gridwidth\":2}},\"shapedefaults\":{\"line\":{\"color\":\"#2a3f5f\"}},\"annotationdefaults\":{\"arrowcolor\":\"#2a3f5f\",\"arrowhead\":0,\"arrowwidth\":1},\"geo\":{\"bgcolor\":\"white\",\"landcolor\":\"#E5ECF6\",\"subunitcolor\":\"white\",\"showland\":true,\"showlakes\":true,\"lakecolor\":\"white\"},\"title\":{\"x\":0.05},\"mapbox\":{\"style\":\"light\"}}},\"xaxis\":{\"anchor\":\"y\",\"domain\":[0.0,1.0],\"title\":{\"text\":\"Time\"}},\"yaxis\":{\"anchor\":\"x\",\"domain\":[0.0,1.0],\"title\":{\"text\":\"timeSpent_total\"}},\"legend\":{\"title\":{\"text\":\"name\"},\"tracegroupgap\":0},\"margin\":{\"t\":60},\"barmode\":\"relative\"},                        {\"responsive\": true}                    ).then(function(){\n",
       "                            \n",
       "var gd = document.getElementById('471571b5-df39-41e0-854e-fe276645bbe4');\n",
       "var x = new MutationObserver(function (mutations, observer) {{\n",
       "        var display = window.getComputedStyle(gd).display;\n",
       "        if (!display || display === 'none') {{\n",
       "            console.log([gd, 'removed!']);\n",
       "            Plotly.purge(gd);\n",
       "            observer.disconnect();\n",
       "        }}\n",
       "}});\n",
       "\n",
       "// Listen for the removal of the full notebook cells\n",
       "var notebookContainer = gd.closest('#notebook-container');\n",
       "if (notebookContainer) {{\n",
       "    x.observe(notebookContainer, {childList: true});\n",
       "}}\n",
       "\n",
       "// Listen for the clearing of the current output cell\n",
       "var outputEl = gd.closest('.output');\n",
       "if (outputEl) {{\n",
       "    x.observe(outputEl, {childList: true});\n",
       "}}\n",
       "\n",
       "                        })                };                });            </script>        </div>"
      ]
     },
     "metadata": {},
     "output_type": "display_data"
    }
   ],
   "source": [
    "px.bar(df[df.Date=='17/01/2023'], x=\"Time\", y=\"timeSpent_total\", \n",
    "                 color=\"name\")"
   ]
  },
  {
   "cell_type": "code",
   "execution_count": 16,
   "id": "97ce9df6",
   "metadata": {},
   "outputs": [
    {
     "data": {
      "application/vnd.plotly.v1+json": {
       "config": {
        "plotlyServerURL": "https://plot.ly"
       },
       "data": [
        {
         "alignmentgroup": "True",
         "bingroup": "x",
         "hovertemplate": "timeSpent_total=%{x}<br>count=%{y}<extra></extra>",
         "legendgroup": "",
         "marker": {
          "color": "#636efa",
          "pattern": {
           "shape": ""
          }
         },
         "name": "",
         "offsetgroup": "",
         "orientation": "v",
         "showlegend": false,
         "type": "histogram",
         "x": [
          536.05,
          529.95,
          279.52,
          20.99,
          0.03,
          198.29000000000002,
          24.2,
          49.21,
          117.28999999999999,
          535.33,
          226.84,
          215.99,
          1028.12,
          226.98,
          1309.8300000000002,
          676.9,
          664.59,
          3.83,
          26.79,
          47.35,
          -1.37,
          6.5,
          5.45,
          3.7,
          26.61,
          0.64,
          1.43,
          33.01,
          538.19,
          27.8,
          98.16,
          670.13,
          45.78,
          11.87,
          64.19,
          695.55,
          498.79,
          530.25,
          530.15,
          613.2,
          446.89,
          365.63,
          864.2499999999999,
          416.88,
          340.08,
          36.66,
          504.28999999999996,
          620.2800000000001,
          4,
          276.96,
          320.36,
          94.35,
          379.96000000000004,
          54.15,
          18.78,
          320.61,
          975.3199999999999,
          272.59000000000003,
          653.7099999999999,
          36.77,
          120.71000000000001,
          305.89,
          339.12000000000006,
          415.59,
          3.85,
          42.459999999999994,
          42.57,
          451.12999999999994,
          2324.42,
          250.71,
          209.94999999999996,
          653.77,
          367.82000000000005,
          534.6,
          60.69,
          122.02,
          2900.38,
          437.03999999999996,
          145.72,
          327.14,
          1383.74,
          443.81,
          82.17,
          329.47999999999996,
          887.85,
          617.07,
          0.03,
          0.03,
          954.16,
          417.61,
          202.37,
          176.96,
          12.19,
          354.93000000000006,
          1.62,
          87.68,
          149.47,
          0.03,
          5.41,
          0.03,
          171.42,
          5.03,
          6.52,
          58.2,
          350.39,
          21.200000000000003,
          48.150000000000006,
          55.120000000000005,
          0.33,
          0.33,
          23.37,
          39.52,
          73.81,
          62.58,
          279.54,
          204.64,
          31.41,
          2.94,
          2.2,
          15.19,
          47.72,
          3.81,
          23.69,
          9.92,
          16.61,
          99.93,
          1.74,
          22.79,
          15.62,
          14.99,
          21.85,
          16.74,
          32.32,
          0.33,
          1.53,
          198.29000000000005,
          88.33000000000001,
          140.43,
          14.76,
          66.99,
          18.63,
          33.67,
          15.64,
          40.53,
          0.33,
          0.33,
          0.33,
          0.33,
          18.41,
          39.18000000000001,
          185.07,
          214.94,
          15.67,
          12,
          6.96,
          30.63,
          6.98,
          121.08,
          2.5,
          0.33,
          0.33,
          604.65,
          924.9000000000001,
          7.68,
          1575.92,
          142.26,
          8.37,
          170.29000000000002,
          51.34,
          13.28,
          672.0900000000001,
          0.33,
          16.4,
          22.45,
          58.89,
          8.81,
          50.87,
          103.25999999999999,
          32.22,
          21.259999999999998,
          46.7,
          15.4,
          7.37,
          14.5,
          72.08,
          27.34,
          80.07000000000001,
          31.45,
          12.38,
          19.3,
          14.53,
          35.57,
          24.01,
          16.78,
          16.42,
          13.69,
          15.2,
          15.42,
          85.54,
          10.46,
          47.96,
          25.1,
          3.46,
          13.559999999999999,
          9.87,
          7.91,
          4.87,
          13.04,
          9.01,
          37.739999999999995,
          54.239999999999995,
          13.41,
          42.57,
          3.43,
          4.18,
          0.33,
          0.33,
          2.05,
          597.52,
          426.09000000000003,
          399.52,
          3.4,
          442.52,
          0.03,
          220.85,
          433.65000000000003,
          11.84,
          272.5,
          323.45000000000005,
          77.25,
          293.2,
          155.2,
          285.3,
          39.85,
          17.46,
          63.94
         ],
         "xaxis": "x",
         "yaxis": "y"
        }
       ],
       "layout": {
        "barmode": "relative",
        "legend": {
         "tracegroupgap": 0
        },
        "margin": {
         "t": 60
        },
        "template": {
         "data": {
          "bar": [
           {
            "error_x": {
             "color": "#2a3f5f"
            },
            "error_y": {
             "color": "#2a3f5f"
            },
            "marker": {
             "line": {
              "color": "#E5ECF6",
              "width": 0.5
             },
             "pattern": {
              "fillmode": "overlay",
              "size": 10,
              "solidity": 0.2
             }
            },
            "type": "bar"
           }
          ],
          "barpolar": [
           {
            "marker": {
             "line": {
              "color": "#E5ECF6",
              "width": 0.5
             },
             "pattern": {
              "fillmode": "overlay",
              "size": 10,
              "solidity": 0.2
             }
            },
            "type": "barpolar"
           }
          ],
          "carpet": [
           {
            "aaxis": {
             "endlinecolor": "#2a3f5f",
             "gridcolor": "white",
             "linecolor": "white",
             "minorgridcolor": "white",
             "startlinecolor": "#2a3f5f"
            },
            "baxis": {
             "endlinecolor": "#2a3f5f",
             "gridcolor": "white",
             "linecolor": "white",
             "minorgridcolor": "white",
             "startlinecolor": "#2a3f5f"
            },
            "type": "carpet"
           }
          ],
          "choropleth": [
           {
            "colorbar": {
             "outlinewidth": 0,
             "ticks": ""
            },
            "type": "choropleth"
           }
          ],
          "contour": [
           {
            "colorbar": {
             "outlinewidth": 0,
             "ticks": ""
            },
            "colorscale": [
             [
              0,
              "#0d0887"
             ],
             [
              0.1111111111111111,
              "#46039f"
             ],
             [
              0.2222222222222222,
              "#7201a8"
             ],
             [
              0.3333333333333333,
              "#9c179e"
             ],
             [
              0.4444444444444444,
              "#bd3786"
             ],
             [
              0.5555555555555556,
              "#d8576b"
             ],
             [
              0.6666666666666666,
              "#ed7953"
             ],
             [
              0.7777777777777778,
              "#fb9f3a"
             ],
             [
              0.8888888888888888,
              "#fdca26"
             ],
             [
              1,
              "#f0f921"
             ]
            ],
            "type": "contour"
           }
          ],
          "contourcarpet": [
           {
            "colorbar": {
             "outlinewidth": 0,
             "ticks": ""
            },
            "type": "contourcarpet"
           }
          ],
          "heatmap": [
           {
            "colorbar": {
             "outlinewidth": 0,
             "ticks": ""
            },
            "colorscale": [
             [
              0,
              "#0d0887"
             ],
             [
              0.1111111111111111,
              "#46039f"
             ],
             [
              0.2222222222222222,
              "#7201a8"
             ],
             [
              0.3333333333333333,
              "#9c179e"
             ],
             [
              0.4444444444444444,
              "#bd3786"
             ],
             [
              0.5555555555555556,
              "#d8576b"
             ],
             [
              0.6666666666666666,
              "#ed7953"
             ],
             [
              0.7777777777777778,
              "#fb9f3a"
             ],
             [
              0.8888888888888888,
              "#fdca26"
             ],
             [
              1,
              "#f0f921"
             ]
            ],
            "type": "heatmap"
           }
          ],
          "heatmapgl": [
           {
            "colorbar": {
             "outlinewidth": 0,
             "ticks": ""
            },
            "colorscale": [
             [
              0,
              "#0d0887"
             ],
             [
              0.1111111111111111,
              "#46039f"
             ],
             [
              0.2222222222222222,
              "#7201a8"
             ],
             [
              0.3333333333333333,
              "#9c179e"
             ],
             [
              0.4444444444444444,
              "#bd3786"
             ],
             [
              0.5555555555555556,
              "#d8576b"
             ],
             [
              0.6666666666666666,
              "#ed7953"
             ],
             [
              0.7777777777777778,
              "#fb9f3a"
             ],
             [
              0.8888888888888888,
              "#fdca26"
             ],
             [
              1,
              "#f0f921"
             ]
            ],
            "type": "heatmapgl"
           }
          ],
          "histogram": [
           {
            "marker": {
             "pattern": {
              "fillmode": "overlay",
              "size": 10,
              "solidity": 0.2
             }
            },
            "type": "histogram"
           }
          ],
          "histogram2d": [
           {
            "colorbar": {
             "outlinewidth": 0,
             "ticks": ""
            },
            "colorscale": [
             [
              0,
              "#0d0887"
             ],
             [
              0.1111111111111111,
              "#46039f"
             ],
             [
              0.2222222222222222,
              "#7201a8"
             ],
             [
              0.3333333333333333,
              "#9c179e"
             ],
             [
              0.4444444444444444,
              "#bd3786"
             ],
             [
              0.5555555555555556,
              "#d8576b"
             ],
             [
              0.6666666666666666,
              "#ed7953"
             ],
             [
              0.7777777777777778,
              "#fb9f3a"
             ],
             [
              0.8888888888888888,
              "#fdca26"
             ],
             [
              1,
              "#f0f921"
             ]
            ],
            "type": "histogram2d"
           }
          ],
          "histogram2dcontour": [
           {
            "colorbar": {
             "outlinewidth": 0,
             "ticks": ""
            },
            "colorscale": [
             [
              0,
              "#0d0887"
             ],
             [
              0.1111111111111111,
              "#46039f"
             ],
             [
              0.2222222222222222,
              "#7201a8"
             ],
             [
              0.3333333333333333,
              "#9c179e"
             ],
             [
              0.4444444444444444,
              "#bd3786"
             ],
             [
              0.5555555555555556,
              "#d8576b"
             ],
             [
              0.6666666666666666,
              "#ed7953"
             ],
             [
              0.7777777777777778,
              "#fb9f3a"
             ],
             [
              0.8888888888888888,
              "#fdca26"
             ],
             [
              1,
              "#f0f921"
             ]
            ],
            "type": "histogram2dcontour"
           }
          ],
          "mesh3d": [
           {
            "colorbar": {
             "outlinewidth": 0,
             "ticks": ""
            },
            "type": "mesh3d"
           }
          ],
          "parcoords": [
           {
            "line": {
             "colorbar": {
              "outlinewidth": 0,
              "ticks": ""
             }
            },
            "type": "parcoords"
           }
          ],
          "pie": [
           {
            "automargin": true,
            "type": "pie"
           }
          ],
          "scatter": [
           {
            "fillpattern": {
             "fillmode": "overlay",
             "size": 10,
             "solidity": 0.2
            },
            "type": "scatter"
           }
          ],
          "scatter3d": [
           {
            "line": {
             "colorbar": {
              "outlinewidth": 0,
              "ticks": ""
             }
            },
            "marker": {
             "colorbar": {
              "outlinewidth": 0,
              "ticks": ""
             }
            },
            "type": "scatter3d"
           }
          ],
          "scattercarpet": [
           {
            "marker": {
             "colorbar": {
              "outlinewidth": 0,
              "ticks": ""
             }
            },
            "type": "scattercarpet"
           }
          ],
          "scattergeo": [
           {
            "marker": {
             "colorbar": {
              "outlinewidth": 0,
              "ticks": ""
             }
            },
            "type": "scattergeo"
           }
          ],
          "scattergl": [
           {
            "marker": {
             "colorbar": {
              "outlinewidth": 0,
              "ticks": ""
             }
            },
            "type": "scattergl"
           }
          ],
          "scattermapbox": [
           {
            "marker": {
             "colorbar": {
              "outlinewidth": 0,
              "ticks": ""
             }
            },
            "type": "scattermapbox"
           }
          ],
          "scatterpolar": [
           {
            "marker": {
             "colorbar": {
              "outlinewidth": 0,
              "ticks": ""
             }
            },
            "type": "scatterpolar"
           }
          ],
          "scatterpolargl": [
           {
            "marker": {
             "colorbar": {
              "outlinewidth": 0,
              "ticks": ""
             }
            },
            "type": "scatterpolargl"
           }
          ],
          "scatterternary": [
           {
            "marker": {
             "colorbar": {
              "outlinewidth": 0,
              "ticks": ""
             }
            },
            "type": "scatterternary"
           }
          ],
          "surface": [
           {
            "colorbar": {
             "outlinewidth": 0,
             "ticks": ""
            },
            "colorscale": [
             [
              0,
              "#0d0887"
             ],
             [
              0.1111111111111111,
              "#46039f"
             ],
             [
              0.2222222222222222,
              "#7201a8"
             ],
             [
              0.3333333333333333,
              "#9c179e"
             ],
             [
              0.4444444444444444,
              "#bd3786"
             ],
             [
              0.5555555555555556,
              "#d8576b"
             ],
             [
              0.6666666666666666,
              "#ed7953"
             ],
             [
              0.7777777777777778,
              "#fb9f3a"
             ],
             [
              0.8888888888888888,
              "#fdca26"
             ],
             [
              1,
              "#f0f921"
             ]
            ],
            "type": "surface"
           }
          ],
          "table": [
           {
            "cells": {
             "fill": {
              "color": "#EBF0F8"
             },
             "line": {
              "color": "white"
             }
            },
            "header": {
             "fill": {
              "color": "#C8D4E3"
             },
             "line": {
              "color": "white"
             }
            },
            "type": "table"
           }
          ]
         },
         "layout": {
          "annotationdefaults": {
           "arrowcolor": "#2a3f5f",
           "arrowhead": 0,
           "arrowwidth": 1
          },
          "autotypenumbers": "strict",
          "coloraxis": {
           "colorbar": {
            "outlinewidth": 0,
            "ticks": ""
           }
          },
          "colorscale": {
           "diverging": [
            [
             0,
             "#8e0152"
            ],
            [
             0.1,
             "#c51b7d"
            ],
            [
             0.2,
             "#de77ae"
            ],
            [
             0.3,
             "#f1b6da"
            ],
            [
             0.4,
             "#fde0ef"
            ],
            [
             0.5,
             "#f7f7f7"
            ],
            [
             0.6,
             "#e6f5d0"
            ],
            [
             0.7,
             "#b8e186"
            ],
            [
             0.8,
             "#7fbc41"
            ],
            [
             0.9,
             "#4d9221"
            ],
            [
             1,
             "#276419"
            ]
           ],
           "sequential": [
            [
             0,
             "#0d0887"
            ],
            [
             0.1111111111111111,
             "#46039f"
            ],
            [
             0.2222222222222222,
             "#7201a8"
            ],
            [
             0.3333333333333333,
             "#9c179e"
            ],
            [
             0.4444444444444444,
             "#bd3786"
            ],
            [
             0.5555555555555556,
             "#d8576b"
            ],
            [
             0.6666666666666666,
             "#ed7953"
            ],
            [
             0.7777777777777778,
             "#fb9f3a"
            ],
            [
             0.8888888888888888,
             "#fdca26"
            ],
            [
             1,
             "#f0f921"
            ]
           ],
           "sequentialminus": [
            [
             0,
             "#0d0887"
            ],
            [
             0.1111111111111111,
             "#46039f"
            ],
            [
             0.2222222222222222,
             "#7201a8"
            ],
            [
             0.3333333333333333,
             "#9c179e"
            ],
            [
             0.4444444444444444,
             "#bd3786"
            ],
            [
             0.5555555555555556,
             "#d8576b"
            ],
            [
             0.6666666666666666,
             "#ed7953"
            ],
            [
             0.7777777777777778,
             "#fb9f3a"
            ],
            [
             0.8888888888888888,
             "#fdca26"
            ],
            [
             1,
             "#f0f921"
            ]
           ]
          },
          "colorway": [
           "#636efa",
           "#EF553B",
           "#00cc96",
           "#ab63fa",
           "#FFA15A",
           "#19d3f3",
           "#FF6692",
           "#B6E880",
           "#FF97FF",
           "#FECB52"
          ],
          "font": {
           "color": "#2a3f5f"
          },
          "geo": {
           "bgcolor": "white",
           "lakecolor": "white",
           "landcolor": "#E5ECF6",
           "showlakes": true,
           "showland": true,
           "subunitcolor": "white"
          },
          "hoverlabel": {
           "align": "left"
          },
          "hovermode": "closest",
          "mapbox": {
           "style": "light"
          },
          "paper_bgcolor": "white",
          "plot_bgcolor": "#E5ECF6",
          "polar": {
           "angularaxis": {
            "gridcolor": "white",
            "linecolor": "white",
            "ticks": ""
           },
           "bgcolor": "#E5ECF6",
           "radialaxis": {
            "gridcolor": "white",
            "linecolor": "white",
            "ticks": ""
           }
          },
          "scene": {
           "xaxis": {
            "backgroundcolor": "#E5ECF6",
            "gridcolor": "white",
            "gridwidth": 2,
            "linecolor": "white",
            "showbackground": true,
            "ticks": "",
            "zerolinecolor": "white"
           },
           "yaxis": {
            "backgroundcolor": "#E5ECF6",
            "gridcolor": "white",
            "gridwidth": 2,
            "linecolor": "white",
            "showbackground": true,
            "ticks": "",
            "zerolinecolor": "white"
           },
           "zaxis": {
            "backgroundcolor": "#E5ECF6",
            "gridcolor": "white",
            "gridwidth": 2,
            "linecolor": "white",
            "showbackground": true,
            "ticks": "",
            "zerolinecolor": "white"
           }
          },
          "shapedefaults": {
           "line": {
            "color": "#2a3f5f"
           }
          },
          "ternary": {
           "aaxis": {
            "gridcolor": "white",
            "linecolor": "white",
            "ticks": ""
           },
           "baxis": {
            "gridcolor": "white",
            "linecolor": "white",
            "ticks": ""
           },
           "bgcolor": "#E5ECF6",
           "caxis": {
            "gridcolor": "white",
            "linecolor": "white",
            "ticks": ""
           }
          },
          "title": {
           "x": 0.05
          },
          "xaxis": {
           "automargin": true,
           "gridcolor": "white",
           "linecolor": "white",
           "ticks": "",
           "title": {
            "standoff": 15
           },
           "zerolinecolor": "white",
           "zerolinewidth": 2
          },
          "yaxis": {
           "automargin": true,
           "gridcolor": "white",
           "linecolor": "white",
           "ticks": "",
           "title": {
            "standoff": 15
           },
           "zerolinecolor": "white",
           "zerolinewidth": 2
          }
         }
        },
        "xaxis": {
         "anchor": "y",
         "domain": [
          0,
          1
         ],
         "title": {
          "text": "timeSpent_total"
         }
        },
        "yaxis": {
         "anchor": "x",
         "domain": [
          0,
          1
         ],
         "title": {
          "text": "count"
         }
        }
       }
      },
      "text/html": [
       "<div>                            <div id=\"3b3e7995-3211-4e60-a8da-88768b834d19\" class=\"plotly-graph-div\" style=\"height:525px; width:100%;\"></div>            <script type=\"text/javascript\">                require([\"plotly\"], function(Plotly) {                    window.PLOTLYENV=window.PLOTLYENV || {};                                    if (document.getElementById(\"3b3e7995-3211-4e60-a8da-88768b834d19\")) {                    Plotly.newPlot(                        \"3b3e7995-3211-4e60-a8da-88768b834d19\",                        [{\"alignmentgroup\":\"True\",\"bingroup\":\"x\",\"hovertemplate\":\"timeSpent_total=%{x}<br>count=%{y}<extra></extra>\",\"legendgroup\":\"\",\"marker\":{\"color\":\"#636efa\",\"pattern\":{\"shape\":\"\"}},\"name\":\"\",\"offsetgroup\":\"\",\"orientation\":\"v\",\"showlegend\":false,\"x\":[536.05,529.95,279.52,20.99,0.03,198.29000000000002,24.2,49.21,117.28999999999999,535.33,226.84,215.99,1028.12,226.98,1309.8300000000002,676.9,664.59,3.83,26.79,47.35,-1.37,6.5,5.45,3.7,26.61,0.64,1.43,33.01,538.19,27.8,98.16,670.13,45.78,11.87,64.19,695.55,498.79,530.25,530.15,613.2,446.89,365.63,864.2499999999999,416.88,340.08,36.66,504.28999999999996,620.2800000000001,4.0,276.96,320.36,94.35,379.96000000000004,54.15,18.78,320.61,975.3199999999999,272.59000000000003,653.7099999999999,36.77,120.71000000000001,305.89,339.12000000000006,415.59,3.85,42.459999999999994,42.57,451.12999999999994,2324.42,250.71,209.94999999999996,653.77,367.82000000000005,534.6,60.69,122.02,2900.38,437.03999999999996,145.72,327.14,1383.74,443.81,82.17,329.47999999999996,887.85,617.07,0.03,0.03,954.16,417.61,202.37,176.96,12.19,354.93000000000006,1.62,87.68,149.47,0.03,5.41,0.03,171.42,5.03,6.52,58.2,350.39,21.200000000000003,48.150000000000006,55.120000000000005,0.33,0.33,23.37,39.52,73.81,62.58,279.54,204.64,31.41,2.94,2.2,15.19,47.72,3.81,23.69,9.92,16.61,99.93,1.74,22.79,15.62,14.99,21.85,16.74,32.32,0.33,1.53,198.29000000000005,88.33000000000001,140.43,14.76,66.99,18.63,33.67,15.64,40.53,0.33,0.33,0.33,0.33,18.41,39.18000000000001,185.07,214.94,15.67,12.0,6.96,30.63,6.98,121.08,2.5,0.33,0.33,604.65,924.9000000000001,7.68,1575.92,142.26,8.37,170.29000000000002,51.34,13.28,672.0900000000001,0.33,16.4,22.45,58.89,8.81,50.87,103.25999999999999,32.22,21.259999999999998,46.7,15.4,7.37,14.5,72.08,27.34,80.07000000000001,31.45,12.38,19.3,14.53,35.57,24.01,16.78,16.42,13.69,15.2,15.42,85.54,10.46,47.96,25.1,3.46,13.559999999999999,9.87,7.91,4.87,13.04,9.01,37.739999999999995,54.239999999999995,13.41,42.57,3.43,4.18,0.33,0.33,2.05,597.52,426.09000000000003,399.52,3.4,442.52,0.03,220.85,433.65000000000003,11.84,272.5,323.45000000000005,77.25,293.2,155.2,285.3,39.85,17.46,63.94],\"xaxis\":\"x\",\"yaxis\":\"y\",\"type\":\"histogram\"}],                        {\"template\":{\"data\":{\"histogram2dcontour\":[{\"type\":\"histogram2dcontour\",\"colorbar\":{\"outlinewidth\":0,\"ticks\":\"\"},\"colorscale\":[[0.0,\"#0d0887\"],[0.1111111111111111,\"#46039f\"],[0.2222222222222222,\"#7201a8\"],[0.3333333333333333,\"#9c179e\"],[0.4444444444444444,\"#bd3786\"],[0.5555555555555556,\"#d8576b\"],[0.6666666666666666,\"#ed7953\"],[0.7777777777777778,\"#fb9f3a\"],[0.8888888888888888,\"#fdca26\"],[1.0,\"#f0f921\"]]}],\"choropleth\":[{\"type\":\"choropleth\",\"colorbar\":{\"outlinewidth\":0,\"ticks\":\"\"}}],\"histogram2d\":[{\"type\":\"histogram2d\",\"colorbar\":{\"outlinewidth\":0,\"ticks\":\"\"},\"colorscale\":[[0.0,\"#0d0887\"],[0.1111111111111111,\"#46039f\"],[0.2222222222222222,\"#7201a8\"],[0.3333333333333333,\"#9c179e\"],[0.4444444444444444,\"#bd3786\"],[0.5555555555555556,\"#d8576b\"],[0.6666666666666666,\"#ed7953\"],[0.7777777777777778,\"#fb9f3a\"],[0.8888888888888888,\"#fdca26\"],[1.0,\"#f0f921\"]]}],\"heatmap\":[{\"type\":\"heatmap\",\"colorbar\":{\"outlinewidth\":0,\"ticks\":\"\"},\"colorscale\":[[0.0,\"#0d0887\"],[0.1111111111111111,\"#46039f\"],[0.2222222222222222,\"#7201a8\"],[0.3333333333333333,\"#9c179e\"],[0.4444444444444444,\"#bd3786\"],[0.5555555555555556,\"#d8576b\"],[0.6666666666666666,\"#ed7953\"],[0.7777777777777778,\"#fb9f3a\"],[0.8888888888888888,\"#fdca26\"],[1.0,\"#f0f921\"]]}],\"heatmapgl\":[{\"type\":\"heatmapgl\",\"colorbar\":{\"outlinewidth\":0,\"ticks\":\"\"},\"colorscale\":[[0.0,\"#0d0887\"],[0.1111111111111111,\"#46039f\"],[0.2222222222222222,\"#7201a8\"],[0.3333333333333333,\"#9c179e\"],[0.4444444444444444,\"#bd3786\"],[0.5555555555555556,\"#d8576b\"],[0.6666666666666666,\"#ed7953\"],[0.7777777777777778,\"#fb9f3a\"],[0.8888888888888888,\"#fdca26\"],[1.0,\"#f0f921\"]]}],\"contourcarpet\":[{\"type\":\"contourcarpet\",\"colorbar\":{\"outlinewidth\":0,\"ticks\":\"\"}}],\"contour\":[{\"type\":\"contour\",\"colorbar\":{\"outlinewidth\":0,\"ticks\":\"\"},\"colorscale\":[[0.0,\"#0d0887\"],[0.1111111111111111,\"#46039f\"],[0.2222222222222222,\"#7201a8\"],[0.3333333333333333,\"#9c179e\"],[0.4444444444444444,\"#bd3786\"],[0.5555555555555556,\"#d8576b\"],[0.6666666666666666,\"#ed7953\"],[0.7777777777777778,\"#fb9f3a\"],[0.8888888888888888,\"#fdca26\"],[1.0,\"#f0f921\"]]}],\"surface\":[{\"type\":\"surface\",\"colorbar\":{\"outlinewidth\":0,\"ticks\":\"\"},\"colorscale\":[[0.0,\"#0d0887\"],[0.1111111111111111,\"#46039f\"],[0.2222222222222222,\"#7201a8\"],[0.3333333333333333,\"#9c179e\"],[0.4444444444444444,\"#bd3786\"],[0.5555555555555556,\"#d8576b\"],[0.6666666666666666,\"#ed7953\"],[0.7777777777777778,\"#fb9f3a\"],[0.8888888888888888,\"#fdca26\"],[1.0,\"#f0f921\"]]}],\"mesh3d\":[{\"type\":\"mesh3d\",\"colorbar\":{\"outlinewidth\":0,\"ticks\":\"\"}}],\"scatter\":[{\"fillpattern\":{\"fillmode\":\"overlay\",\"size\":10,\"solidity\":0.2},\"type\":\"scatter\"}],\"parcoords\":[{\"type\":\"parcoords\",\"line\":{\"colorbar\":{\"outlinewidth\":0,\"ticks\":\"\"}}}],\"scatterpolargl\":[{\"type\":\"scatterpolargl\",\"marker\":{\"colorbar\":{\"outlinewidth\":0,\"ticks\":\"\"}}}],\"bar\":[{\"error_x\":{\"color\":\"#2a3f5f\"},\"error_y\":{\"color\":\"#2a3f5f\"},\"marker\":{\"line\":{\"color\":\"#E5ECF6\",\"width\":0.5},\"pattern\":{\"fillmode\":\"overlay\",\"size\":10,\"solidity\":0.2}},\"type\":\"bar\"}],\"scattergeo\":[{\"type\":\"scattergeo\",\"marker\":{\"colorbar\":{\"outlinewidth\":0,\"ticks\":\"\"}}}],\"scatterpolar\":[{\"type\":\"scatterpolar\",\"marker\":{\"colorbar\":{\"outlinewidth\":0,\"ticks\":\"\"}}}],\"histogram\":[{\"marker\":{\"pattern\":{\"fillmode\":\"overlay\",\"size\":10,\"solidity\":0.2}},\"type\":\"histogram\"}],\"scattergl\":[{\"type\":\"scattergl\",\"marker\":{\"colorbar\":{\"outlinewidth\":0,\"ticks\":\"\"}}}],\"scatter3d\":[{\"type\":\"scatter3d\",\"line\":{\"colorbar\":{\"outlinewidth\":0,\"ticks\":\"\"}},\"marker\":{\"colorbar\":{\"outlinewidth\":0,\"ticks\":\"\"}}}],\"scattermapbox\":[{\"type\":\"scattermapbox\",\"marker\":{\"colorbar\":{\"outlinewidth\":0,\"ticks\":\"\"}}}],\"scatterternary\":[{\"type\":\"scatterternary\",\"marker\":{\"colorbar\":{\"outlinewidth\":0,\"ticks\":\"\"}}}],\"scattercarpet\":[{\"type\":\"scattercarpet\",\"marker\":{\"colorbar\":{\"outlinewidth\":0,\"ticks\":\"\"}}}],\"carpet\":[{\"aaxis\":{\"endlinecolor\":\"#2a3f5f\",\"gridcolor\":\"white\",\"linecolor\":\"white\",\"minorgridcolor\":\"white\",\"startlinecolor\":\"#2a3f5f\"},\"baxis\":{\"endlinecolor\":\"#2a3f5f\",\"gridcolor\":\"white\",\"linecolor\":\"white\",\"minorgridcolor\":\"white\",\"startlinecolor\":\"#2a3f5f\"},\"type\":\"carpet\"}],\"table\":[{\"cells\":{\"fill\":{\"color\":\"#EBF0F8\"},\"line\":{\"color\":\"white\"}},\"header\":{\"fill\":{\"color\":\"#C8D4E3\"},\"line\":{\"color\":\"white\"}},\"type\":\"table\"}],\"barpolar\":[{\"marker\":{\"line\":{\"color\":\"#E5ECF6\",\"width\":0.5},\"pattern\":{\"fillmode\":\"overlay\",\"size\":10,\"solidity\":0.2}},\"type\":\"barpolar\"}],\"pie\":[{\"automargin\":true,\"type\":\"pie\"}]},\"layout\":{\"autotypenumbers\":\"strict\",\"colorway\":[\"#636efa\",\"#EF553B\",\"#00cc96\",\"#ab63fa\",\"#FFA15A\",\"#19d3f3\",\"#FF6692\",\"#B6E880\",\"#FF97FF\",\"#FECB52\"],\"font\":{\"color\":\"#2a3f5f\"},\"hovermode\":\"closest\",\"hoverlabel\":{\"align\":\"left\"},\"paper_bgcolor\":\"white\",\"plot_bgcolor\":\"#E5ECF6\",\"polar\":{\"bgcolor\":\"#E5ECF6\",\"angularaxis\":{\"gridcolor\":\"white\",\"linecolor\":\"white\",\"ticks\":\"\"},\"radialaxis\":{\"gridcolor\":\"white\",\"linecolor\":\"white\",\"ticks\":\"\"}},\"ternary\":{\"bgcolor\":\"#E5ECF6\",\"aaxis\":{\"gridcolor\":\"white\",\"linecolor\":\"white\",\"ticks\":\"\"},\"baxis\":{\"gridcolor\":\"white\",\"linecolor\":\"white\",\"ticks\":\"\"},\"caxis\":{\"gridcolor\":\"white\",\"linecolor\":\"white\",\"ticks\":\"\"}},\"coloraxis\":{\"colorbar\":{\"outlinewidth\":0,\"ticks\":\"\"}},\"colorscale\":{\"sequential\":[[0.0,\"#0d0887\"],[0.1111111111111111,\"#46039f\"],[0.2222222222222222,\"#7201a8\"],[0.3333333333333333,\"#9c179e\"],[0.4444444444444444,\"#bd3786\"],[0.5555555555555556,\"#d8576b\"],[0.6666666666666666,\"#ed7953\"],[0.7777777777777778,\"#fb9f3a\"],[0.8888888888888888,\"#fdca26\"],[1.0,\"#f0f921\"]],\"sequentialminus\":[[0.0,\"#0d0887\"],[0.1111111111111111,\"#46039f\"],[0.2222222222222222,\"#7201a8\"],[0.3333333333333333,\"#9c179e\"],[0.4444444444444444,\"#bd3786\"],[0.5555555555555556,\"#d8576b\"],[0.6666666666666666,\"#ed7953\"],[0.7777777777777778,\"#fb9f3a\"],[0.8888888888888888,\"#fdca26\"],[1.0,\"#f0f921\"]],\"diverging\":[[0,\"#8e0152\"],[0.1,\"#c51b7d\"],[0.2,\"#de77ae\"],[0.3,\"#f1b6da\"],[0.4,\"#fde0ef\"],[0.5,\"#f7f7f7\"],[0.6,\"#e6f5d0\"],[0.7,\"#b8e186\"],[0.8,\"#7fbc41\"],[0.9,\"#4d9221\"],[1,\"#276419\"]]},\"xaxis\":{\"gridcolor\":\"white\",\"linecolor\":\"white\",\"ticks\":\"\",\"title\":{\"standoff\":15},\"zerolinecolor\":\"white\",\"automargin\":true,\"zerolinewidth\":2},\"yaxis\":{\"gridcolor\":\"white\",\"linecolor\":\"white\",\"ticks\":\"\",\"title\":{\"standoff\":15},\"zerolinecolor\":\"white\",\"automargin\":true,\"zerolinewidth\":2},\"scene\":{\"xaxis\":{\"backgroundcolor\":\"#E5ECF6\",\"gridcolor\":\"white\",\"linecolor\":\"white\",\"showbackground\":true,\"ticks\":\"\",\"zerolinecolor\":\"white\",\"gridwidth\":2},\"yaxis\":{\"backgroundcolor\":\"#E5ECF6\",\"gridcolor\":\"white\",\"linecolor\":\"white\",\"showbackground\":true,\"ticks\":\"\",\"zerolinecolor\":\"white\",\"gridwidth\":2},\"zaxis\":{\"backgroundcolor\":\"#E5ECF6\",\"gridcolor\":\"white\",\"linecolor\":\"white\",\"showbackground\":true,\"ticks\":\"\",\"zerolinecolor\":\"white\",\"gridwidth\":2}},\"shapedefaults\":{\"line\":{\"color\":\"#2a3f5f\"}},\"annotationdefaults\":{\"arrowcolor\":\"#2a3f5f\",\"arrowhead\":0,\"arrowwidth\":1},\"geo\":{\"bgcolor\":\"white\",\"landcolor\":\"#E5ECF6\",\"subunitcolor\":\"white\",\"showland\":true,\"showlakes\":true,\"lakecolor\":\"white\"},\"title\":{\"x\":0.05},\"mapbox\":{\"style\":\"light\"}}},\"xaxis\":{\"anchor\":\"y\",\"domain\":[0.0,1.0],\"title\":{\"text\":\"timeSpent_total\"}},\"yaxis\":{\"anchor\":\"x\",\"domain\":[0.0,1.0],\"title\":{\"text\":\"count\"}},\"legend\":{\"tracegroupgap\":0},\"margin\":{\"t\":60},\"barmode\":\"relative\"},                        {\"responsive\": true}                    ).then(function(){\n",
       "                            \n",
       "var gd = document.getElementById('3b3e7995-3211-4e60-a8da-88768b834d19');\n",
       "var x = new MutationObserver(function (mutations, observer) {{\n",
       "        var display = window.getComputedStyle(gd).display;\n",
       "        if (!display || display === 'none') {{\n",
       "            console.log([gd, 'removed!']);\n",
       "            Plotly.purge(gd);\n",
       "            observer.disconnect();\n",
       "        }}\n",
       "}});\n",
       "\n",
       "// Listen for the removal of the full notebook cells\n",
       "var notebookContainer = gd.closest('#notebook-container');\n",
       "if (notebookContainer) {{\n",
       "    x.observe(notebookContainer, {childList: true});\n",
       "}}\n",
       "\n",
       "// Listen for the clearing of the current output cell\n",
       "var outputEl = gd.closest('.output');\n",
       "if (outputEl) {{\n",
       "    x.observe(outputEl, {childList: true});\n",
       "}}\n",
       "\n",
       "                        })                };                });            </script>        </div>"
      ]
     },
     "metadata": {},
     "output_type": "display_data"
    }
   ],
   "source": [
    "px.histogram(df, x=\"timeSpent_total\")"
   ]
  },
  {
   "cell_type": "code",
   "execution_count": 17,
   "id": "28cd47c7",
   "metadata": {},
   "outputs": [
    {
     "data": {
      "text/html": [
       "<div>\n",
       "<style scoped>\n",
       "    .dataframe tbody tr th:only-of-type {\n",
       "        vertical-align: middle;\n",
       "    }\n",
       "\n",
       "    .dataframe tbody tr th {\n",
       "        vertical-align: top;\n",
       "    }\n",
       "\n",
       "    .dataframe thead th {\n",
       "        text-align: right;\n",
       "    }\n",
       "</style>\n",
       "<table border=\"1\" class=\"dataframe\">\n",
       "  <thead>\n",
       "    <tr style=\"text-align: right;\">\n",
       "      <th></th>\n",
       "      <th>Unnamed: 0</th>\n",
       "      <th>country</th>\n",
       "      <th>continent</th>\n",
       "      <th>population</th>\n",
       "      <th>life expectancy</th>\n",
       "      <th>gdp per capita</th>\n",
       "    </tr>\n",
       "  </thead>\n",
       "  <tbody>\n",
       "    <tr>\n",
       "      <th>0</th>\n",
       "      <td>11</td>\n",
       "      <td>Afghanistan</td>\n",
       "      <td>Asia</td>\n",
       "      <td>31889923.0</td>\n",
       "      <td>43.828</td>\n",
       "      <td>974.580338</td>\n",
       "    </tr>\n",
       "    <tr>\n",
       "      <th>1</th>\n",
       "      <td>23</td>\n",
       "      <td>Albania</td>\n",
       "      <td>Europe</td>\n",
       "      <td>3600523.0</td>\n",
       "      <td>76.423</td>\n",
       "      <td>5937.029526</td>\n",
       "    </tr>\n",
       "    <tr>\n",
       "      <th>2</th>\n",
       "      <td>35</td>\n",
       "      <td>Algeria</td>\n",
       "      <td>Africa</td>\n",
       "      <td>33333216.0</td>\n",
       "      <td>72.301</td>\n",
       "      <td>6223.367465</td>\n",
       "    </tr>\n",
       "    <tr>\n",
       "      <th>3</th>\n",
       "      <td>47</td>\n",
       "      <td>Angola</td>\n",
       "      <td>Africa</td>\n",
       "      <td>12420476.0</td>\n",
       "      <td>42.731</td>\n",
       "      <td>4797.231267</td>\n",
       "    </tr>\n",
       "    <tr>\n",
       "      <th>4</th>\n",
       "      <td>59</td>\n",
       "      <td>Argentina</td>\n",
       "      <td>Americas</td>\n",
       "      <td>40301927.0</td>\n",
       "      <td>75.320</td>\n",
       "      <td>12779.379640</td>\n",
       "    </tr>\n",
       "  </tbody>\n",
       "</table>\n",
       "</div>"
      ],
      "text/plain": [
       "   Unnamed: 0      country continent  population  life expectancy  \\\n",
       "0          11  Afghanistan      Asia  31889923.0           43.828   \n",
       "1          23      Albania    Europe   3600523.0           76.423   \n",
       "2          35      Algeria    Africa  33333216.0           72.301   \n",
       "3          47       Angola    Africa  12420476.0           42.731   \n",
       "4          59    Argentina  Americas  40301927.0           75.320   \n",
       "\n",
       "   gdp per capita  \n",
       "0      974.580338  \n",
       "1     5937.029526  \n",
       "2     6223.367465  \n",
       "3     4797.231267  \n",
       "4    12779.379640  "
      ]
     },
     "execution_count": 17,
     "metadata": {},
     "output_type": "execute_result"
    }
   ],
   "source": [
    "df = pd.read_csv('https://gist.githubusercontent.com/chriddyp/5d1ea79569ed194d432e56108a04d188/raw/a9f9e8076b837d541398e999dcbac2b2826a81f8/gdp-life-exp-2007.csv')\n",
    "df.head()"
   ]
  },
  {
   "cell_type": "code",
   "execution_count": 18,
   "id": "36362a1f",
   "metadata": {},
   "outputs": [],
   "source": [
    "fig = px.scatter(df, x=\"gdp per capita\", y=\"life expectancy\",\n",
    "                 size=\"population\", color=\"continent\", hover_name=\"country\",\n",
    "                 log_x=True, size_max=60)"
   ]
  },
  {
   "cell_type": "code",
   "execution_count": 20,
   "id": "2f01e97a",
   "metadata": {},
   "outputs": [
    {
     "data": {
      "application/vnd.plotly.v1+json": {
       "config": {
        "plotlyServerURL": "https://plot.ly"
       },
       "data": [
        {
         "hovertemplate": "<b>%{hovertext}</b><br><br>continent=Asia<br>gdp per capita=%{x}<br>life expectancy=%{y}<br>population=%{marker.size}<extra></extra>",
         "hovertext": [
          "Afghanistan",
          "Bahrain",
          "Bangladesh",
          "Cambodia",
          "China",
          "Hong Kong, China",
          "India",
          "Indonesia",
          "Iran",
          "Iraq",
          "Israel",
          "Japan",
          "Jordan",
          "Korea, Dem. Rep.",
          "Korea, Rep.",
          "Kuwait",
          "Lebanon",
          "Malaysia",
          "Mongolia",
          "Myanmar",
          "Nepal",
          "Oman",
          "Pakistan",
          "Philippines",
          "Saudi Arabia",
          "Singapore",
          "Sri Lanka",
          "Syria",
          "Taiwan",
          "Thailand",
          "Vietnam",
          "West Bank and Gaza",
          "Yemen, Rep."
         ],
         "legendgroup": "Asia",
         "marker": {
          "color": "#636efa",
          "size": [
           31889923,
           708573,
           150448339,
           14131858,
           1318683096,
           6980412,
           1110396331,
           223547000,
           69453570,
           27499638,
           6426679,
           127467972,
           6053193,
           23301725,
           49044790,
           2505559,
           3921278,
           24821286,
           2874127,
           47761980,
           28901790,
           3204897,
           169270617,
           91077287,
           27601038,
           4553009,
           20378239,
           19314747,
           23174294,
           65068149,
           85262356,
           4018332,
           22211743
          ],
          "sizemode": "area",
          "sizeref": 366300.86,
          "symbol": "circle"
         },
         "mode": "markers",
         "name": "Asia",
         "orientation": "v",
         "showlegend": true,
         "type": "scatter",
         "x": [
          974.5803384,
          29796.04834,
          1391.253792,
          1713.778686,
          4959.114854,
          39724.97867,
          2452.210407,
          3540.651564,
          11605.71449,
          4471.061906,
          25523.2771,
          31656.06806,
          4519.461171,
          1593.06548,
          23348.13973,
          47306.98978,
          10461.05868,
          12451.6558,
          3095.772271,
          944,
          1091.359778,
          22316.19287,
          2605.94758,
          3190.481016,
          21654.83194,
          47143.17964,
          3970.095407,
          4184.548089,
          28718.27684,
          7458.396327,
          2441.576404,
          3025.349798,
          2280.769906
         ],
         "xaxis": "x",
         "y": [
          43.828,
          75.635,
          64.062,
          59.723,
          72.961,
          82.208,
          64.698,
          70.65,
          70.964,
          59.545,
          80.745,
          82.603,
          72.535,
          67.297,
          78.623,
          77.588,
          71.993,
          74.241,
          66.803,
          62.069,
          63.785,
          75.64,
          65.483,
          71.688,
          72.777,
          79.972,
          72.396,
          74.143,
          78.4,
          70.616,
          74.249,
          73.422,
          62.698
         ],
         "yaxis": "y"
        },
        {
         "hovertemplate": "<b>%{hovertext}</b><br><br>continent=Europe<br>gdp per capita=%{x}<br>life expectancy=%{y}<br>population=%{marker.size}<extra></extra>",
         "hovertext": [
          "Albania",
          "Austria",
          "Belgium",
          "Bosnia and Herzegovina",
          "Bulgaria",
          "Croatia",
          "Czech Republic",
          "Denmark",
          "Finland",
          "France",
          "Germany",
          "Greece",
          "Hungary",
          "Iceland",
          "Ireland",
          "Italy",
          "Montenegro",
          "Netherlands",
          "Norway",
          "Poland",
          "Portugal",
          "Romania",
          "Serbia",
          "Slovak Republic",
          "Slovenia",
          "Spain",
          "Sweden",
          "Switzerland",
          "Turkey",
          "United Kingdom"
         ],
         "legendgroup": "Europe",
         "marker": {
          "color": "#EF553B",
          "size": [
           3600523,
           8199783,
           10392226,
           4552198,
           7322858,
           4493312,
           10228744,
           5468120,
           5238460,
           61083916,
           82400996,
           10706290,
           9956108,
           301931,
           4109086,
           58147733,
           684736,
           16570613,
           4627926,
           38518241,
           10642836,
           22276056,
           10150265,
           5447502,
           2009245,
           40448191,
           9031088,
           7554661,
           71158647,
           60776238
          ],
          "sizemode": "area",
          "sizeref": 366300.86,
          "symbol": "circle"
         },
         "mode": "markers",
         "name": "Europe",
         "orientation": "v",
         "showlegend": true,
         "type": "scatter",
         "x": [
          5937.029526,
          36126.4927,
          33692.60508,
          7446.298803,
          10680.79282,
          14619.22272,
          22833.30851,
          35278.41874,
          33207.0844,
          30470.0167,
          32170.37442,
          27538.41188,
          18008.94444,
          36180.78919,
          40675.99635,
          28569.7197,
          9253.896111,
          36797.93332,
          49357.19017,
          15389.92468,
          20509.64777,
          10808.47561,
          9786.534714,
          18678.31435,
          25768.25759,
          28821.0637,
          33859.74835,
          37506.41907,
          8458.276384,
          33203.26128
         ],
         "xaxis": "x",
         "y": [
          76.423,
          79.829,
          79.441,
          74.852,
          73.005,
          75.748,
          76.486,
          78.332,
          79.313,
          80.657,
          79.406,
          79.483,
          73.338,
          81.757,
          78.885,
          80.546,
          74.543,
          79.762,
          80.196,
          75.563,
          78.098,
          72.476,
          74.002,
          74.663,
          77.926,
          80.941,
          80.884,
          81.701,
          71.777,
          79.425
         ],
         "yaxis": "y"
        },
        {
         "hovertemplate": "<b>%{hovertext}</b><br><br>continent=Africa<br>gdp per capita=%{x}<br>life expectancy=%{y}<br>population=%{marker.size}<extra></extra>",
         "hovertext": [
          "Algeria",
          "Angola",
          "Benin",
          "Botswana",
          "Burkina Faso",
          "Burundi",
          "Cameroon",
          "Central African Republic",
          "Chad",
          "Comoros",
          "Congo, Dem. Rep.",
          "Congo, Rep.",
          "Cote d'Ivoire",
          "Djibouti",
          "Egypt",
          "Equatorial Guinea",
          "Eritrea",
          "Ethiopia",
          "Gabon",
          "Gambia",
          "Ghana",
          "Guinea",
          "Guinea-Bissau",
          "Kenya",
          "Lesotho",
          "Liberia",
          "Libya",
          "Madagascar",
          "Malawi",
          "Mali",
          "Mauritania",
          "Mauritius",
          "Morocco",
          "Mozambique",
          "Namibia",
          "Niger",
          "Nigeria",
          "Reunion",
          "Rwanda",
          "Sao Tome and Principe",
          "Senegal",
          "Sierra Leone",
          "Somalia",
          "South Africa",
          "Sudan",
          "Swaziland",
          "Tanzania",
          "Togo",
          "Tunisia",
          "Uganda",
          "Zambia",
          "Zimbabwe"
         ],
         "legendgroup": "Africa",
         "marker": {
          "color": "#00cc96",
          "size": [
           33333216,
           12420476,
           8078314,
           1639131,
           14326203,
           8390505,
           17696293,
           4369038,
           10238807,
           710960,
           64606759,
           3800610,
           18013409,
           496374,
           80264543,
           551201,
           4906585,
           76511887,
           1454867,
           1688359,
           22873338,
           9947814,
           1472041,
           35610177,
           2012649,
           3193942,
           6036914,
           19167654,
           13327079,
           12031795,
           3270065,
           1250882,
           33757175,
           19951656,
           2055080,
           12894865,
           135031164,
           798094,
           8860588,
           199579,
           12267493,
           6144562,
           9118773,
           43997828,
           42292929,
           1133066,
           38139640,
           5701579,
           10276158,
           29170398,
           11746035,
           12311143
          ],
          "sizemode": "area",
          "sizeref": 366300.86,
          "symbol": "circle"
         },
         "mode": "markers",
         "name": "Africa",
         "orientation": "v",
         "showlegend": true,
         "type": "scatter",
         "x": [
          6223.367465,
          4797.231267,
          1441.284873,
          12569.85177,
          1217.032994,
          430.0706916,
          2042.09524,
          706.016537,
          1704.063724,
          986.1478792,
          277.5518587,
          3632.557798,
          1544.750112,
          2082.481567,
          5581.180998,
          12154.08975,
          641.3695236,
          690.8055759,
          13206.48452,
          752.7497265,
          1327.60891,
          942.6542111,
          579.231743,
          1463.249282,
          1569.331442,
          414.5073415,
          12057.49928,
          1044.770126,
          759.3499101,
          1042.581557,
          1803.151496,
          10956.99112,
          3820.17523,
          823.6856205,
          4811.060429,
          619.6768924,
          2013.977305,
          7670.122558,
          863.0884639,
          1598.435089,
          1712.472136,
          862.5407561,
          926.1410683,
          9269.657808,
          2602.394995,
          4513.480643,
          1107.482182,
          882.9699438,
          7092.923025,
          1056.380121,
          1271.211593,
          469.7092981
         ],
         "xaxis": "x",
         "y": [
          72.301,
          42.731,
          56.728,
          50.728,
          52.295,
          49.58,
          50.43,
          44.741,
          50.651,
          65.152,
          46.462,
          55.322,
          48.328,
          54.791,
          71.338,
          51.579,
          58.04,
          52.947,
          56.735,
          59.448,
          60.022,
          56.007,
          46.388,
          54.11,
          42.592,
          45.678,
          73.952,
          59.443,
          48.303,
          54.467,
          64.164,
          72.801,
          71.164,
          42.082,
          52.906,
          56.867,
          46.859,
          76.442,
          46.242,
          65.528,
          63.062,
          42.568,
          48.159,
          49.339,
          58.556,
          39.613,
          52.517,
          58.42,
          73.923,
          51.542,
          42.384,
          43.487
         ],
         "yaxis": "y"
        },
        {
         "hovertemplate": "<b>%{hovertext}</b><br><br>continent=Americas<br>gdp per capita=%{x}<br>life expectancy=%{y}<br>population=%{marker.size}<extra></extra>",
         "hovertext": [
          "Argentina",
          "Bolivia",
          "Brazil",
          "Canada",
          "Chile",
          "Colombia",
          "Costa Rica",
          "Cuba",
          "Dominican Republic",
          "Ecuador",
          "El Salvador",
          "Guatemala",
          "Haiti",
          "Honduras",
          "Jamaica",
          "Mexico",
          "Nicaragua",
          "Panama",
          "Paraguay",
          "Peru",
          "Puerto Rico",
          "Trinidad and Tobago",
          "United States",
          "Uruguay",
          "Venezuela"
         ],
         "legendgroup": "Americas",
         "marker": {
          "color": "#ab63fa",
          "size": [
           40301927,
           9119152,
           190010647,
           33390141,
           16284741,
           44227550,
           4133884,
           11416987,
           9319622,
           13755680,
           6939688,
           12572928,
           8502814,
           7483763,
           2780132,
           108700891,
           5675356,
           3242173,
           6667147,
           28674757,
           3942491,
           1056608,
           301139947,
           3447496,
           26084662
          ],
          "sizemode": "area",
          "sizeref": 366300.86,
          "symbol": "circle"
         },
         "mode": "markers",
         "name": "Americas",
         "orientation": "v",
         "showlegend": true,
         "type": "scatter",
         "x": [
          12779.37964,
          3822.137084,
          9065.800825,
          36319.23501,
          13171.63885,
          7006.580419,
          9645.06142,
          8948.102923,
          6025.374752,
          6873.262326,
          5728.353514,
          5186.050003,
          1201.637154,
          3548.330846,
          7320.880262,
          11977.57496,
          2749.320965,
          9809.185636,
          4172.838464,
          7408.905561,
          19328.70901,
          18008.50924,
          42951.65309,
          10611.46299,
          11415.80569
         ],
         "xaxis": "x",
         "y": [
          75.32,
          65.554,
          72.39,
          80.653,
          78.553,
          72.889,
          78.782,
          78.273,
          72.235,
          74.994,
          71.878,
          70.259,
          60.916,
          70.198,
          72.567,
          76.195,
          72.899,
          75.537,
          71.752,
          71.421,
          78.746,
          69.819,
          78.242,
          76.384,
          73.747
         ],
         "yaxis": "y"
        },
        {
         "hovertemplate": "<b>%{hovertext}</b><br><br>continent=Oceania<br>gdp per capita=%{x}<br>life expectancy=%{y}<br>population=%{marker.size}<extra></extra>",
         "hovertext": [
          "Australia",
          "New Zealand"
         ],
         "legendgroup": "Oceania",
         "marker": {
          "color": "#FFA15A",
          "size": [
           20434176,
           4115771
          ],
          "sizemode": "area",
          "sizeref": 366300.86,
          "symbol": "circle"
         },
         "mode": "markers",
         "name": "Oceania",
         "orientation": "v",
         "showlegend": true,
         "type": "scatter",
         "x": [
          34435.36744,
          25185.00911
         ],
         "xaxis": "x",
         "y": [
          81.235,
          80.204
         ],
         "yaxis": "y"
        }
       ],
       "layout": {
        "legend": {
         "itemsizing": "constant",
         "title": {
          "text": "continent"
         },
         "tracegroupgap": 0
        },
        "margin": {
         "t": 60
        },
        "template": {
         "data": {
          "bar": [
           {
            "error_x": {
             "color": "#2a3f5f"
            },
            "error_y": {
             "color": "#2a3f5f"
            },
            "marker": {
             "line": {
              "color": "#E5ECF6",
              "width": 0.5
             },
             "pattern": {
              "fillmode": "overlay",
              "size": 10,
              "solidity": 0.2
             }
            },
            "type": "bar"
           }
          ],
          "barpolar": [
           {
            "marker": {
             "line": {
              "color": "#E5ECF6",
              "width": 0.5
             },
             "pattern": {
              "fillmode": "overlay",
              "size": 10,
              "solidity": 0.2
             }
            },
            "type": "barpolar"
           }
          ],
          "carpet": [
           {
            "aaxis": {
             "endlinecolor": "#2a3f5f",
             "gridcolor": "white",
             "linecolor": "white",
             "minorgridcolor": "white",
             "startlinecolor": "#2a3f5f"
            },
            "baxis": {
             "endlinecolor": "#2a3f5f",
             "gridcolor": "white",
             "linecolor": "white",
             "minorgridcolor": "white",
             "startlinecolor": "#2a3f5f"
            },
            "type": "carpet"
           }
          ],
          "choropleth": [
           {
            "colorbar": {
             "outlinewidth": 0,
             "ticks": ""
            },
            "type": "choropleth"
           }
          ],
          "contour": [
           {
            "colorbar": {
             "outlinewidth": 0,
             "ticks": ""
            },
            "colorscale": [
             [
              0,
              "#0d0887"
             ],
             [
              0.1111111111111111,
              "#46039f"
             ],
             [
              0.2222222222222222,
              "#7201a8"
             ],
             [
              0.3333333333333333,
              "#9c179e"
             ],
             [
              0.4444444444444444,
              "#bd3786"
             ],
             [
              0.5555555555555556,
              "#d8576b"
             ],
             [
              0.6666666666666666,
              "#ed7953"
             ],
             [
              0.7777777777777778,
              "#fb9f3a"
             ],
             [
              0.8888888888888888,
              "#fdca26"
             ],
             [
              1,
              "#f0f921"
             ]
            ],
            "type": "contour"
           }
          ],
          "contourcarpet": [
           {
            "colorbar": {
             "outlinewidth": 0,
             "ticks": ""
            },
            "type": "contourcarpet"
           }
          ],
          "heatmap": [
           {
            "colorbar": {
             "outlinewidth": 0,
             "ticks": ""
            },
            "colorscale": [
             [
              0,
              "#0d0887"
             ],
             [
              0.1111111111111111,
              "#46039f"
             ],
             [
              0.2222222222222222,
              "#7201a8"
             ],
             [
              0.3333333333333333,
              "#9c179e"
             ],
             [
              0.4444444444444444,
              "#bd3786"
             ],
             [
              0.5555555555555556,
              "#d8576b"
             ],
             [
              0.6666666666666666,
              "#ed7953"
             ],
             [
              0.7777777777777778,
              "#fb9f3a"
             ],
             [
              0.8888888888888888,
              "#fdca26"
             ],
             [
              1,
              "#f0f921"
             ]
            ],
            "type": "heatmap"
           }
          ],
          "heatmapgl": [
           {
            "colorbar": {
             "outlinewidth": 0,
             "ticks": ""
            },
            "colorscale": [
             [
              0,
              "#0d0887"
             ],
             [
              0.1111111111111111,
              "#46039f"
             ],
             [
              0.2222222222222222,
              "#7201a8"
             ],
             [
              0.3333333333333333,
              "#9c179e"
             ],
             [
              0.4444444444444444,
              "#bd3786"
             ],
             [
              0.5555555555555556,
              "#d8576b"
             ],
             [
              0.6666666666666666,
              "#ed7953"
             ],
             [
              0.7777777777777778,
              "#fb9f3a"
             ],
             [
              0.8888888888888888,
              "#fdca26"
             ],
             [
              1,
              "#f0f921"
             ]
            ],
            "type": "heatmapgl"
           }
          ],
          "histogram": [
           {
            "marker": {
             "pattern": {
              "fillmode": "overlay",
              "size": 10,
              "solidity": 0.2
             }
            },
            "type": "histogram"
           }
          ],
          "histogram2d": [
           {
            "colorbar": {
             "outlinewidth": 0,
             "ticks": ""
            },
            "colorscale": [
             [
              0,
              "#0d0887"
             ],
             [
              0.1111111111111111,
              "#46039f"
             ],
             [
              0.2222222222222222,
              "#7201a8"
             ],
             [
              0.3333333333333333,
              "#9c179e"
             ],
             [
              0.4444444444444444,
              "#bd3786"
             ],
             [
              0.5555555555555556,
              "#d8576b"
             ],
             [
              0.6666666666666666,
              "#ed7953"
             ],
             [
              0.7777777777777778,
              "#fb9f3a"
             ],
             [
              0.8888888888888888,
              "#fdca26"
             ],
             [
              1,
              "#f0f921"
             ]
            ],
            "type": "histogram2d"
           }
          ],
          "histogram2dcontour": [
           {
            "colorbar": {
             "outlinewidth": 0,
             "ticks": ""
            },
            "colorscale": [
             [
              0,
              "#0d0887"
             ],
             [
              0.1111111111111111,
              "#46039f"
             ],
             [
              0.2222222222222222,
              "#7201a8"
             ],
             [
              0.3333333333333333,
              "#9c179e"
             ],
             [
              0.4444444444444444,
              "#bd3786"
             ],
             [
              0.5555555555555556,
              "#d8576b"
             ],
             [
              0.6666666666666666,
              "#ed7953"
             ],
             [
              0.7777777777777778,
              "#fb9f3a"
             ],
             [
              0.8888888888888888,
              "#fdca26"
             ],
             [
              1,
              "#f0f921"
             ]
            ],
            "type": "histogram2dcontour"
           }
          ],
          "mesh3d": [
           {
            "colorbar": {
             "outlinewidth": 0,
             "ticks": ""
            },
            "type": "mesh3d"
           }
          ],
          "parcoords": [
           {
            "line": {
             "colorbar": {
              "outlinewidth": 0,
              "ticks": ""
             }
            },
            "type": "parcoords"
           }
          ],
          "pie": [
           {
            "automargin": true,
            "type": "pie"
           }
          ],
          "scatter": [
           {
            "fillpattern": {
             "fillmode": "overlay",
             "size": 10,
             "solidity": 0.2
            },
            "type": "scatter"
           }
          ],
          "scatter3d": [
           {
            "line": {
             "colorbar": {
              "outlinewidth": 0,
              "ticks": ""
             }
            },
            "marker": {
             "colorbar": {
              "outlinewidth": 0,
              "ticks": ""
             }
            },
            "type": "scatter3d"
           }
          ],
          "scattercarpet": [
           {
            "marker": {
             "colorbar": {
              "outlinewidth": 0,
              "ticks": ""
             }
            },
            "type": "scattercarpet"
           }
          ],
          "scattergeo": [
           {
            "marker": {
             "colorbar": {
              "outlinewidth": 0,
              "ticks": ""
             }
            },
            "type": "scattergeo"
           }
          ],
          "scattergl": [
           {
            "marker": {
             "colorbar": {
              "outlinewidth": 0,
              "ticks": ""
             }
            },
            "type": "scattergl"
           }
          ],
          "scattermapbox": [
           {
            "marker": {
             "colorbar": {
              "outlinewidth": 0,
              "ticks": ""
             }
            },
            "type": "scattermapbox"
           }
          ],
          "scatterpolar": [
           {
            "marker": {
             "colorbar": {
              "outlinewidth": 0,
              "ticks": ""
             }
            },
            "type": "scatterpolar"
           }
          ],
          "scatterpolargl": [
           {
            "marker": {
             "colorbar": {
              "outlinewidth": 0,
              "ticks": ""
             }
            },
            "type": "scatterpolargl"
           }
          ],
          "scatterternary": [
           {
            "marker": {
             "colorbar": {
              "outlinewidth": 0,
              "ticks": ""
             }
            },
            "type": "scatterternary"
           }
          ],
          "surface": [
           {
            "colorbar": {
             "outlinewidth": 0,
             "ticks": ""
            },
            "colorscale": [
             [
              0,
              "#0d0887"
             ],
             [
              0.1111111111111111,
              "#46039f"
             ],
             [
              0.2222222222222222,
              "#7201a8"
             ],
             [
              0.3333333333333333,
              "#9c179e"
             ],
             [
              0.4444444444444444,
              "#bd3786"
             ],
             [
              0.5555555555555556,
              "#d8576b"
             ],
             [
              0.6666666666666666,
              "#ed7953"
             ],
             [
              0.7777777777777778,
              "#fb9f3a"
             ],
             [
              0.8888888888888888,
              "#fdca26"
             ],
             [
              1,
              "#f0f921"
             ]
            ],
            "type": "surface"
           }
          ],
          "table": [
           {
            "cells": {
             "fill": {
              "color": "#EBF0F8"
             },
             "line": {
              "color": "white"
             }
            },
            "header": {
             "fill": {
              "color": "#C8D4E3"
             },
             "line": {
              "color": "white"
             }
            },
            "type": "table"
           }
          ]
         },
         "layout": {
          "annotationdefaults": {
           "arrowcolor": "#2a3f5f",
           "arrowhead": 0,
           "arrowwidth": 1
          },
          "autotypenumbers": "strict",
          "coloraxis": {
           "colorbar": {
            "outlinewidth": 0,
            "ticks": ""
           }
          },
          "colorscale": {
           "diverging": [
            [
             0,
             "#8e0152"
            ],
            [
             0.1,
             "#c51b7d"
            ],
            [
             0.2,
             "#de77ae"
            ],
            [
             0.3,
             "#f1b6da"
            ],
            [
             0.4,
             "#fde0ef"
            ],
            [
             0.5,
             "#f7f7f7"
            ],
            [
             0.6,
             "#e6f5d0"
            ],
            [
             0.7,
             "#b8e186"
            ],
            [
             0.8,
             "#7fbc41"
            ],
            [
             0.9,
             "#4d9221"
            ],
            [
             1,
             "#276419"
            ]
           ],
           "sequential": [
            [
             0,
             "#0d0887"
            ],
            [
             0.1111111111111111,
             "#46039f"
            ],
            [
             0.2222222222222222,
             "#7201a8"
            ],
            [
             0.3333333333333333,
             "#9c179e"
            ],
            [
             0.4444444444444444,
             "#bd3786"
            ],
            [
             0.5555555555555556,
             "#d8576b"
            ],
            [
             0.6666666666666666,
             "#ed7953"
            ],
            [
             0.7777777777777778,
             "#fb9f3a"
            ],
            [
             0.8888888888888888,
             "#fdca26"
            ],
            [
             1,
             "#f0f921"
            ]
           ],
           "sequentialminus": [
            [
             0,
             "#0d0887"
            ],
            [
             0.1111111111111111,
             "#46039f"
            ],
            [
             0.2222222222222222,
             "#7201a8"
            ],
            [
             0.3333333333333333,
             "#9c179e"
            ],
            [
             0.4444444444444444,
             "#bd3786"
            ],
            [
             0.5555555555555556,
             "#d8576b"
            ],
            [
             0.6666666666666666,
             "#ed7953"
            ],
            [
             0.7777777777777778,
             "#fb9f3a"
            ],
            [
             0.8888888888888888,
             "#fdca26"
            ],
            [
             1,
             "#f0f921"
            ]
           ]
          },
          "colorway": [
           "#636efa",
           "#EF553B",
           "#00cc96",
           "#ab63fa",
           "#FFA15A",
           "#19d3f3",
           "#FF6692",
           "#B6E880",
           "#FF97FF",
           "#FECB52"
          ],
          "font": {
           "color": "#2a3f5f"
          },
          "geo": {
           "bgcolor": "white",
           "lakecolor": "white",
           "landcolor": "#E5ECF6",
           "showlakes": true,
           "showland": true,
           "subunitcolor": "white"
          },
          "hoverlabel": {
           "align": "left"
          },
          "hovermode": "closest",
          "mapbox": {
           "style": "light"
          },
          "paper_bgcolor": "white",
          "plot_bgcolor": "#E5ECF6",
          "polar": {
           "angularaxis": {
            "gridcolor": "white",
            "linecolor": "white",
            "ticks": ""
           },
           "bgcolor": "#E5ECF6",
           "radialaxis": {
            "gridcolor": "white",
            "linecolor": "white",
            "ticks": ""
           }
          },
          "scene": {
           "xaxis": {
            "backgroundcolor": "#E5ECF6",
            "gridcolor": "white",
            "gridwidth": 2,
            "linecolor": "white",
            "showbackground": true,
            "ticks": "",
            "zerolinecolor": "white"
           },
           "yaxis": {
            "backgroundcolor": "#E5ECF6",
            "gridcolor": "white",
            "gridwidth": 2,
            "linecolor": "white",
            "showbackground": true,
            "ticks": "",
            "zerolinecolor": "white"
           },
           "zaxis": {
            "backgroundcolor": "#E5ECF6",
            "gridcolor": "white",
            "gridwidth": 2,
            "linecolor": "white",
            "showbackground": true,
            "ticks": "",
            "zerolinecolor": "white"
           }
          },
          "shapedefaults": {
           "line": {
            "color": "#2a3f5f"
           }
          },
          "ternary": {
           "aaxis": {
            "gridcolor": "white",
            "linecolor": "white",
            "ticks": ""
           },
           "baxis": {
            "gridcolor": "white",
            "linecolor": "white",
            "ticks": ""
           },
           "bgcolor": "#E5ECF6",
           "caxis": {
            "gridcolor": "white",
            "linecolor": "white",
            "ticks": ""
           }
          },
          "title": {
           "x": 0.05
          },
          "xaxis": {
           "automargin": true,
           "gridcolor": "white",
           "linecolor": "white",
           "ticks": "",
           "title": {
            "standoff": 15
           },
           "zerolinecolor": "white",
           "zerolinewidth": 2
          },
          "yaxis": {
           "automargin": true,
           "gridcolor": "white",
           "linecolor": "white",
           "ticks": "",
           "title": {
            "standoff": 15
           },
           "zerolinecolor": "white",
           "zerolinewidth": 2
          }
         }
        },
        "xaxis": {
         "anchor": "y",
         "domain": [
          0,
          1
         ],
         "title": {
          "text": "gdp per capita"
         },
         "type": "log"
        },
        "yaxis": {
         "anchor": "x",
         "domain": [
          0,
          1
         ],
         "title": {
          "text": "life expectancy"
         }
        }
       }
      },
      "text/html": [
       "<div>                            <div id=\"2cf437d3-8e71-4d49-afce-2eeb8a6ceb74\" class=\"plotly-graph-div\" style=\"height:525px; width:100%;\"></div>            <script type=\"text/javascript\">                require([\"plotly\"], function(Plotly) {                    window.PLOTLYENV=window.PLOTLYENV || {};                                    if (document.getElementById(\"2cf437d3-8e71-4d49-afce-2eeb8a6ceb74\")) {                    Plotly.newPlot(                        \"2cf437d3-8e71-4d49-afce-2eeb8a6ceb74\",                        [{\"hovertemplate\":\"<b>%{hovertext}</b><br><br>continent=Asia<br>gdp per capita=%{x}<br>life expectancy=%{y}<br>population=%{marker.size}<extra></extra>\",\"hovertext\":[\"Afghanistan\",\"Bahrain\",\"Bangladesh\",\"Cambodia\",\"China\",\"Hong Kong, China\",\"India\",\"Indonesia\",\"Iran\",\"Iraq\",\"Israel\",\"Japan\",\"Jordan\",\"Korea, Dem. Rep.\",\"Korea, Rep.\",\"Kuwait\",\"Lebanon\",\"Malaysia\",\"Mongolia\",\"Myanmar\",\"Nepal\",\"Oman\",\"Pakistan\",\"Philippines\",\"Saudi Arabia\",\"Singapore\",\"Sri Lanka\",\"Syria\",\"Taiwan\",\"Thailand\",\"Vietnam\",\"West Bank and Gaza\",\"Yemen, Rep.\"],\"legendgroup\":\"Asia\",\"marker\":{\"color\":\"#636efa\",\"size\":[31889923.0,708573.0,150448339.0,14131858.0,1318683096.0,6980412.0,1110396331.0,223547000.0,69453570.0,27499638.0,6426679.0,127467972.0,6053193.0,23301725.0,49044790.0,2505559.0,3921278.0,24821286.0,2874127.0,47761980.0,28901790.0,3204897.0,169270617.0,91077287.0,27601038.0,4553009.0,20378239.0,19314747.0,23174294.0,65068149.0,85262356.0,4018332.0,22211743.0],\"sizemode\":\"area\",\"sizeref\":366300.86,\"symbol\":\"circle\"},\"mode\":\"markers\",\"name\":\"Asia\",\"orientation\":\"v\",\"showlegend\":true,\"x\":[974.5803384,29796.04834,1391.253792,1713.778686,4959.114854,39724.97867,2452.210407,3540.651564,11605.71449,4471.061906,25523.2771,31656.06806,4519.461171,1593.06548,23348.13973,47306.98978,10461.05868,12451.6558,3095.772271,944.0,1091.359778,22316.19287,2605.94758,3190.481016,21654.83194,47143.17964,3970.095407,4184.548089,28718.27684,7458.396327,2441.576404,3025.349798,2280.769906],\"xaxis\":\"x\",\"y\":[43.828,75.635,64.062,59.723,72.961,82.208,64.698,70.65,70.964,59.545,80.745,82.603,72.535,67.297,78.623,77.588,71.993,74.241,66.803,62.069,63.785,75.64,65.483,71.688,72.777,79.972,72.396,74.143,78.4,70.616,74.249,73.422,62.698],\"yaxis\":\"y\",\"type\":\"scatter\"},{\"hovertemplate\":\"<b>%{hovertext}</b><br><br>continent=Europe<br>gdp per capita=%{x}<br>life expectancy=%{y}<br>population=%{marker.size}<extra></extra>\",\"hovertext\":[\"Albania\",\"Austria\",\"Belgium\",\"Bosnia and Herzegovina\",\"Bulgaria\",\"Croatia\",\"Czech Republic\",\"Denmark\",\"Finland\",\"France\",\"Germany\",\"Greece\",\"Hungary\",\"Iceland\",\"Ireland\",\"Italy\",\"Montenegro\",\"Netherlands\",\"Norway\",\"Poland\",\"Portugal\",\"Romania\",\"Serbia\",\"Slovak Republic\",\"Slovenia\",\"Spain\",\"Sweden\",\"Switzerland\",\"Turkey\",\"United Kingdom\"],\"legendgroup\":\"Europe\",\"marker\":{\"color\":\"#EF553B\",\"size\":[3600523.0,8199783.0,10392226.0,4552198.0,7322858.0,4493312.0,10228744.0,5468120.0,5238460.0,61083916.0,82400996.0,10706290.0,9956108.0,301931.0,4109086.0,58147733.0,684736.0,16570613.0,4627926.0,38518241.0,10642836.0,22276056.0,10150265.0,5447502.0,2009245.0,40448191.0,9031088.0,7554661.0,71158647.0,60776238.0],\"sizemode\":\"area\",\"sizeref\":366300.86,\"symbol\":\"circle\"},\"mode\":\"markers\",\"name\":\"Europe\",\"orientation\":\"v\",\"showlegend\":true,\"x\":[5937.029526,36126.4927,33692.60508,7446.298803,10680.79282,14619.22272,22833.30851,35278.41874,33207.0844,30470.0167,32170.37442,27538.41188,18008.94444,36180.78919,40675.99635,28569.7197,9253.896111,36797.93332,49357.19017,15389.92468,20509.64777,10808.47561,9786.534714,18678.31435,25768.25759,28821.0637,33859.74835,37506.41907,8458.276384,33203.26128],\"xaxis\":\"x\",\"y\":[76.423,79.829,79.441,74.852,73.005,75.748,76.486,78.332,79.313,80.657,79.406,79.483,73.338,81.757,78.885,80.546,74.543,79.762,80.196,75.563,78.098,72.476,74.002,74.663,77.926,80.941,80.884,81.701,71.777,79.425],\"yaxis\":\"y\",\"type\":\"scatter\"},{\"hovertemplate\":\"<b>%{hovertext}</b><br><br>continent=Africa<br>gdp per capita=%{x}<br>life expectancy=%{y}<br>population=%{marker.size}<extra></extra>\",\"hovertext\":[\"Algeria\",\"Angola\",\"Benin\",\"Botswana\",\"Burkina Faso\",\"Burundi\",\"Cameroon\",\"Central African Republic\",\"Chad\",\"Comoros\",\"Congo, Dem. Rep.\",\"Congo, Rep.\",\"Cote d'Ivoire\",\"Djibouti\",\"Egypt\",\"Equatorial Guinea\",\"Eritrea\",\"Ethiopia\",\"Gabon\",\"Gambia\",\"Ghana\",\"Guinea\",\"Guinea-Bissau\",\"Kenya\",\"Lesotho\",\"Liberia\",\"Libya\",\"Madagascar\",\"Malawi\",\"Mali\",\"Mauritania\",\"Mauritius\",\"Morocco\",\"Mozambique\",\"Namibia\",\"Niger\",\"Nigeria\",\"Reunion\",\"Rwanda\",\"Sao Tome and Principe\",\"Senegal\",\"Sierra Leone\",\"Somalia\",\"South Africa\",\"Sudan\",\"Swaziland\",\"Tanzania\",\"Togo\",\"Tunisia\",\"Uganda\",\"Zambia\",\"Zimbabwe\"],\"legendgroup\":\"Africa\",\"marker\":{\"color\":\"#00cc96\",\"size\":[33333216.0,12420476.0,8078314.0,1639131.0,14326203.0,8390505.0,17696293.0,4369038.0,10238807.0,710960.0,64606759.0,3800610.0,18013409.0,496374.0,80264543.0,551201.0,4906585.0,76511887.0,1454867.0,1688359.0,22873338.0,9947814.0,1472041.0,35610177.0,2012649.0,3193942.0,6036914.0,19167654.0,13327079.0,12031795.0,3270065.0,1250882.0,33757175.0,19951656.0,2055080.0,12894865.0,135031164.0,798094.0,8860588.0,199579.0,12267493.0,6144562.0,9118773.0,43997828.0,42292929.0,1133066.0,38139640.0,5701579.0,10276158.0,29170398.0,11746035.0,12311143.0],\"sizemode\":\"area\",\"sizeref\":366300.86,\"symbol\":\"circle\"},\"mode\":\"markers\",\"name\":\"Africa\",\"orientation\":\"v\",\"showlegend\":true,\"x\":[6223.367465,4797.231267,1441.284873,12569.85177,1217.032994,430.0706916,2042.09524,706.016537,1704.063724,986.1478792,277.5518587,3632.557798,1544.750112,2082.481567,5581.180998,12154.08975,641.3695236,690.8055759,13206.48452,752.7497265,1327.60891,942.6542111,579.231743,1463.249282,1569.331442,414.5073415,12057.49928,1044.770126,759.3499101,1042.581557,1803.151496,10956.99112,3820.17523,823.6856205,4811.060429,619.6768924,2013.977305,7670.122558,863.0884639,1598.435089,1712.472136,862.5407561,926.1410683,9269.657808,2602.394995,4513.480643,1107.482182,882.9699438,7092.923025,1056.380121,1271.211593,469.7092981],\"xaxis\":\"x\",\"y\":[72.301,42.731,56.728,50.728,52.295,49.58,50.43,44.741,50.651,65.152,46.462,55.322,48.328,54.791,71.338,51.579,58.04,52.947,56.735,59.448,60.022,56.007,46.388,54.11,42.592,45.678,73.952,59.443,48.303,54.467,64.164,72.801,71.164,42.082,52.906,56.867,46.859,76.442,46.242,65.528,63.062,42.568,48.159,49.339,58.556,39.613,52.517,58.42,73.923,51.542,42.384,43.487],\"yaxis\":\"y\",\"type\":\"scatter\"},{\"hovertemplate\":\"<b>%{hovertext}</b><br><br>continent=Americas<br>gdp per capita=%{x}<br>life expectancy=%{y}<br>population=%{marker.size}<extra></extra>\",\"hovertext\":[\"Argentina\",\"Bolivia\",\"Brazil\",\"Canada\",\"Chile\",\"Colombia\",\"Costa Rica\",\"Cuba\",\"Dominican Republic\",\"Ecuador\",\"El Salvador\",\"Guatemala\",\"Haiti\",\"Honduras\",\"Jamaica\",\"Mexico\",\"Nicaragua\",\"Panama\",\"Paraguay\",\"Peru\",\"Puerto Rico\",\"Trinidad and Tobago\",\"United States\",\"Uruguay\",\"Venezuela\"],\"legendgroup\":\"Americas\",\"marker\":{\"color\":\"#ab63fa\",\"size\":[40301927.0,9119152.0,190010647.0,33390141.0,16284741.0,44227550.0,4133884.0,11416987.0,9319622.0,13755680.0,6939688.0,12572928.0,8502814.0,7483763.0,2780132.0,108700891.0,5675356.0,3242173.0,6667147.0,28674757.0,3942491.0,1056608.0,301139947.0,3447496.0,26084662.0],\"sizemode\":\"area\",\"sizeref\":366300.86,\"symbol\":\"circle\"},\"mode\":\"markers\",\"name\":\"Americas\",\"orientation\":\"v\",\"showlegend\":true,\"x\":[12779.37964,3822.137084,9065.800825,36319.23501,13171.63885,7006.580419,9645.06142,8948.102923,6025.374752,6873.262326,5728.353514,5186.050003,1201.637154,3548.330846,7320.880262,11977.57496,2749.320965,9809.185636,4172.838464,7408.905561,19328.70901,18008.50924,42951.65309,10611.46299,11415.80569],\"xaxis\":\"x\",\"y\":[75.32,65.554,72.39,80.653,78.553,72.889,78.782,78.273,72.235,74.994,71.878,70.259,60.916,70.198,72.567,76.195,72.899,75.537,71.752,71.421,78.746,69.819,78.242,76.384,73.747],\"yaxis\":\"y\",\"type\":\"scatter\"},{\"hovertemplate\":\"<b>%{hovertext}</b><br><br>continent=Oceania<br>gdp per capita=%{x}<br>life expectancy=%{y}<br>population=%{marker.size}<extra></extra>\",\"hovertext\":[\"Australia\",\"New Zealand\"],\"legendgroup\":\"Oceania\",\"marker\":{\"color\":\"#FFA15A\",\"size\":[20434176.0,4115771.0],\"sizemode\":\"area\",\"sizeref\":366300.86,\"symbol\":\"circle\"},\"mode\":\"markers\",\"name\":\"Oceania\",\"orientation\":\"v\",\"showlegend\":true,\"x\":[34435.36744,25185.00911],\"xaxis\":\"x\",\"y\":[81.235,80.204],\"yaxis\":\"y\",\"type\":\"scatter\"}],                        {\"template\":{\"data\":{\"histogram2dcontour\":[{\"type\":\"histogram2dcontour\",\"colorbar\":{\"outlinewidth\":0,\"ticks\":\"\"},\"colorscale\":[[0.0,\"#0d0887\"],[0.1111111111111111,\"#46039f\"],[0.2222222222222222,\"#7201a8\"],[0.3333333333333333,\"#9c179e\"],[0.4444444444444444,\"#bd3786\"],[0.5555555555555556,\"#d8576b\"],[0.6666666666666666,\"#ed7953\"],[0.7777777777777778,\"#fb9f3a\"],[0.8888888888888888,\"#fdca26\"],[1.0,\"#f0f921\"]]}],\"choropleth\":[{\"type\":\"choropleth\",\"colorbar\":{\"outlinewidth\":0,\"ticks\":\"\"}}],\"histogram2d\":[{\"type\":\"histogram2d\",\"colorbar\":{\"outlinewidth\":0,\"ticks\":\"\"},\"colorscale\":[[0.0,\"#0d0887\"],[0.1111111111111111,\"#46039f\"],[0.2222222222222222,\"#7201a8\"],[0.3333333333333333,\"#9c179e\"],[0.4444444444444444,\"#bd3786\"],[0.5555555555555556,\"#d8576b\"],[0.6666666666666666,\"#ed7953\"],[0.7777777777777778,\"#fb9f3a\"],[0.8888888888888888,\"#fdca26\"],[1.0,\"#f0f921\"]]}],\"heatmap\":[{\"type\":\"heatmap\",\"colorbar\":{\"outlinewidth\":0,\"ticks\":\"\"},\"colorscale\":[[0.0,\"#0d0887\"],[0.1111111111111111,\"#46039f\"],[0.2222222222222222,\"#7201a8\"],[0.3333333333333333,\"#9c179e\"],[0.4444444444444444,\"#bd3786\"],[0.5555555555555556,\"#d8576b\"],[0.6666666666666666,\"#ed7953\"],[0.7777777777777778,\"#fb9f3a\"],[0.8888888888888888,\"#fdca26\"],[1.0,\"#f0f921\"]]}],\"heatmapgl\":[{\"type\":\"heatmapgl\",\"colorbar\":{\"outlinewidth\":0,\"ticks\":\"\"},\"colorscale\":[[0.0,\"#0d0887\"],[0.1111111111111111,\"#46039f\"],[0.2222222222222222,\"#7201a8\"],[0.3333333333333333,\"#9c179e\"],[0.4444444444444444,\"#bd3786\"],[0.5555555555555556,\"#d8576b\"],[0.6666666666666666,\"#ed7953\"],[0.7777777777777778,\"#fb9f3a\"],[0.8888888888888888,\"#fdca26\"],[1.0,\"#f0f921\"]]}],\"contourcarpet\":[{\"type\":\"contourcarpet\",\"colorbar\":{\"outlinewidth\":0,\"ticks\":\"\"}}],\"contour\":[{\"type\":\"contour\",\"colorbar\":{\"outlinewidth\":0,\"ticks\":\"\"},\"colorscale\":[[0.0,\"#0d0887\"],[0.1111111111111111,\"#46039f\"],[0.2222222222222222,\"#7201a8\"],[0.3333333333333333,\"#9c179e\"],[0.4444444444444444,\"#bd3786\"],[0.5555555555555556,\"#d8576b\"],[0.6666666666666666,\"#ed7953\"],[0.7777777777777778,\"#fb9f3a\"],[0.8888888888888888,\"#fdca26\"],[1.0,\"#f0f921\"]]}],\"surface\":[{\"type\":\"surface\",\"colorbar\":{\"outlinewidth\":0,\"ticks\":\"\"},\"colorscale\":[[0.0,\"#0d0887\"],[0.1111111111111111,\"#46039f\"],[0.2222222222222222,\"#7201a8\"],[0.3333333333333333,\"#9c179e\"],[0.4444444444444444,\"#bd3786\"],[0.5555555555555556,\"#d8576b\"],[0.6666666666666666,\"#ed7953\"],[0.7777777777777778,\"#fb9f3a\"],[0.8888888888888888,\"#fdca26\"],[1.0,\"#f0f921\"]]}],\"mesh3d\":[{\"type\":\"mesh3d\",\"colorbar\":{\"outlinewidth\":0,\"ticks\":\"\"}}],\"scatter\":[{\"fillpattern\":{\"fillmode\":\"overlay\",\"size\":10,\"solidity\":0.2},\"type\":\"scatter\"}],\"parcoords\":[{\"type\":\"parcoords\",\"line\":{\"colorbar\":{\"outlinewidth\":0,\"ticks\":\"\"}}}],\"scatterpolargl\":[{\"type\":\"scatterpolargl\",\"marker\":{\"colorbar\":{\"outlinewidth\":0,\"ticks\":\"\"}}}],\"bar\":[{\"error_x\":{\"color\":\"#2a3f5f\"},\"error_y\":{\"color\":\"#2a3f5f\"},\"marker\":{\"line\":{\"color\":\"#E5ECF6\",\"width\":0.5},\"pattern\":{\"fillmode\":\"overlay\",\"size\":10,\"solidity\":0.2}},\"type\":\"bar\"}],\"scattergeo\":[{\"type\":\"scattergeo\",\"marker\":{\"colorbar\":{\"outlinewidth\":0,\"ticks\":\"\"}}}],\"scatterpolar\":[{\"type\":\"scatterpolar\",\"marker\":{\"colorbar\":{\"outlinewidth\":0,\"ticks\":\"\"}}}],\"histogram\":[{\"marker\":{\"pattern\":{\"fillmode\":\"overlay\",\"size\":10,\"solidity\":0.2}},\"type\":\"histogram\"}],\"scattergl\":[{\"type\":\"scattergl\",\"marker\":{\"colorbar\":{\"outlinewidth\":0,\"ticks\":\"\"}}}],\"scatter3d\":[{\"type\":\"scatter3d\",\"line\":{\"colorbar\":{\"outlinewidth\":0,\"ticks\":\"\"}},\"marker\":{\"colorbar\":{\"outlinewidth\":0,\"ticks\":\"\"}}}],\"scattermapbox\":[{\"type\":\"scattermapbox\",\"marker\":{\"colorbar\":{\"outlinewidth\":0,\"ticks\":\"\"}}}],\"scatterternary\":[{\"type\":\"scatterternary\",\"marker\":{\"colorbar\":{\"outlinewidth\":0,\"ticks\":\"\"}}}],\"scattercarpet\":[{\"type\":\"scattercarpet\",\"marker\":{\"colorbar\":{\"outlinewidth\":0,\"ticks\":\"\"}}}],\"carpet\":[{\"aaxis\":{\"endlinecolor\":\"#2a3f5f\",\"gridcolor\":\"white\",\"linecolor\":\"white\",\"minorgridcolor\":\"white\",\"startlinecolor\":\"#2a3f5f\"},\"baxis\":{\"endlinecolor\":\"#2a3f5f\",\"gridcolor\":\"white\",\"linecolor\":\"white\",\"minorgridcolor\":\"white\",\"startlinecolor\":\"#2a3f5f\"},\"type\":\"carpet\"}],\"table\":[{\"cells\":{\"fill\":{\"color\":\"#EBF0F8\"},\"line\":{\"color\":\"white\"}},\"header\":{\"fill\":{\"color\":\"#C8D4E3\"},\"line\":{\"color\":\"white\"}},\"type\":\"table\"}],\"barpolar\":[{\"marker\":{\"line\":{\"color\":\"#E5ECF6\",\"width\":0.5},\"pattern\":{\"fillmode\":\"overlay\",\"size\":10,\"solidity\":0.2}},\"type\":\"barpolar\"}],\"pie\":[{\"automargin\":true,\"type\":\"pie\"}]},\"layout\":{\"autotypenumbers\":\"strict\",\"colorway\":[\"#636efa\",\"#EF553B\",\"#00cc96\",\"#ab63fa\",\"#FFA15A\",\"#19d3f3\",\"#FF6692\",\"#B6E880\",\"#FF97FF\",\"#FECB52\"],\"font\":{\"color\":\"#2a3f5f\"},\"hovermode\":\"closest\",\"hoverlabel\":{\"align\":\"left\"},\"paper_bgcolor\":\"white\",\"plot_bgcolor\":\"#E5ECF6\",\"polar\":{\"bgcolor\":\"#E5ECF6\",\"angularaxis\":{\"gridcolor\":\"white\",\"linecolor\":\"white\",\"ticks\":\"\"},\"radialaxis\":{\"gridcolor\":\"white\",\"linecolor\":\"white\",\"ticks\":\"\"}},\"ternary\":{\"bgcolor\":\"#E5ECF6\",\"aaxis\":{\"gridcolor\":\"white\",\"linecolor\":\"white\",\"ticks\":\"\"},\"baxis\":{\"gridcolor\":\"white\",\"linecolor\":\"white\",\"ticks\":\"\"},\"caxis\":{\"gridcolor\":\"white\",\"linecolor\":\"white\",\"ticks\":\"\"}},\"coloraxis\":{\"colorbar\":{\"outlinewidth\":0,\"ticks\":\"\"}},\"colorscale\":{\"sequential\":[[0.0,\"#0d0887\"],[0.1111111111111111,\"#46039f\"],[0.2222222222222222,\"#7201a8\"],[0.3333333333333333,\"#9c179e\"],[0.4444444444444444,\"#bd3786\"],[0.5555555555555556,\"#d8576b\"],[0.6666666666666666,\"#ed7953\"],[0.7777777777777778,\"#fb9f3a\"],[0.8888888888888888,\"#fdca26\"],[1.0,\"#f0f921\"]],\"sequentialminus\":[[0.0,\"#0d0887\"],[0.1111111111111111,\"#46039f\"],[0.2222222222222222,\"#7201a8\"],[0.3333333333333333,\"#9c179e\"],[0.4444444444444444,\"#bd3786\"],[0.5555555555555556,\"#d8576b\"],[0.6666666666666666,\"#ed7953\"],[0.7777777777777778,\"#fb9f3a\"],[0.8888888888888888,\"#fdca26\"],[1.0,\"#f0f921\"]],\"diverging\":[[0,\"#8e0152\"],[0.1,\"#c51b7d\"],[0.2,\"#de77ae\"],[0.3,\"#f1b6da\"],[0.4,\"#fde0ef\"],[0.5,\"#f7f7f7\"],[0.6,\"#e6f5d0\"],[0.7,\"#b8e186\"],[0.8,\"#7fbc41\"],[0.9,\"#4d9221\"],[1,\"#276419\"]]},\"xaxis\":{\"gridcolor\":\"white\",\"linecolor\":\"white\",\"ticks\":\"\",\"title\":{\"standoff\":15},\"zerolinecolor\":\"white\",\"automargin\":true,\"zerolinewidth\":2},\"yaxis\":{\"gridcolor\":\"white\",\"linecolor\":\"white\",\"ticks\":\"\",\"title\":{\"standoff\":15},\"zerolinecolor\":\"white\",\"automargin\":true,\"zerolinewidth\":2},\"scene\":{\"xaxis\":{\"backgroundcolor\":\"#E5ECF6\",\"gridcolor\":\"white\",\"linecolor\":\"white\",\"showbackground\":true,\"ticks\":\"\",\"zerolinecolor\":\"white\",\"gridwidth\":2},\"yaxis\":{\"backgroundcolor\":\"#E5ECF6\",\"gridcolor\":\"white\",\"linecolor\":\"white\",\"showbackground\":true,\"ticks\":\"\",\"zerolinecolor\":\"white\",\"gridwidth\":2},\"zaxis\":{\"backgroundcolor\":\"#E5ECF6\",\"gridcolor\":\"white\",\"linecolor\":\"white\",\"showbackground\":true,\"ticks\":\"\",\"zerolinecolor\":\"white\",\"gridwidth\":2}},\"shapedefaults\":{\"line\":{\"color\":\"#2a3f5f\"}},\"annotationdefaults\":{\"arrowcolor\":\"#2a3f5f\",\"arrowhead\":0,\"arrowwidth\":1},\"geo\":{\"bgcolor\":\"white\",\"landcolor\":\"#E5ECF6\",\"subunitcolor\":\"white\",\"showland\":true,\"showlakes\":true,\"lakecolor\":\"white\"},\"title\":{\"x\":0.05},\"mapbox\":{\"style\":\"light\"}}},\"xaxis\":{\"anchor\":\"y\",\"domain\":[0.0,1.0],\"title\":{\"text\":\"gdp per capita\"},\"type\":\"log\"},\"yaxis\":{\"anchor\":\"x\",\"domain\":[0.0,1.0],\"title\":{\"text\":\"life expectancy\"}},\"legend\":{\"title\":{\"text\":\"continent\"},\"tracegroupgap\":0,\"itemsizing\":\"constant\"},\"margin\":{\"t\":60}},                        {\"responsive\": true}                    ).then(function(){\n",
       "                            \n",
       "var gd = document.getElementById('2cf437d3-8e71-4d49-afce-2eeb8a6ceb74');\n",
       "var x = new MutationObserver(function (mutations, observer) {{\n",
       "        var display = window.getComputedStyle(gd).display;\n",
       "        if (!display || display === 'none') {{\n",
       "            console.log([gd, 'removed!']);\n",
       "            Plotly.purge(gd);\n",
       "            observer.disconnect();\n",
       "        }}\n",
       "}});\n",
       "\n",
       "// Listen for the removal of the full notebook cells\n",
       "var notebookContainer = gd.closest('#notebook-container');\n",
       "if (notebookContainer) {{\n",
       "    x.observe(notebookContainer, {childList: true});\n",
       "}}\n",
       "\n",
       "// Listen for the clearing of the current output cell\n",
       "var outputEl = gd.closest('.output');\n",
       "if (outputEl) {{\n",
       "    x.observe(outputEl, {childList: true});\n",
       "}}\n",
       "\n",
       "                        })                };                });            </script>        </div>"
      ]
     },
     "metadata": {},
     "output_type": "display_data"
    }
   ],
   "source": [
    "fig.show()"
   ]
  },
  {
   "cell_type": "code",
   "execution_count": 22,
   "id": "6ce9345c",
   "metadata": {},
   "outputs": [
    {
     "data": {
      "text/html": [
       "<div>\n",
       "<style scoped>\n",
       "    .dataframe tbody tr th:only-of-type {\n",
       "        vertical-align: middle;\n",
       "    }\n",
       "\n",
       "    .dataframe tbody tr th {\n",
       "        vertical-align: top;\n",
       "    }\n",
       "\n",
       "    .dataframe thead th {\n",
       "        text-align: right;\n",
       "    }\n",
       "</style>\n",
       "<table border=\"1\" class=\"dataframe\">\n",
       "  <thead>\n",
       "    <tr style=\"text-align: right;\">\n",
       "      <th></th>\n",
       "      <th>name</th>\n",
       "      <th>Date</th>\n",
       "      <th>Time</th>\n",
       "      <th>personalRecords_CC</th>\n",
       "      <th>personalRecords_EA</th>\n",
       "      <th>personalRecords_TCA</th>\n",
       "      <th>personalRecords_TQA</th>\n",
       "      <th>questionsData</th>\n",
       "      <th>timeSpent_timeAI</th>\n",
       "      <th>timeSpent_timeHomeScreen</th>\n",
       "      <th>timeSpent_timeLesson</th>\n",
       "      <th>timeSpent_timeMaps</th>\n",
       "      <th>timeSpent_timeQuiz</th>\n",
       "      <th>timeSpent_timeRewardPage</th>\n",
       "      <th>timeSpent_timeStore</th>\n",
       "      <th>userId</th>\n",
       "      <th>timeSpent_total</th>\n",
       "    </tr>\n",
       "  </thead>\n",
       "  <tbody>\n",
       "    <tr>\n",
       "      <th>0</th>\n",
       "      <td>abhijot</td>\n",
       "      <td>17/01/2023</td>\n",
       "      <td>15:52:55</td>\n",
       "      <td>9</td>\n",
       "      <td>2</td>\n",
       "      <td>33</td>\n",
       "      <td>33</td>\n",
       "      <td>[{'courseTitle': 'Alphabet', 'errorAttempts': ...</td>\n",
       "      <td>0.00</td>\n",
       "      <td>22.88</td>\n",
       "      <td>440.71</td>\n",
       "      <td>22.94</td>\n",
       "      <td>49.52</td>\n",
       "      <td>0.0</td>\n",
       "      <td>0.00</td>\n",
       "      <td>abhijot76957943</td>\n",
       "      <td>536.05</td>\n",
       "    </tr>\n",
       "    <tr>\n",
       "      <th>1</th>\n",
       "      <td>alice</td>\n",
       "      <td>16/01/2023</td>\n",
       "      <td>09:52:20</td>\n",
       "      <td>15</td>\n",
       "      <td>4</td>\n",
       "      <td>35</td>\n",
       "      <td>35</td>\n",
       "      <td>[{'courseTitle': 'Alphabet', 'errorAttempts': ...</td>\n",
       "      <td>2.92</td>\n",
       "      <td>70.63</td>\n",
       "      <td>249.74</td>\n",
       "      <td>63.18</td>\n",
       "      <td>143.48</td>\n",
       "      <td>0.0</td>\n",
       "      <td>0.00</td>\n",
       "      <td>alice40209003</td>\n",
       "      <td>529.95</td>\n",
       "    </tr>\n",
       "    <tr>\n",
       "      <th>2</th>\n",
       "      <td>amreet</td>\n",
       "      <td>07/12/2022</td>\n",
       "      <td>14:06:44</td>\n",
       "      <td>5</td>\n",
       "      <td>1</td>\n",
       "      <td>14</td>\n",
       "      <td>16</td>\n",
       "      <td>[{'courseTitle': 'Alphabet', 'errorAttempts': ...</td>\n",
       "      <td>0.00</td>\n",
       "      <td>27.61</td>\n",
       "      <td>221.02</td>\n",
       "      <td>27.07</td>\n",
       "      <td>0.00</td>\n",
       "      <td>0.0</td>\n",
       "      <td>3.82</td>\n",
       "      <td>amreet69858166</td>\n",
       "      <td>279.52</td>\n",
       "    </tr>\n",
       "    <tr>\n",
       "      <th>3</th>\n",
       "      <td>amreet</td>\n",
       "      <td>07/12/2022</td>\n",
       "      <td>14:18:42</td>\n",
       "      <td>0</td>\n",
       "      <td>0</td>\n",
       "      <td>0</td>\n",
       "      <td>0</td>\n",
       "      <td>[{'courseTitle': 'Alphabet', 'errorAttempts': ...</td>\n",
       "      <td>0.00</td>\n",
       "      <td>4.75</td>\n",
       "      <td>3.05</td>\n",
       "      <td>13.19</td>\n",
       "      <td>0.00</td>\n",
       "      <td>0.0</td>\n",
       "      <td>0.00</td>\n",
       "      <td>amreet69858166</td>\n",
       "      <td>20.99</td>\n",
       "    </tr>\n",
       "    <tr>\n",
       "      <th>4</th>\n",
       "      <td>anant</td>\n",
       "      <td>18/01/2023</td>\n",
       "      <td>19:34:28</td>\n",
       "      <td>0</td>\n",
       "      <td>0</td>\n",
       "      <td>0</td>\n",
       "      <td>0</td>\n",
       "      <td>NaN</td>\n",
       "      <td>0.00</td>\n",
       "      <td>0.03</td>\n",
       "      <td>0.00</td>\n",
       "      <td>0.00</td>\n",
       "      <td>0.00</td>\n",
       "      <td>0.0</td>\n",
       "      <td>0.00</td>\n",
       "      <td>anant16781190</td>\n",
       "      <td>0.03</td>\n",
       "    </tr>\n",
       "  </tbody>\n",
       "</table>\n",
       "</div>"
      ],
      "text/plain": [
       "      name        Date      Time  personalRecords_CC  personalRecords_EA  \\\n",
       "0  abhijot  17/01/2023  15:52:55                   9                   2   \n",
       "1    alice  16/01/2023  09:52:20                  15                   4   \n",
       "2   amreet  07/12/2022  14:06:44                   5                   1   \n",
       "3   amreet  07/12/2022  14:18:42                   0                   0   \n",
       "4    anant  18/01/2023  19:34:28                   0                   0   \n",
       "\n",
       "   personalRecords_TCA  personalRecords_TQA  \\\n",
       "0                   33                   33   \n",
       "1                   35                   35   \n",
       "2                   14                   16   \n",
       "3                    0                    0   \n",
       "4                    0                    0   \n",
       "\n",
       "                                       questionsData  timeSpent_timeAI  \\\n",
       "0  [{'courseTitle': 'Alphabet', 'errorAttempts': ...              0.00   \n",
       "1  [{'courseTitle': 'Alphabet', 'errorAttempts': ...              2.92   \n",
       "2  [{'courseTitle': 'Alphabet', 'errorAttempts': ...              0.00   \n",
       "3  [{'courseTitle': 'Alphabet', 'errorAttempts': ...              0.00   \n",
       "4                                                NaN              0.00   \n",
       "\n",
       "   timeSpent_timeHomeScreen  timeSpent_timeLesson  timeSpent_timeMaps  \\\n",
       "0                     22.88                440.71               22.94   \n",
       "1                     70.63                249.74               63.18   \n",
       "2                     27.61                221.02               27.07   \n",
       "3                      4.75                  3.05               13.19   \n",
       "4                      0.03                  0.00                0.00   \n",
       "\n",
       "   timeSpent_timeQuiz  timeSpent_timeRewardPage  timeSpent_timeStore  \\\n",
       "0               49.52                       0.0                 0.00   \n",
       "1              143.48                       0.0                 0.00   \n",
       "2                0.00                       0.0                 3.82   \n",
       "3                0.00                       0.0                 0.00   \n",
       "4                0.00                       0.0                 0.00   \n",
       "\n",
       "            userId  timeSpent_total  \n",
       "0  abhijot76957943           536.05  \n",
       "1    alice40209003           529.95  \n",
       "2   amreet69858166           279.52  \n",
       "3   amreet69858166            20.99  \n",
       "4    anant16781190             0.03  "
      ]
     },
     "execution_count": 22,
     "metadata": {},
     "output_type": "execute_result"
    }
   ],
   "source": [
    "user_data.head()"
   ]
  },
  {
   "cell_type": "code",
   "execution_count": 31,
   "id": "70977ea1",
   "metadata": {},
   "outputs": [
    {
     "data": {
      "text/html": [
       "<div>\n",
       "<style scoped>\n",
       "    .dataframe tbody tr th:only-of-type {\n",
       "        vertical-align: middle;\n",
       "    }\n",
       "\n",
       "    .dataframe tbody tr th {\n",
       "        vertical-align: top;\n",
       "    }\n",
       "\n",
       "    .dataframe thead th {\n",
       "        text-align: right;\n",
       "    }\n",
       "</style>\n",
       "<table border=\"1\" class=\"dataframe\">\n",
       "  <thead>\n",
       "    <tr style=\"text-align: right;\">\n",
       "      <th></th>\n",
       "      <th>Date</th>\n",
       "      <th>Time</th>\n",
       "      <th>timeSpent_total</th>\n",
       "      <th>name</th>\n",
       "    </tr>\n",
       "  </thead>\n",
       "  <tbody>\n",
       "    <tr>\n",
       "      <th>0</th>\n",
       "      <td>17/01/2023</td>\n",
       "      <td>15:52:55</td>\n",
       "      <td>536.05</td>\n",
       "      <td>abhijot</td>\n",
       "    </tr>\n",
       "    <tr>\n",
       "      <th>1</th>\n",
       "      <td>16/01/2023</td>\n",
       "      <td>09:52:20</td>\n",
       "      <td>529.95</td>\n",
       "      <td>alice</td>\n",
       "    </tr>\n",
       "    <tr>\n",
       "      <th>2</th>\n",
       "      <td>07/12/2022</td>\n",
       "      <td>14:06:44</td>\n",
       "      <td>279.52</td>\n",
       "      <td>amreet</td>\n",
       "    </tr>\n",
       "    <tr>\n",
       "      <th>3</th>\n",
       "      <td>07/12/2022</td>\n",
       "      <td>14:18:42</td>\n",
       "      <td>20.99</td>\n",
       "      <td>amreet</td>\n",
       "    </tr>\n",
       "    <tr>\n",
       "      <th>4</th>\n",
       "      <td>18/01/2023</td>\n",
       "      <td>19:34:28</td>\n",
       "      <td>0.03</td>\n",
       "      <td>anant</td>\n",
       "    </tr>\n",
       "  </tbody>\n",
       "</table>\n",
       "</div>"
      ],
      "text/plain": [
       "         Date      Time  timeSpent_total     name\n",
       "0  17/01/2023  15:52:55           536.05  abhijot\n",
       "1  16/01/2023  09:52:20           529.95    alice\n",
       "2  07/12/2022  14:06:44           279.52   amreet\n",
       "3  07/12/2022  14:18:42            20.99   amreet\n",
       "4  18/01/2023  19:34:28             0.03    anant"
      ]
     },
     "execution_count": 31,
     "metadata": {},
     "output_type": "execute_result"
    }
   ],
   "source": [
    "user_data[['Date','Time','timeSpent_total','name']].head()"
   ]
  },
  {
   "cell_type": "code",
   "execution_count": null,
   "id": "3c77bb33",
   "metadata": {},
   "outputs": [],
   "source": [
    "px.bar(df[mask], x=\"sex\", y=\"total_bill\", \n",
    "                 color=\"smoker\", barmode=\"group\")"
   ]
  },
  {
   "cell_type": "code",
   "execution_count": 24,
   "id": "52596659",
   "metadata": {},
   "outputs": [
    {
     "data": {
      "application/vnd.plotly.v1+json": {
       "config": {
        "plotlyServerURL": "https://plot.ly"
       },
       "data": [
        {
         "hovertemplate": "<b>%{hovertext}</b><br><br>name=abhijot<br>timeSpent_timeHomeScreen=%{x}<br>timeSpent_total=%{y}<br>personalRecords_TQA=%{marker.size}<extra></extra>",
         "hovertext": [
          "abhijot"
         ],
         "legendgroup": "abhijot",
         "marker": {
          "color": "#636efa",
          "size": [
           33
          ],
          "sizemode": "area",
          "sizeref": 0.025,
          "symbol": "circle"
         },
         "mode": "markers",
         "name": "abhijot",
         "orientation": "v",
         "showlegend": true,
         "type": "scatter",
         "x": [
          22.88
         ],
         "xaxis": "x",
         "y": [
          536.05
         ],
         "yaxis": "y"
        },
        {
         "hovertemplate": "<b>%{hovertext}</b><br><br>name=alice<br>timeSpent_timeHomeScreen=%{x}<br>timeSpent_total=%{y}<br>personalRecords_TQA=%{marker.size}<extra></extra>",
         "hovertext": [
          "alice"
         ],
         "legendgroup": "alice",
         "marker": {
          "color": "#EF553B",
          "size": [
           35
          ],
          "sizemode": "area",
          "sizeref": 0.025,
          "symbol": "circle"
         },
         "mode": "markers",
         "name": "alice",
         "orientation": "v",
         "showlegend": true,
         "type": "scatter",
         "x": [
          70.63
         ],
         "xaxis": "x",
         "y": [
          529.95
         ],
         "yaxis": "y"
        },
        {
         "hovertemplate": "<b>%{hovertext}</b><br><br>name=amreet<br>timeSpent_timeHomeScreen=%{x}<br>timeSpent_total=%{y}<br>personalRecords_TQA=%{marker.size}<extra></extra>",
         "hovertext": [
          "amreet",
          "amreet"
         ],
         "legendgroup": "amreet",
         "marker": {
          "color": "#00cc96",
          "size": [
           16,
           0
          ],
          "sizemode": "area",
          "sizeref": 0.025,
          "symbol": "circle"
         },
         "mode": "markers",
         "name": "amreet",
         "orientation": "v",
         "showlegend": true,
         "type": "scatter",
         "x": [
          27.61,
          4.75
         ],
         "xaxis": "x",
         "y": [
          279.52,
          20.99
         ],
         "yaxis": "y"
        },
        {
         "hovertemplate": "<b>%{hovertext}</b><br><br>name=anant<br>timeSpent_timeHomeScreen=%{x}<br>timeSpent_total=%{y}<br>personalRecords_TQA=%{marker.size}<extra></extra>",
         "hovertext": [
          "anant",
          "anant"
         ],
         "legendgroup": "anant",
         "marker": {
          "color": "#ab63fa",
          "size": [
           0,
           33
          ],
          "sizemode": "area",
          "sizeref": 0.025,
          "symbol": "circle"
         },
         "mode": "markers",
         "name": "anant",
         "orientation": "v",
         "showlegend": true,
         "type": "scatter",
         "x": [
          0.03,
          123.3
         ],
         "xaxis": "x",
         "y": [
          0.03,
          535.33
         ],
         "yaxis": "y"
        },
        {
         "hovertemplate": "<b>%{hovertext}</b><br><br>name=Melody<br>timeSpent_timeHomeScreen=%{x}<br>timeSpent_total=%{y}<br>personalRecords_TQA=%{marker.size}<extra></extra>",
         "hovertext": [
          "Melody",
          "Melody",
          "Melody",
          "Melody"
         ],
         "legendgroup": "Melody",
         "marker": {
          "color": "#FFA15A",
          "size": [
           7,
           0,
           0,
           7
          ],
          "sizemode": "area",
          "sizeref": 0.025,
          "symbol": "circle"
         },
         "mode": "markers",
         "name": "Melody",
         "orientation": "v",
         "showlegend": true,
         "type": "scatter",
         "x": [
          116.92,
          24.2,
          49.21,
          31.35
         ],
         "xaxis": "x",
         "y": [
          198.29000000000002,
          24.2,
          49.21,
          117.28999999999999
         ],
         "yaxis": "y"
        },
        {
         "hovertemplate": "<b>%{hovertext}</b><br><br>name=aneiba<br>timeSpent_timeHomeScreen=%{x}<br>timeSpent_total=%{y}<br>personalRecords_TQA=%{marker.size}<extra></extra>",
         "hovertext": [
          "aneiba"
         ],
         "legendgroup": "aneiba",
         "marker": {
          "color": "#19d3f3",
          "size": [
           10
          ],
          "sizemode": "area",
          "sizeref": 0.025,
          "symbol": "circle"
         },
         "mode": "markers",
         "name": "aneiba",
         "orientation": "v",
         "showlegend": true,
         "type": "scatter",
         "x": [
          34.24
         ],
         "xaxis": "x",
         "y": [
          226.84
         ],
         "yaxis": "y"
        },
        {
         "hovertemplate": "<b>%{hovertext}</b><br><br>name=arsh<br>timeSpent_timeHomeScreen=%{x}<br>timeSpent_total=%{y}<br>personalRecords_TQA=%{marker.size}<extra></extra>",
         "hovertext": [
          "arsh"
         ],
         "legendgroup": "arsh",
         "marker": {
          "color": "#FF6692",
          "size": [
           6
          ],
          "sizemode": "area",
          "sizeref": 0.025,
          "symbol": "circle"
         },
         "mode": "markers",
         "name": "arsh",
         "orientation": "v",
         "showlegend": true,
         "type": "scatter",
         "x": [
          59.32
         ],
         "xaxis": "x",
         "y": [
          215.99
         ],
         "yaxis": "y"
        },
        {
         "hovertemplate": "<b>%{hovertext}</b><br><br>name=avleen<br>timeSpent_timeHomeScreen=%{x}<br>timeSpent_total=%{y}<br>personalRecords_TQA=%{marker.size}<extra></extra>",
         "hovertext": [
          "avleen",
          "avleen"
         ],
         "legendgroup": "avleen",
         "marker": {
          "color": "#B6E880",
          "size": [
           34,
           16
          ],
          "sizemode": "area",
          "sizeref": 0.025,
          "symbol": "circle"
         },
         "mode": "markers",
         "name": "avleen",
         "orientation": "v",
         "showlegend": true,
         "type": "scatter",
         "x": [
          458.38,
          13.88
         ],
         "xaxis": "x",
         "y": [
          1028.12,
          226.98
         ],
         "yaxis": "y"
        },
        {
         "hovertemplate": "<b>%{hovertext}</b><br><br>name=avneet<br>timeSpent_timeHomeScreen=%{x}<br>timeSpent_total=%{y}<br>personalRecords_TQA=%{marker.size}<extra></extra>",
         "hovertext": [
          "avneet"
         ],
         "legendgroup": "avneet",
         "marker": {
          "color": "#FF97FF",
          "size": [
           22
          ],
          "sizemode": "area",
          "sizeref": 0.025,
          "symbol": "circle"
         },
         "mode": "markers",
         "name": "avneet",
         "orientation": "v",
         "showlegend": true,
         "type": "scatter",
         "x": [
          992.79
         ],
         "xaxis": "x",
         "y": [
          1309.8300000000002
         ],
         "yaxis": "y"
        },
        {
         "hovertemplate": "<b>%{hovertext}</b><br><br>name=ayana<br>timeSpent_timeHomeScreen=%{x}<br>timeSpent_total=%{y}<br>personalRecords_TQA=%{marker.size}<extra></extra>",
         "hovertext": [
          "ayana"
         ],
         "legendgroup": "ayana",
         "marker": {
          "color": "#FECB52",
          "size": [
           34
          ],
          "sizemode": "area",
          "sizeref": 0.025,
          "symbol": "circle"
         },
         "mode": "markers",
         "name": "ayana",
         "orientation": "v",
         "showlegend": true,
         "type": "scatter",
         "x": [
          71.84
         ],
         "xaxis": "x",
         "y": [
          676.9
         ],
         "yaxis": "y"
        },
        {
         "hovertemplate": "<b>%{hovertext}</b><br><br>name=baby<br>timeSpent_timeHomeScreen=%{x}<br>timeSpent_total=%{y}<br>personalRecords_TQA=%{marker.size}<extra></extra>",
         "hovertext": [
          "baby"
         ],
         "legendgroup": "baby",
         "marker": {
          "color": "#636efa",
          "size": [
           39
          ],
          "sizemode": "area",
          "sizeref": 0.025,
          "symbol": "circle"
         },
         "mode": "markers",
         "name": "baby",
         "orientation": "v",
         "showlegend": true,
         "type": "scatter",
         "x": [
          115.04
         ],
         "xaxis": "x",
         "y": [
          664.59
         ],
         "yaxis": "y"
        },
        {
         "hovertemplate": "<b>%{hovertext}</b><br><br>name=bear<br>timeSpent_timeHomeScreen=%{x}<br>timeSpent_total=%{y}<br>personalRecords_TQA=%{marker.size}<extra></extra>",
         "hovertext": [
          "bear"
         ],
         "legendgroup": "bear",
         "marker": {
          "color": "#EF553B",
          "size": [
           0
          ],
          "sizemode": "area",
          "sizeref": 0.025,
          "symbol": "circle"
         },
         "mode": "markers",
         "name": "bear",
         "orientation": "v",
         "showlegend": true,
         "type": "scatter",
         "x": [
          3.83
         ],
         "xaxis": "x",
         "y": [
          3.83
         ],
         "yaxis": "y"
        },
        {
         "hovertemplate": "<b>%{hovertext}</b><br><br>name=boomerang<br>timeSpent_timeHomeScreen=%{x}<br>timeSpent_total=%{y}<br>personalRecords_TQA=%{marker.size}<extra></extra>",
         "hovertext": [
          "boomerang",
          "boomerang"
         ],
         "legendgroup": "boomerang",
         "marker": {
          "color": "#00cc96",
          "size": [
           0,
           1
          ],
          "sizemode": "area",
          "sizeref": 0.025,
          "symbol": "circle"
         },
         "mode": "markers",
         "name": "boomerang",
         "orientation": "v",
         "showlegend": true,
         "type": "scatter",
         "x": [
          24.37,
          15.96
         ],
         "xaxis": "x",
         "y": [
          26.79,
          47.35
         ],
         "yaxis": "y"
        },
        {
         "hovertemplate": "<b>%{hovertext}</b><br><br>name=brody<br>timeSpent_timeHomeScreen=%{x}<br>timeSpent_total=%{y}<br>personalRecords_TQA=%{marker.size}<extra></extra>",
         "hovertext": [
          "brody",
          "brody",
          "brody",
          "brody",
          "brody",
          "brody",
          "brody",
          "brody"
         ],
         "legendgroup": "brody",
         "marker": {
          "color": "#ab63fa",
          "size": [
           0,
           0,
           0,
           0,
           0,
           0,
           0,
           0
          ],
          "sizemode": "area",
          "sizeref": 0.025,
          "symbol": "circle"
         },
         "mode": "markers",
         "name": "brody",
         "orientation": "v",
         "showlegend": true,
         "type": "scatter",
         "x": [
          -1.37,
          6.5,
          5.45,
          3.7,
          22.36,
          0.64,
          1.43,
          25.73
         ],
         "xaxis": "x",
         "y": [
          -1.37,
          6.5,
          5.45,
          3.7,
          26.61,
          0.64,
          1.43,
          33.01
         ],
         "yaxis": "y"
        },
        {
         "hovertemplate": "<b>%{hovertext}</b><br><br>name=charlotte<br>timeSpent_timeHomeScreen=%{x}<br>timeSpent_total=%{y}<br>personalRecords_TQA=%{marker.size}<extra></extra>",
         "hovertext": [
          "charlotte"
         ],
         "legendgroup": "charlotte",
         "marker": {
          "color": "#FFA15A",
          "size": [
           25
          ],
          "sizemode": "area",
          "sizeref": 0.025,
          "symbol": "circle"
         },
         "mode": "markers",
         "name": "charlotte",
         "orientation": "v",
         "showlegend": true,
         "type": "scatter",
         "x": [
          114.49
         ],
         "xaxis": "x",
         "y": [
          538.19
         ],
         "yaxis": "y"
        },
        {
         "hovertemplate": "<b>%{hovertext}</b><br><br>name=daddy<br>timeSpent_timeHomeScreen=%{x}<br>timeSpent_total=%{y}<br>personalRecords_TQA=%{marker.size}<extra></extra>",
         "hovertext": [
          "daddy",
          "daddy",
          "daddy",
          "daddy"
         ],
         "legendgroup": "daddy",
         "marker": {
          "color": "#19d3f3",
          "size": [
           0,
           7,
           30,
           1
          ],
          "sizemode": "area",
          "sizeref": 0.025,
          "symbol": "circle"
         },
         "mode": "markers",
         "name": "daddy",
         "orientation": "v",
         "showlegend": true,
         "type": "scatter",
         "x": [
          27.8,
          15.67,
          71.54,
          11.42
         ],
         "xaxis": "x",
         "y": [
          27.8,
          98.16,
          670.13,
          45.78
         ],
         "yaxis": "y"
        },
        {
         "hovertemplate": "<b>%{hovertext}</b><br><br>name=dev<br>timeSpent_timeHomeScreen=%{x}<br>timeSpent_total=%{y}<br>personalRecords_TQA=%{marker.size}<extra></extra>",
         "hovertext": [
          "dev",
          "dev"
         ],
         "legendgroup": "dev",
         "marker": {
          "color": "#FF6692",
          "size": [
           4,
           6
          ],
          "sizemode": "area",
          "sizeref": 0.025,
          "symbol": "circle"
         },
         "mode": "markers",
         "name": "dev",
         "orientation": "v",
         "showlegend": true,
         "type": "scatter",
         "x": [
          1.78,
          18.71
         ],
         "xaxis": "x",
         "y": [
          11.87,
          64.19
         ],
         "yaxis": "y"
        },
        {
         "hovertemplate": "<b>%{hovertext}</b><br><br>name=dilrajan<br>timeSpent_timeHomeScreen=%{x}<br>timeSpent_total=%{y}<br>personalRecords_TQA=%{marker.size}<extra></extra>",
         "hovertext": [
          "dilrajan"
         ],
         "legendgroup": "dilrajan",
         "marker": {
          "color": "#B6E880",
          "size": [
           37
          ],
          "sizemode": "area",
          "sizeref": 0.025,
          "symbol": "circle"
         },
         "mode": "markers",
         "name": "dilrajan",
         "orientation": "v",
         "showlegend": true,
         "type": "scatter",
         "x": [
          66.42
         ],
         "xaxis": "x",
         "y": [
          695.55
         ],
         "yaxis": "y"
        },
        {
         "hovertemplate": "<b>%{hovertext}</b><br><br>name=do  like  dogs<br>timeSpent_timeHomeScreen=%{x}<br>timeSpent_total=%{y}<br>personalRecords_TQA=%{marker.size}<extra></extra>",
         "hovertext": [
          "do  like  dogs"
         ],
         "legendgroup": "do  like  dogs",
         "marker": {
          "color": "#FF97FF",
          "size": [
           19
          ],
          "sizemode": "area",
          "sizeref": 0.025,
          "symbol": "circle"
         },
         "mode": "markers",
         "name": "do  like  dogs",
         "orientation": "v",
         "showlegend": true,
         "type": "scatter",
         "x": [
          122.27
         ],
         "xaxis": "x",
         "y": [
          498.79
         ],
         "yaxis": "y"
        },
        {
         "hovertemplate": "<b>%{hovertext}</b><br><br>name=edward<br>timeSpent_timeHomeScreen=%{x}<br>timeSpent_total=%{y}<br>personalRecords_TQA=%{marker.size}<extra></extra>",
         "hovertext": [
          "edward"
         ],
         "legendgroup": "edward",
         "marker": {
          "color": "#FECB52",
          "size": [
           21
          ],
          "sizemode": "area",
          "sizeref": 0.025,
          "symbol": "circle"
         },
         "mode": "markers",
         "name": "edward",
         "orientation": "v",
         "showlegend": true,
         "type": "scatter",
         "x": [
          72.49
         ],
         "xaxis": "x",
         "y": [
          530.25
         ],
         "yaxis": "y"
        },
        {
         "hovertemplate": "<b>%{hovertext}</b><br><br>name=ekjot<br>timeSpent_timeHomeScreen=%{x}<br>timeSpent_total=%{y}<br>personalRecords_TQA=%{marker.size}<extra></extra>",
         "hovertext": [
          "ekjot"
         ],
         "legendgroup": "ekjot",
         "marker": {
          "color": "#636efa",
          "size": [
           27
          ],
          "sizemode": "area",
          "sizeref": 0.025,
          "symbol": "circle"
         },
         "mode": "markers",
         "name": "ekjot",
         "orientation": "v",
         "showlegend": true,
         "type": "scatter",
         "x": [
          82.29
         ],
         "xaxis": "x",
         "y": [
          530.15
         ],
         "yaxis": "y"
        },
        {
         "hovertemplate": "<b>%{hovertext}</b><br><br>name=emily<br>timeSpent_timeHomeScreen=%{x}<br>timeSpent_total=%{y}<br>personalRecords_TQA=%{marker.size}<extra></extra>",
         "hovertext": [
          "emily",
          "emily"
         ],
         "legendgroup": "emily",
         "marker": {
          "color": "#EF553B",
          "size": [
           32,
           24
          ],
          "sizemode": "area",
          "sizeref": 0.025,
          "symbol": "circle"
         },
         "mode": "markers",
         "name": "emily",
         "orientation": "v",
         "showlegend": true,
         "type": "scatter",
         "x": [
          67.58,
          54.78
         ],
         "xaxis": "x",
         "y": [
          613.2,
          446.89
         ],
         "yaxis": "y"
        },
        {
         "hovertemplate": "<b>%{hovertext}</b><br><br>name=gurnell<br>timeSpent_timeHomeScreen=%{x}<br>timeSpent_total=%{y}<br>personalRecords_TQA=%{marker.size}<extra></extra>",
         "hovertext": [
          "gurnell"
         ],
         "legendgroup": "gurnell",
         "marker": {
          "color": "#00cc96",
          "size": [
           27
          ],
          "sizemode": "area",
          "sizeref": 0.025,
          "symbol": "circle"
         },
         "mode": "markers",
         "name": "gurnell",
         "orientation": "v",
         "showlegend": true,
         "type": "scatter",
         "x": [
          43.85
         ],
         "xaxis": "x",
         "y": [
          365.63
         ],
         "yaxis": "y"
        },
        {
         "hovertemplate": "<b>%{hovertext}</b><br><br>name=harman  feet<br>timeSpent_timeHomeScreen=%{x}<br>timeSpent_total=%{y}<br>personalRecords_TQA=%{marker.size}<extra></extra>",
         "hovertext": [
          "harman  feet"
         ],
         "legendgroup": "harman  feet",
         "marker": {
          "color": "#ab63fa",
          "size": [
           29
          ],
          "sizemode": "area",
          "sizeref": 0.025,
          "symbol": "circle"
         },
         "mode": "markers",
         "name": "harman  feet",
         "orientation": "v",
         "showlegend": true,
         "type": "scatter",
         "x": [
          464.12
         ],
         "xaxis": "x",
         "y": [
          864.2499999999999
         ],
         "yaxis": "y"
        },
        {
         "hovertemplate": "<b>%{hovertext}</b><br><br>name=jack<br>timeSpent_timeHomeScreen=%{x}<br>timeSpent_total=%{y}<br>personalRecords_TQA=%{marker.size}<extra></extra>",
         "hovertext": [
          "jack"
         ],
         "legendgroup": "jack",
         "marker": {
          "color": "#FFA15A",
          "size": [
           29
          ],
          "sizemode": "area",
          "sizeref": 0.025,
          "symbol": "circle"
         },
         "mode": "markers",
         "name": "jack",
         "orientation": "v",
         "showlegend": true,
         "type": "scatter",
         "x": [
          38.09
         ],
         "xaxis": "x",
         "y": [
          416.88
         ],
         "yaxis": "y"
        },
        {
         "hovertemplate": "<b>%{hovertext}</b><br><br>name=jashleen<br>timeSpent_timeHomeScreen=%{x}<br>timeSpent_total=%{y}<br>personalRecords_TQA=%{marker.size}<extra></extra>",
         "hovertext": [
          "jashleen",
          "jashleen"
         ],
         "legendgroup": "jashleen",
         "marker": {
          "color": "#19d3f3",
          "size": [
           19,
           0
          ],
          "sizemode": "area",
          "sizeref": 0.025,
          "symbol": "circle"
         },
         "mode": "markers",
         "name": "jashleen",
         "orientation": "v",
         "showlegend": true,
         "type": "scatter",
         "x": [
          69.97,
          26.55
         ],
         "xaxis": "x",
         "y": [
          340.08,
          36.66
         ],
         "yaxis": "y"
        },
        {
         "hovertemplate": "<b>%{hovertext}</b><br><br>name=jazz<br>timeSpent_timeHomeScreen=%{x}<br>timeSpent_total=%{y}<br>personalRecords_TQA=%{marker.size}<extra></extra>",
         "hovertext": [
          "jazz"
         ],
         "legendgroup": "jazz",
         "marker": {
          "color": "#FF6692",
          "size": [
           5
          ],
          "sizemode": "area",
          "sizeref": 0.025,
          "symbol": "circle"
         },
         "mode": "markers",
         "name": "jazz",
         "orientation": "v",
         "showlegend": true,
         "type": "scatter",
         "x": [
          119.54
         ],
         "xaxis": "x",
         "y": [
          504.28999999999996
         ],
         "yaxis": "y"
        },
        {
         "hovertemplate": "<b>%{hovertext}</b><br><br>name=jessie  mei  li<br>timeSpent_timeHomeScreen=%{x}<br>timeSpent_total=%{y}<br>personalRecords_TQA=%{marker.size}<extra></extra>",
         "hovertext": [
          "jessie  mei  li"
         ],
         "legendgroup": "jessie  mei  li",
         "marker": {
          "color": "#B6E880",
          "size": [
           40
          ],
          "sizemode": "area",
          "sizeref": 0.025,
          "symbol": "circle"
         },
         "mode": "markers",
         "name": "jessie  mei  li",
         "orientation": "v",
         "showlegend": true,
         "type": "scatter",
         "x": [
          46.73
         ],
         "xaxis": "x",
         "y": [
          620.2800000000001
         ],
         "yaxis": "y"
        },
        {
         "hovertemplate": "<b>%{hovertext}</b><br><br>name=joe<br>timeSpent_timeHomeScreen=%{x}<br>timeSpent_total=%{y}<br>personalRecords_TQA=%{marker.size}<extra></extra>",
         "hovertext": [
          "joe"
         ],
         "legendgroup": "joe",
         "marker": {
          "color": "#FF97FF",
          "size": [
           0
          ],
          "sizemode": "area",
          "sizeref": 0.025,
          "symbol": "circle"
         },
         "mode": "markers",
         "name": "joe",
         "orientation": "v",
         "showlegend": true,
         "type": "scatter",
         "x": [
          4
         ],
         "xaxis": "x",
         "y": [
          4
         ],
         "yaxis": "y"
        },
        {
         "hovertemplate": "<b>%{hovertext}</b><br><br>name=john<br>timeSpent_timeHomeScreen=%{x}<br>timeSpent_total=%{y}<br>personalRecords_TQA=%{marker.size}<extra></extra>",
         "hovertext": [
          "john",
          "john",
          "john"
         ],
         "legendgroup": "john",
         "marker": {
          "color": "#FECB52",
          "size": [
           13,
           14,
           4
          ],
          "sizemode": "area",
          "sizeref": 0.025,
          "symbol": "circle"
         },
         "mode": "markers",
         "name": "john",
         "orientation": "v",
         "showlegend": true,
         "type": "scatter",
         "x": [
          37.43,
          55.48,
          40.18
         ],
         "xaxis": "x",
         "y": [
          276.96,
          320.36,
          94.35
         ],
         "yaxis": "y"
        },
        {
         "hovertemplate": "<b>%{hovertext}</b><br><br>name=jorawar<br>timeSpent_timeHomeScreen=%{x}<br>timeSpent_total=%{y}<br>personalRecords_TQA=%{marker.size}<extra></extra>",
         "hovertext": [
          "jorawar"
         ],
         "legendgroup": "jorawar",
         "marker": {
          "color": "#636efa",
          "size": [
           16
          ],
          "sizemode": "area",
          "sizeref": 0.025,
          "symbol": "circle"
         },
         "mode": "markers",
         "name": "jorawar",
         "orientation": "v",
         "showlegend": true,
         "type": "scatter",
         "x": [
          62.76
         ],
         "xaxis": "x",
         "y": [
          379.96000000000004
         ],
         "yaxis": "y"
        },
        {
         "hovertemplate": "<b>%{hovertext}</b><br><br>name=josh<br>timeSpent_timeHomeScreen=%{x}<br>timeSpent_total=%{y}<br>personalRecords_TQA=%{marker.size}<extra></extra>",
         "hovertext": [
          "josh"
         ],
         "legendgroup": "josh",
         "marker": {
          "color": "#EF553B",
          "size": [
           1
          ],
          "sizemode": "area",
          "sizeref": 0.025,
          "symbol": "circle"
         },
         "mode": "markers",
         "name": "josh",
         "orientation": "v",
         "showlegend": true,
         "type": "scatter",
         "x": [
          43.79
         ],
         "xaxis": "x",
         "y": [
          54.15
         ],
         "yaxis": "y"
        },
        {
         "hovertemplate": "<b>%{hovertext}</b><br><br>name=josé<br>timeSpent_timeHomeScreen=%{x}<br>timeSpent_total=%{y}<br>personalRecords_TQA=%{marker.size}<extra></extra>",
         "hovertext": [
          "josé",
          "josé"
         ],
         "legendgroup": "josé",
         "marker": {
          "color": "#00cc96",
          "size": [
           1,
           11
          ],
          "sizemode": "area",
          "sizeref": 0.025,
          "symbol": "circle"
         },
         "mode": "markers",
         "name": "josé",
         "orientation": "v",
         "showlegend": true,
         "type": "scatter",
         "x": [
          16.68,
          179.61
         ],
         "xaxis": "x",
         "y": [
          18.78,
          320.61
         ],
         "yaxis": "y"
        },
        {
         "hovertemplate": "<b>%{hovertext}</b><br><br>name=jude<br>timeSpent_timeHomeScreen=%{x}<br>timeSpent_total=%{y}<br>personalRecords_TQA=%{marker.size}<extra></extra>",
         "hovertext": [
          "jude"
         ],
         "legendgroup": "jude",
         "marker": {
          "color": "#ab63fa",
          "size": [
           15
          ],
          "sizemode": "area",
          "sizeref": 0.025,
          "symbol": "circle"
         },
         "mode": "markers",
         "name": "jude",
         "orientation": "v",
         "showlegend": true,
         "type": "scatter",
         "x": [
          115.75
         ],
         "xaxis": "x",
         "y": [
          975.3199999999999
         ],
         "yaxis": "y"
        },
        {
         "hovertemplate": "<b>%{hovertext}</b><br><br>name=kenny<br>timeSpent_timeHomeScreen=%{x}<br>timeSpent_total=%{y}<br>personalRecords_TQA=%{marker.size}<extra></extra>",
         "hovertext": [
          "kenny",
          "kenny"
         ],
         "legendgroup": "kenny",
         "marker": {
          "color": "#FFA15A",
          "size": [
           5,
           26
          ],
          "sizemode": "area",
          "sizeref": 0.025,
          "symbol": "circle"
         },
         "mode": "markers",
         "name": "kenny",
         "orientation": "v",
         "showlegend": true,
         "type": "scatter",
         "x": [
          43.89,
          200.41
         ],
         "xaxis": "x",
         "y": [
          272.59000000000003,
          653.7099999999999
         ],
         "yaxis": "y"
        },
        {
         "hovertemplate": "<b>%{hovertext}</b><br><br>name=krizia<br>timeSpent_timeHomeScreen=%{x}<br>timeSpent_total=%{y}<br>personalRecords_TQA=%{marker.size}<extra></extra>",
         "hovertext": [
          "krizia",
          "krizia",
          "krizia",
          "krizia",
          "krizia",
          "krizia",
          "krizia",
          "krizia",
          "krizia",
          "krizia",
          "krizia",
          "krizia",
          "krizia",
          "krizia",
          "krizia",
          "krizia",
          "krizia",
          "krizia",
          "krizia",
          "krizia"
         ],
         "legendgroup": "krizia",
         "marker": {
          "color": "#19d3f3",
          "size": [
           3,
           7,
           5,
           8,
           16,
           0,
           0,
           0,
           21,
           90,
           20,
           1,
           30,
           0,
           0,
           0,
           0,
           52,
           0,
           6
          ],
          "sizemode": "area",
          "sizeref": 0.025,
          "symbol": "circle"
         },
         "mode": "markers",
         "name": "krizia",
         "orientation": "v",
         "showlegend": true,
         "type": "scatter",
         "x": [
          36.77,
          65.52,
          148.7,
          163.96,
          71.56,
          3.85,
          39.41,
          19.9,
          112.2,
          192.23,
          51.46,
          101.46,
          152.13,
          20.3,
          44.16,
          60.69,
          122.02,
          266.66,
          313.19,
          20.38
         ],
         "xaxis": "x",
         "y": [
          36.77,
          120.71000000000001,
          305.89,
          339.12000000000006,
          415.59,
          3.85,
          42.459999999999994,
          42.57,
          451.12999999999994,
          2324.42,
          250.71,
          209.94999999999996,
          653.77,
          367.82000000000005,
          534.6,
          60.69,
          122.02,
          2900.38,
          437.03999999999996,
          145.72
         ],
         "yaxis": "y"
        },
        {
         "hovertemplate": "<b>%{hovertext}</b><br><br>name=maayan<br>timeSpent_timeHomeScreen=%{x}<br>timeSpent_total=%{y}<br>personalRecords_TQA=%{marker.size}<extra></extra>",
         "hovertext": [
          "maayan"
         ],
         "legendgroup": "maayan",
         "marker": {
          "color": "#FF6692",
          "size": [
           0
          ],
          "sizemode": "area",
          "sizeref": 0.025,
          "symbol": "circle"
         },
         "mode": "markers",
         "name": "maayan",
         "orientation": "v",
         "showlegend": true,
         "type": "scatter",
         "x": [
          300.89
         ],
         "xaxis": "x",
         "y": [
          327.14
         ],
         "yaxis": "y"
        },
        {
         "hovertemplate": "<b>%{hovertext}</b><br><br>name=manveer<br>timeSpent_timeHomeScreen=%{x}<br>timeSpent_total=%{y}<br>personalRecords_TQA=%{marker.size}<extra></extra>",
         "hovertext": [
          "manveer"
         ],
         "legendgroup": "manveer",
         "marker": {
          "color": "#B6E880",
          "size": [
           69
          ],
          "sizemode": "area",
          "sizeref": 0.025,
          "symbol": "circle"
         },
         "mode": "markers",
         "name": "manveer",
         "orientation": "v",
         "showlegend": true,
         "type": "scatter",
         "x": [
          442.32
         ],
         "xaxis": "x",
         "y": [
          1383.74
         ],
         "yaxis": "y"
        },
        {
         "hovertemplate": "<b>%{hovertext}</b><br><br>name=margot<br>timeSpent_timeHomeScreen=%{x}<br>timeSpent_total=%{y}<br>personalRecords_TQA=%{marker.size}<extra></extra>",
         "hovertext": [
          "margot"
         ],
         "legendgroup": "margot",
         "marker": {
          "color": "#FF97FF",
          "size": [
           25
          ],
          "sizemode": "area",
          "sizeref": 0.025,
          "symbol": "circle"
         },
         "mode": "markers",
         "name": "margot",
         "orientation": "v",
         "showlegend": true,
         "type": "scatter",
         "x": [
          114.18
         ],
         "xaxis": "x",
         "y": [
          443.81
         ],
         "yaxis": "y"
        },
        {
         "hovertemplate": "<b>%{hovertext}</b><br><br>name=marwa<br>timeSpent_timeHomeScreen=%{x}<br>timeSpent_total=%{y}<br>personalRecords_TQA=%{marker.size}<extra></extra>",
         "hovertext": [
          "marwa",
          "marwa"
         ],
         "legendgroup": "marwa",
         "marker": {
          "color": "#FECB52",
          "size": [
           5,
           19
          ],
          "sizemode": "area",
          "sizeref": 0.025,
          "symbol": "circle"
         },
         "mode": "markers",
         "name": "marwa",
         "orientation": "v",
         "showlegend": true,
         "type": "scatter",
         "x": [
          20.91,
          31.17
         ],
         "xaxis": "x",
         "y": [
          82.17,
          329.47999999999996
         ],
         "yaxis": "y"
        },
        {
         "hovertemplate": "<b>%{hovertext}</b><br><br>name=max<br>timeSpent_timeHomeScreen=%{x}<br>timeSpent_total=%{y}<br>personalRecords_TQA=%{marker.size}<extra></extra>",
         "hovertext": [
          "max"
         ],
         "legendgroup": "max",
         "marker": {
          "color": "#636efa",
          "size": [
           26
          ],
          "sizemode": "area",
          "sizeref": 0.025,
          "symbol": "circle"
         },
         "mode": "markers",
         "name": "max",
         "orientation": "v",
         "showlegend": true,
         "type": "scatter",
         "x": [
          98.24
         ],
         "xaxis": "x",
         "y": [
          887.85
         ],
         "yaxis": "y"
        },
        {
         "hovertemplate": "<b>%{hovertext}</b><br><br>name=mehtab<br>timeSpent_timeHomeScreen=%{x}<br>timeSpent_total=%{y}<br>personalRecords_TQA=%{marker.size}<extra></extra>",
         "hovertext": [
          "mehtab",
          "mehtab"
         ],
         "legendgroup": "mehtab",
         "marker": {
          "color": "#EF553B",
          "size": [
           31,
           0
          ],
          "sizemode": "area",
          "sizeref": 0.025,
          "symbol": "circle"
         },
         "mode": "markers",
         "name": "mehtab",
         "orientation": "v",
         "showlegend": true,
         "type": "scatter",
         "x": [
          48.11,
          0.03
         ],
         "xaxis": "x",
         "y": [
          617.07,
          0.03
         ],
         "yaxis": "y"
        },
        {
         "hovertemplate": "<b>%{hovertext}</b><br><br>name=<br>timeSpent_timeHomeScreen=%{x}<br>timeSpent_total=%{y}<br>personalRecords_TQA=%{marker.size}<extra></extra>",
         "hovertext": [
          "",
          "",
          "",
          "",
          "",
          "",
          "",
          "",
          "",
          "",
          "",
          "",
          "",
          "",
          "",
          "",
          "",
          "",
          "",
          "",
          ""
         ],
         "legendgroup": "",
         "marker": {
          "color": "#00cc96",
          "size": [
           0,
           0,
           0,
           0,
           0,
           0,
           0,
           0,
           0,
           0,
           0,
           0,
           0,
           0,
           0,
           0,
           0,
           0,
           0,
           0,
           0
          ],
          "sizemode": "area",
          "sizeref": 0.025,
          "symbol": "circle"
         },
         "mode": "markers",
         "name": "",
         "orientation": "v",
         "showlegend": false,
         "type": "scatter",
         "x": [
          0.03,
          5.03,
          17.46,
          24.87,
          52.96,
          0.33,
          0.33,
          2.94,
          2.2,
          0.33,
          0.33,
          0.33,
          0.33,
          0.33,
          0.33,
          8.81,
          3.46,
          3.43,
          4.18,
          0.33,
          0.33
         ],
         "xaxis": "x",
         "y": [
          0.03,
          5.03,
          21.200000000000003,
          48.150000000000006,
          55.120000000000005,
          0.33,
          0.33,
          2.94,
          2.2,
          0.33,
          0.33,
          0.33,
          0.33,
          0.33,
          0.33,
          8.81,
          3.46,
          3.43,
          4.18,
          0.33,
          0.33
         ],
         "yaxis": "y"
        },
        {
         "hovertemplate": "<b>%{hovertext}</b><br><br>name=nyla<br>timeSpent_timeHomeScreen=%{x}<br>timeSpent_total=%{y}<br>personalRecords_TQA=%{marker.size}<extra></extra>",
         "hovertext": [
          "nyla"
         ],
         "legendgroup": "nyla",
         "marker": {
          "color": "#ab63fa",
          "size": [
           15
          ],
          "sizemode": "area",
          "sizeref": 0.025,
          "symbol": "circle"
         },
         "mode": "markers",
         "name": "nyla",
         "orientation": "v",
         "showlegend": true,
         "type": "scatter",
         "x": [
          53.74
         ],
         "xaxis": "x",
         "y": [
          954.16
         ],
         "yaxis": "y"
        },
        {
         "hovertemplate": "<b>%{hovertext}</b><br><br>name=pauldy<br>timeSpent_timeHomeScreen=%{x}<br>timeSpent_total=%{y}<br>personalRecords_TQA=%{marker.size}<extra></extra>",
         "hovertext": [
          "pauldy",
          "pauldy"
         ],
         "legendgroup": "pauldy",
         "marker": {
          "color": "#FFA15A",
          "size": [
           25,
           2
          ],
          "sizemode": "area",
          "sizeref": 0.025,
          "symbol": "circle"
         },
         "mode": "markers",
         "name": "pauldy",
         "orientation": "v",
         "showlegend": true,
         "type": "scatter",
         "x": [
          24.97,
          77.74
         ],
         "xaxis": "x",
         "y": [
          417.61,
          202.37
         ],
         "yaxis": "y"
        },
        {
         "hovertemplate": "<b>%{hovertext}</b><br><br>name=peri  peri<br>timeSpent_timeHomeScreen=%{x}<br>timeSpent_total=%{y}<br>personalRecords_TQA=%{marker.size}<extra></extra>",
         "hovertext": [
          "peri  peri",
          "peri  peri",
          "peri  peri"
         ],
         "legendgroup": "peri  peri",
         "marker": {
          "color": "#19d3f3",
          "size": [
           7,
           0,
           30
          ],
          "sizemode": "area",
          "sizeref": 0.025,
          "symbol": "circle"
         },
         "mode": "markers",
         "name": "peri  peri",
         "orientation": "v",
         "showlegend": true,
         "type": "scatter",
         "x": [
          109.74,
          12.19,
          95.62
         ],
         "xaxis": "x",
         "y": [
          176.96,
          12.19,
          354.93000000000006
         ],
         "yaxis": "y"
        },
        {
         "hovertemplate": "<b>%{hovertext}</b><br><br>name=pewdiepie<br>timeSpent_timeHomeScreen=%{x}<br>timeSpent_total=%{y}<br>personalRecords_TQA=%{marker.size}<extra></extra>",
         "hovertext": [
          "pewdiepie"
         ],
         "legendgroup": "pewdiepie",
         "marker": {
          "color": "#FF6692",
          "size": [
           0
          ],
          "sizemode": "area",
          "sizeref": 0.025,
          "symbol": "circle"
         },
         "mode": "markers",
         "name": "pewdiepie",
         "orientation": "v",
         "showlegend": true,
         "type": "scatter",
         "x": [
          1.62
         ],
         "xaxis": "x",
         "y": [
          1.62
         ],
         "yaxis": "y"
        },
        {
         "hovertemplate": "<b>%{hovertext}</b><br><br>name=pradeep<br>timeSpent_timeHomeScreen=%{x}<br>timeSpent_total=%{y}<br>personalRecords_TQA=%{marker.size}<extra></extra>",
         "hovertext": [
          "pradeep",
          "pradeep",
          "pradeep",
          "pradeep",
          "pradeep"
         ],
         "legendgroup": "pradeep",
         "marker": {
          "color": "#B6E880",
          "size": [
           0,
           4,
           0,
           0,
           0
          ],
          "sizemode": "area",
          "sizeref": 0.025,
          "symbol": "circle"
         },
         "mode": "markers",
         "name": "pradeep",
         "orientation": "v",
         "showlegend": true,
         "type": "scatter",
         "x": [
          28.14,
          86.99,
          0.03,
          5.41,
          0.03
         ],
         "xaxis": "x",
         "y": [
          87.68,
          149.47,
          0.03,
          5.41,
          0.03
         ],
         "yaxis": "y"
        },
        {
         "hovertemplate": "<b>%{hovertext}</b><br><br>name=pradip<br>timeSpent_timeHomeScreen=%{x}<br>timeSpent_total=%{y}<br>personalRecords_TQA=%{marker.size}<extra></extra>",
         "hovertext": [
          "pradip",
          "pradip",
          "pradip",
          "pradip",
          "pradip",
          "pradip",
          "pradip",
          "pradip",
          "pradip",
          "pradip",
          "pradip",
          "pradip",
          "pradip",
          "pradip",
          "pradip",
          "pradip",
          "pradip",
          "pradip",
          "pradip",
          "pradip",
          "pradip",
          "pradip",
          "pradip",
          "pradip",
          "pradip",
          "pradip",
          "pradip",
          "pradip",
          "pradip",
          "pradip",
          "pradip",
          "pradip"
         ],
         "legendgroup": "pradip",
         "marker": {
          "color": "#FF97FF",
          "size": [
           9,
           0,
           0,
           24,
           0,
           3,
           28,
           1,
           20,
           3,
           0,
           0,
           0,
           3,
           0,
           8,
           0,
           1,
           0,
           2,
           0,
           2,
           1,
           0,
           0,
           0,
           0,
           1,
           0,
           1,
           0,
           0
          ],
          "sizemode": "area",
          "sizeref": 0.025,
          "symbol": "circle"
         },
         "mode": "markers",
         "name": "pradip",
         "orientation": "v",
         "showlegend": true,
         "type": "scatter",
         "x": [
          35.62,
          6.52,
          58.2,
          91.3,
          21.82,
          22.94,
          27.79,
          51.91,
          62.46,
          130.54,
          1.74,
          0.33,
          1.53,
          92.22,
          84.9,
          52.9,
          14.76,
          58.82,
          18.63,
          12.77,
          14.34,
          37.1,
          9.8,
          30.8,
          166.11,
          206.23,
          13.03,
          12,
          6.96,
          17.88,
          6.98,
          101.47
         ],
         "xaxis": "x",
         "y": [
          171.42,
          6.52,
          58.2,
          350.39,
          23.37,
          39.52,
          73.81,
          62.58,
          279.54,
          204.64,
          1.74,
          0.33,
          1.53,
          198.29000000000005,
          88.33000000000001,
          140.43,
          14.76,
          66.99,
          18.63,
          33.67,
          15.64,
          40.53,
          18.41,
          39.18000000000001,
          185.07,
          214.94,
          15.67,
          12,
          6.96,
          30.63,
          6.98,
          121.08
         ],
         "yaxis": "y"
        },
        {
         "hovertemplate": "<b>%{hovertext}</b><br><br>name=Pradip<br>timeSpent_timeHomeScreen=%{x}<br>timeSpent_total=%{y}<br>personalRecords_TQA=%{marker.size}<extra></extra>",
         "hovertext": [
          "Pradip",
          "Pradip",
          "Pradip",
          "Pradip",
          "Pradip",
          "Pradip",
          "Pradip"
         ],
         "legendgroup": "Pradip",
         "marker": {
          "color": "#FECB52",
          "size": [
           0,
           0,
           0,
           0,
           0,
           0,
           0
          ],
          "sizemode": "area",
          "sizeref": 0.025,
          "symbol": "circle"
         },
         "mode": "markers",
         "name": "Pradip",
         "orientation": "v",
         "showlegend": true,
         "type": "scatter",
         "x": [
          31.41,
          15.19,
          47.72,
          3.81,
          23.69,
          9.92,
          16.61
         ],
         "xaxis": "x",
         "y": [
          31.41,
          15.19,
          47.72,
          3.81,
          23.69,
          9.92,
          16.61
         ],
         "yaxis": "y"
        },
        {
         "hovertemplate": "<b>%{hovertext}</b><br><br>name=Amit<br>timeSpent_timeHomeScreen=%{x}<br>timeSpent_total=%{y}<br>personalRecords_TQA=%{marker.size}<extra></extra>",
         "hovertext": [
          "Amit",
          "Amit",
          "Amit",
          "Amit",
          "Amit",
          "Amit",
          "Amit"
         ],
         "legendgroup": "Amit",
         "marker": {
          "color": "#636efa",
          "size": [
           0,
           0,
           3,
           2,
           6,
           0,
           0
          ],
          "sizemode": "area",
          "sizeref": 0.025,
          "symbol": "circle"
         },
         "mode": "markers",
         "name": "Amit",
         "orientation": "v",
         "showlegend": true,
         "type": "scatter",
         "x": [
          88.5,
          20.32,
          15.62,
          14.99,
          21.85,
          16.74,
          30.49
         ],
         "xaxis": "x",
         "y": [
          99.93,
          22.79,
          15.62,
          14.99,
          21.85,
          16.74,
          32.32
         ],
         "yaxis": "y"
        },
        {
         "hovertemplate": "<b>%{hovertext}</b><br><br>name=prads<br>timeSpent_timeHomeScreen=%{x}<br>timeSpent_total=%{y}<br>personalRecords_TQA=%{marker.size}<extra></extra>",
         "hovertext": [
          "prads"
         ],
         "legendgroup": "prads",
         "marker": {
          "color": "#EF553B",
          "size": [
           0
          ],
          "sizemode": "area",
          "sizeref": 0.025,
          "symbol": "circle"
         },
         "mode": "markers",
         "name": "prads",
         "orientation": "v",
         "showlegend": true,
         "type": "scatter",
         "x": [
          2.5
         ],
         "xaxis": "x",
         "y": [
          2.5
         ],
         "yaxis": "y"
        },
        {
         "hovertemplate": "<b>%{hovertext}</b><br><br>name=puppy<br>timeSpent_timeHomeScreen=%{x}<br>timeSpent_total=%{y}<br>personalRecords_TQA=%{marker.size}<extra></extra>",
         "hovertext": [
          "puppy"
         ],
         "legendgroup": "puppy",
         "marker": {
          "color": "#00cc96",
          "size": [
           23
          ],
          "sizemode": "area",
          "sizeref": 0.025,
          "symbol": "circle"
         },
         "mode": "markers",
         "name": "puppy",
         "orientation": "v",
         "showlegend": true,
         "type": "scatter",
         "x": [
          131.58
         ],
         "xaxis": "x",
         "y": [
          604.65
         ],
         "yaxis": "y"
        },
        {
         "hovertemplate": "<b>%{hovertext}</b><br><br>name=rock<br>timeSpent_timeHomeScreen=%{x}<br>timeSpent_total=%{y}<br>personalRecords_TQA=%{marker.size}<extra></extra>",
         "hovertext": [
          "rock"
         ],
         "legendgroup": "rock",
         "marker": {
          "color": "#ab63fa",
          "size": [
           30
          ],
          "sizemode": "area",
          "sizeref": 0.025,
          "symbol": "circle"
         },
         "mode": "markers",
         "name": "rock",
         "orientation": "v",
         "showlegend": true,
         "type": "scatter",
         "x": [
          299.28
         ],
         "xaxis": "x",
         "y": [
          924.9000000000001
         ],
         "yaxis": "y"
        },
        {
         "hovertemplate": "<b>%{hovertext}</b><br><br>name=sahibjot<br>timeSpent_timeHomeScreen=%{x}<br>timeSpent_total=%{y}<br>personalRecords_TQA=%{marker.size}<extra></extra>",
         "hovertext": [
          "sahibjot",
          "sahibjot"
         ],
         "legendgroup": "sahibjot",
         "marker": {
          "color": "#FFA15A",
          "size": [
           0,
           58
          ],
          "sizemode": "area",
          "sizeref": 0.025,
          "symbol": "circle"
         },
         "mode": "markers",
         "name": "sahibjot",
         "orientation": "v",
         "showlegend": true,
         "type": "scatter",
         "x": [
          7.68,
          160.31
         ],
         "xaxis": "x",
         "y": [
          7.68,
          1575.92
         ],
         "yaxis": "y"
        },
        {
         "hovertemplate": "<b>%{hovertext}</b><br><br>name=samoa<br>timeSpent_timeHomeScreen=%{x}<br>timeSpent_total=%{y}<br>personalRecords_TQA=%{marker.size}<extra></extra>",
         "hovertext": [
          "samoa"
         ],
         "legendgroup": "samoa",
         "marker": {
          "color": "#19d3f3",
          "size": [
           1
          ],
          "sizemode": "area",
          "sizeref": 0.025,
          "symbol": "circle"
         },
         "mode": "markers",
         "name": "samoa",
         "orientation": "v",
         "showlegend": true,
         "type": "scatter",
         "x": [
          37.71
         ],
         "xaxis": "x",
         "y": [
          142.26
         ],
         "yaxis": "y"
        },
        {
         "hovertemplate": "<b>%{hovertext}</b><br><br>name=sarveen<br>timeSpent_timeHomeScreen=%{x}<br>timeSpent_total=%{y}<br>personalRecords_TQA=%{marker.size}<extra></extra>",
         "hovertext": [
          "sarveen",
          "sarveen",
          "sarveen",
          "sarveen"
         ],
         "legendgroup": "sarveen",
         "marker": {
          "color": "#FF6692",
          "size": [
           0,
           2,
           0,
           0
          ],
          "sizemode": "area",
          "sizeref": 0.025,
          "symbol": "circle"
         },
         "mode": "markers",
         "name": "sarveen",
         "orientation": "v",
         "showlegend": true,
         "type": "scatter",
         "x": [
          8.37,
          89.19,
          51.34,
          13.28
         ],
         "xaxis": "x",
         "y": [
          8.37,
          170.29000000000002,
          51.34,
          13.28
         ],
         "yaxis": "y"
        },
        {
         "hovertemplate": "<b>%{hovertext}</b><br><br>name=simar<br>timeSpent_timeHomeScreen=%{x}<br>timeSpent_total=%{y}<br>personalRecords_TQA=%{marker.size}<extra></extra>",
         "hovertext": [
          "simar"
         ],
         "legendgroup": "simar",
         "marker": {
          "color": "#B6E880",
          "size": [
           31
          ],
          "sizemode": "area",
          "sizeref": 0.025,
          "symbol": "circle"
         },
         "mode": "markers",
         "name": "simar",
         "orientation": "v",
         "showlegend": true,
         "type": "scatter",
         "x": [
          40.38
         ],
         "xaxis": "x",
         "y": [
          672.0900000000001
         ],
         "yaxis": "y"
        },
        {
         "hovertemplate": "<b>%{hovertext}</b><br><br>name=sirupate<br>timeSpent_timeHomeScreen=%{x}<br>timeSpent_total=%{y}<br>personalRecords_TQA=%{marker.size}<extra></extra>",
         "hovertext": [
          "sirupate",
          "sirupate",
          "sirupate",
          "sirupate",
          "sirupate",
          "sirupate",
          "sirupate",
          "sirupate",
          "sirupate",
          "sirupate",
          "sirupate",
          "sirupate",
          "sirupate",
          "sirupate",
          "sirupate",
          "sirupate",
          "sirupate",
          "sirupate",
          "sirupate",
          "sirupate",
          "sirupate",
          "sirupate",
          "sirupate",
          "sirupate",
          "sirupate",
          "sirupate",
          "sirupate",
          "sirupate",
          "sirupate",
          "sirupate",
          "sirupate",
          "sirupate",
          "sirupate",
          "sirupate",
          "sirupate",
          "sirupate",
          "sirupate",
          "sirupate",
          "sirupate",
          "sirupate"
         ],
         "legendgroup": "sirupate",
         "marker": {
          "color": "#FF97FF",
          "size": [
           0,
           0,
           0,
           0,
           0,
           0,
           1,
           0,
           0,
           0,
           0,
           0,
           1,
           0,
           2,
           0,
           0,
           0,
           0,
           0,
           0,
           0,
           0,
           0,
           0,
           0,
           0,
           0,
           0,
           3,
           0,
           0,
           0,
           2,
           0,
           6,
           0,
           7,
           0,
           0
          ],
          "sizemode": "area",
          "sizeref": 0.025,
          "symbol": "circle"
         },
         "mode": "markers",
         "name": "sirupate",
         "orientation": "v",
         "showlegend": true,
         "type": "scatter",
         "x": [
          0.33,
          16.4,
          16.02,
          58.89,
          50.87,
          98.37,
          19.88,
          17.52,
          24.69,
          10.06,
          7.37,
          8.61,
          55.82,
          23.82,
          39.89,
          29.79,
          12.38,
          19.3,
          14.53,
          35.57,
          24.01,
          16.78,
          16.42,
          13.69,
          15.2,
          15.42,
          85.54,
          10.46,
          47.96,
          25.1,
          10.52,
          9.87,
          7.91,
          4.87,
          13.04,
          7.92,
          24.63,
          26.07,
          13.41,
          36.4
         ],
         "xaxis": "x",
         "y": [
          0.33,
          16.4,
          22.45,
          58.89,
          50.87,
          103.25999999999999,
          32.22,
          21.259999999999998,
          46.7,
          15.4,
          7.37,
          14.5,
          72.08,
          27.34,
          80.07000000000001,
          31.45,
          12.38,
          19.3,
          14.53,
          35.57,
          24.01,
          16.78,
          16.42,
          13.69,
          15.2,
          15.42,
          85.54,
          10.46,
          47.96,
          25.1,
          13.559999999999999,
          9.87,
          7.91,
          4.87,
          13.04,
          9.01,
          37.739999999999995,
          54.239999999999995,
          13.41,
          42.57
         ],
         "yaxis": "y"
        },
        {
         "hovertemplate": "<b>%{hovertext}</b><br><br>name=snake<br>timeSpent_timeHomeScreen=%{x}<br>timeSpent_total=%{y}<br>personalRecords_TQA=%{marker.size}<extra></extra>",
         "hovertext": [
          "snake"
         ],
         "legendgroup": "snake",
         "marker": {
          "color": "#FECB52",
          "size": [
           0
          ],
          "sizemode": "area",
          "sizeref": 0.025,
          "symbol": "circle"
         },
         "mode": "markers",
         "name": "snake",
         "orientation": "v",
         "showlegend": true,
         "type": "scatter",
         "x": [
          2.05
         ],
         "xaxis": "x",
         "y": [
          2.05
         ],
         "yaxis": "y"
        },
        {
         "hovertemplate": "<b>%{hovertext}</b><br><br>name=snowflake<br>timeSpent_timeHomeScreen=%{x}<br>timeSpent_total=%{y}<br>personalRecords_TQA=%{marker.size}<extra></extra>",
         "hovertext": [
          "snowflake"
         ],
         "legendgroup": "snowflake",
         "marker": {
          "color": "#636efa",
          "size": [
           33
          ],
          "sizemode": "area",
          "sizeref": 0.025,
          "symbol": "circle"
         },
         "mode": "markers",
         "name": "snowflake",
         "orientation": "v",
         "showlegend": true,
         "type": "scatter",
         "x": [
          66.05
         ],
         "xaxis": "x",
         "y": [
          597.52
         ],
         "yaxis": "y"
        },
        {
         "hovertemplate": "<b>%{hovertext}</b><br><br>name=sukhraj<br>timeSpent_timeHomeScreen=%{x}<br>timeSpent_total=%{y}<br>personalRecords_TQA=%{marker.size}<extra></extra>",
         "hovertext": [
          "sukhraj"
         ],
         "legendgroup": "sukhraj",
         "marker": {
          "color": "#EF553B",
          "size": [
           34
          ],
          "sizemode": "area",
          "sizeref": 0.025,
          "symbol": "circle"
         },
         "mode": "markers",
         "name": "sukhraj",
         "orientation": "v",
         "showlegend": true,
         "type": "scatter",
         "x": [
          45.44
         ],
         "xaxis": "x",
         "y": [
          426.09000000000003
         ],
         "yaxis": "y"
        },
        {
         "hovertemplate": "<b>%{hovertext}</b><br><br>name=tamiha<br>timeSpent_timeHomeScreen=%{x}<br>timeSpent_total=%{y}<br>personalRecords_TQA=%{marker.size}<extra></extra>",
         "hovertext": [
          "tamiha"
         ],
         "legendgroup": "tamiha",
         "marker": {
          "color": "#00cc96",
          "size": [
           17
          ],
          "sizemode": "area",
          "sizeref": 0.025,
          "symbol": "circle"
         },
         "mode": "markers",
         "name": "tamiha",
         "orientation": "v",
         "showlegend": true,
         "type": "scatter",
         "x": [
          51.03
         ],
         "xaxis": "x",
         "y": [
          399.52
         ],
         "yaxis": "y"
        },
        {
         "hovertemplate": "<b>%{hovertext}</b><br><br>name=tegnoor<br>timeSpent_timeHomeScreen=%{x}<br>timeSpent_total=%{y}<br>personalRecords_TQA=%{marker.size}<extra></extra>",
         "hovertext": [
          "tegnoor",
          "tegnoor"
         ],
         "legendgroup": "tegnoor",
         "marker": {
          "color": "#ab63fa",
          "size": [
           0,
           16
          ],
          "sizemode": "area",
          "sizeref": 0.025,
          "symbol": "circle"
         },
         "mode": "markers",
         "name": "tegnoor",
         "orientation": "v",
         "showlegend": true,
         "type": "scatter",
         "x": [
          3.4,
          46.56
         ],
         "xaxis": "x",
         "y": [
          3.4,
          442.52
         ],
         "yaxis": "y"
        },
        {
         "hovertemplate": "<b>%{hovertext}</b><br><br>name=teri  pradeep<br>timeSpent_timeHomeScreen=%{x}<br>timeSpent_total=%{y}<br>personalRecords_TQA=%{marker.size}<extra></extra>",
         "hovertext": [
          "teri  pradeep",
          "teri  pradeep"
         ],
         "legendgroup": "teri  pradeep",
         "marker": {
          "color": "#FFA15A",
          "size": [
           0,
           5
          ],
          "sizemode": "area",
          "sizeref": 0.025,
          "symbol": "circle"
         },
         "mode": "markers",
         "name": "teri  pradeep",
         "orientation": "v",
         "showlegend": true,
         "type": "scatter",
         "x": [
          0.03,
          217.7
         ],
         "xaxis": "x",
         "y": [
          0.03,
          220.85
         ],
         "yaxis": "y"
        },
        {
         "hovertemplate": "<b>%{hovertext}</b><br><br>name=what  your<br>timeSpent_timeHomeScreen=%{x}<br>timeSpent_total=%{y}<br>personalRecords_TQA=%{marker.size}<extra></extra>",
         "hovertext": [
          "what  your"
         ],
         "legendgroup": "what  your",
         "marker": {
          "color": "#19d3f3",
          "size": [
           19
          ],
          "sizemode": "area",
          "sizeref": 0.025,
          "symbol": "circle"
         },
         "mode": "markers",
         "name": "what  your",
         "orientation": "v",
         "showlegend": true,
         "type": "scatter",
         "x": [
          80.43
         ],
         "xaxis": "x",
         "y": [
          433.65000000000003
         ],
         "yaxis": "y"
        },
        {
         "hovertemplate": "<b>%{hovertext}</b><br><br>name=yash<br>timeSpent_timeHomeScreen=%{x}<br>timeSpent_total=%{y}<br>personalRecords_TQA=%{marker.size}<extra></extra>",
         "hovertext": [
          "yash",
          "yash",
          "yash",
          "yash",
          "yash",
          "yash",
          "yash",
          "yash",
          "yash",
          "yash"
         ],
         "legendgroup": "yash",
         "marker": {
          "color": "#FF6692",
          "size": [
           0,
           4,
           9,
           2,
           0,
           5,
           0,
           1,
           0,
           2
          ],
          "sizemode": "area",
          "sizeref": 0.025,
          "symbol": "circle"
         },
         "mode": "markers",
         "name": "yash",
         "orientation": "v",
         "showlegend": true,
         "type": "scatter",
         "x": [
          10.01,
          149.97,
          65.1,
          33.52,
          171.49,
          18.02,
          47,
          30.8,
          17.46,
          24.15
         ],
         "xaxis": "x",
         "y": [
          11.84,
          272.5,
          323.45000000000005,
          77.25,
          293.2,
          155.2,
          285.3,
          39.85,
          17.46,
          63.94
         ],
         "yaxis": "y"
        }
       ],
       "layout": {
        "legend": {
         "itemsizing": "constant",
         "title": {
          "text": "name"
         },
         "tracegroupgap": 0
        },
        "margin": {
         "t": 60
        },
        "template": {
         "data": {
          "bar": [
           {
            "error_x": {
             "color": "#2a3f5f"
            },
            "error_y": {
             "color": "#2a3f5f"
            },
            "marker": {
             "line": {
              "color": "#E5ECF6",
              "width": 0.5
             },
             "pattern": {
              "fillmode": "overlay",
              "size": 10,
              "solidity": 0.2
             }
            },
            "type": "bar"
           }
          ],
          "barpolar": [
           {
            "marker": {
             "line": {
              "color": "#E5ECF6",
              "width": 0.5
             },
             "pattern": {
              "fillmode": "overlay",
              "size": 10,
              "solidity": 0.2
             }
            },
            "type": "barpolar"
           }
          ],
          "carpet": [
           {
            "aaxis": {
             "endlinecolor": "#2a3f5f",
             "gridcolor": "white",
             "linecolor": "white",
             "minorgridcolor": "white",
             "startlinecolor": "#2a3f5f"
            },
            "baxis": {
             "endlinecolor": "#2a3f5f",
             "gridcolor": "white",
             "linecolor": "white",
             "minorgridcolor": "white",
             "startlinecolor": "#2a3f5f"
            },
            "type": "carpet"
           }
          ],
          "choropleth": [
           {
            "colorbar": {
             "outlinewidth": 0,
             "ticks": ""
            },
            "type": "choropleth"
           }
          ],
          "contour": [
           {
            "colorbar": {
             "outlinewidth": 0,
             "ticks": ""
            },
            "colorscale": [
             [
              0,
              "#0d0887"
             ],
             [
              0.1111111111111111,
              "#46039f"
             ],
             [
              0.2222222222222222,
              "#7201a8"
             ],
             [
              0.3333333333333333,
              "#9c179e"
             ],
             [
              0.4444444444444444,
              "#bd3786"
             ],
             [
              0.5555555555555556,
              "#d8576b"
             ],
             [
              0.6666666666666666,
              "#ed7953"
             ],
             [
              0.7777777777777778,
              "#fb9f3a"
             ],
             [
              0.8888888888888888,
              "#fdca26"
             ],
             [
              1,
              "#f0f921"
             ]
            ],
            "type": "contour"
           }
          ],
          "contourcarpet": [
           {
            "colorbar": {
             "outlinewidth": 0,
             "ticks": ""
            },
            "type": "contourcarpet"
           }
          ],
          "heatmap": [
           {
            "colorbar": {
             "outlinewidth": 0,
             "ticks": ""
            },
            "colorscale": [
             [
              0,
              "#0d0887"
             ],
             [
              0.1111111111111111,
              "#46039f"
             ],
             [
              0.2222222222222222,
              "#7201a8"
             ],
             [
              0.3333333333333333,
              "#9c179e"
             ],
             [
              0.4444444444444444,
              "#bd3786"
             ],
             [
              0.5555555555555556,
              "#d8576b"
             ],
             [
              0.6666666666666666,
              "#ed7953"
             ],
             [
              0.7777777777777778,
              "#fb9f3a"
             ],
             [
              0.8888888888888888,
              "#fdca26"
             ],
             [
              1,
              "#f0f921"
             ]
            ],
            "type": "heatmap"
           }
          ],
          "heatmapgl": [
           {
            "colorbar": {
             "outlinewidth": 0,
             "ticks": ""
            },
            "colorscale": [
             [
              0,
              "#0d0887"
             ],
             [
              0.1111111111111111,
              "#46039f"
             ],
             [
              0.2222222222222222,
              "#7201a8"
             ],
             [
              0.3333333333333333,
              "#9c179e"
             ],
             [
              0.4444444444444444,
              "#bd3786"
             ],
             [
              0.5555555555555556,
              "#d8576b"
             ],
             [
              0.6666666666666666,
              "#ed7953"
             ],
             [
              0.7777777777777778,
              "#fb9f3a"
             ],
             [
              0.8888888888888888,
              "#fdca26"
             ],
             [
              1,
              "#f0f921"
             ]
            ],
            "type": "heatmapgl"
           }
          ],
          "histogram": [
           {
            "marker": {
             "pattern": {
              "fillmode": "overlay",
              "size": 10,
              "solidity": 0.2
             }
            },
            "type": "histogram"
           }
          ],
          "histogram2d": [
           {
            "colorbar": {
             "outlinewidth": 0,
             "ticks": ""
            },
            "colorscale": [
             [
              0,
              "#0d0887"
             ],
             [
              0.1111111111111111,
              "#46039f"
             ],
             [
              0.2222222222222222,
              "#7201a8"
             ],
             [
              0.3333333333333333,
              "#9c179e"
             ],
             [
              0.4444444444444444,
              "#bd3786"
             ],
             [
              0.5555555555555556,
              "#d8576b"
             ],
             [
              0.6666666666666666,
              "#ed7953"
             ],
             [
              0.7777777777777778,
              "#fb9f3a"
             ],
             [
              0.8888888888888888,
              "#fdca26"
             ],
             [
              1,
              "#f0f921"
             ]
            ],
            "type": "histogram2d"
           }
          ],
          "histogram2dcontour": [
           {
            "colorbar": {
             "outlinewidth": 0,
             "ticks": ""
            },
            "colorscale": [
             [
              0,
              "#0d0887"
             ],
             [
              0.1111111111111111,
              "#46039f"
             ],
             [
              0.2222222222222222,
              "#7201a8"
             ],
             [
              0.3333333333333333,
              "#9c179e"
             ],
             [
              0.4444444444444444,
              "#bd3786"
             ],
             [
              0.5555555555555556,
              "#d8576b"
             ],
             [
              0.6666666666666666,
              "#ed7953"
             ],
             [
              0.7777777777777778,
              "#fb9f3a"
             ],
             [
              0.8888888888888888,
              "#fdca26"
             ],
             [
              1,
              "#f0f921"
             ]
            ],
            "type": "histogram2dcontour"
           }
          ],
          "mesh3d": [
           {
            "colorbar": {
             "outlinewidth": 0,
             "ticks": ""
            },
            "type": "mesh3d"
           }
          ],
          "parcoords": [
           {
            "line": {
             "colorbar": {
              "outlinewidth": 0,
              "ticks": ""
             }
            },
            "type": "parcoords"
           }
          ],
          "pie": [
           {
            "automargin": true,
            "type": "pie"
           }
          ],
          "scatter": [
           {
            "fillpattern": {
             "fillmode": "overlay",
             "size": 10,
             "solidity": 0.2
            },
            "type": "scatter"
           }
          ],
          "scatter3d": [
           {
            "line": {
             "colorbar": {
              "outlinewidth": 0,
              "ticks": ""
             }
            },
            "marker": {
             "colorbar": {
              "outlinewidth": 0,
              "ticks": ""
             }
            },
            "type": "scatter3d"
           }
          ],
          "scattercarpet": [
           {
            "marker": {
             "colorbar": {
              "outlinewidth": 0,
              "ticks": ""
             }
            },
            "type": "scattercarpet"
           }
          ],
          "scattergeo": [
           {
            "marker": {
             "colorbar": {
              "outlinewidth": 0,
              "ticks": ""
             }
            },
            "type": "scattergeo"
           }
          ],
          "scattergl": [
           {
            "marker": {
             "colorbar": {
              "outlinewidth": 0,
              "ticks": ""
             }
            },
            "type": "scattergl"
           }
          ],
          "scattermapbox": [
           {
            "marker": {
             "colorbar": {
              "outlinewidth": 0,
              "ticks": ""
             }
            },
            "type": "scattermapbox"
           }
          ],
          "scatterpolar": [
           {
            "marker": {
             "colorbar": {
              "outlinewidth": 0,
              "ticks": ""
             }
            },
            "type": "scatterpolar"
           }
          ],
          "scatterpolargl": [
           {
            "marker": {
             "colorbar": {
              "outlinewidth": 0,
              "ticks": ""
             }
            },
            "type": "scatterpolargl"
           }
          ],
          "scatterternary": [
           {
            "marker": {
             "colorbar": {
              "outlinewidth": 0,
              "ticks": ""
             }
            },
            "type": "scatterternary"
           }
          ],
          "surface": [
           {
            "colorbar": {
             "outlinewidth": 0,
             "ticks": ""
            },
            "colorscale": [
             [
              0,
              "#0d0887"
             ],
             [
              0.1111111111111111,
              "#46039f"
             ],
             [
              0.2222222222222222,
              "#7201a8"
             ],
             [
              0.3333333333333333,
              "#9c179e"
             ],
             [
              0.4444444444444444,
              "#bd3786"
             ],
             [
              0.5555555555555556,
              "#d8576b"
             ],
             [
              0.6666666666666666,
              "#ed7953"
             ],
             [
              0.7777777777777778,
              "#fb9f3a"
             ],
             [
              0.8888888888888888,
              "#fdca26"
             ],
             [
              1,
              "#f0f921"
             ]
            ],
            "type": "surface"
           }
          ],
          "table": [
           {
            "cells": {
             "fill": {
              "color": "#EBF0F8"
             },
             "line": {
              "color": "white"
             }
            },
            "header": {
             "fill": {
              "color": "#C8D4E3"
             },
             "line": {
              "color": "white"
             }
            },
            "type": "table"
           }
          ]
         },
         "layout": {
          "annotationdefaults": {
           "arrowcolor": "#2a3f5f",
           "arrowhead": 0,
           "arrowwidth": 1
          },
          "autotypenumbers": "strict",
          "coloraxis": {
           "colorbar": {
            "outlinewidth": 0,
            "ticks": ""
           }
          },
          "colorscale": {
           "diverging": [
            [
             0,
             "#8e0152"
            ],
            [
             0.1,
             "#c51b7d"
            ],
            [
             0.2,
             "#de77ae"
            ],
            [
             0.3,
             "#f1b6da"
            ],
            [
             0.4,
             "#fde0ef"
            ],
            [
             0.5,
             "#f7f7f7"
            ],
            [
             0.6,
             "#e6f5d0"
            ],
            [
             0.7,
             "#b8e186"
            ],
            [
             0.8,
             "#7fbc41"
            ],
            [
             0.9,
             "#4d9221"
            ],
            [
             1,
             "#276419"
            ]
           ],
           "sequential": [
            [
             0,
             "#0d0887"
            ],
            [
             0.1111111111111111,
             "#46039f"
            ],
            [
             0.2222222222222222,
             "#7201a8"
            ],
            [
             0.3333333333333333,
             "#9c179e"
            ],
            [
             0.4444444444444444,
             "#bd3786"
            ],
            [
             0.5555555555555556,
             "#d8576b"
            ],
            [
             0.6666666666666666,
             "#ed7953"
            ],
            [
             0.7777777777777778,
             "#fb9f3a"
            ],
            [
             0.8888888888888888,
             "#fdca26"
            ],
            [
             1,
             "#f0f921"
            ]
           ],
           "sequentialminus": [
            [
             0,
             "#0d0887"
            ],
            [
             0.1111111111111111,
             "#46039f"
            ],
            [
             0.2222222222222222,
             "#7201a8"
            ],
            [
             0.3333333333333333,
             "#9c179e"
            ],
            [
             0.4444444444444444,
             "#bd3786"
            ],
            [
             0.5555555555555556,
             "#d8576b"
            ],
            [
             0.6666666666666666,
             "#ed7953"
            ],
            [
             0.7777777777777778,
             "#fb9f3a"
            ],
            [
             0.8888888888888888,
             "#fdca26"
            ],
            [
             1,
             "#f0f921"
            ]
           ]
          },
          "colorway": [
           "#636efa",
           "#EF553B",
           "#00cc96",
           "#ab63fa",
           "#FFA15A",
           "#19d3f3",
           "#FF6692",
           "#B6E880",
           "#FF97FF",
           "#FECB52"
          ],
          "font": {
           "color": "#2a3f5f"
          },
          "geo": {
           "bgcolor": "white",
           "lakecolor": "white",
           "landcolor": "#E5ECF6",
           "showlakes": true,
           "showland": true,
           "subunitcolor": "white"
          },
          "hoverlabel": {
           "align": "left"
          },
          "hovermode": "closest",
          "mapbox": {
           "style": "light"
          },
          "paper_bgcolor": "white",
          "plot_bgcolor": "#E5ECF6",
          "polar": {
           "angularaxis": {
            "gridcolor": "white",
            "linecolor": "white",
            "ticks": ""
           },
           "bgcolor": "#E5ECF6",
           "radialaxis": {
            "gridcolor": "white",
            "linecolor": "white",
            "ticks": ""
           }
          },
          "scene": {
           "xaxis": {
            "backgroundcolor": "#E5ECF6",
            "gridcolor": "white",
            "gridwidth": 2,
            "linecolor": "white",
            "showbackground": true,
            "ticks": "",
            "zerolinecolor": "white"
           },
           "yaxis": {
            "backgroundcolor": "#E5ECF6",
            "gridcolor": "white",
            "gridwidth": 2,
            "linecolor": "white",
            "showbackground": true,
            "ticks": "",
            "zerolinecolor": "white"
           },
           "zaxis": {
            "backgroundcolor": "#E5ECF6",
            "gridcolor": "white",
            "gridwidth": 2,
            "linecolor": "white",
            "showbackground": true,
            "ticks": "",
            "zerolinecolor": "white"
           }
          },
          "shapedefaults": {
           "line": {
            "color": "#2a3f5f"
           }
          },
          "ternary": {
           "aaxis": {
            "gridcolor": "white",
            "linecolor": "white",
            "ticks": ""
           },
           "baxis": {
            "gridcolor": "white",
            "linecolor": "white",
            "ticks": ""
           },
           "bgcolor": "#E5ECF6",
           "caxis": {
            "gridcolor": "white",
            "linecolor": "white",
            "ticks": ""
           }
          },
          "title": {
           "x": 0.05
          },
          "xaxis": {
           "automargin": true,
           "gridcolor": "white",
           "linecolor": "white",
           "ticks": "",
           "title": {
            "standoff": 15
           },
           "zerolinecolor": "white",
           "zerolinewidth": 2
          },
          "yaxis": {
           "automargin": true,
           "gridcolor": "white",
           "linecolor": "white",
           "ticks": "",
           "title": {
            "standoff": 15
           },
           "zerolinecolor": "white",
           "zerolinewidth": 2
          }
         }
        },
        "xaxis": {
         "anchor": "y",
         "domain": [
          0,
          1
         ],
         "title": {
          "text": "timeSpent_timeHomeScreen"
         },
         "type": "log"
        },
        "yaxis": {
         "anchor": "x",
         "domain": [
          0,
          1
         ],
         "title": {
          "text": "timeSpent_total"
         }
        }
       }
      },
      "text/html": [
       "<div>                            <div id=\"789d9302-6917-4bbc-85cb-c25ade7e011c\" class=\"plotly-graph-div\" style=\"height:525px; width:100%;\"></div>            <script type=\"text/javascript\">                require([\"plotly\"], function(Plotly) {                    window.PLOTLYENV=window.PLOTLYENV || {};                                    if (document.getElementById(\"789d9302-6917-4bbc-85cb-c25ade7e011c\")) {                    Plotly.newPlot(                        \"789d9302-6917-4bbc-85cb-c25ade7e011c\",                        [{\"hovertemplate\":\"<b>%{hovertext}</b><br><br>name=abhijot<br>timeSpent_timeHomeScreen=%{x}<br>timeSpent_total=%{y}<br>personalRecords_TQA=%{marker.size}<extra></extra>\",\"hovertext\":[\"abhijot\"],\"legendgroup\":\"abhijot\",\"marker\":{\"color\":\"#636efa\",\"size\":[33],\"sizemode\":\"area\",\"sizeref\":0.025,\"symbol\":\"circle\"},\"mode\":\"markers\",\"name\":\"abhijot\",\"orientation\":\"v\",\"showlegend\":true,\"x\":[22.88],\"xaxis\":\"x\",\"y\":[536.05],\"yaxis\":\"y\",\"type\":\"scatter\"},{\"hovertemplate\":\"<b>%{hovertext}</b><br><br>name=alice<br>timeSpent_timeHomeScreen=%{x}<br>timeSpent_total=%{y}<br>personalRecords_TQA=%{marker.size}<extra></extra>\",\"hovertext\":[\"alice\"],\"legendgroup\":\"alice\",\"marker\":{\"color\":\"#EF553B\",\"size\":[35],\"sizemode\":\"area\",\"sizeref\":0.025,\"symbol\":\"circle\"},\"mode\":\"markers\",\"name\":\"alice\",\"orientation\":\"v\",\"showlegend\":true,\"x\":[70.63],\"xaxis\":\"x\",\"y\":[529.95],\"yaxis\":\"y\",\"type\":\"scatter\"},{\"hovertemplate\":\"<b>%{hovertext}</b><br><br>name=amreet<br>timeSpent_timeHomeScreen=%{x}<br>timeSpent_total=%{y}<br>personalRecords_TQA=%{marker.size}<extra></extra>\",\"hovertext\":[\"amreet\",\"amreet\"],\"legendgroup\":\"amreet\",\"marker\":{\"color\":\"#00cc96\",\"size\":[16,0],\"sizemode\":\"area\",\"sizeref\":0.025,\"symbol\":\"circle\"},\"mode\":\"markers\",\"name\":\"amreet\",\"orientation\":\"v\",\"showlegend\":true,\"x\":[27.61,4.75],\"xaxis\":\"x\",\"y\":[279.52,20.99],\"yaxis\":\"y\",\"type\":\"scatter\"},{\"hovertemplate\":\"<b>%{hovertext}</b><br><br>name=anant<br>timeSpent_timeHomeScreen=%{x}<br>timeSpent_total=%{y}<br>personalRecords_TQA=%{marker.size}<extra></extra>\",\"hovertext\":[\"anant\",\"anant\"],\"legendgroup\":\"anant\",\"marker\":{\"color\":\"#ab63fa\",\"size\":[0,33],\"sizemode\":\"area\",\"sizeref\":0.025,\"symbol\":\"circle\"},\"mode\":\"markers\",\"name\":\"anant\",\"orientation\":\"v\",\"showlegend\":true,\"x\":[0.03,123.3],\"xaxis\":\"x\",\"y\":[0.03,535.33],\"yaxis\":\"y\",\"type\":\"scatter\"},{\"hovertemplate\":\"<b>%{hovertext}</b><br><br>name=Melody<br>timeSpent_timeHomeScreen=%{x}<br>timeSpent_total=%{y}<br>personalRecords_TQA=%{marker.size}<extra></extra>\",\"hovertext\":[\"Melody\",\"Melody\",\"Melody\",\"Melody\"],\"legendgroup\":\"Melody\",\"marker\":{\"color\":\"#FFA15A\",\"size\":[7,0,0,7],\"sizemode\":\"area\",\"sizeref\":0.025,\"symbol\":\"circle\"},\"mode\":\"markers\",\"name\":\"Melody\",\"orientation\":\"v\",\"showlegend\":true,\"x\":[116.92,24.2,49.21,31.35],\"xaxis\":\"x\",\"y\":[198.29000000000002,24.2,49.21,117.28999999999999],\"yaxis\":\"y\",\"type\":\"scatter\"},{\"hovertemplate\":\"<b>%{hovertext}</b><br><br>name=aneiba<br>timeSpent_timeHomeScreen=%{x}<br>timeSpent_total=%{y}<br>personalRecords_TQA=%{marker.size}<extra></extra>\",\"hovertext\":[\"aneiba\"],\"legendgroup\":\"aneiba\",\"marker\":{\"color\":\"#19d3f3\",\"size\":[10],\"sizemode\":\"area\",\"sizeref\":0.025,\"symbol\":\"circle\"},\"mode\":\"markers\",\"name\":\"aneiba\",\"orientation\":\"v\",\"showlegend\":true,\"x\":[34.24],\"xaxis\":\"x\",\"y\":[226.84],\"yaxis\":\"y\",\"type\":\"scatter\"},{\"hovertemplate\":\"<b>%{hovertext}</b><br><br>name=arsh<br>timeSpent_timeHomeScreen=%{x}<br>timeSpent_total=%{y}<br>personalRecords_TQA=%{marker.size}<extra></extra>\",\"hovertext\":[\"arsh\"],\"legendgroup\":\"arsh\",\"marker\":{\"color\":\"#FF6692\",\"size\":[6],\"sizemode\":\"area\",\"sizeref\":0.025,\"symbol\":\"circle\"},\"mode\":\"markers\",\"name\":\"arsh\",\"orientation\":\"v\",\"showlegend\":true,\"x\":[59.32],\"xaxis\":\"x\",\"y\":[215.99],\"yaxis\":\"y\",\"type\":\"scatter\"},{\"hovertemplate\":\"<b>%{hovertext}</b><br><br>name=avleen<br>timeSpent_timeHomeScreen=%{x}<br>timeSpent_total=%{y}<br>personalRecords_TQA=%{marker.size}<extra></extra>\",\"hovertext\":[\"avleen\",\"avleen\"],\"legendgroup\":\"avleen\",\"marker\":{\"color\":\"#B6E880\",\"size\":[34,16],\"sizemode\":\"area\",\"sizeref\":0.025,\"symbol\":\"circle\"},\"mode\":\"markers\",\"name\":\"avleen\",\"orientation\":\"v\",\"showlegend\":true,\"x\":[458.38,13.88],\"xaxis\":\"x\",\"y\":[1028.12,226.98],\"yaxis\":\"y\",\"type\":\"scatter\"},{\"hovertemplate\":\"<b>%{hovertext}</b><br><br>name=avneet<br>timeSpent_timeHomeScreen=%{x}<br>timeSpent_total=%{y}<br>personalRecords_TQA=%{marker.size}<extra></extra>\",\"hovertext\":[\"avneet\"],\"legendgroup\":\"avneet\",\"marker\":{\"color\":\"#FF97FF\",\"size\":[22],\"sizemode\":\"area\",\"sizeref\":0.025,\"symbol\":\"circle\"},\"mode\":\"markers\",\"name\":\"avneet\",\"orientation\":\"v\",\"showlegend\":true,\"x\":[992.79],\"xaxis\":\"x\",\"y\":[1309.8300000000002],\"yaxis\":\"y\",\"type\":\"scatter\"},{\"hovertemplate\":\"<b>%{hovertext}</b><br><br>name=ayana<br>timeSpent_timeHomeScreen=%{x}<br>timeSpent_total=%{y}<br>personalRecords_TQA=%{marker.size}<extra></extra>\",\"hovertext\":[\"ayana\"],\"legendgroup\":\"ayana\",\"marker\":{\"color\":\"#FECB52\",\"size\":[34],\"sizemode\":\"area\",\"sizeref\":0.025,\"symbol\":\"circle\"},\"mode\":\"markers\",\"name\":\"ayana\",\"orientation\":\"v\",\"showlegend\":true,\"x\":[71.84],\"xaxis\":\"x\",\"y\":[676.9],\"yaxis\":\"y\",\"type\":\"scatter\"},{\"hovertemplate\":\"<b>%{hovertext}</b><br><br>name=baby<br>timeSpent_timeHomeScreen=%{x}<br>timeSpent_total=%{y}<br>personalRecords_TQA=%{marker.size}<extra></extra>\",\"hovertext\":[\"baby\"],\"legendgroup\":\"baby\",\"marker\":{\"color\":\"#636efa\",\"size\":[39],\"sizemode\":\"area\",\"sizeref\":0.025,\"symbol\":\"circle\"},\"mode\":\"markers\",\"name\":\"baby\",\"orientation\":\"v\",\"showlegend\":true,\"x\":[115.04],\"xaxis\":\"x\",\"y\":[664.59],\"yaxis\":\"y\",\"type\":\"scatter\"},{\"hovertemplate\":\"<b>%{hovertext}</b><br><br>name=bear<br>timeSpent_timeHomeScreen=%{x}<br>timeSpent_total=%{y}<br>personalRecords_TQA=%{marker.size}<extra></extra>\",\"hovertext\":[\"bear\"],\"legendgroup\":\"bear\",\"marker\":{\"color\":\"#EF553B\",\"size\":[0],\"sizemode\":\"area\",\"sizeref\":0.025,\"symbol\":\"circle\"},\"mode\":\"markers\",\"name\":\"bear\",\"orientation\":\"v\",\"showlegend\":true,\"x\":[3.83],\"xaxis\":\"x\",\"y\":[3.83],\"yaxis\":\"y\",\"type\":\"scatter\"},{\"hovertemplate\":\"<b>%{hovertext}</b><br><br>name=boomerang<br>timeSpent_timeHomeScreen=%{x}<br>timeSpent_total=%{y}<br>personalRecords_TQA=%{marker.size}<extra></extra>\",\"hovertext\":[\"boomerang\",\"boomerang\"],\"legendgroup\":\"boomerang\",\"marker\":{\"color\":\"#00cc96\",\"size\":[0,1],\"sizemode\":\"area\",\"sizeref\":0.025,\"symbol\":\"circle\"},\"mode\":\"markers\",\"name\":\"boomerang\",\"orientation\":\"v\",\"showlegend\":true,\"x\":[24.37,15.96],\"xaxis\":\"x\",\"y\":[26.79,47.35],\"yaxis\":\"y\",\"type\":\"scatter\"},{\"hovertemplate\":\"<b>%{hovertext}</b><br><br>name=brody<br>timeSpent_timeHomeScreen=%{x}<br>timeSpent_total=%{y}<br>personalRecords_TQA=%{marker.size}<extra></extra>\",\"hovertext\":[\"brody\",\"brody\",\"brody\",\"brody\",\"brody\",\"brody\",\"brody\",\"brody\"],\"legendgroup\":\"brody\",\"marker\":{\"color\":\"#ab63fa\",\"size\":[0,0,0,0,0,0,0,0],\"sizemode\":\"area\",\"sizeref\":0.025,\"symbol\":\"circle\"},\"mode\":\"markers\",\"name\":\"brody\",\"orientation\":\"v\",\"showlegend\":true,\"x\":[-1.37,6.5,5.45,3.7,22.36,0.64,1.43,25.73],\"xaxis\":\"x\",\"y\":[-1.37,6.5,5.45,3.7,26.61,0.64,1.43,33.01],\"yaxis\":\"y\",\"type\":\"scatter\"},{\"hovertemplate\":\"<b>%{hovertext}</b><br><br>name=charlotte<br>timeSpent_timeHomeScreen=%{x}<br>timeSpent_total=%{y}<br>personalRecords_TQA=%{marker.size}<extra></extra>\",\"hovertext\":[\"charlotte\"],\"legendgroup\":\"charlotte\",\"marker\":{\"color\":\"#FFA15A\",\"size\":[25],\"sizemode\":\"area\",\"sizeref\":0.025,\"symbol\":\"circle\"},\"mode\":\"markers\",\"name\":\"charlotte\",\"orientation\":\"v\",\"showlegend\":true,\"x\":[114.49],\"xaxis\":\"x\",\"y\":[538.19],\"yaxis\":\"y\",\"type\":\"scatter\"},{\"hovertemplate\":\"<b>%{hovertext}</b><br><br>name=daddy<br>timeSpent_timeHomeScreen=%{x}<br>timeSpent_total=%{y}<br>personalRecords_TQA=%{marker.size}<extra></extra>\",\"hovertext\":[\"daddy\",\"daddy\",\"daddy\",\"daddy\"],\"legendgroup\":\"daddy\",\"marker\":{\"color\":\"#19d3f3\",\"size\":[0,7,30,1],\"sizemode\":\"area\",\"sizeref\":0.025,\"symbol\":\"circle\"},\"mode\":\"markers\",\"name\":\"daddy\",\"orientation\":\"v\",\"showlegend\":true,\"x\":[27.8,15.67,71.54,11.42],\"xaxis\":\"x\",\"y\":[27.8,98.16,670.13,45.78],\"yaxis\":\"y\",\"type\":\"scatter\"},{\"hovertemplate\":\"<b>%{hovertext}</b><br><br>name=dev<br>timeSpent_timeHomeScreen=%{x}<br>timeSpent_total=%{y}<br>personalRecords_TQA=%{marker.size}<extra></extra>\",\"hovertext\":[\"dev\",\"dev\"],\"legendgroup\":\"dev\",\"marker\":{\"color\":\"#FF6692\",\"size\":[4,6],\"sizemode\":\"area\",\"sizeref\":0.025,\"symbol\":\"circle\"},\"mode\":\"markers\",\"name\":\"dev\",\"orientation\":\"v\",\"showlegend\":true,\"x\":[1.78,18.71],\"xaxis\":\"x\",\"y\":[11.87,64.19],\"yaxis\":\"y\",\"type\":\"scatter\"},{\"hovertemplate\":\"<b>%{hovertext}</b><br><br>name=dilrajan<br>timeSpent_timeHomeScreen=%{x}<br>timeSpent_total=%{y}<br>personalRecords_TQA=%{marker.size}<extra></extra>\",\"hovertext\":[\"dilrajan\"],\"legendgroup\":\"dilrajan\",\"marker\":{\"color\":\"#B6E880\",\"size\":[37],\"sizemode\":\"area\",\"sizeref\":0.025,\"symbol\":\"circle\"},\"mode\":\"markers\",\"name\":\"dilrajan\",\"orientation\":\"v\",\"showlegend\":true,\"x\":[66.42],\"xaxis\":\"x\",\"y\":[695.55],\"yaxis\":\"y\",\"type\":\"scatter\"},{\"hovertemplate\":\"<b>%{hovertext}</b><br><br>name=do  like  dogs<br>timeSpent_timeHomeScreen=%{x}<br>timeSpent_total=%{y}<br>personalRecords_TQA=%{marker.size}<extra></extra>\",\"hovertext\":[\"do  like  dogs\"],\"legendgroup\":\"do  like  dogs\",\"marker\":{\"color\":\"#FF97FF\",\"size\":[19],\"sizemode\":\"area\",\"sizeref\":0.025,\"symbol\":\"circle\"},\"mode\":\"markers\",\"name\":\"do  like  dogs\",\"orientation\":\"v\",\"showlegend\":true,\"x\":[122.27],\"xaxis\":\"x\",\"y\":[498.79],\"yaxis\":\"y\",\"type\":\"scatter\"},{\"hovertemplate\":\"<b>%{hovertext}</b><br><br>name=edward<br>timeSpent_timeHomeScreen=%{x}<br>timeSpent_total=%{y}<br>personalRecords_TQA=%{marker.size}<extra></extra>\",\"hovertext\":[\"edward\"],\"legendgroup\":\"edward\",\"marker\":{\"color\":\"#FECB52\",\"size\":[21],\"sizemode\":\"area\",\"sizeref\":0.025,\"symbol\":\"circle\"},\"mode\":\"markers\",\"name\":\"edward\",\"orientation\":\"v\",\"showlegend\":true,\"x\":[72.49],\"xaxis\":\"x\",\"y\":[530.25],\"yaxis\":\"y\",\"type\":\"scatter\"},{\"hovertemplate\":\"<b>%{hovertext}</b><br><br>name=ekjot<br>timeSpent_timeHomeScreen=%{x}<br>timeSpent_total=%{y}<br>personalRecords_TQA=%{marker.size}<extra></extra>\",\"hovertext\":[\"ekjot\"],\"legendgroup\":\"ekjot\",\"marker\":{\"color\":\"#636efa\",\"size\":[27],\"sizemode\":\"area\",\"sizeref\":0.025,\"symbol\":\"circle\"},\"mode\":\"markers\",\"name\":\"ekjot\",\"orientation\":\"v\",\"showlegend\":true,\"x\":[82.29],\"xaxis\":\"x\",\"y\":[530.15],\"yaxis\":\"y\",\"type\":\"scatter\"},{\"hovertemplate\":\"<b>%{hovertext}</b><br><br>name=emily<br>timeSpent_timeHomeScreen=%{x}<br>timeSpent_total=%{y}<br>personalRecords_TQA=%{marker.size}<extra></extra>\",\"hovertext\":[\"emily\",\"emily\"],\"legendgroup\":\"emily\",\"marker\":{\"color\":\"#EF553B\",\"size\":[32,24],\"sizemode\":\"area\",\"sizeref\":0.025,\"symbol\":\"circle\"},\"mode\":\"markers\",\"name\":\"emily\",\"orientation\":\"v\",\"showlegend\":true,\"x\":[67.58,54.78],\"xaxis\":\"x\",\"y\":[613.2,446.89],\"yaxis\":\"y\",\"type\":\"scatter\"},{\"hovertemplate\":\"<b>%{hovertext}</b><br><br>name=gurnell<br>timeSpent_timeHomeScreen=%{x}<br>timeSpent_total=%{y}<br>personalRecords_TQA=%{marker.size}<extra></extra>\",\"hovertext\":[\"gurnell\"],\"legendgroup\":\"gurnell\",\"marker\":{\"color\":\"#00cc96\",\"size\":[27],\"sizemode\":\"area\",\"sizeref\":0.025,\"symbol\":\"circle\"},\"mode\":\"markers\",\"name\":\"gurnell\",\"orientation\":\"v\",\"showlegend\":true,\"x\":[43.85],\"xaxis\":\"x\",\"y\":[365.63],\"yaxis\":\"y\",\"type\":\"scatter\"},{\"hovertemplate\":\"<b>%{hovertext}</b><br><br>name=harman  feet<br>timeSpent_timeHomeScreen=%{x}<br>timeSpent_total=%{y}<br>personalRecords_TQA=%{marker.size}<extra></extra>\",\"hovertext\":[\"harman  feet\"],\"legendgroup\":\"harman  feet\",\"marker\":{\"color\":\"#ab63fa\",\"size\":[29],\"sizemode\":\"area\",\"sizeref\":0.025,\"symbol\":\"circle\"},\"mode\":\"markers\",\"name\":\"harman  feet\",\"orientation\":\"v\",\"showlegend\":true,\"x\":[464.12],\"xaxis\":\"x\",\"y\":[864.2499999999999],\"yaxis\":\"y\",\"type\":\"scatter\"},{\"hovertemplate\":\"<b>%{hovertext}</b><br><br>name=jack<br>timeSpent_timeHomeScreen=%{x}<br>timeSpent_total=%{y}<br>personalRecords_TQA=%{marker.size}<extra></extra>\",\"hovertext\":[\"jack\"],\"legendgroup\":\"jack\",\"marker\":{\"color\":\"#FFA15A\",\"size\":[29],\"sizemode\":\"area\",\"sizeref\":0.025,\"symbol\":\"circle\"},\"mode\":\"markers\",\"name\":\"jack\",\"orientation\":\"v\",\"showlegend\":true,\"x\":[38.09],\"xaxis\":\"x\",\"y\":[416.88],\"yaxis\":\"y\",\"type\":\"scatter\"},{\"hovertemplate\":\"<b>%{hovertext}</b><br><br>name=jashleen<br>timeSpent_timeHomeScreen=%{x}<br>timeSpent_total=%{y}<br>personalRecords_TQA=%{marker.size}<extra></extra>\",\"hovertext\":[\"jashleen\",\"jashleen\"],\"legendgroup\":\"jashleen\",\"marker\":{\"color\":\"#19d3f3\",\"size\":[19,0],\"sizemode\":\"area\",\"sizeref\":0.025,\"symbol\":\"circle\"},\"mode\":\"markers\",\"name\":\"jashleen\",\"orientation\":\"v\",\"showlegend\":true,\"x\":[69.97,26.55],\"xaxis\":\"x\",\"y\":[340.08,36.66],\"yaxis\":\"y\",\"type\":\"scatter\"},{\"hovertemplate\":\"<b>%{hovertext}</b><br><br>name=jazz<br>timeSpent_timeHomeScreen=%{x}<br>timeSpent_total=%{y}<br>personalRecords_TQA=%{marker.size}<extra></extra>\",\"hovertext\":[\"jazz\"],\"legendgroup\":\"jazz\",\"marker\":{\"color\":\"#FF6692\",\"size\":[5],\"sizemode\":\"area\",\"sizeref\":0.025,\"symbol\":\"circle\"},\"mode\":\"markers\",\"name\":\"jazz\",\"orientation\":\"v\",\"showlegend\":true,\"x\":[119.54],\"xaxis\":\"x\",\"y\":[504.28999999999996],\"yaxis\":\"y\",\"type\":\"scatter\"},{\"hovertemplate\":\"<b>%{hovertext}</b><br><br>name=jessie  mei  li<br>timeSpent_timeHomeScreen=%{x}<br>timeSpent_total=%{y}<br>personalRecords_TQA=%{marker.size}<extra></extra>\",\"hovertext\":[\"jessie  mei  li\"],\"legendgroup\":\"jessie  mei  li\",\"marker\":{\"color\":\"#B6E880\",\"size\":[40],\"sizemode\":\"area\",\"sizeref\":0.025,\"symbol\":\"circle\"},\"mode\":\"markers\",\"name\":\"jessie  mei  li\",\"orientation\":\"v\",\"showlegend\":true,\"x\":[46.73],\"xaxis\":\"x\",\"y\":[620.2800000000001],\"yaxis\":\"y\",\"type\":\"scatter\"},{\"hovertemplate\":\"<b>%{hovertext}</b><br><br>name=joe<br>timeSpent_timeHomeScreen=%{x}<br>timeSpent_total=%{y}<br>personalRecords_TQA=%{marker.size}<extra></extra>\",\"hovertext\":[\"joe\"],\"legendgroup\":\"joe\",\"marker\":{\"color\":\"#FF97FF\",\"size\":[0],\"sizemode\":\"area\",\"sizeref\":0.025,\"symbol\":\"circle\"},\"mode\":\"markers\",\"name\":\"joe\",\"orientation\":\"v\",\"showlegend\":true,\"x\":[4.0],\"xaxis\":\"x\",\"y\":[4.0],\"yaxis\":\"y\",\"type\":\"scatter\"},{\"hovertemplate\":\"<b>%{hovertext}</b><br><br>name=john<br>timeSpent_timeHomeScreen=%{x}<br>timeSpent_total=%{y}<br>personalRecords_TQA=%{marker.size}<extra></extra>\",\"hovertext\":[\"john\",\"john\",\"john\"],\"legendgroup\":\"john\",\"marker\":{\"color\":\"#FECB52\",\"size\":[13,14,4],\"sizemode\":\"area\",\"sizeref\":0.025,\"symbol\":\"circle\"},\"mode\":\"markers\",\"name\":\"john\",\"orientation\":\"v\",\"showlegend\":true,\"x\":[37.43,55.48,40.18],\"xaxis\":\"x\",\"y\":[276.96,320.36,94.35],\"yaxis\":\"y\",\"type\":\"scatter\"},{\"hovertemplate\":\"<b>%{hovertext}</b><br><br>name=jorawar<br>timeSpent_timeHomeScreen=%{x}<br>timeSpent_total=%{y}<br>personalRecords_TQA=%{marker.size}<extra></extra>\",\"hovertext\":[\"jorawar\"],\"legendgroup\":\"jorawar\",\"marker\":{\"color\":\"#636efa\",\"size\":[16],\"sizemode\":\"area\",\"sizeref\":0.025,\"symbol\":\"circle\"},\"mode\":\"markers\",\"name\":\"jorawar\",\"orientation\":\"v\",\"showlegend\":true,\"x\":[62.76],\"xaxis\":\"x\",\"y\":[379.96000000000004],\"yaxis\":\"y\",\"type\":\"scatter\"},{\"hovertemplate\":\"<b>%{hovertext}</b><br><br>name=josh<br>timeSpent_timeHomeScreen=%{x}<br>timeSpent_total=%{y}<br>personalRecords_TQA=%{marker.size}<extra></extra>\",\"hovertext\":[\"josh\"],\"legendgroup\":\"josh\",\"marker\":{\"color\":\"#EF553B\",\"size\":[1],\"sizemode\":\"area\",\"sizeref\":0.025,\"symbol\":\"circle\"},\"mode\":\"markers\",\"name\":\"josh\",\"orientation\":\"v\",\"showlegend\":true,\"x\":[43.79],\"xaxis\":\"x\",\"y\":[54.15],\"yaxis\":\"y\",\"type\":\"scatter\"},{\"hovertemplate\":\"<b>%{hovertext}</b><br><br>name=jos\\u00e9<br>timeSpent_timeHomeScreen=%{x}<br>timeSpent_total=%{y}<br>personalRecords_TQA=%{marker.size}<extra></extra>\",\"hovertext\":[\"jos\\u00e9\",\"jos\\u00e9\"],\"legendgroup\":\"jos\\u00e9\",\"marker\":{\"color\":\"#00cc96\",\"size\":[1,11],\"sizemode\":\"area\",\"sizeref\":0.025,\"symbol\":\"circle\"},\"mode\":\"markers\",\"name\":\"jos\\u00e9\",\"orientation\":\"v\",\"showlegend\":true,\"x\":[16.68,179.61],\"xaxis\":\"x\",\"y\":[18.78,320.61],\"yaxis\":\"y\",\"type\":\"scatter\"},{\"hovertemplate\":\"<b>%{hovertext}</b><br><br>name=jude<br>timeSpent_timeHomeScreen=%{x}<br>timeSpent_total=%{y}<br>personalRecords_TQA=%{marker.size}<extra></extra>\",\"hovertext\":[\"jude\"],\"legendgroup\":\"jude\",\"marker\":{\"color\":\"#ab63fa\",\"size\":[15],\"sizemode\":\"area\",\"sizeref\":0.025,\"symbol\":\"circle\"},\"mode\":\"markers\",\"name\":\"jude\",\"orientation\":\"v\",\"showlegend\":true,\"x\":[115.75],\"xaxis\":\"x\",\"y\":[975.3199999999999],\"yaxis\":\"y\",\"type\":\"scatter\"},{\"hovertemplate\":\"<b>%{hovertext}</b><br><br>name=kenny<br>timeSpent_timeHomeScreen=%{x}<br>timeSpent_total=%{y}<br>personalRecords_TQA=%{marker.size}<extra></extra>\",\"hovertext\":[\"kenny\",\"kenny\"],\"legendgroup\":\"kenny\",\"marker\":{\"color\":\"#FFA15A\",\"size\":[5,26],\"sizemode\":\"area\",\"sizeref\":0.025,\"symbol\":\"circle\"},\"mode\":\"markers\",\"name\":\"kenny\",\"orientation\":\"v\",\"showlegend\":true,\"x\":[43.89,200.41],\"xaxis\":\"x\",\"y\":[272.59000000000003,653.7099999999999],\"yaxis\":\"y\",\"type\":\"scatter\"},{\"hovertemplate\":\"<b>%{hovertext}</b><br><br>name=krizia<br>timeSpent_timeHomeScreen=%{x}<br>timeSpent_total=%{y}<br>personalRecords_TQA=%{marker.size}<extra></extra>\",\"hovertext\":[\"krizia\",\"krizia\",\"krizia\",\"krizia\",\"krizia\",\"krizia\",\"krizia\",\"krizia\",\"krizia\",\"krizia\",\"krizia\",\"krizia\",\"krizia\",\"krizia\",\"krizia\",\"krizia\",\"krizia\",\"krizia\",\"krizia\",\"krizia\"],\"legendgroup\":\"krizia\",\"marker\":{\"color\":\"#19d3f3\",\"size\":[3,7,5,8,16,0,0,0,21,90,20,1,30,0,0,0,0,52,0,6],\"sizemode\":\"area\",\"sizeref\":0.025,\"symbol\":\"circle\"},\"mode\":\"markers\",\"name\":\"krizia\",\"orientation\":\"v\",\"showlegend\":true,\"x\":[36.77,65.52,148.7,163.96,71.56,3.85,39.41,19.9,112.2,192.23,51.46,101.46,152.13,20.3,44.16,60.69,122.02,266.66,313.19,20.38],\"xaxis\":\"x\",\"y\":[36.77,120.71000000000001,305.89,339.12000000000006,415.59,3.85,42.459999999999994,42.57,451.12999999999994,2324.42,250.71,209.94999999999996,653.77,367.82000000000005,534.6,60.69,122.02,2900.38,437.03999999999996,145.72],\"yaxis\":\"y\",\"type\":\"scatter\"},{\"hovertemplate\":\"<b>%{hovertext}</b><br><br>name=maayan<br>timeSpent_timeHomeScreen=%{x}<br>timeSpent_total=%{y}<br>personalRecords_TQA=%{marker.size}<extra></extra>\",\"hovertext\":[\"maayan\"],\"legendgroup\":\"maayan\",\"marker\":{\"color\":\"#FF6692\",\"size\":[0],\"sizemode\":\"area\",\"sizeref\":0.025,\"symbol\":\"circle\"},\"mode\":\"markers\",\"name\":\"maayan\",\"orientation\":\"v\",\"showlegend\":true,\"x\":[300.89],\"xaxis\":\"x\",\"y\":[327.14],\"yaxis\":\"y\",\"type\":\"scatter\"},{\"hovertemplate\":\"<b>%{hovertext}</b><br><br>name=manveer<br>timeSpent_timeHomeScreen=%{x}<br>timeSpent_total=%{y}<br>personalRecords_TQA=%{marker.size}<extra></extra>\",\"hovertext\":[\"manveer\"],\"legendgroup\":\"manveer\",\"marker\":{\"color\":\"#B6E880\",\"size\":[69],\"sizemode\":\"area\",\"sizeref\":0.025,\"symbol\":\"circle\"},\"mode\":\"markers\",\"name\":\"manveer\",\"orientation\":\"v\",\"showlegend\":true,\"x\":[442.32],\"xaxis\":\"x\",\"y\":[1383.74],\"yaxis\":\"y\",\"type\":\"scatter\"},{\"hovertemplate\":\"<b>%{hovertext}</b><br><br>name=margot<br>timeSpent_timeHomeScreen=%{x}<br>timeSpent_total=%{y}<br>personalRecords_TQA=%{marker.size}<extra></extra>\",\"hovertext\":[\"margot\"],\"legendgroup\":\"margot\",\"marker\":{\"color\":\"#FF97FF\",\"size\":[25],\"sizemode\":\"area\",\"sizeref\":0.025,\"symbol\":\"circle\"},\"mode\":\"markers\",\"name\":\"margot\",\"orientation\":\"v\",\"showlegend\":true,\"x\":[114.18],\"xaxis\":\"x\",\"y\":[443.81],\"yaxis\":\"y\",\"type\":\"scatter\"},{\"hovertemplate\":\"<b>%{hovertext}</b><br><br>name=marwa<br>timeSpent_timeHomeScreen=%{x}<br>timeSpent_total=%{y}<br>personalRecords_TQA=%{marker.size}<extra></extra>\",\"hovertext\":[\"marwa\",\"marwa\"],\"legendgroup\":\"marwa\",\"marker\":{\"color\":\"#FECB52\",\"size\":[5,19],\"sizemode\":\"area\",\"sizeref\":0.025,\"symbol\":\"circle\"},\"mode\":\"markers\",\"name\":\"marwa\",\"orientation\":\"v\",\"showlegend\":true,\"x\":[20.91,31.17],\"xaxis\":\"x\",\"y\":[82.17,329.47999999999996],\"yaxis\":\"y\",\"type\":\"scatter\"},{\"hovertemplate\":\"<b>%{hovertext}</b><br><br>name=max<br>timeSpent_timeHomeScreen=%{x}<br>timeSpent_total=%{y}<br>personalRecords_TQA=%{marker.size}<extra></extra>\",\"hovertext\":[\"max\"],\"legendgroup\":\"max\",\"marker\":{\"color\":\"#636efa\",\"size\":[26],\"sizemode\":\"area\",\"sizeref\":0.025,\"symbol\":\"circle\"},\"mode\":\"markers\",\"name\":\"max\",\"orientation\":\"v\",\"showlegend\":true,\"x\":[98.24],\"xaxis\":\"x\",\"y\":[887.85],\"yaxis\":\"y\",\"type\":\"scatter\"},{\"hovertemplate\":\"<b>%{hovertext}</b><br><br>name=mehtab<br>timeSpent_timeHomeScreen=%{x}<br>timeSpent_total=%{y}<br>personalRecords_TQA=%{marker.size}<extra></extra>\",\"hovertext\":[\"mehtab\",\"mehtab\"],\"legendgroup\":\"mehtab\",\"marker\":{\"color\":\"#EF553B\",\"size\":[31,0],\"sizemode\":\"area\",\"sizeref\":0.025,\"symbol\":\"circle\"},\"mode\":\"markers\",\"name\":\"mehtab\",\"orientation\":\"v\",\"showlegend\":true,\"x\":[48.11,0.03],\"xaxis\":\"x\",\"y\":[617.07,0.03],\"yaxis\":\"y\",\"type\":\"scatter\"},{\"hovertemplate\":\"<b>%{hovertext}</b><br><br>name=<br>timeSpent_timeHomeScreen=%{x}<br>timeSpent_total=%{y}<br>personalRecords_TQA=%{marker.size}<extra></extra>\",\"hovertext\":[\"\",\"\",\"\",\"\",\"\",\"\",\"\",\"\",\"\",\"\",\"\",\"\",\"\",\"\",\"\",\"\",\"\",\"\",\"\",\"\",\"\"],\"legendgroup\":\"\",\"marker\":{\"color\":\"#00cc96\",\"size\":[0,0,0,0,0,0,0,0,0,0,0,0,0,0,0,0,0,0,0,0,0],\"sizemode\":\"area\",\"sizeref\":0.025,\"symbol\":\"circle\"},\"mode\":\"markers\",\"name\":\"\",\"orientation\":\"v\",\"showlegend\":false,\"x\":[0.03,5.03,17.46,24.87,52.96,0.33,0.33,2.94,2.2,0.33,0.33,0.33,0.33,0.33,0.33,8.81,3.46,3.43,4.18,0.33,0.33],\"xaxis\":\"x\",\"y\":[0.03,5.03,21.200000000000003,48.150000000000006,55.120000000000005,0.33,0.33,2.94,2.2,0.33,0.33,0.33,0.33,0.33,0.33,8.81,3.46,3.43,4.18,0.33,0.33],\"yaxis\":\"y\",\"type\":\"scatter\"},{\"hovertemplate\":\"<b>%{hovertext}</b><br><br>name=nyla<br>timeSpent_timeHomeScreen=%{x}<br>timeSpent_total=%{y}<br>personalRecords_TQA=%{marker.size}<extra></extra>\",\"hovertext\":[\"nyla\"],\"legendgroup\":\"nyla\",\"marker\":{\"color\":\"#ab63fa\",\"size\":[15],\"sizemode\":\"area\",\"sizeref\":0.025,\"symbol\":\"circle\"},\"mode\":\"markers\",\"name\":\"nyla\",\"orientation\":\"v\",\"showlegend\":true,\"x\":[53.74],\"xaxis\":\"x\",\"y\":[954.16],\"yaxis\":\"y\",\"type\":\"scatter\"},{\"hovertemplate\":\"<b>%{hovertext}</b><br><br>name=pauldy<br>timeSpent_timeHomeScreen=%{x}<br>timeSpent_total=%{y}<br>personalRecords_TQA=%{marker.size}<extra></extra>\",\"hovertext\":[\"pauldy\",\"pauldy\"],\"legendgroup\":\"pauldy\",\"marker\":{\"color\":\"#FFA15A\",\"size\":[25,2],\"sizemode\":\"area\",\"sizeref\":0.025,\"symbol\":\"circle\"},\"mode\":\"markers\",\"name\":\"pauldy\",\"orientation\":\"v\",\"showlegend\":true,\"x\":[24.97,77.74],\"xaxis\":\"x\",\"y\":[417.61,202.37],\"yaxis\":\"y\",\"type\":\"scatter\"},{\"hovertemplate\":\"<b>%{hovertext}</b><br><br>name=peri  peri<br>timeSpent_timeHomeScreen=%{x}<br>timeSpent_total=%{y}<br>personalRecords_TQA=%{marker.size}<extra></extra>\",\"hovertext\":[\"peri  peri\",\"peri  peri\",\"peri  peri\"],\"legendgroup\":\"peri  peri\",\"marker\":{\"color\":\"#19d3f3\",\"size\":[7,0,30],\"sizemode\":\"area\",\"sizeref\":0.025,\"symbol\":\"circle\"},\"mode\":\"markers\",\"name\":\"peri  peri\",\"orientation\":\"v\",\"showlegend\":true,\"x\":[109.74,12.19,95.62],\"xaxis\":\"x\",\"y\":[176.96,12.19,354.93000000000006],\"yaxis\":\"y\",\"type\":\"scatter\"},{\"hovertemplate\":\"<b>%{hovertext}</b><br><br>name=pewdiepie<br>timeSpent_timeHomeScreen=%{x}<br>timeSpent_total=%{y}<br>personalRecords_TQA=%{marker.size}<extra></extra>\",\"hovertext\":[\"pewdiepie\"],\"legendgroup\":\"pewdiepie\",\"marker\":{\"color\":\"#FF6692\",\"size\":[0],\"sizemode\":\"area\",\"sizeref\":0.025,\"symbol\":\"circle\"},\"mode\":\"markers\",\"name\":\"pewdiepie\",\"orientation\":\"v\",\"showlegend\":true,\"x\":[1.62],\"xaxis\":\"x\",\"y\":[1.62],\"yaxis\":\"y\",\"type\":\"scatter\"},{\"hovertemplate\":\"<b>%{hovertext}</b><br><br>name=pradeep<br>timeSpent_timeHomeScreen=%{x}<br>timeSpent_total=%{y}<br>personalRecords_TQA=%{marker.size}<extra></extra>\",\"hovertext\":[\"pradeep\",\"pradeep\",\"pradeep\",\"pradeep\",\"pradeep\"],\"legendgroup\":\"pradeep\",\"marker\":{\"color\":\"#B6E880\",\"size\":[0,4,0,0,0],\"sizemode\":\"area\",\"sizeref\":0.025,\"symbol\":\"circle\"},\"mode\":\"markers\",\"name\":\"pradeep\",\"orientation\":\"v\",\"showlegend\":true,\"x\":[28.14,86.99,0.03,5.41,0.03],\"xaxis\":\"x\",\"y\":[87.68,149.47,0.03,5.41,0.03],\"yaxis\":\"y\",\"type\":\"scatter\"},{\"hovertemplate\":\"<b>%{hovertext}</b><br><br>name=pradip<br>timeSpent_timeHomeScreen=%{x}<br>timeSpent_total=%{y}<br>personalRecords_TQA=%{marker.size}<extra></extra>\",\"hovertext\":[\"pradip\",\"pradip\",\"pradip\",\"pradip\",\"pradip\",\"pradip\",\"pradip\",\"pradip\",\"pradip\",\"pradip\",\"pradip\",\"pradip\",\"pradip\",\"pradip\",\"pradip\",\"pradip\",\"pradip\",\"pradip\",\"pradip\",\"pradip\",\"pradip\",\"pradip\",\"pradip\",\"pradip\",\"pradip\",\"pradip\",\"pradip\",\"pradip\",\"pradip\",\"pradip\",\"pradip\",\"pradip\"],\"legendgroup\":\"pradip\",\"marker\":{\"color\":\"#FF97FF\",\"size\":[9,0,0,24,0,3,28,1,20,3,0,0,0,3,0,8,0,1,0,2,0,2,1,0,0,0,0,1,0,1,0,0],\"sizemode\":\"area\",\"sizeref\":0.025,\"symbol\":\"circle\"},\"mode\":\"markers\",\"name\":\"pradip\",\"orientation\":\"v\",\"showlegend\":true,\"x\":[35.62,6.52,58.2,91.3,21.82,22.94,27.79,51.91,62.46,130.54,1.74,0.33,1.53,92.22,84.9,52.9,14.76,58.82,18.63,12.77,14.34,37.1,9.8,30.8,166.11,206.23,13.03,12.0,6.96,17.88,6.98,101.47],\"xaxis\":\"x\",\"y\":[171.42,6.52,58.2,350.39,23.37,39.52,73.81,62.58,279.54,204.64,1.74,0.33,1.53,198.29000000000005,88.33000000000001,140.43,14.76,66.99,18.63,33.67,15.64,40.53,18.41,39.18000000000001,185.07,214.94,15.67,12.0,6.96,30.63,6.98,121.08],\"yaxis\":\"y\",\"type\":\"scatter\"},{\"hovertemplate\":\"<b>%{hovertext}</b><br><br>name=Pradip<br>timeSpent_timeHomeScreen=%{x}<br>timeSpent_total=%{y}<br>personalRecords_TQA=%{marker.size}<extra></extra>\",\"hovertext\":[\"Pradip\",\"Pradip\",\"Pradip\",\"Pradip\",\"Pradip\",\"Pradip\",\"Pradip\"],\"legendgroup\":\"Pradip\",\"marker\":{\"color\":\"#FECB52\",\"size\":[0,0,0,0,0,0,0],\"sizemode\":\"area\",\"sizeref\":0.025,\"symbol\":\"circle\"},\"mode\":\"markers\",\"name\":\"Pradip\",\"orientation\":\"v\",\"showlegend\":true,\"x\":[31.41,15.19,47.72,3.81,23.69,9.92,16.61],\"xaxis\":\"x\",\"y\":[31.41,15.19,47.72,3.81,23.69,9.92,16.61],\"yaxis\":\"y\",\"type\":\"scatter\"},{\"hovertemplate\":\"<b>%{hovertext}</b><br><br>name=Amit<br>timeSpent_timeHomeScreen=%{x}<br>timeSpent_total=%{y}<br>personalRecords_TQA=%{marker.size}<extra></extra>\",\"hovertext\":[\"Amit\",\"Amit\",\"Amit\",\"Amit\",\"Amit\",\"Amit\",\"Amit\"],\"legendgroup\":\"Amit\",\"marker\":{\"color\":\"#636efa\",\"size\":[0,0,3,2,6,0,0],\"sizemode\":\"area\",\"sizeref\":0.025,\"symbol\":\"circle\"},\"mode\":\"markers\",\"name\":\"Amit\",\"orientation\":\"v\",\"showlegend\":true,\"x\":[88.5,20.32,15.62,14.99,21.85,16.74,30.49],\"xaxis\":\"x\",\"y\":[99.93,22.79,15.62,14.99,21.85,16.74,32.32],\"yaxis\":\"y\",\"type\":\"scatter\"},{\"hovertemplate\":\"<b>%{hovertext}</b><br><br>name=prads<br>timeSpent_timeHomeScreen=%{x}<br>timeSpent_total=%{y}<br>personalRecords_TQA=%{marker.size}<extra></extra>\",\"hovertext\":[\"prads\"],\"legendgroup\":\"prads\",\"marker\":{\"color\":\"#EF553B\",\"size\":[0],\"sizemode\":\"area\",\"sizeref\":0.025,\"symbol\":\"circle\"},\"mode\":\"markers\",\"name\":\"prads\",\"orientation\":\"v\",\"showlegend\":true,\"x\":[2.5],\"xaxis\":\"x\",\"y\":[2.5],\"yaxis\":\"y\",\"type\":\"scatter\"},{\"hovertemplate\":\"<b>%{hovertext}</b><br><br>name=puppy<br>timeSpent_timeHomeScreen=%{x}<br>timeSpent_total=%{y}<br>personalRecords_TQA=%{marker.size}<extra></extra>\",\"hovertext\":[\"puppy\"],\"legendgroup\":\"puppy\",\"marker\":{\"color\":\"#00cc96\",\"size\":[23],\"sizemode\":\"area\",\"sizeref\":0.025,\"symbol\":\"circle\"},\"mode\":\"markers\",\"name\":\"puppy\",\"orientation\":\"v\",\"showlegend\":true,\"x\":[131.58],\"xaxis\":\"x\",\"y\":[604.65],\"yaxis\":\"y\",\"type\":\"scatter\"},{\"hovertemplate\":\"<b>%{hovertext}</b><br><br>name=rock<br>timeSpent_timeHomeScreen=%{x}<br>timeSpent_total=%{y}<br>personalRecords_TQA=%{marker.size}<extra></extra>\",\"hovertext\":[\"rock\"],\"legendgroup\":\"rock\",\"marker\":{\"color\":\"#ab63fa\",\"size\":[30],\"sizemode\":\"area\",\"sizeref\":0.025,\"symbol\":\"circle\"},\"mode\":\"markers\",\"name\":\"rock\",\"orientation\":\"v\",\"showlegend\":true,\"x\":[299.28],\"xaxis\":\"x\",\"y\":[924.9000000000001],\"yaxis\":\"y\",\"type\":\"scatter\"},{\"hovertemplate\":\"<b>%{hovertext}</b><br><br>name=sahibjot<br>timeSpent_timeHomeScreen=%{x}<br>timeSpent_total=%{y}<br>personalRecords_TQA=%{marker.size}<extra></extra>\",\"hovertext\":[\"sahibjot\",\"sahibjot\"],\"legendgroup\":\"sahibjot\",\"marker\":{\"color\":\"#FFA15A\",\"size\":[0,58],\"sizemode\":\"area\",\"sizeref\":0.025,\"symbol\":\"circle\"},\"mode\":\"markers\",\"name\":\"sahibjot\",\"orientation\":\"v\",\"showlegend\":true,\"x\":[7.68,160.31],\"xaxis\":\"x\",\"y\":[7.68,1575.92],\"yaxis\":\"y\",\"type\":\"scatter\"},{\"hovertemplate\":\"<b>%{hovertext}</b><br><br>name=samoa<br>timeSpent_timeHomeScreen=%{x}<br>timeSpent_total=%{y}<br>personalRecords_TQA=%{marker.size}<extra></extra>\",\"hovertext\":[\"samoa\"],\"legendgroup\":\"samoa\",\"marker\":{\"color\":\"#19d3f3\",\"size\":[1],\"sizemode\":\"area\",\"sizeref\":0.025,\"symbol\":\"circle\"},\"mode\":\"markers\",\"name\":\"samoa\",\"orientation\":\"v\",\"showlegend\":true,\"x\":[37.71],\"xaxis\":\"x\",\"y\":[142.26],\"yaxis\":\"y\",\"type\":\"scatter\"},{\"hovertemplate\":\"<b>%{hovertext}</b><br><br>name=sarveen<br>timeSpent_timeHomeScreen=%{x}<br>timeSpent_total=%{y}<br>personalRecords_TQA=%{marker.size}<extra></extra>\",\"hovertext\":[\"sarveen\",\"sarveen\",\"sarveen\",\"sarveen\"],\"legendgroup\":\"sarveen\",\"marker\":{\"color\":\"#FF6692\",\"size\":[0,2,0,0],\"sizemode\":\"area\",\"sizeref\":0.025,\"symbol\":\"circle\"},\"mode\":\"markers\",\"name\":\"sarveen\",\"orientation\":\"v\",\"showlegend\":true,\"x\":[8.37,89.19,51.34,13.28],\"xaxis\":\"x\",\"y\":[8.37,170.29000000000002,51.34,13.28],\"yaxis\":\"y\",\"type\":\"scatter\"},{\"hovertemplate\":\"<b>%{hovertext}</b><br><br>name=simar<br>timeSpent_timeHomeScreen=%{x}<br>timeSpent_total=%{y}<br>personalRecords_TQA=%{marker.size}<extra></extra>\",\"hovertext\":[\"simar\"],\"legendgroup\":\"simar\",\"marker\":{\"color\":\"#B6E880\",\"size\":[31],\"sizemode\":\"area\",\"sizeref\":0.025,\"symbol\":\"circle\"},\"mode\":\"markers\",\"name\":\"simar\",\"orientation\":\"v\",\"showlegend\":true,\"x\":[40.38],\"xaxis\":\"x\",\"y\":[672.0900000000001],\"yaxis\":\"y\",\"type\":\"scatter\"},{\"hovertemplate\":\"<b>%{hovertext}</b><br><br>name=sirupate<br>timeSpent_timeHomeScreen=%{x}<br>timeSpent_total=%{y}<br>personalRecords_TQA=%{marker.size}<extra></extra>\",\"hovertext\":[\"sirupate\",\"sirupate\",\"sirupate\",\"sirupate\",\"sirupate\",\"sirupate\",\"sirupate\",\"sirupate\",\"sirupate\",\"sirupate\",\"sirupate\",\"sirupate\",\"sirupate\",\"sirupate\",\"sirupate\",\"sirupate\",\"sirupate\",\"sirupate\",\"sirupate\",\"sirupate\",\"sirupate\",\"sirupate\",\"sirupate\",\"sirupate\",\"sirupate\",\"sirupate\",\"sirupate\",\"sirupate\",\"sirupate\",\"sirupate\",\"sirupate\",\"sirupate\",\"sirupate\",\"sirupate\",\"sirupate\",\"sirupate\",\"sirupate\",\"sirupate\",\"sirupate\",\"sirupate\"],\"legendgroup\":\"sirupate\",\"marker\":{\"color\":\"#FF97FF\",\"size\":[0,0,0,0,0,0,1,0,0,0,0,0,1,0,2,0,0,0,0,0,0,0,0,0,0,0,0,0,0,3,0,0,0,2,0,6,0,7,0,0],\"sizemode\":\"area\",\"sizeref\":0.025,\"symbol\":\"circle\"},\"mode\":\"markers\",\"name\":\"sirupate\",\"orientation\":\"v\",\"showlegend\":true,\"x\":[0.33,16.4,16.02,58.89,50.87,98.37,19.88,17.52,24.69,10.06,7.37,8.61,55.82,23.82,39.89,29.79,12.38,19.3,14.53,35.57,24.01,16.78,16.42,13.69,15.2,15.42,85.54,10.46,47.96,25.1,10.52,9.87,7.91,4.87,13.04,7.92,24.63,26.07,13.41,36.4],\"xaxis\":\"x\",\"y\":[0.33,16.4,22.45,58.89,50.87,103.25999999999999,32.22,21.259999999999998,46.7,15.4,7.37,14.5,72.08,27.34,80.07000000000001,31.45,12.38,19.3,14.53,35.57,24.01,16.78,16.42,13.69,15.2,15.42,85.54,10.46,47.96,25.1,13.559999999999999,9.87,7.91,4.87,13.04,9.01,37.739999999999995,54.239999999999995,13.41,42.57],\"yaxis\":\"y\",\"type\":\"scatter\"},{\"hovertemplate\":\"<b>%{hovertext}</b><br><br>name=snake<br>timeSpent_timeHomeScreen=%{x}<br>timeSpent_total=%{y}<br>personalRecords_TQA=%{marker.size}<extra></extra>\",\"hovertext\":[\"snake\"],\"legendgroup\":\"snake\",\"marker\":{\"color\":\"#FECB52\",\"size\":[0],\"sizemode\":\"area\",\"sizeref\":0.025,\"symbol\":\"circle\"},\"mode\":\"markers\",\"name\":\"snake\",\"orientation\":\"v\",\"showlegend\":true,\"x\":[2.05],\"xaxis\":\"x\",\"y\":[2.05],\"yaxis\":\"y\",\"type\":\"scatter\"},{\"hovertemplate\":\"<b>%{hovertext}</b><br><br>name=snowflake<br>timeSpent_timeHomeScreen=%{x}<br>timeSpent_total=%{y}<br>personalRecords_TQA=%{marker.size}<extra></extra>\",\"hovertext\":[\"snowflake\"],\"legendgroup\":\"snowflake\",\"marker\":{\"color\":\"#636efa\",\"size\":[33],\"sizemode\":\"area\",\"sizeref\":0.025,\"symbol\":\"circle\"},\"mode\":\"markers\",\"name\":\"snowflake\",\"orientation\":\"v\",\"showlegend\":true,\"x\":[66.05],\"xaxis\":\"x\",\"y\":[597.52],\"yaxis\":\"y\",\"type\":\"scatter\"},{\"hovertemplate\":\"<b>%{hovertext}</b><br><br>name=sukhraj<br>timeSpent_timeHomeScreen=%{x}<br>timeSpent_total=%{y}<br>personalRecords_TQA=%{marker.size}<extra></extra>\",\"hovertext\":[\"sukhraj\"],\"legendgroup\":\"sukhraj\",\"marker\":{\"color\":\"#EF553B\",\"size\":[34],\"sizemode\":\"area\",\"sizeref\":0.025,\"symbol\":\"circle\"},\"mode\":\"markers\",\"name\":\"sukhraj\",\"orientation\":\"v\",\"showlegend\":true,\"x\":[45.44],\"xaxis\":\"x\",\"y\":[426.09000000000003],\"yaxis\":\"y\",\"type\":\"scatter\"},{\"hovertemplate\":\"<b>%{hovertext}</b><br><br>name=tamiha<br>timeSpent_timeHomeScreen=%{x}<br>timeSpent_total=%{y}<br>personalRecords_TQA=%{marker.size}<extra></extra>\",\"hovertext\":[\"tamiha\"],\"legendgroup\":\"tamiha\",\"marker\":{\"color\":\"#00cc96\",\"size\":[17],\"sizemode\":\"area\",\"sizeref\":0.025,\"symbol\":\"circle\"},\"mode\":\"markers\",\"name\":\"tamiha\",\"orientation\":\"v\",\"showlegend\":true,\"x\":[51.03],\"xaxis\":\"x\",\"y\":[399.52],\"yaxis\":\"y\",\"type\":\"scatter\"},{\"hovertemplate\":\"<b>%{hovertext}</b><br><br>name=tegnoor<br>timeSpent_timeHomeScreen=%{x}<br>timeSpent_total=%{y}<br>personalRecords_TQA=%{marker.size}<extra></extra>\",\"hovertext\":[\"tegnoor\",\"tegnoor\"],\"legendgroup\":\"tegnoor\",\"marker\":{\"color\":\"#ab63fa\",\"size\":[0,16],\"sizemode\":\"area\",\"sizeref\":0.025,\"symbol\":\"circle\"},\"mode\":\"markers\",\"name\":\"tegnoor\",\"orientation\":\"v\",\"showlegend\":true,\"x\":[3.4,46.56],\"xaxis\":\"x\",\"y\":[3.4,442.52],\"yaxis\":\"y\",\"type\":\"scatter\"},{\"hovertemplate\":\"<b>%{hovertext}</b><br><br>name=teri  pradeep<br>timeSpent_timeHomeScreen=%{x}<br>timeSpent_total=%{y}<br>personalRecords_TQA=%{marker.size}<extra></extra>\",\"hovertext\":[\"teri  pradeep\",\"teri  pradeep\"],\"legendgroup\":\"teri  pradeep\",\"marker\":{\"color\":\"#FFA15A\",\"size\":[0,5],\"sizemode\":\"area\",\"sizeref\":0.025,\"symbol\":\"circle\"},\"mode\":\"markers\",\"name\":\"teri  pradeep\",\"orientation\":\"v\",\"showlegend\":true,\"x\":[0.03,217.7],\"xaxis\":\"x\",\"y\":[0.03,220.85],\"yaxis\":\"y\",\"type\":\"scatter\"},{\"hovertemplate\":\"<b>%{hovertext}</b><br><br>name=what  your<br>timeSpent_timeHomeScreen=%{x}<br>timeSpent_total=%{y}<br>personalRecords_TQA=%{marker.size}<extra></extra>\",\"hovertext\":[\"what  your\"],\"legendgroup\":\"what  your\",\"marker\":{\"color\":\"#19d3f3\",\"size\":[19],\"sizemode\":\"area\",\"sizeref\":0.025,\"symbol\":\"circle\"},\"mode\":\"markers\",\"name\":\"what  your\",\"orientation\":\"v\",\"showlegend\":true,\"x\":[80.43],\"xaxis\":\"x\",\"y\":[433.65000000000003],\"yaxis\":\"y\",\"type\":\"scatter\"},{\"hovertemplate\":\"<b>%{hovertext}</b><br><br>name=yash<br>timeSpent_timeHomeScreen=%{x}<br>timeSpent_total=%{y}<br>personalRecords_TQA=%{marker.size}<extra></extra>\",\"hovertext\":[\"yash\",\"yash\",\"yash\",\"yash\",\"yash\",\"yash\",\"yash\",\"yash\",\"yash\",\"yash\"],\"legendgroup\":\"yash\",\"marker\":{\"color\":\"#FF6692\",\"size\":[0,4,9,2,0,5,0,1,0,2],\"sizemode\":\"area\",\"sizeref\":0.025,\"symbol\":\"circle\"},\"mode\":\"markers\",\"name\":\"yash\",\"orientation\":\"v\",\"showlegend\":true,\"x\":[10.01,149.97,65.1,33.52,171.49,18.02,47.0,30.8,17.46,24.15],\"xaxis\":\"x\",\"y\":[11.84,272.5,323.45000000000005,77.25,293.2,155.2,285.3,39.85,17.46,63.94],\"yaxis\":\"y\",\"type\":\"scatter\"}],                        {\"template\":{\"data\":{\"histogram2dcontour\":[{\"type\":\"histogram2dcontour\",\"colorbar\":{\"outlinewidth\":0,\"ticks\":\"\"},\"colorscale\":[[0.0,\"#0d0887\"],[0.1111111111111111,\"#46039f\"],[0.2222222222222222,\"#7201a8\"],[0.3333333333333333,\"#9c179e\"],[0.4444444444444444,\"#bd3786\"],[0.5555555555555556,\"#d8576b\"],[0.6666666666666666,\"#ed7953\"],[0.7777777777777778,\"#fb9f3a\"],[0.8888888888888888,\"#fdca26\"],[1.0,\"#f0f921\"]]}],\"choropleth\":[{\"type\":\"choropleth\",\"colorbar\":{\"outlinewidth\":0,\"ticks\":\"\"}}],\"histogram2d\":[{\"type\":\"histogram2d\",\"colorbar\":{\"outlinewidth\":0,\"ticks\":\"\"},\"colorscale\":[[0.0,\"#0d0887\"],[0.1111111111111111,\"#46039f\"],[0.2222222222222222,\"#7201a8\"],[0.3333333333333333,\"#9c179e\"],[0.4444444444444444,\"#bd3786\"],[0.5555555555555556,\"#d8576b\"],[0.6666666666666666,\"#ed7953\"],[0.7777777777777778,\"#fb9f3a\"],[0.8888888888888888,\"#fdca26\"],[1.0,\"#f0f921\"]]}],\"heatmap\":[{\"type\":\"heatmap\",\"colorbar\":{\"outlinewidth\":0,\"ticks\":\"\"},\"colorscale\":[[0.0,\"#0d0887\"],[0.1111111111111111,\"#46039f\"],[0.2222222222222222,\"#7201a8\"],[0.3333333333333333,\"#9c179e\"],[0.4444444444444444,\"#bd3786\"],[0.5555555555555556,\"#d8576b\"],[0.6666666666666666,\"#ed7953\"],[0.7777777777777778,\"#fb9f3a\"],[0.8888888888888888,\"#fdca26\"],[1.0,\"#f0f921\"]]}],\"heatmapgl\":[{\"type\":\"heatmapgl\",\"colorbar\":{\"outlinewidth\":0,\"ticks\":\"\"},\"colorscale\":[[0.0,\"#0d0887\"],[0.1111111111111111,\"#46039f\"],[0.2222222222222222,\"#7201a8\"],[0.3333333333333333,\"#9c179e\"],[0.4444444444444444,\"#bd3786\"],[0.5555555555555556,\"#d8576b\"],[0.6666666666666666,\"#ed7953\"],[0.7777777777777778,\"#fb9f3a\"],[0.8888888888888888,\"#fdca26\"],[1.0,\"#f0f921\"]]}],\"contourcarpet\":[{\"type\":\"contourcarpet\",\"colorbar\":{\"outlinewidth\":0,\"ticks\":\"\"}}],\"contour\":[{\"type\":\"contour\",\"colorbar\":{\"outlinewidth\":0,\"ticks\":\"\"},\"colorscale\":[[0.0,\"#0d0887\"],[0.1111111111111111,\"#46039f\"],[0.2222222222222222,\"#7201a8\"],[0.3333333333333333,\"#9c179e\"],[0.4444444444444444,\"#bd3786\"],[0.5555555555555556,\"#d8576b\"],[0.6666666666666666,\"#ed7953\"],[0.7777777777777778,\"#fb9f3a\"],[0.8888888888888888,\"#fdca26\"],[1.0,\"#f0f921\"]]}],\"surface\":[{\"type\":\"surface\",\"colorbar\":{\"outlinewidth\":0,\"ticks\":\"\"},\"colorscale\":[[0.0,\"#0d0887\"],[0.1111111111111111,\"#46039f\"],[0.2222222222222222,\"#7201a8\"],[0.3333333333333333,\"#9c179e\"],[0.4444444444444444,\"#bd3786\"],[0.5555555555555556,\"#d8576b\"],[0.6666666666666666,\"#ed7953\"],[0.7777777777777778,\"#fb9f3a\"],[0.8888888888888888,\"#fdca26\"],[1.0,\"#f0f921\"]]}],\"mesh3d\":[{\"type\":\"mesh3d\",\"colorbar\":{\"outlinewidth\":0,\"ticks\":\"\"}}],\"scatter\":[{\"fillpattern\":{\"fillmode\":\"overlay\",\"size\":10,\"solidity\":0.2},\"type\":\"scatter\"}],\"parcoords\":[{\"type\":\"parcoords\",\"line\":{\"colorbar\":{\"outlinewidth\":0,\"ticks\":\"\"}}}],\"scatterpolargl\":[{\"type\":\"scatterpolargl\",\"marker\":{\"colorbar\":{\"outlinewidth\":0,\"ticks\":\"\"}}}],\"bar\":[{\"error_x\":{\"color\":\"#2a3f5f\"},\"error_y\":{\"color\":\"#2a3f5f\"},\"marker\":{\"line\":{\"color\":\"#E5ECF6\",\"width\":0.5},\"pattern\":{\"fillmode\":\"overlay\",\"size\":10,\"solidity\":0.2}},\"type\":\"bar\"}],\"scattergeo\":[{\"type\":\"scattergeo\",\"marker\":{\"colorbar\":{\"outlinewidth\":0,\"ticks\":\"\"}}}],\"scatterpolar\":[{\"type\":\"scatterpolar\",\"marker\":{\"colorbar\":{\"outlinewidth\":0,\"ticks\":\"\"}}}],\"histogram\":[{\"marker\":{\"pattern\":{\"fillmode\":\"overlay\",\"size\":10,\"solidity\":0.2}},\"type\":\"histogram\"}],\"scattergl\":[{\"type\":\"scattergl\",\"marker\":{\"colorbar\":{\"outlinewidth\":0,\"ticks\":\"\"}}}],\"scatter3d\":[{\"type\":\"scatter3d\",\"line\":{\"colorbar\":{\"outlinewidth\":0,\"ticks\":\"\"}},\"marker\":{\"colorbar\":{\"outlinewidth\":0,\"ticks\":\"\"}}}],\"scattermapbox\":[{\"type\":\"scattermapbox\",\"marker\":{\"colorbar\":{\"outlinewidth\":0,\"ticks\":\"\"}}}],\"scatterternary\":[{\"type\":\"scatterternary\",\"marker\":{\"colorbar\":{\"outlinewidth\":0,\"ticks\":\"\"}}}],\"scattercarpet\":[{\"type\":\"scattercarpet\",\"marker\":{\"colorbar\":{\"outlinewidth\":0,\"ticks\":\"\"}}}],\"carpet\":[{\"aaxis\":{\"endlinecolor\":\"#2a3f5f\",\"gridcolor\":\"white\",\"linecolor\":\"white\",\"minorgridcolor\":\"white\",\"startlinecolor\":\"#2a3f5f\"},\"baxis\":{\"endlinecolor\":\"#2a3f5f\",\"gridcolor\":\"white\",\"linecolor\":\"white\",\"minorgridcolor\":\"white\",\"startlinecolor\":\"#2a3f5f\"},\"type\":\"carpet\"}],\"table\":[{\"cells\":{\"fill\":{\"color\":\"#EBF0F8\"},\"line\":{\"color\":\"white\"}},\"header\":{\"fill\":{\"color\":\"#C8D4E3\"},\"line\":{\"color\":\"white\"}},\"type\":\"table\"}],\"barpolar\":[{\"marker\":{\"line\":{\"color\":\"#E5ECF6\",\"width\":0.5},\"pattern\":{\"fillmode\":\"overlay\",\"size\":10,\"solidity\":0.2}},\"type\":\"barpolar\"}],\"pie\":[{\"automargin\":true,\"type\":\"pie\"}]},\"layout\":{\"autotypenumbers\":\"strict\",\"colorway\":[\"#636efa\",\"#EF553B\",\"#00cc96\",\"#ab63fa\",\"#FFA15A\",\"#19d3f3\",\"#FF6692\",\"#B6E880\",\"#FF97FF\",\"#FECB52\"],\"font\":{\"color\":\"#2a3f5f\"},\"hovermode\":\"closest\",\"hoverlabel\":{\"align\":\"left\"},\"paper_bgcolor\":\"white\",\"plot_bgcolor\":\"#E5ECF6\",\"polar\":{\"bgcolor\":\"#E5ECF6\",\"angularaxis\":{\"gridcolor\":\"white\",\"linecolor\":\"white\",\"ticks\":\"\"},\"radialaxis\":{\"gridcolor\":\"white\",\"linecolor\":\"white\",\"ticks\":\"\"}},\"ternary\":{\"bgcolor\":\"#E5ECF6\",\"aaxis\":{\"gridcolor\":\"white\",\"linecolor\":\"white\",\"ticks\":\"\"},\"baxis\":{\"gridcolor\":\"white\",\"linecolor\":\"white\",\"ticks\":\"\"},\"caxis\":{\"gridcolor\":\"white\",\"linecolor\":\"white\",\"ticks\":\"\"}},\"coloraxis\":{\"colorbar\":{\"outlinewidth\":0,\"ticks\":\"\"}},\"colorscale\":{\"sequential\":[[0.0,\"#0d0887\"],[0.1111111111111111,\"#46039f\"],[0.2222222222222222,\"#7201a8\"],[0.3333333333333333,\"#9c179e\"],[0.4444444444444444,\"#bd3786\"],[0.5555555555555556,\"#d8576b\"],[0.6666666666666666,\"#ed7953\"],[0.7777777777777778,\"#fb9f3a\"],[0.8888888888888888,\"#fdca26\"],[1.0,\"#f0f921\"]],\"sequentialminus\":[[0.0,\"#0d0887\"],[0.1111111111111111,\"#46039f\"],[0.2222222222222222,\"#7201a8\"],[0.3333333333333333,\"#9c179e\"],[0.4444444444444444,\"#bd3786\"],[0.5555555555555556,\"#d8576b\"],[0.6666666666666666,\"#ed7953\"],[0.7777777777777778,\"#fb9f3a\"],[0.8888888888888888,\"#fdca26\"],[1.0,\"#f0f921\"]],\"diverging\":[[0,\"#8e0152\"],[0.1,\"#c51b7d\"],[0.2,\"#de77ae\"],[0.3,\"#f1b6da\"],[0.4,\"#fde0ef\"],[0.5,\"#f7f7f7\"],[0.6,\"#e6f5d0\"],[0.7,\"#b8e186\"],[0.8,\"#7fbc41\"],[0.9,\"#4d9221\"],[1,\"#276419\"]]},\"xaxis\":{\"gridcolor\":\"white\",\"linecolor\":\"white\",\"ticks\":\"\",\"title\":{\"standoff\":15},\"zerolinecolor\":\"white\",\"automargin\":true,\"zerolinewidth\":2},\"yaxis\":{\"gridcolor\":\"white\",\"linecolor\":\"white\",\"ticks\":\"\",\"title\":{\"standoff\":15},\"zerolinecolor\":\"white\",\"automargin\":true,\"zerolinewidth\":2},\"scene\":{\"xaxis\":{\"backgroundcolor\":\"#E5ECF6\",\"gridcolor\":\"white\",\"linecolor\":\"white\",\"showbackground\":true,\"ticks\":\"\",\"zerolinecolor\":\"white\",\"gridwidth\":2},\"yaxis\":{\"backgroundcolor\":\"#E5ECF6\",\"gridcolor\":\"white\",\"linecolor\":\"white\",\"showbackground\":true,\"ticks\":\"\",\"zerolinecolor\":\"white\",\"gridwidth\":2},\"zaxis\":{\"backgroundcolor\":\"#E5ECF6\",\"gridcolor\":\"white\",\"linecolor\":\"white\",\"showbackground\":true,\"ticks\":\"\",\"zerolinecolor\":\"white\",\"gridwidth\":2}},\"shapedefaults\":{\"line\":{\"color\":\"#2a3f5f\"}},\"annotationdefaults\":{\"arrowcolor\":\"#2a3f5f\",\"arrowhead\":0,\"arrowwidth\":1},\"geo\":{\"bgcolor\":\"white\",\"landcolor\":\"#E5ECF6\",\"subunitcolor\":\"white\",\"showland\":true,\"showlakes\":true,\"lakecolor\":\"white\"},\"title\":{\"x\":0.05},\"mapbox\":{\"style\":\"light\"}}},\"xaxis\":{\"anchor\":\"y\",\"domain\":[0.0,1.0],\"title\":{\"text\":\"timeSpent_timeHomeScreen\"},\"type\":\"log\"},\"yaxis\":{\"anchor\":\"x\",\"domain\":[0.0,1.0],\"title\":{\"text\":\"timeSpent_total\"}},\"legend\":{\"title\":{\"text\":\"name\"},\"tracegroupgap\":0,\"itemsizing\":\"constant\"},\"margin\":{\"t\":60}},                        {\"responsive\": true}                    ).then(function(){\n",
       "                            \n",
       "var gd = document.getElementById('789d9302-6917-4bbc-85cb-c25ade7e011c');\n",
       "var x = new MutationObserver(function (mutations, observer) {{\n",
       "        var display = window.getComputedStyle(gd).display;\n",
       "        if (!display || display === 'none') {{\n",
       "            console.log([gd, 'removed!']);\n",
       "            Plotly.purge(gd);\n",
       "            observer.disconnect();\n",
       "        }}\n",
       "}});\n",
       "\n",
       "// Listen for the removal of the full notebook cells\n",
       "var notebookContainer = gd.closest('#notebook-container');\n",
       "if (notebookContainer) {{\n",
       "    x.observe(notebookContainer, {childList: true});\n",
       "}}\n",
       "\n",
       "// Listen for the clearing of the current output cell\n",
       "var outputEl = gd.closest('.output');\n",
       "if (outputEl) {{\n",
       "    x.observe(outputEl, {childList: true});\n",
       "}}\n",
       "\n",
       "                        })                };                });            </script>        </div>"
      ]
     },
     "metadata": {},
     "output_type": "display_data"
    }
   ],
   "source": [
    "px.scatter(user_data, x=\"timeSpent_timeHomeScreen\", y=\"timeSpent_total\",\n",
    "                 size=\"personalRecords_TQA\", color=\"name\", hover_name=\"name\",\n",
    "                 log_x=True, size_max=60)"
   ]
  },
  {
   "cell_type": "code",
   "execution_count": 32,
   "id": "39a3408d",
   "metadata": {},
   "outputs": [],
   "source": [
    "import plotly.express as px\n",
    "df = px.data.tips()\n",
    "df.head()\n",
    "df=user_data"
   ]
  },
  {
   "cell_type": "code",
   "execution_count": 36,
   "id": "a1ee61c0",
   "metadata": {},
   "outputs": [
    {
     "data": {
      "application/vnd.plotly.v1+json": {
       "config": {
        "plotlyServerURL": "https://plot.ly"
       },
       "data": [
        {
         "hovertemplate": "name=%{x}<br>timeSpent_total=%{y}<extra></extra>",
         "legendgroup": "",
         "marker": {
          "color": "#636efa",
          "symbol": "circle"
         },
         "mode": "markers",
         "name": "",
         "orientation": "v",
         "showlegend": false,
         "type": "scatter",
         "x": [
          "abhijot",
          "alice",
          "amreet",
          "amreet",
          "anant",
          "Melody",
          "Melody",
          "Melody",
          "Melody",
          "anant",
          "aneiba",
          "arsh",
          "avleen",
          "avleen",
          "avneet",
          "ayana",
          "baby",
          "bear",
          "boomerang",
          "boomerang",
          "brody",
          "brody",
          "brody",
          "brody",
          "brody",
          "brody",
          "brody",
          "brody",
          "charlotte",
          "daddy",
          "daddy",
          "daddy",
          "daddy",
          "dev",
          "dev",
          "dilrajan",
          "do  like  dogs",
          "edward",
          "ekjot",
          "emily",
          "emily",
          "gurnell",
          "harman  feet",
          "jack",
          "jashleen",
          "jashleen",
          "jazz",
          "jessie  mei  li",
          "joe",
          "john",
          "john",
          "john",
          "jorawar",
          "josh",
          "josé",
          "josé",
          "jude",
          "kenny",
          "kenny",
          "krizia",
          "krizia",
          "krizia",
          "krizia",
          "krizia",
          "krizia",
          "krizia",
          "krizia",
          "krizia",
          "krizia",
          "krizia",
          "krizia",
          "krizia",
          "krizia",
          "krizia",
          "krizia",
          "krizia",
          "krizia",
          "krizia",
          "krizia",
          "maayan",
          "manveer",
          "margot",
          "marwa",
          "marwa",
          "max",
          "mehtab",
          "mehtab",
          "",
          "nyla",
          "pauldy",
          "pauldy",
          "peri  peri",
          "peri  peri",
          "peri  peri",
          "pewdiepie",
          "pradeep",
          "pradeep",
          "pradeep",
          "pradeep",
          "pradeep",
          "pradip",
          "",
          "pradip",
          "pradip",
          "pradip",
          "",
          "",
          "",
          "",
          "",
          "pradip",
          "pradip",
          "pradip",
          "pradip",
          "pradip",
          "pradip",
          "Pradip",
          "",
          "",
          "Pradip",
          "Pradip",
          "Pradip",
          "Pradip",
          "Pradip",
          "Pradip",
          "Amit",
          "pradip",
          "Amit",
          "Amit",
          "Amit",
          "Amit",
          "Amit",
          "Amit",
          "pradip",
          "pradip",
          "pradip",
          "pradip",
          "pradip",
          "pradip",
          "pradip",
          "pradip",
          "pradip",
          "pradip",
          "pradip",
          "",
          "",
          "",
          "",
          "pradip",
          "pradip",
          "pradip",
          "pradip",
          "pradip",
          "pradip",
          "pradip",
          "pradip",
          "pradip",
          "pradip",
          "prads",
          "",
          "",
          "puppy",
          "rock",
          "sahibjot",
          "sahibjot",
          "samoa",
          "sarveen",
          "sarveen",
          "sarveen",
          "sarveen",
          "simar",
          "sirupate",
          "sirupate",
          "sirupate",
          "sirupate",
          "",
          "sirupate",
          "sirupate",
          "sirupate",
          "sirupate",
          "sirupate",
          "sirupate",
          "sirupate",
          "sirupate",
          "sirupate",
          "sirupate",
          "sirupate",
          "sirupate",
          "sirupate",
          "sirupate",
          "sirupate",
          "sirupate",
          "sirupate",
          "sirupate",
          "sirupate",
          "sirupate",
          "sirupate",
          "sirupate",
          "sirupate",
          "sirupate",
          "sirupate",
          "sirupate",
          "",
          "sirupate",
          "sirupate",
          "sirupate",
          "sirupate",
          "sirupate",
          "sirupate",
          "sirupate",
          "sirupate",
          "sirupate",
          "sirupate",
          "",
          "",
          "",
          "",
          "snake",
          "snowflake",
          "sukhraj",
          "tamiha",
          "tegnoor",
          "tegnoor",
          "teri  pradeep",
          "teri  pradeep",
          "what  your",
          "yash",
          "yash",
          "yash",
          "yash",
          "yash",
          "yash",
          "yash",
          "yash",
          "yash",
          "yash"
         ],
         "xaxis": "x",
         "y": [
          536.05,
          529.95,
          279.52,
          20.99,
          0.03,
          198.29000000000002,
          24.2,
          49.21,
          117.28999999999999,
          535.33,
          226.84,
          215.99,
          1028.12,
          226.98,
          1309.8300000000002,
          676.9,
          664.59,
          3.83,
          26.79,
          47.35,
          -1.37,
          6.5,
          5.45,
          3.7,
          26.61,
          0.64,
          1.43,
          33.01,
          538.19,
          27.8,
          98.16,
          670.13,
          45.78,
          11.87,
          64.19,
          695.55,
          498.79,
          530.25,
          530.15,
          613.2,
          446.89,
          365.63,
          864.2499999999999,
          416.88,
          340.08,
          36.66,
          504.28999999999996,
          620.2800000000001,
          4,
          276.96,
          320.36,
          94.35,
          379.96000000000004,
          54.15,
          18.78,
          320.61,
          975.3199999999999,
          272.59000000000003,
          653.7099999999999,
          36.77,
          120.71000000000001,
          305.89,
          339.12000000000006,
          415.59,
          3.85,
          42.459999999999994,
          42.57,
          451.12999999999994,
          2324.42,
          250.71,
          209.94999999999996,
          653.77,
          367.82000000000005,
          534.6,
          60.69,
          122.02,
          2900.38,
          437.03999999999996,
          145.72,
          327.14,
          1383.74,
          443.81,
          82.17,
          329.47999999999996,
          887.85,
          617.07,
          0.03,
          0.03,
          954.16,
          417.61,
          202.37,
          176.96,
          12.19,
          354.93000000000006,
          1.62,
          87.68,
          149.47,
          0.03,
          5.41,
          0.03,
          171.42,
          5.03,
          6.52,
          58.2,
          350.39,
          21.200000000000003,
          48.150000000000006,
          55.120000000000005,
          0.33,
          0.33,
          23.37,
          39.52,
          73.81,
          62.58,
          279.54,
          204.64,
          31.41,
          2.94,
          2.2,
          15.19,
          47.72,
          3.81,
          23.69,
          9.92,
          16.61,
          99.93,
          1.74,
          22.79,
          15.62,
          14.99,
          21.85,
          16.74,
          32.32,
          0.33,
          1.53,
          198.29000000000005,
          88.33000000000001,
          140.43,
          14.76,
          66.99,
          18.63,
          33.67,
          15.64,
          40.53,
          0.33,
          0.33,
          0.33,
          0.33,
          18.41,
          39.18000000000001,
          185.07,
          214.94,
          15.67,
          12,
          6.96,
          30.63,
          6.98,
          121.08,
          2.5,
          0.33,
          0.33,
          604.65,
          924.9000000000001,
          7.68,
          1575.92,
          142.26,
          8.37,
          170.29000000000002,
          51.34,
          13.28,
          672.0900000000001,
          0.33,
          16.4,
          22.45,
          58.89,
          8.81,
          50.87,
          103.25999999999999,
          32.22,
          21.259999999999998,
          46.7,
          15.4,
          7.37,
          14.5,
          72.08,
          27.34,
          80.07000000000001,
          31.45,
          12.38,
          19.3,
          14.53,
          35.57,
          24.01,
          16.78,
          16.42,
          13.69,
          15.2,
          15.42,
          85.54,
          10.46,
          47.96,
          25.1,
          3.46,
          13.559999999999999,
          9.87,
          7.91,
          4.87,
          13.04,
          9.01,
          37.739999999999995,
          54.239999999999995,
          13.41,
          42.57,
          3.43,
          4.18,
          0.33,
          0.33,
          2.05,
          597.52,
          426.09000000000003,
          399.52,
          3.4,
          442.52,
          0.03,
          220.85,
          433.65000000000003,
          11.84,
          272.5,
          323.45000000000005,
          77.25,
          293.2,
          155.2,
          285.3,
          39.85,
          17.46,
          63.94
         ],
         "yaxis": "y"
        }
       ],
       "layout": {
        "legend": {
         "tracegroupgap": 0
        },
        "margin": {
         "t": 60
        },
        "template": {
         "data": {
          "bar": [
           {
            "error_x": {
             "color": "#2a3f5f"
            },
            "error_y": {
             "color": "#2a3f5f"
            },
            "marker": {
             "line": {
              "color": "#E5ECF6",
              "width": 0.5
             },
             "pattern": {
              "fillmode": "overlay",
              "size": 10,
              "solidity": 0.2
             }
            },
            "type": "bar"
           }
          ],
          "barpolar": [
           {
            "marker": {
             "line": {
              "color": "#E5ECF6",
              "width": 0.5
             },
             "pattern": {
              "fillmode": "overlay",
              "size": 10,
              "solidity": 0.2
             }
            },
            "type": "barpolar"
           }
          ],
          "carpet": [
           {
            "aaxis": {
             "endlinecolor": "#2a3f5f",
             "gridcolor": "white",
             "linecolor": "white",
             "minorgridcolor": "white",
             "startlinecolor": "#2a3f5f"
            },
            "baxis": {
             "endlinecolor": "#2a3f5f",
             "gridcolor": "white",
             "linecolor": "white",
             "minorgridcolor": "white",
             "startlinecolor": "#2a3f5f"
            },
            "type": "carpet"
           }
          ],
          "choropleth": [
           {
            "colorbar": {
             "outlinewidth": 0,
             "ticks": ""
            },
            "type": "choropleth"
           }
          ],
          "contour": [
           {
            "colorbar": {
             "outlinewidth": 0,
             "ticks": ""
            },
            "colorscale": [
             [
              0,
              "#0d0887"
             ],
             [
              0.1111111111111111,
              "#46039f"
             ],
             [
              0.2222222222222222,
              "#7201a8"
             ],
             [
              0.3333333333333333,
              "#9c179e"
             ],
             [
              0.4444444444444444,
              "#bd3786"
             ],
             [
              0.5555555555555556,
              "#d8576b"
             ],
             [
              0.6666666666666666,
              "#ed7953"
             ],
             [
              0.7777777777777778,
              "#fb9f3a"
             ],
             [
              0.8888888888888888,
              "#fdca26"
             ],
             [
              1,
              "#f0f921"
             ]
            ],
            "type": "contour"
           }
          ],
          "contourcarpet": [
           {
            "colorbar": {
             "outlinewidth": 0,
             "ticks": ""
            },
            "type": "contourcarpet"
           }
          ],
          "heatmap": [
           {
            "colorbar": {
             "outlinewidth": 0,
             "ticks": ""
            },
            "colorscale": [
             [
              0,
              "#0d0887"
             ],
             [
              0.1111111111111111,
              "#46039f"
             ],
             [
              0.2222222222222222,
              "#7201a8"
             ],
             [
              0.3333333333333333,
              "#9c179e"
             ],
             [
              0.4444444444444444,
              "#bd3786"
             ],
             [
              0.5555555555555556,
              "#d8576b"
             ],
             [
              0.6666666666666666,
              "#ed7953"
             ],
             [
              0.7777777777777778,
              "#fb9f3a"
             ],
             [
              0.8888888888888888,
              "#fdca26"
             ],
             [
              1,
              "#f0f921"
             ]
            ],
            "type": "heatmap"
           }
          ],
          "heatmapgl": [
           {
            "colorbar": {
             "outlinewidth": 0,
             "ticks": ""
            },
            "colorscale": [
             [
              0,
              "#0d0887"
             ],
             [
              0.1111111111111111,
              "#46039f"
             ],
             [
              0.2222222222222222,
              "#7201a8"
             ],
             [
              0.3333333333333333,
              "#9c179e"
             ],
             [
              0.4444444444444444,
              "#bd3786"
             ],
             [
              0.5555555555555556,
              "#d8576b"
             ],
             [
              0.6666666666666666,
              "#ed7953"
             ],
             [
              0.7777777777777778,
              "#fb9f3a"
             ],
             [
              0.8888888888888888,
              "#fdca26"
             ],
             [
              1,
              "#f0f921"
             ]
            ],
            "type": "heatmapgl"
           }
          ],
          "histogram": [
           {
            "marker": {
             "pattern": {
              "fillmode": "overlay",
              "size": 10,
              "solidity": 0.2
             }
            },
            "type": "histogram"
           }
          ],
          "histogram2d": [
           {
            "colorbar": {
             "outlinewidth": 0,
             "ticks": ""
            },
            "colorscale": [
             [
              0,
              "#0d0887"
             ],
             [
              0.1111111111111111,
              "#46039f"
             ],
             [
              0.2222222222222222,
              "#7201a8"
             ],
             [
              0.3333333333333333,
              "#9c179e"
             ],
             [
              0.4444444444444444,
              "#bd3786"
             ],
             [
              0.5555555555555556,
              "#d8576b"
             ],
             [
              0.6666666666666666,
              "#ed7953"
             ],
             [
              0.7777777777777778,
              "#fb9f3a"
             ],
             [
              0.8888888888888888,
              "#fdca26"
             ],
             [
              1,
              "#f0f921"
             ]
            ],
            "type": "histogram2d"
           }
          ],
          "histogram2dcontour": [
           {
            "colorbar": {
             "outlinewidth": 0,
             "ticks": ""
            },
            "colorscale": [
             [
              0,
              "#0d0887"
             ],
             [
              0.1111111111111111,
              "#46039f"
             ],
             [
              0.2222222222222222,
              "#7201a8"
             ],
             [
              0.3333333333333333,
              "#9c179e"
             ],
             [
              0.4444444444444444,
              "#bd3786"
             ],
             [
              0.5555555555555556,
              "#d8576b"
             ],
             [
              0.6666666666666666,
              "#ed7953"
             ],
             [
              0.7777777777777778,
              "#fb9f3a"
             ],
             [
              0.8888888888888888,
              "#fdca26"
             ],
             [
              1,
              "#f0f921"
             ]
            ],
            "type": "histogram2dcontour"
           }
          ],
          "mesh3d": [
           {
            "colorbar": {
             "outlinewidth": 0,
             "ticks": ""
            },
            "type": "mesh3d"
           }
          ],
          "parcoords": [
           {
            "line": {
             "colorbar": {
              "outlinewidth": 0,
              "ticks": ""
             }
            },
            "type": "parcoords"
           }
          ],
          "pie": [
           {
            "automargin": true,
            "type": "pie"
           }
          ],
          "scatter": [
           {
            "fillpattern": {
             "fillmode": "overlay",
             "size": 10,
             "solidity": 0.2
            },
            "type": "scatter"
           }
          ],
          "scatter3d": [
           {
            "line": {
             "colorbar": {
              "outlinewidth": 0,
              "ticks": ""
             }
            },
            "marker": {
             "colorbar": {
              "outlinewidth": 0,
              "ticks": ""
             }
            },
            "type": "scatter3d"
           }
          ],
          "scattercarpet": [
           {
            "marker": {
             "colorbar": {
              "outlinewidth": 0,
              "ticks": ""
             }
            },
            "type": "scattercarpet"
           }
          ],
          "scattergeo": [
           {
            "marker": {
             "colorbar": {
              "outlinewidth": 0,
              "ticks": ""
             }
            },
            "type": "scattergeo"
           }
          ],
          "scattergl": [
           {
            "marker": {
             "colorbar": {
              "outlinewidth": 0,
              "ticks": ""
             }
            },
            "type": "scattergl"
           }
          ],
          "scattermapbox": [
           {
            "marker": {
             "colorbar": {
              "outlinewidth": 0,
              "ticks": ""
             }
            },
            "type": "scattermapbox"
           }
          ],
          "scatterpolar": [
           {
            "marker": {
             "colorbar": {
              "outlinewidth": 0,
              "ticks": ""
             }
            },
            "type": "scatterpolar"
           }
          ],
          "scatterpolargl": [
           {
            "marker": {
             "colorbar": {
              "outlinewidth": 0,
              "ticks": ""
             }
            },
            "type": "scatterpolargl"
           }
          ],
          "scatterternary": [
           {
            "marker": {
             "colorbar": {
              "outlinewidth": 0,
              "ticks": ""
             }
            },
            "type": "scatterternary"
           }
          ],
          "surface": [
           {
            "colorbar": {
             "outlinewidth": 0,
             "ticks": ""
            },
            "colorscale": [
             [
              0,
              "#0d0887"
             ],
             [
              0.1111111111111111,
              "#46039f"
             ],
             [
              0.2222222222222222,
              "#7201a8"
             ],
             [
              0.3333333333333333,
              "#9c179e"
             ],
             [
              0.4444444444444444,
              "#bd3786"
             ],
             [
              0.5555555555555556,
              "#d8576b"
             ],
             [
              0.6666666666666666,
              "#ed7953"
             ],
             [
              0.7777777777777778,
              "#fb9f3a"
             ],
             [
              0.8888888888888888,
              "#fdca26"
             ],
             [
              1,
              "#f0f921"
             ]
            ],
            "type": "surface"
           }
          ],
          "table": [
           {
            "cells": {
             "fill": {
              "color": "#EBF0F8"
             },
             "line": {
              "color": "white"
             }
            },
            "header": {
             "fill": {
              "color": "#C8D4E3"
             },
             "line": {
              "color": "white"
             }
            },
            "type": "table"
           }
          ]
         },
         "layout": {
          "annotationdefaults": {
           "arrowcolor": "#2a3f5f",
           "arrowhead": 0,
           "arrowwidth": 1
          },
          "autotypenumbers": "strict",
          "coloraxis": {
           "colorbar": {
            "outlinewidth": 0,
            "ticks": ""
           }
          },
          "colorscale": {
           "diverging": [
            [
             0,
             "#8e0152"
            ],
            [
             0.1,
             "#c51b7d"
            ],
            [
             0.2,
             "#de77ae"
            ],
            [
             0.3,
             "#f1b6da"
            ],
            [
             0.4,
             "#fde0ef"
            ],
            [
             0.5,
             "#f7f7f7"
            ],
            [
             0.6,
             "#e6f5d0"
            ],
            [
             0.7,
             "#b8e186"
            ],
            [
             0.8,
             "#7fbc41"
            ],
            [
             0.9,
             "#4d9221"
            ],
            [
             1,
             "#276419"
            ]
           ],
           "sequential": [
            [
             0,
             "#0d0887"
            ],
            [
             0.1111111111111111,
             "#46039f"
            ],
            [
             0.2222222222222222,
             "#7201a8"
            ],
            [
             0.3333333333333333,
             "#9c179e"
            ],
            [
             0.4444444444444444,
             "#bd3786"
            ],
            [
             0.5555555555555556,
             "#d8576b"
            ],
            [
             0.6666666666666666,
             "#ed7953"
            ],
            [
             0.7777777777777778,
             "#fb9f3a"
            ],
            [
             0.8888888888888888,
             "#fdca26"
            ],
            [
             1,
             "#f0f921"
            ]
           ],
           "sequentialminus": [
            [
             0,
             "#0d0887"
            ],
            [
             0.1111111111111111,
             "#46039f"
            ],
            [
             0.2222222222222222,
             "#7201a8"
            ],
            [
             0.3333333333333333,
             "#9c179e"
            ],
            [
             0.4444444444444444,
             "#bd3786"
            ],
            [
             0.5555555555555556,
             "#d8576b"
            ],
            [
             0.6666666666666666,
             "#ed7953"
            ],
            [
             0.7777777777777778,
             "#fb9f3a"
            ],
            [
             0.8888888888888888,
             "#fdca26"
            ],
            [
             1,
             "#f0f921"
            ]
           ]
          },
          "colorway": [
           "#636efa",
           "#EF553B",
           "#00cc96",
           "#ab63fa",
           "#FFA15A",
           "#19d3f3",
           "#FF6692",
           "#B6E880",
           "#FF97FF",
           "#FECB52"
          ],
          "font": {
           "color": "#2a3f5f"
          },
          "geo": {
           "bgcolor": "white",
           "lakecolor": "white",
           "landcolor": "#E5ECF6",
           "showlakes": true,
           "showland": true,
           "subunitcolor": "white"
          },
          "hoverlabel": {
           "align": "left"
          },
          "hovermode": "closest",
          "mapbox": {
           "style": "light"
          },
          "paper_bgcolor": "white",
          "plot_bgcolor": "#E5ECF6",
          "polar": {
           "angularaxis": {
            "gridcolor": "white",
            "linecolor": "white",
            "ticks": ""
           },
           "bgcolor": "#E5ECF6",
           "radialaxis": {
            "gridcolor": "white",
            "linecolor": "white",
            "ticks": ""
           }
          },
          "scene": {
           "xaxis": {
            "backgroundcolor": "#E5ECF6",
            "gridcolor": "white",
            "gridwidth": 2,
            "linecolor": "white",
            "showbackground": true,
            "ticks": "",
            "zerolinecolor": "white"
           },
           "yaxis": {
            "backgroundcolor": "#E5ECF6",
            "gridcolor": "white",
            "gridwidth": 2,
            "linecolor": "white",
            "showbackground": true,
            "ticks": "",
            "zerolinecolor": "white"
           },
           "zaxis": {
            "backgroundcolor": "#E5ECF6",
            "gridcolor": "white",
            "gridwidth": 2,
            "linecolor": "white",
            "showbackground": true,
            "ticks": "",
            "zerolinecolor": "white"
           }
          },
          "shapedefaults": {
           "line": {
            "color": "#2a3f5f"
           }
          },
          "ternary": {
           "aaxis": {
            "gridcolor": "white",
            "linecolor": "white",
            "ticks": ""
           },
           "baxis": {
            "gridcolor": "white",
            "linecolor": "white",
            "ticks": ""
           },
           "bgcolor": "#E5ECF6",
           "caxis": {
            "gridcolor": "white",
            "linecolor": "white",
            "ticks": ""
           }
          },
          "title": {
           "x": 0.05
          },
          "xaxis": {
           "automargin": true,
           "gridcolor": "white",
           "linecolor": "white",
           "ticks": "",
           "title": {
            "standoff": 15
           },
           "zerolinecolor": "white",
           "zerolinewidth": 2
          },
          "yaxis": {
           "automargin": true,
           "gridcolor": "white",
           "linecolor": "white",
           "ticks": "",
           "title": {
            "standoff": 15
           },
           "zerolinecolor": "white",
           "zerolinewidth": 2
          }
         }
        },
        "xaxis": {
         "anchor": "y",
         "domain": [
          0,
          1
         ],
         "title": {
          "text": "name"
         }
        },
        "yaxis": {
         "anchor": "x",
         "domain": [
          0,
          1
         ],
         "title": {
          "text": "timeSpent_total"
         }
        }
       }
      },
      "text/html": [
       "<div>                            <div id=\"629be2e6-6578-48e9-baf7-67742df8806e\" class=\"plotly-graph-div\" style=\"height:525px; width:100%;\"></div>            <script type=\"text/javascript\">                require([\"plotly\"], function(Plotly) {                    window.PLOTLYENV=window.PLOTLYENV || {};                                    if (document.getElementById(\"629be2e6-6578-48e9-baf7-67742df8806e\")) {                    Plotly.newPlot(                        \"629be2e6-6578-48e9-baf7-67742df8806e\",                        [{\"hovertemplate\":\"name=%{x}<br>timeSpent_total=%{y}<extra></extra>\",\"legendgroup\":\"\",\"marker\":{\"color\":\"#636efa\",\"symbol\":\"circle\"},\"mode\":\"markers\",\"name\":\"\",\"orientation\":\"v\",\"showlegend\":false,\"x\":[\"abhijot\",\"alice\",\"amreet\",\"amreet\",\"anant\",\"Melody\",\"Melody\",\"Melody\",\"Melody\",\"anant\",\"aneiba\",\"arsh\",\"avleen\",\"avleen\",\"avneet\",\"ayana\",\"baby\",\"bear\",\"boomerang\",\"boomerang\",\"brody\",\"brody\",\"brody\",\"brody\",\"brody\",\"brody\",\"brody\",\"brody\",\"charlotte\",\"daddy\",\"daddy\",\"daddy\",\"daddy\",\"dev\",\"dev\",\"dilrajan\",\"do  like  dogs\",\"edward\",\"ekjot\",\"emily\",\"emily\",\"gurnell\",\"harman  feet\",\"jack\",\"jashleen\",\"jashleen\",\"jazz\",\"jessie  mei  li\",\"joe\",\"john\",\"john\",\"john\",\"jorawar\",\"josh\",\"jos\\u00e9\",\"jos\\u00e9\",\"jude\",\"kenny\",\"kenny\",\"krizia\",\"krizia\",\"krizia\",\"krizia\",\"krizia\",\"krizia\",\"krizia\",\"krizia\",\"krizia\",\"krizia\",\"krizia\",\"krizia\",\"krizia\",\"krizia\",\"krizia\",\"krizia\",\"krizia\",\"krizia\",\"krizia\",\"krizia\",\"maayan\",\"manveer\",\"margot\",\"marwa\",\"marwa\",\"max\",\"mehtab\",\"mehtab\",\"\",\"nyla\",\"pauldy\",\"pauldy\",\"peri  peri\",\"peri  peri\",\"peri  peri\",\"pewdiepie\",\"pradeep\",\"pradeep\",\"pradeep\",\"pradeep\",\"pradeep\",\"pradip\",\"\",\"pradip\",\"pradip\",\"pradip\",\"\",\"\",\"\",\"\",\"\",\"pradip\",\"pradip\",\"pradip\",\"pradip\",\"pradip\",\"pradip\",\"Pradip\",\"\",\"\",\"Pradip\",\"Pradip\",\"Pradip\",\"Pradip\",\"Pradip\",\"Pradip\",\"Amit\",\"pradip\",\"Amit\",\"Amit\",\"Amit\",\"Amit\",\"Amit\",\"Amit\",\"pradip\",\"pradip\",\"pradip\",\"pradip\",\"pradip\",\"pradip\",\"pradip\",\"pradip\",\"pradip\",\"pradip\",\"pradip\",\"\",\"\",\"\",\"\",\"pradip\",\"pradip\",\"pradip\",\"pradip\",\"pradip\",\"pradip\",\"pradip\",\"pradip\",\"pradip\",\"pradip\",\"prads\",\"\",\"\",\"puppy\",\"rock\",\"sahibjot\",\"sahibjot\",\"samoa\",\"sarveen\",\"sarveen\",\"sarveen\",\"sarveen\",\"simar\",\"sirupate\",\"sirupate\",\"sirupate\",\"sirupate\",\"\",\"sirupate\",\"sirupate\",\"sirupate\",\"sirupate\",\"sirupate\",\"sirupate\",\"sirupate\",\"sirupate\",\"sirupate\",\"sirupate\",\"sirupate\",\"sirupate\",\"sirupate\",\"sirupate\",\"sirupate\",\"sirupate\",\"sirupate\",\"sirupate\",\"sirupate\",\"sirupate\",\"sirupate\",\"sirupate\",\"sirupate\",\"sirupate\",\"sirupate\",\"sirupate\",\"\",\"sirupate\",\"sirupate\",\"sirupate\",\"sirupate\",\"sirupate\",\"sirupate\",\"sirupate\",\"sirupate\",\"sirupate\",\"sirupate\",\"\",\"\",\"\",\"\",\"snake\",\"snowflake\",\"sukhraj\",\"tamiha\",\"tegnoor\",\"tegnoor\",\"teri  pradeep\",\"teri  pradeep\",\"what  your\",\"yash\",\"yash\",\"yash\",\"yash\",\"yash\",\"yash\",\"yash\",\"yash\",\"yash\",\"yash\"],\"xaxis\":\"x\",\"y\":[536.05,529.95,279.52,20.99,0.03,198.29000000000002,24.2,49.21,117.28999999999999,535.33,226.84,215.99,1028.12,226.98,1309.8300000000002,676.9,664.59,3.83,26.79,47.35,-1.37,6.5,5.45,3.7,26.61,0.64,1.43,33.01,538.19,27.8,98.16,670.13,45.78,11.87,64.19,695.55,498.79,530.25,530.15,613.2,446.89,365.63,864.2499999999999,416.88,340.08,36.66,504.28999999999996,620.2800000000001,4.0,276.96,320.36,94.35,379.96000000000004,54.15,18.78,320.61,975.3199999999999,272.59000000000003,653.7099999999999,36.77,120.71000000000001,305.89,339.12000000000006,415.59,3.85,42.459999999999994,42.57,451.12999999999994,2324.42,250.71,209.94999999999996,653.77,367.82000000000005,534.6,60.69,122.02,2900.38,437.03999999999996,145.72,327.14,1383.74,443.81,82.17,329.47999999999996,887.85,617.07,0.03,0.03,954.16,417.61,202.37,176.96,12.19,354.93000000000006,1.62,87.68,149.47,0.03,5.41,0.03,171.42,5.03,6.52,58.2,350.39,21.200000000000003,48.150000000000006,55.120000000000005,0.33,0.33,23.37,39.52,73.81,62.58,279.54,204.64,31.41,2.94,2.2,15.19,47.72,3.81,23.69,9.92,16.61,99.93,1.74,22.79,15.62,14.99,21.85,16.74,32.32,0.33,1.53,198.29000000000005,88.33000000000001,140.43,14.76,66.99,18.63,33.67,15.64,40.53,0.33,0.33,0.33,0.33,18.41,39.18000000000001,185.07,214.94,15.67,12.0,6.96,30.63,6.98,121.08,2.5,0.33,0.33,604.65,924.9000000000001,7.68,1575.92,142.26,8.37,170.29000000000002,51.34,13.28,672.0900000000001,0.33,16.4,22.45,58.89,8.81,50.87,103.25999999999999,32.22,21.259999999999998,46.7,15.4,7.37,14.5,72.08,27.34,80.07000000000001,31.45,12.38,19.3,14.53,35.57,24.01,16.78,16.42,13.69,15.2,15.42,85.54,10.46,47.96,25.1,3.46,13.559999999999999,9.87,7.91,4.87,13.04,9.01,37.739999999999995,54.239999999999995,13.41,42.57,3.43,4.18,0.33,0.33,2.05,597.52,426.09000000000003,399.52,3.4,442.52,0.03,220.85,433.65000000000003,11.84,272.5,323.45000000000005,77.25,293.2,155.2,285.3,39.85,17.46,63.94],\"yaxis\":\"y\",\"type\":\"scatter\"}],                        {\"template\":{\"data\":{\"histogram2dcontour\":[{\"type\":\"histogram2dcontour\",\"colorbar\":{\"outlinewidth\":0,\"ticks\":\"\"},\"colorscale\":[[0.0,\"#0d0887\"],[0.1111111111111111,\"#46039f\"],[0.2222222222222222,\"#7201a8\"],[0.3333333333333333,\"#9c179e\"],[0.4444444444444444,\"#bd3786\"],[0.5555555555555556,\"#d8576b\"],[0.6666666666666666,\"#ed7953\"],[0.7777777777777778,\"#fb9f3a\"],[0.8888888888888888,\"#fdca26\"],[1.0,\"#f0f921\"]]}],\"choropleth\":[{\"type\":\"choropleth\",\"colorbar\":{\"outlinewidth\":0,\"ticks\":\"\"}}],\"histogram2d\":[{\"type\":\"histogram2d\",\"colorbar\":{\"outlinewidth\":0,\"ticks\":\"\"},\"colorscale\":[[0.0,\"#0d0887\"],[0.1111111111111111,\"#46039f\"],[0.2222222222222222,\"#7201a8\"],[0.3333333333333333,\"#9c179e\"],[0.4444444444444444,\"#bd3786\"],[0.5555555555555556,\"#d8576b\"],[0.6666666666666666,\"#ed7953\"],[0.7777777777777778,\"#fb9f3a\"],[0.8888888888888888,\"#fdca26\"],[1.0,\"#f0f921\"]]}],\"heatmap\":[{\"type\":\"heatmap\",\"colorbar\":{\"outlinewidth\":0,\"ticks\":\"\"},\"colorscale\":[[0.0,\"#0d0887\"],[0.1111111111111111,\"#46039f\"],[0.2222222222222222,\"#7201a8\"],[0.3333333333333333,\"#9c179e\"],[0.4444444444444444,\"#bd3786\"],[0.5555555555555556,\"#d8576b\"],[0.6666666666666666,\"#ed7953\"],[0.7777777777777778,\"#fb9f3a\"],[0.8888888888888888,\"#fdca26\"],[1.0,\"#f0f921\"]]}],\"heatmapgl\":[{\"type\":\"heatmapgl\",\"colorbar\":{\"outlinewidth\":0,\"ticks\":\"\"},\"colorscale\":[[0.0,\"#0d0887\"],[0.1111111111111111,\"#46039f\"],[0.2222222222222222,\"#7201a8\"],[0.3333333333333333,\"#9c179e\"],[0.4444444444444444,\"#bd3786\"],[0.5555555555555556,\"#d8576b\"],[0.6666666666666666,\"#ed7953\"],[0.7777777777777778,\"#fb9f3a\"],[0.8888888888888888,\"#fdca26\"],[1.0,\"#f0f921\"]]}],\"contourcarpet\":[{\"type\":\"contourcarpet\",\"colorbar\":{\"outlinewidth\":0,\"ticks\":\"\"}}],\"contour\":[{\"type\":\"contour\",\"colorbar\":{\"outlinewidth\":0,\"ticks\":\"\"},\"colorscale\":[[0.0,\"#0d0887\"],[0.1111111111111111,\"#46039f\"],[0.2222222222222222,\"#7201a8\"],[0.3333333333333333,\"#9c179e\"],[0.4444444444444444,\"#bd3786\"],[0.5555555555555556,\"#d8576b\"],[0.6666666666666666,\"#ed7953\"],[0.7777777777777778,\"#fb9f3a\"],[0.8888888888888888,\"#fdca26\"],[1.0,\"#f0f921\"]]}],\"surface\":[{\"type\":\"surface\",\"colorbar\":{\"outlinewidth\":0,\"ticks\":\"\"},\"colorscale\":[[0.0,\"#0d0887\"],[0.1111111111111111,\"#46039f\"],[0.2222222222222222,\"#7201a8\"],[0.3333333333333333,\"#9c179e\"],[0.4444444444444444,\"#bd3786\"],[0.5555555555555556,\"#d8576b\"],[0.6666666666666666,\"#ed7953\"],[0.7777777777777778,\"#fb9f3a\"],[0.8888888888888888,\"#fdca26\"],[1.0,\"#f0f921\"]]}],\"mesh3d\":[{\"type\":\"mesh3d\",\"colorbar\":{\"outlinewidth\":0,\"ticks\":\"\"}}],\"scatter\":[{\"fillpattern\":{\"fillmode\":\"overlay\",\"size\":10,\"solidity\":0.2},\"type\":\"scatter\"}],\"parcoords\":[{\"type\":\"parcoords\",\"line\":{\"colorbar\":{\"outlinewidth\":0,\"ticks\":\"\"}}}],\"scatterpolargl\":[{\"type\":\"scatterpolargl\",\"marker\":{\"colorbar\":{\"outlinewidth\":0,\"ticks\":\"\"}}}],\"bar\":[{\"error_x\":{\"color\":\"#2a3f5f\"},\"error_y\":{\"color\":\"#2a3f5f\"},\"marker\":{\"line\":{\"color\":\"#E5ECF6\",\"width\":0.5},\"pattern\":{\"fillmode\":\"overlay\",\"size\":10,\"solidity\":0.2}},\"type\":\"bar\"}],\"scattergeo\":[{\"type\":\"scattergeo\",\"marker\":{\"colorbar\":{\"outlinewidth\":0,\"ticks\":\"\"}}}],\"scatterpolar\":[{\"type\":\"scatterpolar\",\"marker\":{\"colorbar\":{\"outlinewidth\":0,\"ticks\":\"\"}}}],\"histogram\":[{\"marker\":{\"pattern\":{\"fillmode\":\"overlay\",\"size\":10,\"solidity\":0.2}},\"type\":\"histogram\"}],\"scattergl\":[{\"type\":\"scattergl\",\"marker\":{\"colorbar\":{\"outlinewidth\":0,\"ticks\":\"\"}}}],\"scatter3d\":[{\"type\":\"scatter3d\",\"line\":{\"colorbar\":{\"outlinewidth\":0,\"ticks\":\"\"}},\"marker\":{\"colorbar\":{\"outlinewidth\":0,\"ticks\":\"\"}}}],\"scattermapbox\":[{\"type\":\"scattermapbox\",\"marker\":{\"colorbar\":{\"outlinewidth\":0,\"ticks\":\"\"}}}],\"scatterternary\":[{\"type\":\"scatterternary\",\"marker\":{\"colorbar\":{\"outlinewidth\":0,\"ticks\":\"\"}}}],\"scattercarpet\":[{\"type\":\"scattercarpet\",\"marker\":{\"colorbar\":{\"outlinewidth\":0,\"ticks\":\"\"}}}],\"carpet\":[{\"aaxis\":{\"endlinecolor\":\"#2a3f5f\",\"gridcolor\":\"white\",\"linecolor\":\"white\",\"minorgridcolor\":\"white\",\"startlinecolor\":\"#2a3f5f\"},\"baxis\":{\"endlinecolor\":\"#2a3f5f\",\"gridcolor\":\"white\",\"linecolor\":\"white\",\"minorgridcolor\":\"white\",\"startlinecolor\":\"#2a3f5f\"},\"type\":\"carpet\"}],\"table\":[{\"cells\":{\"fill\":{\"color\":\"#EBF0F8\"},\"line\":{\"color\":\"white\"}},\"header\":{\"fill\":{\"color\":\"#C8D4E3\"},\"line\":{\"color\":\"white\"}},\"type\":\"table\"}],\"barpolar\":[{\"marker\":{\"line\":{\"color\":\"#E5ECF6\",\"width\":0.5},\"pattern\":{\"fillmode\":\"overlay\",\"size\":10,\"solidity\":0.2}},\"type\":\"barpolar\"}],\"pie\":[{\"automargin\":true,\"type\":\"pie\"}]},\"layout\":{\"autotypenumbers\":\"strict\",\"colorway\":[\"#636efa\",\"#EF553B\",\"#00cc96\",\"#ab63fa\",\"#FFA15A\",\"#19d3f3\",\"#FF6692\",\"#B6E880\",\"#FF97FF\",\"#FECB52\"],\"font\":{\"color\":\"#2a3f5f\"},\"hovermode\":\"closest\",\"hoverlabel\":{\"align\":\"left\"},\"paper_bgcolor\":\"white\",\"plot_bgcolor\":\"#E5ECF6\",\"polar\":{\"bgcolor\":\"#E5ECF6\",\"angularaxis\":{\"gridcolor\":\"white\",\"linecolor\":\"white\",\"ticks\":\"\"},\"radialaxis\":{\"gridcolor\":\"white\",\"linecolor\":\"white\",\"ticks\":\"\"}},\"ternary\":{\"bgcolor\":\"#E5ECF6\",\"aaxis\":{\"gridcolor\":\"white\",\"linecolor\":\"white\",\"ticks\":\"\"},\"baxis\":{\"gridcolor\":\"white\",\"linecolor\":\"white\",\"ticks\":\"\"},\"caxis\":{\"gridcolor\":\"white\",\"linecolor\":\"white\",\"ticks\":\"\"}},\"coloraxis\":{\"colorbar\":{\"outlinewidth\":0,\"ticks\":\"\"}},\"colorscale\":{\"sequential\":[[0.0,\"#0d0887\"],[0.1111111111111111,\"#46039f\"],[0.2222222222222222,\"#7201a8\"],[0.3333333333333333,\"#9c179e\"],[0.4444444444444444,\"#bd3786\"],[0.5555555555555556,\"#d8576b\"],[0.6666666666666666,\"#ed7953\"],[0.7777777777777778,\"#fb9f3a\"],[0.8888888888888888,\"#fdca26\"],[1.0,\"#f0f921\"]],\"sequentialminus\":[[0.0,\"#0d0887\"],[0.1111111111111111,\"#46039f\"],[0.2222222222222222,\"#7201a8\"],[0.3333333333333333,\"#9c179e\"],[0.4444444444444444,\"#bd3786\"],[0.5555555555555556,\"#d8576b\"],[0.6666666666666666,\"#ed7953\"],[0.7777777777777778,\"#fb9f3a\"],[0.8888888888888888,\"#fdca26\"],[1.0,\"#f0f921\"]],\"diverging\":[[0,\"#8e0152\"],[0.1,\"#c51b7d\"],[0.2,\"#de77ae\"],[0.3,\"#f1b6da\"],[0.4,\"#fde0ef\"],[0.5,\"#f7f7f7\"],[0.6,\"#e6f5d0\"],[0.7,\"#b8e186\"],[0.8,\"#7fbc41\"],[0.9,\"#4d9221\"],[1,\"#276419\"]]},\"xaxis\":{\"gridcolor\":\"white\",\"linecolor\":\"white\",\"ticks\":\"\",\"title\":{\"standoff\":15},\"zerolinecolor\":\"white\",\"automargin\":true,\"zerolinewidth\":2},\"yaxis\":{\"gridcolor\":\"white\",\"linecolor\":\"white\",\"ticks\":\"\",\"title\":{\"standoff\":15},\"zerolinecolor\":\"white\",\"automargin\":true,\"zerolinewidth\":2},\"scene\":{\"xaxis\":{\"backgroundcolor\":\"#E5ECF6\",\"gridcolor\":\"white\",\"linecolor\":\"white\",\"showbackground\":true,\"ticks\":\"\",\"zerolinecolor\":\"white\",\"gridwidth\":2},\"yaxis\":{\"backgroundcolor\":\"#E5ECF6\",\"gridcolor\":\"white\",\"linecolor\":\"white\",\"showbackground\":true,\"ticks\":\"\",\"zerolinecolor\":\"white\",\"gridwidth\":2},\"zaxis\":{\"backgroundcolor\":\"#E5ECF6\",\"gridcolor\":\"white\",\"linecolor\":\"white\",\"showbackground\":true,\"ticks\":\"\",\"zerolinecolor\":\"white\",\"gridwidth\":2}},\"shapedefaults\":{\"line\":{\"color\":\"#2a3f5f\"}},\"annotationdefaults\":{\"arrowcolor\":\"#2a3f5f\",\"arrowhead\":0,\"arrowwidth\":1},\"geo\":{\"bgcolor\":\"white\",\"landcolor\":\"#E5ECF6\",\"subunitcolor\":\"white\",\"showland\":true,\"showlakes\":true,\"lakecolor\":\"white\"},\"title\":{\"x\":0.05},\"mapbox\":{\"style\":\"light\"}}},\"xaxis\":{\"anchor\":\"y\",\"domain\":[0.0,1.0],\"title\":{\"text\":\"name\"}},\"yaxis\":{\"anchor\":\"x\",\"domain\":[0.0,1.0],\"title\":{\"text\":\"timeSpent_total\"}},\"legend\":{\"tracegroupgap\":0},\"margin\":{\"t\":60}},                        {\"responsive\": true}                    ).then(function(){\n",
       "                            \n",
       "var gd = document.getElementById('629be2e6-6578-48e9-baf7-67742df8806e');\n",
       "var x = new MutationObserver(function (mutations, observer) {{\n",
       "        var display = window.getComputedStyle(gd).display;\n",
       "        if (!display || display === 'none') {{\n",
       "            console.log([gd, 'removed!']);\n",
       "            Plotly.purge(gd);\n",
       "            observer.disconnect();\n",
       "        }}\n",
       "}});\n",
       "\n",
       "// Listen for the removal of the full notebook cells\n",
       "var notebookContainer = gd.closest('#notebook-container');\n",
       "if (notebookContainer) {{\n",
       "    x.observe(notebookContainer, {childList: true});\n",
       "}}\n",
       "\n",
       "// Listen for the clearing of the current output cell\n",
       "var outputEl = gd.closest('.output');\n",
       "if (outputEl) {{\n",
       "    x.observe(outputEl, {childList: true});\n",
       "}}\n",
       "\n",
       "                        })                };                });            </script>        </div>"
      ]
     },
     "metadata": {},
     "output_type": "display_data"
    }
   ],
   "source": [
    "px.scatter(df, x=df[\"name\"], y=df[\"timeSpent_total\"])\n",
    "                 "
   ]
  },
  {
   "cell_type": "code",
   "execution_count": 35,
   "id": "e0085a1c",
   "metadata": {},
   "outputs": [
    {
     "data": {
      "image/png": "[encoded data removed]",
      "text/plain": [
       "<Figure size 640x480 with 1 Axes>"
      ]
     },
     "metadata": {},
     "output_type": "display_data"
    }
   ],
   "source": [
    "import matplotlib.pyplot as plt\n",
    "plt.scatter(df['name'], df['timeSpent_total'])\n",
    "plt.xlabel('Person')\n",
    "plt.ylabel('Time spent (minutes)')\n",
    "plt.title('Time spent by each person')\n",
    "plt.show()"
   ]
  },
  {
   "cell_type": "code",
   "execution_count": null,
   "id": "209cca20",
   "metadata": {},
   "outputs": [],
   "source": []
  }
 ],
 "metadata": {
  "kernelspec": {
   "display_name": "Python 3 (ipykernel)",
   "language": "python",
   "name": "python3"
  },
  "language_info": {
   "codemirror_mode": {
    "name": "ipython",
    "version": 3
   },
   "file_extension": ".py",
   "mimetype": "text/x-python",
   "name": "python",
   "nbconvert_exporter": "python",
   "pygments_lexer": "ipython3",
   "version": "3.9.13"
  }
 },
 "nbformat": 4,
 "nbformat_minor": 5
}
