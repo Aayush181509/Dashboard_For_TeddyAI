{
 "cells": [
  {
   "cell_type": "code",
   "execution_count": null,
   "id": "7aea5c5c",
   "metadata": {},
   "outputs": [],
   "source": [
    "import cufflinks as cf\n",
    "import chart_studio.plotly as py\n",
    "import seaborn as sns\n",
    "import plotly.express as px\n",
    "%matplotlib inline\n",
    "from plotly.offline import download_plotlyjs, init_notebook_mode,plot,iplot\n",
    "init_notebook_mode(connected=True)\n",
    "cf.go_offline()\n",
    "import plotly.graph_objects as go\n",
    "import pandas as pd\n",
    "import numpy as np"
   ]
  },
  {
   "cell_type": "code",
   "execution_count": 251,
   "id": "0791abb9",
   "metadata": {},
   "outputs": [
    {
     "data": {
      "text/html": [
       "<div>\n",
       "<style scoped>\n",
       "    .dataframe tbody tr th:only-of-type {\n",
       "        vertical-align: middle;\n",
       "    }\n",
       "\n",
       "    .dataframe tbody tr th {\n",
       "        vertical-align: top;\n",
       "    }\n",
       "\n",
       "    .dataframe thead th {\n",
       "        text-align: right;\n",
       "    }\n",
       "</style>\n",
       "<table border=\"1\" class=\"dataframe\">\n",
       "  <thead>\n",
       "    <tr style=\"text-align: right;\">\n",
       "      <th></th>\n",
       "      <th>IDC</th>\n",
       "    </tr>\n",
       "  </thead>\n",
       "  <tbody>\n",
       "    <tr>\n",
       "      <th>abhijot76957943</th>\n",
       "      <td>{'17-01-2023 15:52:55': {'dateTime': '17/01/20...</td>\n",
       "    </tr>\n",
       "    <tr>\n",
       "      <th>alice40209003</th>\n",
       "      <td>{'16-01-2023 09:52:20': {'dateTime': '16/01/20...</td>\n",
       "    </tr>\n",
       "    <tr>\n",
       "      <th>amreet69858166</th>\n",
       "      <td>{'07-12-2022 14:06:44': {'dateTime': '07/12/20...</td>\n",
       "    </tr>\n",
       "    <tr>\n",
       "      <th>anant16781190</th>\n",
       "      <td>{'18-01-2023 19:34:28': {'dateTime': '18/01/20...</td>\n",
       "    </tr>\n",
       "    <tr>\n",
       "      <th>anant49124580</th>\n",
       "      <td>{'09-12-2022 12:58:36': {'dateTime': '09/12/20...</td>\n",
       "    </tr>\n",
       "  </tbody>\n",
       "</table>\n",
       "</div>"
      ],
      "text/plain": [
       "                                                               IDC\n",
       "abhijot76957943  {'17-01-2023 15:52:55': {'dateTime': '17/01/20...\n",
       "alice40209003    {'16-01-2023 09:52:20': {'dateTime': '16/01/20...\n",
       "amreet69858166   {'07-12-2022 14:06:44': {'dateTime': '07/12/20...\n",
       "anant16781190    {'18-01-2023 19:34:28': {'dateTime': '18/01/20...\n",
       "anant49124580    {'09-12-2022 12:58:36': {'dateTime': '09/12/20..."
      ]
     },
     "execution_count": 251,
     "metadata": {},
     "output_type": "execute_result"
    }
   ],
   "source": [
    "data_df=pd.read_json('data/teddyai-123ab-default-rtdb-export(2).json')[2:][['IDC']]\n",
    "data_df.head()"
   ]
  },
  {
   "cell_type": "code",
   "execution_count": null,
   "id": "945d82b5",
   "metadata": {},
   "outputs": [],
   "source": []
  }
 ],
 "metadata": {
  "kernelspec": {
   "display_name": "Python 3 (ipykernel)",
   "language": "python",
   "name": "python3"
  },
  "language_info": {
   "codemirror_mode": {
    "name": "ipython",
    "version": 3
   },
   "file_extension": ".py",
   "mimetype": "text/x-python",
   "name": "python",
   "nbconvert_exporter": "python",
   "pygments_lexer": "ipython3",
   "version": "3.9.13"
  }
 },
 "nbformat": 4,
 "nbformat_minor": 5
}
